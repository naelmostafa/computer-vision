{
  "cells": [
    {
      "cell_type": "markdown",
      "metadata": {
        "id": "view-in-github"
      },
      "source": [
        "<a href=\"https://colab.research.google.com/github/naelmostafa/computer-vision/blob/main/Assignment-4/object_detection.ipynb\" target=\"_parent\"><img src=\"https://colab.research.google.com/assets/colab-badge.svg\" alt=\"Open In Colab\"/></a>"
      ]
    },
    {
      "cell_type": "markdown",
      "metadata": {
        "id": "ZrruqE5O8bpm"
      },
      "source": [
        "# Dependencies"
      ]
    },
    {
      "cell_type": "markdown",
      "metadata": {
        "id": "UbIewKZED-Yk"
      },
      "source": [
        "## Download fiftyone"
      ]
    },
    {
      "cell_type": "code",
      "execution_count": 1,
      "metadata": {
        "colab": {
          "base_uri": "https://localhost:8080/"
        },
        "id": "tNxuCgpiL0fK",
        "outputId": "ff51e7b2-2467-41bc-ee93-b6c4d08d5d99"
      },
      "outputs": [
        {
          "name": "stdout",
          "output_type": "stream",
          "text": [
            "Looking in indexes: https://pypi.org/simple, https://us-python.pkg.dev/colab-wheels/public/simple/\n",
            "Collecting fiftyone\n",
            "  Downloading fiftyone-0.18.0-py3-none-any.whl (2.3 MB)\n",
            "\u001b[K     |████████████████████████████████| 2.3 MB 4.6 MB/s \n",
            "\u001b[?25hCollecting kaleido\n",
            "  Downloading kaleido-0.2.1-py2.py3-none-manylinux1_x86_64.whl (79.9 MB)\n",
            "\u001b[K     |████████████████████████████████| 79.9 MB 1.1 MB/s \n",
            "\u001b[?25hRequirement already satisfied: pymongo>=3.11 in /usr/local/lib/python3.8/dist-packages (from fiftyone) (4.3.3)\n",
            "Requirement already satisfied: plotly>=4.14 in /usr/local/lib/python3.8/dist-packages (from fiftyone) (5.5.0)\n",
            "Requirement already satisfied: scikit-image in /usr/local/lib/python3.8/dist-packages (from fiftyone) (0.18.3)\n",
            "Collecting fiftyone-db<0.5,>=0.4\n",
            "  Downloading fiftyone_db-0.4.0-py3-none-manylinux1_x86_64.whl (37.8 MB)\n",
            "\u001b[K     |████████████████████████████████| 37.8 MB 1.3 MB/s \n",
            "\u001b[?25hCollecting pprintpp\n",
            "  Downloading pprintpp-0.4.0-py2.py3-none-any.whl (16 kB)\n",
            "Collecting sseclient-py<2,>=1.7.2\n",
            "  Downloading sseclient_py-1.7.2-py2.py3-none-any.whl (8.4 kB)\n",
            "Collecting motor>=2.3\n",
            "  Downloading motor-3.1.1-py3-none-any.whl (56 kB)\n",
            "\u001b[K     |████████████████████████████████| 56 kB 5.8 MB/s \n",
            "\u001b[?25hCollecting eventlet\n",
            "  Downloading eventlet-0.33.2-py2.py3-none-any.whl (226 kB)\n",
            "\u001b[K     |████████████████████████████████| 226 kB 17.7 MB/s \n",
            "\u001b[?25hCollecting Jinja2>=3\n",
            "  Downloading Jinja2-3.1.2-py3-none-any.whl (133 kB)\n",
            "\u001b[K     |████████████████████████████████| 133 kB 62.4 MB/s \n",
            "\u001b[?25hCollecting strawberry-graphql==0.138.1\n",
            "  Downloading strawberry_graphql-0.138.1-py3-none-any.whl (192 kB)\n",
            "\u001b[K     |████████████████████████████████| 192 kB 56.7 MB/s \n",
            "\u001b[?25hCollecting hypercorn>=0.13.2\n",
            "  Downloading Hypercorn-0.14.3-py3-none-any.whl (57 kB)\n",
            "\u001b[K     |████████████████████████████████| 57 kB 4.9 MB/s \n",
            "\u001b[?25hCollecting argcomplete\n",
            "  Downloading argcomplete-2.0.0-py2.py3-none-any.whl (37 kB)\n",
            "Collecting boto3\n",
            "  Downloading boto3-1.26.36-py3-none-any.whl (132 kB)\n",
            "\u001b[K     |████████████████████████████████| 132 kB 64.7 MB/s \n",
            "\u001b[?25hRequirement already satisfied: pandas in /usr/local/lib/python3.8/dist-packages (from fiftyone) (1.3.5)\n",
            "Requirement already satisfied: scikit-learn in /usr/local/lib/python3.8/dist-packages (from fiftyone) (1.0.2)\n",
            "Collecting Deprecated\n",
            "  Downloading Deprecated-1.2.13-py2.py3-none-any.whl (9.6 kB)\n",
            "Requirement already satisfied: future in /usr/local/lib/python3.8/dist-packages (from fiftyone) (0.16.0)\n",
            "Requirement already satisfied: setuptools in /usr/local/lib/python3.8/dist-packages (from fiftyone) (57.4.0)\n",
            "Collecting xmltodict\n",
            "  Downloading xmltodict-0.13.0-py2.py3-none-any.whl (10.0 kB)\n",
            "Collecting sse-starlette<1,>=0.10.3\n",
            "  Downloading sse_starlette-0.10.3-py3-none-any.whl (8.0 kB)\n",
            "Requirement already satisfied: matplotlib in /usr/local/lib/python3.8/dist-packages (from fiftyone) (3.2.2)\n",
            "Requirement already satisfied: PyYAML in /usr/local/lib/python3.8/dist-packages (from fiftyone) (6.0)\n",
            "Collecting ndjson\n",
            "  Downloading ndjson-0.3.1-py2.py3-none-any.whl (5.3 kB)\n",
            "Requirement already satisfied: numpy in /usr/local/lib/python3.8/dist-packages (from fiftyone) (1.21.6)\n",
            "Collecting universal-analytics-python3<2,>=1.0.1\n",
            "  Downloading universal_analytics_python3-1.1.1-py3-none-any.whl (10 kB)\n",
            "Requirement already satisfied: psutil in /usr/local/lib/python3.8/dist-packages (from fiftyone) (5.4.8)\n",
            "Requirement already satisfied: tabulate in /usr/local/lib/python3.8/dist-packages (from fiftyone) (0.8.10)\n",
            "Collecting dacite>=1.6.0\n",
            "  Downloading dacite-1.7.0-py3-none-any.whl (12 kB)\n",
            "Collecting aiofiles\n",
            "  Downloading aiofiles-22.1.0-py3-none-any.whl (14 kB)\n",
            "Collecting starlette==0.20.4\n",
            "  Downloading starlette-0.20.4-py3-none-any.whl (63 kB)\n",
            "\u001b[K     |████████████████████████████████| 63 kB 3.4 MB/s \n",
            "\u001b[?25hRequirement already satisfied: opencv-python-headless in /usr/local/lib/python3.8/dist-packages (from fiftyone) (4.6.0.66)\n",
            "Requirement already satisfied: packaging in /usr/local/lib/python3.8/dist-packages (from fiftyone) (21.3)\n",
            "Collecting mongoengine==0.24.2\n",
            "  Downloading mongoengine-0.24.2-py3-none-any.whl (108 kB)\n",
            "\u001b[K     |████████████████████████████████| 108 kB 82.7 MB/s \n",
            "\u001b[?25hCollecting fiftyone-brain<0.10,>=0.9.2\n",
            "  Downloading fiftyone_brain-0.9.2-py3-none-any.whl (49 kB)\n",
            "\u001b[K     |████████████████████████████████| 49 kB 7.5 MB/s \n",
            "\u001b[?25hCollecting voxel51-eta<0.9,>=0.8.1\n",
            "  Downloading voxel51_eta-0.8.1-py2.py3-none-any.whl (564 kB)\n",
            "\u001b[K     |████████████████████████████████| 564 kB 80.2 MB/s \n",
            "\u001b[?25hCollecting retrying\n",
            "  Downloading retrying-1.3.4-py3-none-any.whl (11 kB)\n",
            "Requirement already satisfied: Pillow>=6.2 in /usr/local/lib/python3.8/dist-packages (from fiftyone) (7.1.2)\n",
            "Requirement already satisfied: pytz in /usr/local/lib/python3.8/dist-packages (from fiftyone) (2022.6)\n",
            "Requirement already satisfied: typing-extensions>=3.10.0 in /usr/local/lib/python3.8/dist-packages (from starlette==0.20.4->fiftyone) (4.4.0)\n",
            "Collecting anyio<5,>=3.4.0\n",
            "  Downloading anyio-3.6.2-py3-none-any.whl (80 kB)\n",
            "\u001b[K     |████████████████████████████████| 80 kB 13.2 MB/s \n",
            "\u001b[?25hCollecting graphql-core<3.3.0,>=3.2.0\n",
            "  Downloading graphql_core-3.2.3-py3-none-any.whl (202 kB)\n",
            "\u001b[K     |████████████████████████████████| 202 kB 80.4 MB/s \n",
            "\u001b[?25hRequirement already satisfied: python-dateutil<3.0.0,>=2.7.0 in /usr/local/lib/python3.8/dist-packages (from strawberry-graphql==0.138.1->fiftyone) (2.8.2)\n",
            "Requirement already satisfied: idna>=2.8 in /usr/local/lib/python3.8/dist-packages (from anyio<5,>=3.4.0->starlette==0.20.4->fiftyone) (2.10)\n",
            "Collecting sniffio>=1.1\n",
            "  Downloading sniffio-1.3.0-py3-none-any.whl (10 kB)\n",
            "Requirement already satisfied: scipy>=1.2.0 in /usr/local/lib/python3.8/dist-packages (from fiftyone-brain<0.10,>=0.9.2->fiftyone) (1.7.3)\n",
            "Collecting priority\n",
            "  Downloading priority-2.0.0-py3-none-any.whl (8.9 kB)\n",
            "Collecting h11\n",
            "  Downloading h11-0.14.0-py3-none-any.whl (58 kB)\n",
            "\u001b[K     |████████████████████████████████| 58 kB 8.1 MB/s \n",
            "\u001b[?25hCollecting h2>=3.1.0\n",
            "  Downloading h2-4.1.0-py3-none-any.whl (57 kB)\n",
            "\u001b[K     |████████████████████████████████| 57 kB 7.8 MB/s \n",
            "\u001b[?25hRequirement already satisfied: toml in /usr/local/lib/python3.8/dist-packages (from hypercorn>=0.13.2->fiftyone) (0.10.2)\n",
            "Collecting wsproto>=0.14.0\n",
            "  Downloading wsproto-1.2.0-py3-none-any.whl (24 kB)\n",
            "Collecting hyperframe<7,>=6.0\n",
            "  Downloading hyperframe-6.0.1-py3-none-any.whl (12 kB)\n",
            "Collecting hpack<5,>=4.0\n",
            "  Downloading hpack-4.0.0-py3-none-any.whl (32 kB)\n",
            "Requirement already satisfied: MarkupSafe>=2.0 in /usr/local/lib/python3.8/dist-packages (from Jinja2>=3->fiftyone) (2.0.1)\n",
            "Requirement already satisfied: tenacity>=6.2.0 in /usr/local/lib/python3.8/dist-packages (from plotly>=4.14->fiftyone) (8.1.0)\n",
            "Requirement already satisfied: six in /usr/local/lib/python3.8/dist-packages (from plotly>=4.14->fiftyone) (1.15.0)\n",
            "Requirement already satisfied: dnspython<3.0.0,>=1.16.0 in /usr/local/lib/python3.8/dist-packages (from pymongo>=3.11->fiftyone) (2.2.1)\n",
            "Collecting httpx>=0.10.0\n",
            "  Downloading httpx-0.23.1-py3-none-any.whl (84 kB)\n",
            "\u001b[K     |████████████████████████████████| 84 kB 5.4 MB/s \n",
            "\u001b[?25hRequirement already satisfied: certifi in /usr/local/lib/python3.8/dist-packages (from httpx>=0.10.0->universal-analytics-python3<2,>=1.0.1->fiftyone) (2022.12.7)\n",
            "Collecting rfc3986[idna2008]<2,>=1.3\n",
            "  Downloading rfc3986-1.5.0-py2.py3-none-any.whl (31 kB)\n",
            "Collecting httpcore<0.17.0,>=0.15.0\n",
            "  Downloading httpcore-0.16.3-py3-none-any.whl (69 kB)\n",
            "\u001b[K     |████████████████████████████████| 69 kB 10.2 MB/s \n",
            "\u001b[?25hRequirement already satisfied: requests in /usr/local/lib/python3.8/dist-packages (from voxel51-eta<0.9,>=0.8.1->fiftyone) (2.23.0)\n",
            "Requirement already satisfied: glob2 in /usr/local/lib/python3.8/dist-packages (from voxel51-eta<0.9,>=0.8.1->fiftyone) (0.7)\n",
            "Requirement already satisfied: tzlocal in /usr/local/lib/python3.8/dist-packages (from voxel51-eta<0.9,>=0.8.1->fiftyone) (1.5.1)\n",
            "Collecting patool\n",
            "  Downloading patool-1.12-py2.py3-none-any.whl (77 kB)\n",
            "\u001b[K     |████████████████████████████████| 77 kB 7.8 MB/s \n",
            "\u001b[?25hRequirement already satisfied: sortedcontainers in /usr/local/lib/python3.8/dist-packages (from voxel51-eta<0.9,>=0.8.1->fiftyone) (2.4.0)\n",
            "Requirement already satisfied: dill in /usr/local/lib/python3.8/dist-packages (from voxel51-eta<0.9,>=0.8.1->fiftyone) (0.3.6)\n",
            "Requirement already satisfied: urllib3 in /usr/local/lib/python3.8/dist-packages (from voxel51-eta<0.9,>=0.8.1->fiftyone) (1.24.3)\n",
            "Collecting botocore<1.30.0,>=1.29.36\n",
            "  Downloading botocore-1.29.36-py3-none-any.whl (10.3 MB)\n",
            "\u001b[K     |████████████████████████████████| 10.3 MB 66.1 MB/s \n",
            "\u001b[?25hCollecting jmespath<2.0.0,>=0.7.1\n",
            "  Downloading jmespath-1.0.1-py3-none-any.whl (20 kB)\n",
            "Collecting s3transfer<0.7.0,>=0.6.0\n",
            "  Downloading s3transfer-0.6.0-py3-none-any.whl (79 kB)\n",
            "\u001b[K     |████████████████████████████████| 79 kB 11.3 MB/s \n",
            "\u001b[?25hCollecting urllib3\n",
            "  Downloading urllib3-1.26.13-py2.py3-none-any.whl (140 kB)\n",
            "\u001b[K     |████████████████████████████████| 140 kB 79.4 MB/s \n",
            "\u001b[?25hRequirement already satisfied: wrapt<2,>=1.10 in /usr/local/lib/python3.8/dist-packages (from Deprecated->fiftyone) (1.14.1)\n",
            "Requirement already satisfied: greenlet>=0.3 in /usr/local/lib/python3.8/dist-packages (from eventlet->fiftyone) (2.0.1)\n",
            "Requirement already satisfied: pyparsing!=2.0.4,!=2.1.2,!=2.1.6,>=2.0.1 in /usr/local/lib/python3.8/dist-packages (from matplotlib->fiftyone) (3.0.9)\n",
            "Requirement already satisfied: kiwisolver>=1.0.1 in /usr/local/lib/python3.8/dist-packages (from matplotlib->fiftyone) (1.4.4)\n",
            "Requirement already satisfied: cycler>=0.10 in /usr/local/lib/python3.8/dist-packages (from matplotlib->fiftyone) (0.11.0)\n",
            "  Downloading urllib3-1.25.11-py2.py3-none-any.whl (127 kB)\n",
            "\u001b[K     |████████████████████████████████| 127 kB 72.9 MB/s \n",
            "\u001b[?25hRequirement already satisfied: chardet<4,>=3.0.2 in /usr/local/lib/python3.8/dist-packages (from requests->voxel51-eta<0.9,>=0.8.1->fiftyone) (3.0.4)\n",
            "Requirement already satisfied: PyWavelets>=1.1.1 in /usr/local/lib/python3.8/dist-packages (from scikit-image->fiftyone) (1.4.1)\n",
            "Requirement already satisfied: imageio>=2.3.0 in /usr/local/lib/python3.8/dist-packages (from scikit-image->fiftyone) (2.9.0)\n",
            "Requirement already satisfied: networkx>=2.0 in /usr/local/lib/python3.8/dist-packages (from scikit-image->fiftyone) (2.8.8)\n",
            "Requirement already satisfied: tifffile>=2019.7.26 in /usr/local/lib/python3.8/dist-packages (from scikit-image->fiftyone) (2022.10.10)\n",
            "Requirement already satisfied: threadpoolctl>=2.0.0 in /usr/local/lib/python3.8/dist-packages (from scikit-learn->fiftyone) (3.1.0)\n",
            "Requirement already satisfied: joblib>=0.11 in /usr/local/lib/python3.8/dist-packages (from scikit-learn->fiftyone) (1.2.0)\n",
            "Installing collected packages: sniffio, urllib3, rfc3986, jmespath, h11, anyio, hyperframe, httpcore, hpack, botocore, wsproto, starlette, s3transfer, retrying, priority, patool, ndjson, httpx, h2, graphql-core, argcomplete, xmltodict, voxel51-eta, universal-analytics-python3, strawberry-graphql, sseclient-py, sse-starlette, pprintpp, motor, mongoengine, kaleido, Jinja2, hypercorn, fiftyone-db, fiftyone-brain, eventlet, Deprecated, dacite, boto3, aiofiles, fiftyone\n",
            "  Attempting uninstall: urllib3\n",
            "    Found existing installation: urllib3 1.24.3\n",
            "    Uninstalling urllib3-1.24.3:\n",
            "      Successfully uninstalled urllib3-1.24.3\n",
            "  Attempting uninstall: Jinja2\n",
            "    Found existing installation: Jinja2 2.11.3\n",
            "    Uninstalling Jinja2-2.11.3:\n",
            "      Successfully uninstalled Jinja2-2.11.3\n",
            "\u001b[31mERROR: pip's dependency resolver does not currently take into account all the packages that are installed. This behaviour is the source of the following dependency conflicts.\n",
            "notebook 5.7.16 requires jinja2<=3.0.0, but you have jinja2 3.1.2 which is incompatible.\n",
            "flask 1.1.4 requires Jinja2<3.0,>=2.10.1, but you have jinja2 3.1.2 which is incompatible.\u001b[0m\n",
            "Successfully installed Deprecated-1.2.13 Jinja2-3.1.2 aiofiles-22.1.0 anyio-3.6.2 argcomplete-2.0.0 boto3-1.26.36 botocore-1.29.36 dacite-1.7.0 eventlet-0.33.2 fiftyone-0.18.0 fiftyone-brain-0.9.2 fiftyone-db-0.4.0 graphql-core-3.2.3 h11-0.14.0 h2-4.1.0 hpack-4.0.0 httpcore-0.16.3 httpx-0.23.1 hypercorn-0.14.3 hyperframe-6.0.1 jmespath-1.0.1 kaleido-0.2.1 mongoengine-0.24.2 motor-3.1.1 ndjson-0.3.1 patool-1.12 pprintpp-0.4.0 priority-2.0.0 retrying-1.3.4 rfc3986-1.5.0 s3transfer-0.6.0 sniffio-1.3.0 sse-starlette-0.10.3 sseclient-py-1.7.2 starlette-0.20.4 strawberry-graphql-0.138.1 universal-analytics-python3-1.1.1 urllib3-1.25.11 voxel51-eta-0.8.1 wsproto-1.2.0 xmltodict-0.13.0\n"
          ]
        }
      ],
      "source": [
        "!pip install fiftyone"
      ]
    },
    {
      "cell_type": "markdown",
      "metadata": {
        "id": "v7C78zYNEImH"
      },
      "source": [
        "## Imports"
      ]
    },
    {
      "cell_type": "code",
      "execution_count": 44,
      "metadata": {
        "id": "ObA-y6RE8ZkX"
      },
      "outputs": [],
      "source": [
        "import torch\n",
        "import torchvision\n",
        "from PIL import Image\n",
        "import numpy as np\n",
        "import matplotlib.pyplot as plt\n",
        "from torchvision.transforms import functional as func\n",
        "from torch.utils.data import DataLoader\n",
        "from torchvision import datasets\n",
        "from torchvision.transforms import ToTensor\n",
        "from torch.nn import Linear\n",
        "import plotly.graph_objects as go\n",
        "\n",
        "import fiftyone as fo\n",
        "import fiftyone.zoo as foz\n",
        "from fiftyone import ViewField as F"
      ]
    },
    {
      "cell_type": "markdown",
      "metadata": {
        "id": "YcderkSCDhDQ"
      },
      "source": [
        "# Model intialization\n",
        "\n",
        "\n",
        "*   Run on GPU if available\n",
        "*   Load pre-trained Model\n",
        "*   load model to GPU\n",
        "*   Set to evalution mode"
      ]
    },
    {
      "cell_type": "code",
      "execution_count": 3,
      "metadata": {
        "id": "a9iHTYQHQ07F"
      },
      "outputs": [],
      "source": [
        "# Run on GPU\n",
        "device = torch.device(\"cuda:0\" if torch.cuda.is_available() else \"cpu\") "
      ]
    },
    {
      "cell_type": "markdown",
      "metadata": {
        "id": "4SLYwIHMRQcg"
      },
      "source": [
        "## Faster R-CNN"
      ]
    },
    {
      "cell_type": "code",
      "execution_count": 4,
      "metadata": {
        "colab": {
          "base_uri": "https://localhost:8080/",
          "height": 0,
          "referenced_widgets": [
            "b2888123a9584cfdb95b167ca414de3e",
            "d7c3450630a048ae9ab52926f6424708",
            "8d4e0f32eb904ec6b8c01c46a4fc432c",
            "66daaa62b831415f88082d6831466347",
            "f99fb5477d1a419db2ef195874faa66f",
            "040c9554981b4d46a717070f3ef1f7ba",
            "2c0097ef9613460487ed5ba6f620f22f",
            "c6988decb6c24180bed0f93ca59f92e1",
            "af8dc24ab3404e00ab68a1bf2a2d19d3",
            "b0adc8ed9ed94a1c9ae80d9a261310f1",
            "c029eaa6f9d944699b2be32c89f5a6cc"
          ]
        },
        "id": "ZDnWevAS_BwJ",
        "outputId": "c9ff561e-b7d3-4429-fbac-fc95c60f319a"
      },
      "outputs": [
        {
          "name": "stderr",
          "output_type": "stream",
          "text": [
            "Downloading: \"https://download.pytorch.org/models/fasterrcnn_resnet50_fpn_v2_coco-dd69338a.pth\" to /root/.cache/torch/hub/checkpoints/fasterrcnn_resnet50_fpn_v2_coco-dd69338a.pth\n"
          ]
        },
        {
          "data": {
            "application/vnd.jupyter.widget-view+json": {
              "model_id": "b2888123a9584cfdb95b167ca414de3e",
              "version_major": 2,
              "version_minor": 0
            },
            "text/plain": [
              "  0%|          | 0.00/167M [00:00<?, ?B/s]"
            ]
          },
          "metadata": {},
          "output_type": "display_data"
        },
        {
          "name": "stdout",
          "output_type": "stream",
          "text": [
            "Model Faster R-CNN\n"
          ]
        }
      ],
      "source": [
        "# Load pre-trained model\n",
        "model_rcnn = torchvision.models.detection.fasterrcnn_resnet50_fpn_v2(weights=torchvision.models.detection.FasterRCNN_ResNet50_FPN_V2_Weights.DEFAULT)\n",
        "# model_rcnn.roi_heads.box_predictor.cls_score = Linear(in_features=1024, out_features=20, bias=True)\n",
        "model_rcnn.to(device)\n",
        "model_rcnn.eval()\n",
        "\n",
        "print(\"Model Faster R-CNN\")"
      ]
    },
    {
      "cell_type": "code",
      "execution_count": 5,
      "metadata": {
        "id": "ck4i6IAutaZg"
      },
      "outputs": [],
      "source": [
        "# print(model_rcnn)"
      ]
    },
    {
      "cell_type": "code",
      "execution_count": 6,
      "metadata": {
        "id": "uht8AENnu2gG"
      },
      "outputs": [],
      "source": [
        "# for name, child in model_rcnn.named_children():\n",
        "#         for x, y in child.named_children():\n",
        "#             print(name,x)\n",
        "      \n",
        "# print('Original:', model_rcnn.roi_heads.box_predictor.cls_score)\n",
        "# model_rcnn.roi_heads.box_predictor.cls_score = Linear(in_features=1024, out_features=20, bias=True)\n",
        "# print('Modified:', model_rcnn.roi_heads.box_predictor.cls_score)"
      ]
    },
    {
      "cell_type": "markdown",
      "metadata": {
        "id": "GfagGVvfRhpG"
      },
      "source": [
        "## FCOS: Fully Convolutional One-Stage Object Detection"
      ]
    },
    {
      "cell_type": "code",
      "execution_count": 7,
      "metadata": {
        "colab": {
          "base_uri": "https://localhost:8080/",
          "height": 0,
          "referenced_widgets": [
            "207e83ef69d8486487c76c98bc19546c",
            "e5f73e0b32434111943466fc060a179e",
            "8a9f5885ba3241879998d557f940a863",
            "8c62e81dab484b0a86d9ddb83d785d42",
            "4356c07728cc4fabba59a8e361589373",
            "9e2dc29758f844ac8a5978a9291aeab0",
            "75f714ec4836405eb3998a210b5a9cb6",
            "a3d992865cb044d68a608791b1fcf3ad",
            "09e7b35c1b4c4d7a8a59eeae05081bff",
            "5e1c5ba53e26417ba955341aa8d172c0",
            "aa4e035f518b4f6a95d58f54d52a7532"
          ]
        },
        "id": "xbh7TBAsQ3rd",
        "outputId": "cb649d0d-faf2-48ed-de2d-d25be0679854"
      },
      "outputs": [
        {
          "name": "stderr",
          "output_type": "stream",
          "text": [
            "Downloading: \"https://download.pytorch.org/models/fcos_resnet50_fpn_coco-99b0c9b7.pth\" to /root/.cache/torch/hub/checkpoints/fcos_resnet50_fpn_coco-99b0c9b7.pth\n"
          ]
        },
        {
          "data": {
            "application/vnd.jupyter.widget-view+json": {
              "model_id": "207e83ef69d8486487c76c98bc19546c",
              "version_major": 2,
              "version_minor": 0
            },
            "text/plain": [
              "  0%|          | 0.00/124M [00:00<?, ?B/s]"
            ]
          },
          "metadata": {},
          "output_type": "display_data"
        },
        {
          "name": "stdout",
          "output_type": "stream",
          "text": [
            "Model FOCS\n"
          ]
        }
      ],
      "source": [
        "# Load pre-trained model\n",
        "model_fcos = torchvision.models.detection.fcos_resnet50_fpn(weights=torchvision.models.detection.FCOS_ResNet50_FPN_Weights.DEFAULT)\n",
        "model_fcos.to(device)\n",
        "model_fcos.eval()\n",
        "\n",
        "print(\"Model FOCS\")"
      ]
    },
    {
      "cell_type": "markdown",
      "metadata": {
        "id": "75MGYa7167ps"
      },
      "source": [
        "## SSD"
      ]
    },
    {
      "cell_type": "code",
      "execution_count": 8,
      "metadata": {
        "colab": {
          "base_uri": "https://localhost:8080/",
          "height": 0,
          "referenced_widgets": [
            "b37562781c45495cb8090462a3824c63",
            "3d78950b404a4991a9c39b0895192f85",
            "b21968fe4a6346fdba6c4bbdeb73d2f9",
            "1582eff33ff140a2aaffd7fc0d3a750a",
            "22826917ae9f46549155d34d5fc2ae7d",
            "34d4f65e3813471f84561f3f4bae98a8",
            "8277c2e6dd4f473d8d5d2db936ed425c",
            "8721208d78a74f06b6d92db94a155837",
            "4c9a2146499540d186faaf93483d8e9b",
            "ac038d8fdae64e2db2ad9073da315c37",
            "37bed7452f0a481eaa74c80f5874f418"
          ]
        },
        "id": "gufOqkhi68La",
        "outputId": "90a6abc2-136e-4075-c4cb-8d2ebea6037d"
      },
      "outputs": [
        {
          "name": "stderr",
          "output_type": "stream",
          "text": [
            "Downloading: \"https://download.pytorch.org/models/ssd300_vgg16_coco-b556d3b4.pth\" to /root/.cache/torch/hub/checkpoints/ssd300_vgg16_coco-b556d3b4.pth\n"
          ]
        },
        {
          "data": {
            "application/vnd.jupyter.widget-view+json": {
              "model_id": "b37562781c45495cb8090462a3824c63",
              "version_major": 2,
              "version_minor": 0
            },
            "text/plain": [
              "  0%|          | 0.00/136M [00:00<?, ?B/s]"
            ]
          },
          "metadata": {},
          "output_type": "display_data"
        },
        {
          "name": "stdout",
          "output_type": "stream",
          "text": [
            "Model SSD\n"
          ]
        }
      ],
      "source": [
        "model_ssd = torchvision.models.detection.ssd300_vgg16(weights=torchvision.models.detection.SSD300_VGG16_Weights.DEFAULT)\n",
        "model_ssd.to(device)\n",
        "model_ssd.eval()\n",
        "\n",
        "print(\"Model SSD\")"
      ]
    },
    {
      "cell_type": "markdown",
      "metadata": {
        "id": "4fzuVDn8EdRg"
      },
      "source": [
        "# Download VOC-2012 validation split and explore"
      ]
    },
    {
      "cell_type": "markdown",
      "metadata": {
        "id": "Q2x6TamyVMu-"
      },
      "source": [
        "## Download"
      ]
    },
    {
      "cell_type": "code",
      "execution_count": 9,
      "metadata": {
        "colab": {
          "base_uri": "https://localhost:8080/",
          "height": 0,
          "referenced_widgets": [
            "73055e9d46704f1594b887cc72c7413f",
            "53690163f96944a595fc4b493eaec05e",
            "e06a9129a98548c6a3c3fd76f9bfbe8b",
            "eb2400f5d4f14245970846f801cb5169",
            "7009ac4ab9a54cc99ed39abdcb973eac",
            "0182075895d244339a8a9d84de9ae7aa",
            "2a5900f9719a4d3e80c2fd47f9d43a1b",
            "29d43d9d824a40389280e63b25c11f23",
            "89269c4fc5b545a798cad36b98a8f108",
            "53f15dd1953d4324a15ce770c8db788a",
            "95e9bf8f64fa47808bee462be23d1d7e"
          ]
        },
        "id": "Ag1a-joQPfYw",
        "outputId": "2575b05e-7833-45ff-88c6-45dc9985fa49"
      },
      "outputs": [
        {
          "name": "stdout",
          "output_type": "stream",
          "text": [
            "Downloading split 'validation' to '/root/fiftyone/voc-2012/validation'\n"
          ]
        },
        {
          "name": "stderr",
          "output_type": "stream",
          "text": [
            "INFO:fiftyone.zoo.datasets:Downloading split 'validation' to '/root/fiftyone/voc-2012/validation'\n"
          ]
        },
        {
          "name": "stdout",
          "output_type": "stream",
          "text": [
            "Downloading http://host.robots.ox.ac.uk/pascal/VOC/voc2012/VOCtrainval_11-May-2012.tar to /root/fiftyone/voc-2012/tmp-download/VOCtrainval_11-May-2012.tar\n"
          ]
        },
        {
          "data": {
            "application/vnd.jupyter.widget-view+json": {
              "model_id": "73055e9d46704f1594b887cc72c7413f",
              "version_major": 2,
              "version_minor": 0
            },
            "text/plain": [
              "  0%|          | 0/1999639040 [00:00<?, ?it/s]"
            ]
          },
          "metadata": {},
          "output_type": "display_data"
        },
        {
          "name": "stdout",
          "output_type": "stream",
          "text": [
            "Extracting /root/fiftyone/voc-2012/tmp-download/VOCtrainval_11-May-2012.tar to /root/fiftyone/voc-2012/tmp-download\n",
            " 100% |███████████████| 5823/5823 [1.2m elapsed, 0s remaining, 84.6 samples/s]      \n"
          ]
        },
        {
          "name": "stderr",
          "output_type": "stream",
          "text": [
            "INFO:eta.core.utils: 100% |███████████████| 5823/5823 [1.2m elapsed, 0s remaining, 84.6 samples/s]      \n"
          ]
        },
        {
          "name": "stdout",
          "output_type": "stream",
          "text": [
            "Dataset info written to '/root/fiftyone/voc-2012/info.json'\n"
          ]
        },
        {
          "name": "stderr",
          "output_type": "stream",
          "text": [
            "INFO:fiftyone.zoo.datasets:Dataset info written to '/root/fiftyone/voc-2012/info.json'\n"
          ]
        },
        {
          "name": "stdout",
          "output_type": "stream",
          "text": [
            "Loading 'voc-2012' split 'validation'\n"
          ]
        },
        {
          "name": "stderr",
          "output_type": "stream",
          "text": [
            "INFO:fiftyone.zoo.datasets:Loading 'voc-2012' split 'validation'\n"
          ]
        },
        {
          "name": "stdout",
          "output_type": "stream",
          "text": [
            " 100% |███████████████| 5823/5823 [15.7s elapsed, 0s remaining, 323.3 samples/s]      \n"
          ]
        },
        {
          "name": "stderr",
          "output_type": "stream",
          "text": [
            "INFO:eta.core.utils: 100% |███████████████| 5823/5823 [15.7s elapsed, 0s remaining, 323.3 samples/s]      \n"
          ]
        },
        {
          "name": "stdout",
          "output_type": "stream",
          "text": [
            "Dataset 'voc-2012-validation' created\n"
          ]
        },
        {
          "name": "stderr",
          "output_type": "stream",
          "text": [
            "INFO:fiftyone.zoo.datasets:Dataset 'voc-2012-validation' created\n"
          ]
        }
      ],
      "source": [
        "# Download validation split\n",
        "dataset = foz.load_zoo_dataset(\n",
        "    \"voc-2012\",\n",
        "    split=\"validation\",\n",
        ")\n",
        "\n",
        "dataset.persistent = True"
      ]
    },
    {
      "cell_type": "code",
      "execution_count": 10,
      "metadata": {
        "colab": {
          "base_uri": "https://localhost:8080/"
        },
        "id": "-oJddmTbSOyA",
        "outputId": "7131a0fe-8eb1-4fbd-9ffd-71ef4c60af88"
      },
      "outputs": [
        {
          "name": "stdout",
          "output_type": "stream",
          "text": [
            "Name:        voc-2012-validation\n",
            "Media type:  image\n",
            "Num samples: 5823\n",
            "Persistent:  True\n",
            "Tags:        []\n",
            "Sample fields:\n",
            "    id:           fiftyone.core.fields.ObjectIdField\n",
            "    filepath:     fiftyone.core.fields.StringField\n",
            "    tags:         fiftyone.core.fields.ListField(fiftyone.core.fields.StringField)\n",
            "    metadata:     fiftyone.core.fields.EmbeddedDocumentField(fiftyone.core.metadata.ImageMetadata)\n",
            "    ground_truth: fiftyone.core.fields.EmbeddedDocumentField(fiftyone.core.labels.Detections)\n"
          ]
        }
      ],
      "source": [
        "print(dataset)"
      ]
    },
    {
      "cell_type": "code",
      "execution_count": 11,
      "metadata": {
        "colab": {
          "base_uri": "https://localhost:8080/"
        },
        "id": "PALhvPYwAgI4",
        "outputId": "7f99db5e-fa36-43af-f824-b71dc6a00925"
      },
      "outputs": [
        {
          "name": "stdout",
          "output_type": "stream",
          "text": [
            "Downloading split 'validation' to '/root/fiftyone/coco-2017/validation' if necessary\n"
          ]
        },
        {
          "name": "stderr",
          "output_type": "stream",
          "text": [
            "INFO:fiftyone.zoo.datasets:Downloading split 'validation' to '/root/fiftyone/coco-2017/validation' if necessary\n"
          ]
        },
        {
          "name": "stdout",
          "output_type": "stream",
          "text": [
            "Downloading annotations to '/root/fiftyone/coco-2017/tmp-download/annotations_trainval2017.zip'\n"
          ]
        },
        {
          "name": "stderr",
          "output_type": "stream",
          "text": [
            "INFO:fiftyone.utils.coco:Downloading annotations to '/root/fiftyone/coco-2017/tmp-download/annotations_trainval2017.zip'\n"
          ]
        },
        {
          "name": "stdout",
          "output_type": "stream",
          "text": [
            " 100% |██████|    1.9Gb/1.9Gb [2.8s elapsed, 0s remaining, 742.7Mb/s]      \n"
          ]
        },
        {
          "name": "stderr",
          "output_type": "stream",
          "text": [
            "INFO:eta.core.utils: 100% |██████|    1.9Gb/1.9Gb [2.8s elapsed, 0s remaining, 742.7Mb/s]      \n"
          ]
        },
        {
          "name": "stdout",
          "output_type": "stream",
          "text": [
            "Extracting annotations to '/root/fiftyone/coco-2017/raw/instances_val2017.json'\n"
          ]
        },
        {
          "name": "stderr",
          "output_type": "stream",
          "text": [
            "INFO:fiftyone.utils.coco:Extracting annotations to '/root/fiftyone/coco-2017/raw/instances_val2017.json'\n"
          ]
        },
        {
          "name": "stdout",
          "output_type": "stream",
          "text": [
            "Downloading images to '/root/fiftyone/coco-2017/tmp-download/val2017.zip'\n"
          ]
        },
        {
          "name": "stderr",
          "output_type": "stream",
          "text": [
            "INFO:fiftyone.utils.coco:Downloading images to '/root/fiftyone/coco-2017/tmp-download/val2017.zip'\n"
          ]
        },
        {
          "name": "stdout",
          "output_type": "stream",
          "text": [
            " 100% |██████|    6.1Gb/6.1Gb [8.7s elapsed, 0s remaining, 750.1Mb/s]       \n"
          ]
        },
        {
          "name": "stderr",
          "output_type": "stream",
          "text": [
            "INFO:eta.core.utils: 100% |██████|    6.1Gb/6.1Gb [8.7s elapsed, 0s remaining, 750.1Mb/s]       \n"
          ]
        },
        {
          "name": "stdout",
          "output_type": "stream",
          "text": [
            "Extracting images to '/root/fiftyone/coco-2017/validation/data'\n"
          ]
        },
        {
          "name": "stderr",
          "output_type": "stream",
          "text": [
            "INFO:fiftyone.utils.coco:Extracting images to '/root/fiftyone/coco-2017/validation/data'\n"
          ]
        },
        {
          "name": "stdout",
          "output_type": "stream",
          "text": [
            "Writing annotations to '/root/fiftyone/coco-2017/validation/labels.json'\n"
          ]
        },
        {
          "name": "stderr",
          "output_type": "stream",
          "text": [
            "INFO:fiftyone.utils.coco:Writing annotations to '/root/fiftyone/coco-2017/validation/labels.json'\n"
          ]
        },
        {
          "name": "stdout",
          "output_type": "stream",
          "text": [
            "Dataset info written to '/root/fiftyone/coco-2017/info.json'\n"
          ]
        },
        {
          "name": "stderr",
          "output_type": "stream",
          "text": [
            "INFO:fiftyone.zoo.datasets:Dataset info written to '/root/fiftyone/coco-2017/info.json'\n"
          ]
        },
        {
          "name": "stdout",
          "output_type": "stream",
          "text": [
            "Loading 'coco-2017' split 'validation'\n"
          ]
        },
        {
          "name": "stderr",
          "output_type": "stream",
          "text": [
            "INFO:fiftyone.zoo.datasets:Loading 'coco-2017' split 'validation'\n"
          ]
        },
        {
          "name": "stdout",
          "output_type": "stream",
          "text": [
            " 100% |███████████████| 5000/5000 [29.2s elapsed, 0s remaining, 157.9 samples/s]      \n"
          ]
        },
        {
          "name": "stderr",
          "output_type": "stream",
          "text": [
            "INFO:eta.core.utils: 100% |███████████████| 5000/5000 [29.2s elapsed, 0s remaining, 157.9 samples/s]      \n"
          ]
        },
        {
          "name": "stdout",
          "output_type": "stream",
          "text": [
            "Dataset 'coco-2017-validation' created\n"
          ]
        },
        {
          "name": "stderr",
          "output_type": "stream",
          "text": [
            "INFO:fiftyone.zoo.datasets:Dataset 'coco-2017-validation' created\n"
          ]
        }
      ],
      "source": [
        "# Download coco-2017 validation split (used for classes)\n",
        "dataset_coco = foz.load_zoo_dataset(\n",
        "    \"coco-2017\",\n",
        "    split=\"validation\",\n",
        ")\n",
        "\n",
        "dataset_coco.persistent = True"
      ]
    },
    {
      "cell_type": "markdown",
      "metadata": {
        "id": "4N8IzMmxVPon"
      },
      "source": [
        "## Explore"
      ]
    },
    {
      "cell_type": "code",
      "execution_count": 12,
      "metadata": {
        "colab": {
          "base_uri": "https://localhost:8080/"
        },
        "id": "D20IMkxJEpbg",
        "outputId": "d66d1a07-0600-4628-f16f-4c1e569d5cee"
      },
      "outputs": [
        {
          "name": "stdout",
          "output_type": "stream",
          "text": [
            "<Detection: {\n",
            "    'id': '63a5bd1dd19d88e435bf7220',\n",
            "    'attributes': {},\n",
            "    'tags': [],\n",
            "    'label': 'tvmonitor',\n",
            "    'bounding_box': [0.068, 0.029333333333333333, 0.828, 0.752],\n",
            "    'mask': None,\n",
            "    'confidence': None,\n",
            "    'index': None,\n",
            "    'occluded': 0,\n",
            "    'truncated': 0,\n",
            "    'pose': 'Frontal',\n",
            "    'difficult': 0,\n",
            "}>\n"
          ]
        }
      ],
      "source": [
        "print(dataset.first().ground_truth.detections[0])"
      ]
    },
    {
      "cell_type": "code",
      "execution_count": 13,
      "metadata": {
        "colab": {
          "base_uri": "https://localhost:8080/",
          "height": 0
        },
        "id": "r4dEWL_uVGMK",
        "outputId": "50827d65-e90c-47a5-ee69-d150fecd5cc9"
      },
      "outputs": [
        {
          "data": {
            "text/html": [
              "\n",
              "<style>\n",
              "\n",
              "@import url(\"https://fonts.googleapis.com/css2?family=Palanquin&display=swap\");\n",
              "\n",
              "#focontainer-b8b5b6f1-0bbf-4067-aadc-81a904458e87 {\n",
              "  position: relative;\n",
              "  height: px;\n",
              "  display: block !important;\n",
              "}\n",
              "#foactivate-b8b5b6f1-0bbf-4067-aadc-81a904458e87 {\n",
              "  font-weight: bold;\n",
              "  cursor: pointer;\n",
              "  font-size: 24px;\n",
              "  border-radius: 3px;\n",
              "  text-align: center;\n",
              "  padding: 0.5em;\n",
              "  color: rgb(255, 255, 255);\n",
              "  font-family: \"Palanquin\", sans-serif;\n",
              "  position: absolute;\n",
              "  left: 50%;\n",
              "  top: 50%;\n",
              "  width: 160px;\n",
              "  margin-left: -80px;\n",
              "  margin-top: -23px;\n",
              "  background: hsla(210,11%,15%, 0.8);\n",
              "  border: none;\n",
              "}\n",
              "#foactivate-b8b5b6f1-0bbf-4067-aadc-81a904458e87:focus {\n",
              "  outline: none;\n",
              "}\n",
              "#fooverlay-b8b5b6f1-0bbf-4067-aadc-81a904458e87 {\n",
              "  width: 100%;\n",
              "  height: 100%;\n",
              "  background: hsla(208, 7%, 46%, 0.7);\n",
              "  position: absolute;\n",
              "  top: 0;\n",
              "  left: 0;\n",
              "  display: none;\n",
              "  cursor: pointer;\n",
              "}\n",
              "</style>\n",
              "<div id=\"focontainer-b8b5b6f1-0bbf-4067-aadc-81a904458e87\" style=\"display: none;\">\n",
              "   <div id=\"fooverlay-b8b5b6f1-0bbf-4067-aadc-81a904458e87\">\n",
              "      <button id=\"foactivate-b8b5b6f1-0bbf-4067-aadc-81a904458e87\" >Activate</button>\n",
              "   </div>\n",
              "</div>"
            ],
            "text/plain": [
              "<IPython.core.display.HTML object>"
            ]
          },
          "metadata": {},
          "output_type": "display_data"
        }
      ],
      "source": [
        "session = fo.launch_app(dataset)"
      ]
    },
    {
      "cell_type": "markdown",
      "metadata": {
        "id": "cRL6dTZfCHBH"
      },
      "source": [
        "# Checking classes in both datasets"
      ]
    },
    {
      "cell_type": "code",
      "execution_count": 14,
      "metadata": {
        "colab": {
          "base_uri": "https://localhost:8080/"
        },
        "id": "iiK8V-g0Ajes",
        "outputId": "9721b417-cb55-4234-e738-aa5d3ed9de2e"
      },
      "outputs": [
        {
          "name": "stdout",
          "output_type": "stream",
          "text": [
            "VOC Classes 20 - COCO Classes 91\n"
          ]
        }
      ],
      "source": [
        "# Classes\n",
        "classes_voc = dataset.default_classes\n",
        "classes_coco = dataset_coco.default_classes\n",
        "print('VOC Classes', len(classes_voc), '- COCO Classes', len(classes_coco))"
      ]
    },
    {
      "cell_type": "code",
      "execution_count": 15,
      "metadata": {
        "colab": {
          "base_uri": "https://localhost:8080/"
        },
        "id": "pcrC5cCp8e4K",
        "outputId": "ce6d451e-55fd-4ecd-98c2-f0b31c76d94e"
      },
      "outputs": [
        {
          "data": {
            "text/plain": [
              "['aeroplane',\n",
              " 'bicycle',\n",
              " 'bird',\n",
              " 'boat',\n",
              " 'bottle',\n",
              " 'bus',\n",
              " 'car',\n",
              " 'cat',\n",
              " 'chair',\n",
              " 'cow',\n",
              " 'diningtable',\n",
              " 'dog',\n",
              " 'horse',\n",
              " 'motorbike',\n",
              " 'person',\n",
              " 'pottedplant',\n",
              " 'sheep',\n",
              " 'sofa',\n",
              " 'train',\n",
              " 'tvmonitor']"
            ]
          },
          "execution_count": 15,
          "metadata": {},
          "output_type": "execute_result"
        }
      ],
      "source": [
        "classes_voc"
      ]
    },
    {
      "cell_type": "code",
      "execution_count": 16,
      "metadata": {
        "colab": {
          "base_uri": "https://localhost:8080/"
        },
        "id": "Z1WMWnH0BblS",
        "outputId": "e2fdc32b-f4de-4ec1-b144-29e3469c58da"
      },
      "outputs": [
        {
          "data": {
            "text/plain": [
              "['0',\n",
              " 'person',\n",
              " 'bicycle',\n",
              " 'car',\n",
              " 'motorcycle',\n",
              " 'airplane',\n",
              " 'bus',\n",
              " 'train',\n",
              " 'truck',\n",
              " 'boat',\n",
              " 'traffic light',\n",
              " 'fire hydrant',\n",
              " '12',\n",
              " 'stop sign',\n",
              " 'parking meter',\n",
              " 'bench',\n",
              " 'bird',\n",
              " 'cat',\n",
              " 'dog',\n",
              " 'horse',\n",
              " 'sheep',\n",
              " 'cow',\n",
              " 'elephant',\n",
              " 'bear',\n",
              " 'zebra',\n",
              " 'giraffe',\n",
              " '26',\n",
              " 'backpack',\n",
              " 'umbrella',\n",
              " '29',\n",
              " '30',\n",
              " 'handbag',\n",
              " 'tie',\n",
              " 'suitcase',\n",
              " 'frisbee',\n",
              " 'skis',\n",
              " 'snowboard',\n",
              " 'sports ball',\n",
              " 'kite',\n",
              " 'baseball bat',\n",
              " 'baseball glove',\n",
              " 'skateboard',\n",
              " 'surfboard',\n",
              " 'tennis racket',\n",
              " 'bottle',\n",
              " '45',\n",
              " 'wine glass',\n",
              " 'cup',\n",
              " 'fork',\n",
              " 'knife',\n",
              " 'spoon',\n",
              " 'bowl',\n",
              " 'banana',\n",
              " 'apple',\n",
              " 'sandwich',\n",
              " 'orange',\n",
              " 'broccoli',\n",
              " 'carrot',\n",
              " 'hot dog',\n",
              " 'pizza',\n",
              " 'donut',\n",
              " 'cake',\n",
              " 'chair',\n",
              " 'couch',\n",
              " 'potted plant',\n",
              " 'bed',\n",
              " '66',\n",
              " 'dining table',\n",
              " '68',\n",
              " '69',\n",
              " 'toilet',\n",
              " '71',\n",
              " 'tv',\n",
              " 'laptop',\n",
              " 'mouse',\n",
              " 'remote',\n",
              " 'keyboard',\n",
              " 'cell phone',\n",
              " 'microwave',\n",
              " 'oven',\n",
              " 'toaster',\n",
              " 'sink',\n",
              " 'refrigerator',\n",
              " '83',\n",
              " 'book',\n",
              " 'clock',\n",
              " 'vase',\n",
              " 'scissors',\n",
              " 'teddy bear',\n",
              " 'hair drier',\n",
              " 'toothbrush']"
            ]
          },
          "execution_count": 16,
          "metadata": {},
          "output_type": "execute_result"
        }
      ],
      "source": [
        "classes_coco"
      ]
    },
    {
      "cell_type": "markdown",
      "metadata": {
        "id": "Xt9a_v3gCMLa"
      },
      "source": [
        "# Mapping VOC Classes to COCO Classes"
      ]
    },
    {
      "cell_type": "code",
      "execution_count": 17,
      "metadata": {
        "id": "ss2k177_A_yc"
      },
      "outputs": [],
      "source": [
        "classes_voc_mapped = ['airplane', 'bicycle', 'bird', 'boat', 'bottle', 'bus', 'car', 'cat', 'chair', 'cow', 'dining table', 'dog', 'horse', 'motorcycle', 'person', 'potted plant', 'sheep', 'couch', 'train', 'tv']"
      ]
    },
    {
      "cell_type": "code",
      "execution_count": 18,
      "metadata": {
        "colab": {
          "base_uri": "https://localhost:8080/"
        },
        "id": "ZpibGn2wBkPr",
        "outputId": "cb851439-9b58-40db-dd78-e544e744eae9"
      },
      "outputs": [
        {
          "data": {
            "text/plain": [
              "{5: 'aeroplane',\n",
              " 2: 'bicycle',\n",
              " 16: 'bird',\n",
              " 9: 'boat',\n",
              " 44: 'bottle',\n",
              " 6: 'bus',\n",
              " 3: 'car',\n",
              " 17: 'cat',\n",
              " 62: 'chair',\n",
              " 21: 'cow',\n",
              " 67: 'diningtable',\n",
              " 18: 'dog',\n",
              " 19: 'horse',\n",
              " 4: 'motorbike',\n",
              " 1: 'person',\n",
              " 64: 'pottedplant',\n",
              " 20: 'sheep',\n",
              " 63: 'sofa',\n",
              " 7: 'train',\n",
              " 72: 'tvmonitor'}"
            ]
          },
          "execution_count": 18,
          "metadata": {},
          "output_type": "execute_result"
        }
      ],
      "source": [
        "class_dict = {}\n",
        "for i, _class in enumerate(classes_voc_mapped):\n",
        "\n",
        "  idx = classes_coco.index(_class)\n",
        "  class_dict[idx] = classes_voc[i]\n",
        "\n",
        "class_dict"
      ]
    },
    {
      "cell_type": "markdown",
      "metadata": {
        "id": "NU6Lq7hoUVbe"
      },
      "source": [
        "# Run test and add predictions to dataset to visualize"
      ]
    },
    {
      "cell_type": "code",
      "execution_count": 19,
      "metadata": {
        "id": "ELgZOFT_WvZJ"
      },
      "outputs": [],
      "source": [
        "def prediction_inference(model, dataset, classes, label_name:str):\n",
        "  # classes = dataset.default_classes\n",
        "  # Add predictions to samples\n",
        "  with fo.ProgressBar() as pb:\n",
        "      for sample in pb(dataset):\n",
        "          # Load image\n",
        "          image = Image.open(sample.filepath)\n",
        "          image = func.to_tensor(image).to(device)\n",
        "          c, h, w = image.shape\n",
        "          \n",
        "          # Perform inference\n",
        "          preds = model([image])[0]\n",
        "          labels = preds[\"labels\"].cpu().detach().numpy()\n",
        "          scores = preds[\"scores\"].cpu().detach().numpy()\n",
        "          boxes = preds[\"boxes\"].cpu().detach().numpy()\n",
        "\n",
        "          # Convert detections to FiftyOne format\n",
        "          detections = []\n",
        "          for label, score, box in zip(labels, scores, boxes):\n",
        "\n",
        "              if label in classes.keys():\n",
        "\n",
        "              # Convert to [top-left-x, top-left-y, width, height]\n",
        "              # in relative coordinates in [0, 1] x [0, 1]\n",
        "                x1, y1, x2, y2 = box\n",
        "                rel_box = [x1 / w, y1 / h, (x2 - x1) / w, (y2 - y1) / h]\n",
        "                \n",
        "                detections.append(\n",
        "                    fo.Detection(\n",
        "                        label=classes[label],\n",
        "                        bounding_box=rel_box,\n",
        "                        confidence=score\n",
        "                    )\n",
        "                  )\n",
        "              \n",
        "          # Save predictions to dataset\n",
        "          sample[label_name] = fo.Detections(detections=detections)\n",
        "          sample.save()\n",
        "\n",
        "  print(\"Finished adding predictions\")"
      ]
    },
    {
      "cell_type": "code",
      "execution_count": 20,
      "metadata": {
        "colab": {
          "base_uri": "https://localhost:8080/"
        },
        "id": "hxyoOjaxaC0p",
        "outputId": "f7000c55-41e8-41f2-d2cb-13f33bb29172"
      },
      "outputs": [
        {
          "name": "stdout",
          "output_type": "stream",
          "text": [
            " 100% |███████████████| 5823/5823 [16.4m elapsed, 0s remaining, 6.2 samples/s]      \n"
          ]
        },
        {
          "name": "stderr",
          "output_type": "stream",
          "text": [
            "INFO:eta.core.utils: 100% |███████████████| 5823/5823 [16.4m elapsed, 0s remaining, 6.2 samples/s]      \n"
          ]
        },
        {
          "name": "stdout",
          "output_type": "stream",
          "text": [
            "Finished adding predictions\n"
          ]
        }
      ],
      "source": [
        "prediction_inference(model_rcnn, dataset, class_dict, \"faster_rcnn\")"
      ]
    },
    {
      "cell_type": "code",
      "execution_count": 21,
      "metadata": {
        "colab": {
          "base_uri": "https://localhost:8080/"
        },
        "id": "7KqAc1daZiGH",
        "outputId": "9d55ad5f-054e-475b-97e9-7b4550ba3080"
      },
      "outputs": [
        {
          "name": "stdout",
          "output_type": "stream",
          "text": [
            " 100% |███████████████| 5823/5823 [13.3m elapsed, 0s remaining, 7.8 samples/s]      \n"
          ]
        },
        {
          "name": "stderr",
          "output_type": "stream",
          "text": [
            "INFO:eta.core.utils: 100% |███████████████| 5823/5823 [13.3m elapsed, 0s remaining, 7.8 samples/s]      \n"
          ]
        },
        {
          "name": "stdout",
          "output_type": "stream",
          "text": [
            "Finished adding predictions\n"
          ]
        }
      ],
      "source": [
        "prediction_inference(model_fcos, dataset, class_dict, \"fcos\")"
      ]
    },
    {
      "cell_type": "code",
      "execution_count": 22,
      "metadata": {
        "colab": {
          "base_uri": "https://localhost:8080/"
        },
        "id": "6nVic67D8VED",
        "outputId": "dad957a7-cdb1-4468-8070-518ad4e99ed0"
      },
      "outputs": [
        {
          "name": "stdout",
          "output_type": "stream",
          "text": [
            " 100% |███████████████| 5823/5823 [13.0m elapsed, 0s remaining, 7.6 samples/s]      \n"
          ]
        },
        {
          "name": "stderr",
          "output_type": "stream",
          "text": [
            "INFO:eta.core.utils: 100% |███████████████| 5823/5823 [13.0m elapsed, 0s remaining, 7.6 samples/s]      \n"
          ]
        },
        {
          "name": "stdout",
          "output_type": "stream",
          "text": [
            "Finished adding predictions\n"
          ]
        }
      ],
      "source": [
        "prediction_inference(model_ssd, dataset, class_dict, \"ssd\")"
      ]
    },
    {
      "cell_type": "markdown",
      "metadata": {
        "id": "x4fx1xQLlKR5"
      },
      "source": [
        "# Evaluate"
      ]
    },
    {
      "cell_type": "code",
      "execution_count": 23,
      "metadata": {
        "id": "N48ZCwWtDSCd"
      },
      "outputs": [],
      "source": [
        "# Only contains detections with confidence >= 0.75\n",
        "high_conf_view = dataset.filter_labels(\"faster_rcnn\", F(\"confidence\") > 0.75, only_matches=False)\n",
        "high_conf_view = high_conf_view.filter_labels(\"fcos\", F(\"confidence\") > 0.75, only_matches=False)\n",
        "high_conf_view = high_conf_view.filter_labels(\"ssd\", F(\"confidence\") > 0.75, only_matches=False)"
      ]
    },
    {
      "cell_type": "code",
      "execution_count": 24,
      "metadata": {
        "colab": {
          "base_uri": "https://localhost:8080/"
        },
        "id": "iQO-wBESlJuM",
        "outputId": "3127032d-e868-4685-814a-b0e48042cafc"
      },
      "outputs": [
        {
          "name": "stdout",
          "output_type": "stream",
          "text": [
            "Evaluating detections...\n"
          ]
        },
        {
          "name": "stderr",
          "output_type": "stream",
          "text": [
            "INFO:fiftyone.utils.eval.detection:Evaluating detections...\n"
          ]
        },
        {
          "name": "stdout",
          "output_type": "stream",
          "text": [
            " 100% |███████████████| 5823/5823 [1.4m elapsed, 0s remaining, 62.1 samples/s]      \n"
          ]
        },
        {
          "name": "stderr",
          "output_type": "stream",
          "text": [
            "INFO:eta.core.utils: 100% |███████████████| 5823/5823 [1.4m elapsed, 0s remaining, 62.1 samples/s]      \n"
          ]
        },
        {
          "name": "stdout",
          "output_type": "stream",
          "text": [
            "Performing IoU sweep...\n"
          ]
        },
        {
          "name": "stderr",
          "output_type": "stream",
          "text": [
            "INFO:fiftyone.utils.eval.coco:Performing IoU sweep...\n"
          ]
        },
        {
          "name": "stdout",
          "output_type": "stream",
          "text": [
            " 100% |███████████████| 5823/5823 [48.0s elapsed, 0s remaining, 96.5 samples/s]       \n"
          ]
        },
        {
          "name": "stderr",
          "output_type": "stream",
          "text": [
            "INFO:eta.core.utils: 100% |███████████████| 5823/5823 [48.0s elapsed, 0s remaining, 96.5 samples/s]       \n"
          ]
        },
        {
          "name": "stdout",
          "output_type": "stream",
          "text": [
            "Evaluating detections...\n"
          ]
        },
        {
          "name": "stderr",
          "output_type": "stream",
          "text": [
            "INFO:fiftyone.utils.eval.detection:Evaluating detections...\n"
          ]
        },
        {
          "name": "stdout",
          "output_type": "stream",
          "text": [
            " 100% |███████████████| 5823/5823 [46.1s elapsed, 0s remaining, 103.2 samples/s]      \n"
          ]
        },
        {
          "name": "stderr",
          "output_type": "stream",
          "text": [
            "INFO:eta.core.utils: 100% |███████████████| 5823/5823 [46.1s elapsed, 0s remaining, 103.2 samples/s]      \n"
          ]
        },
        {
          "name": "stdout",
          "output_type": "stream",
          "text": [
            "Performing IoU sweep...\n"
          ]
        },
        {
          "name": "stderr",
          "output_type": "stream",
          "text": [
            "INFO:fiftyone.utils.eval.coco:Performing IoU sweep...\n"
          ]
        },
        {
          "name": "stdout",
          "output_type": "stream",
          "text": [
            " 100% |███████████████| 5823/5823 [34.3s elapsed, 0s remaining, 140.2 samples/s]      \n"
          ]
        },
        {
          "name": "stderr",
          "output_type": "stream",
          "text": [
            "INFO:eta.core.utils: 100% |███████████████| 5823/5823 [34.3s elapsed, 0s remaining, 140.2 samples/s]      \n"
          ]
        },
        {
          "name": "stdout",
          "output_type": "stream",
          "text": [
            "Evaluating detections...\n"
          ]
        },
        {
          "name": "stderr",
          "output_type": "stream",
          "text": [
            "INFO:fiftyone.utils.eval.detection:Evaluating detections...\n"
          ]
        },
        {
          "name": "stdout",
          "output_type": "stream",
          "text": [
            " 100% |███████████████| 5823/5823 [56.1s elapsed, 0s remaining, 55.5 samples/s]       \n"
          ]
        },
        {
          "name": "stderr",
          "output_type": "stream",
          "text": [
            "INFO:eta.core.utils: 100% |███████████████| 5823/5823 [56.1s elapsed, 0s remaining, 55.5 samples/s]       \n"
          ]
        },
        {
          "name": "stdout",
          "output_type": "stream",
          "text": [
            "Performing IoU sweep...\n"
          ]
        },
        {
          "name": "stderr",
          "output_type": "stream",
          "text": [
            "INFO:fiftyone.utils.eval.coco:Performing IoU sweep...\n"
          ]
        },
        {
          "name": "stdout",
          "output_type": "stream",
          "text": [
            " 100% |███████████████| 5823/5823 [38.7s elapsed, 0s remaining, 122.5 samples/s]      \n"
          ]
        },
        {
          "name": "stderr",
          "output_type": "stream",
          "text": [
            "INFO:eta.core.utils: 100% |███████████████| 5823/5823 [38.7s elapsed, 0s remaining, 122.5 samples/s]      \n"
          ]
        }
      ],
      "source": [
        "results_f_rcnn = high_conf_view.evaluate_detections(\n",
        "    \"faster_rcnn\",\n",
        "    gt_field=\"ground_truth\",\n",
        "    eval_key=\"eval_f_rcnn\",\n",
        "    compute_mAP=True,\n",
        "    iou=0.5\n",
        ")\n",
        "\n",
        "results_fcos = high_conf_view.evaluate_detections(\n",
        "    \"fcos\",\n",
        "    gt_field=\"ground_truth\",\n",
        "    eval_key=\"eval_fcos\",\n",
        "    compute_mAP=True,\n",
        "    iou=0.5\n",
        ")\n",
        "\n",
        "results_ssd = high_conf_view.evaluate_detections(\n",
        "    \"ssd\",\n",
        "    gt_field=\"ground_truth\",\n",
        "    eval_key=\"eval_ssd\",\n",
        "    compute_mAP=True,\n",
        "    iou=0.5\n",
        ")"
      ]
    },
    {
      "cell_type": "markdown",
      "metadata": {
        "id": "ukw3pKhZ3UGs"
      },
      "source": [
        "# Faster RCNN  results\n",
        "\n",
        "*   Precision Recall f1-score support\n",
        "*   mAP\n",
        "*   pr curve"
      ]
    },
    {
      "cell_type": "code",
      "execution_count": 25,
      "metadata": {
        "colab": {
          "base_uri": "https://localhost:8080/"
        },
        "id": "xrijYm4V3THl",
        "outputId": "3d0ec851-eafe-4c1f-a93e-2d129509fb6a"
      },
      "outputs": [
        {
          "name": "stdout",
          "output_type": "stream",
          "text": [
            "mAP: 0.5802511916505052\n",
            "              precision    recall  f1-score   support\n",
            "\n",
            "   aeroplane       0.88      0.85      0.86       484\n",
            "     bicycle       0.80      0.85      0.82       380\n",
            "        bird       0.87      0.82      0.84       629\n",
            "        boat       0.64      0.75      0.69       491\n",
            "      bottle       0.71      0.73      0.72       733\n",
            "         bus       0.83      0.90      0.87       320\n",
            "         car       0.72      0.79      0.75      1173\n",
            "         cat       0.90      0.91      0.90       618\n",
            "       chair       0.61      0.71      0.66      1449\n",
            "         cow       0.84      0.86      0.85       347\n",
            " diningtable       0.53      0.74      0.62       374\n",
            "         dog       0.88      0.85      0.86       773\n",
            "       horse       0.87      0.90      0.89       373\n",
            "   motorbike       0.84      0.91      0.88       376\n",
            "      person       0.77      0.90      0.83      5110\n",
            " pottedplant       0.59      0.70      0.64       542\n",
            "       sheep       0.84      0.78      0.81       485\n",
            "        sofa       0.69      0.69      0.69       387\n",
            "       train       0.84      0.90      0.87       329\n",
            "   tvmonitor       0.85      0.73      0.78       414\n",
            "\n",
            "   micro avg       0.75      0.83      0.79     15787\n",
            "   macro avg       0.77      0.81      0.79     15787\n",
            "weighted avg       0.76      0.83      0.79     15787\n",
            "\n"
          ]
        }
      ],
      "source": [
        "print(f'mAP: {results_f_rcnn.mAP()}')\n",
        "results_f_rcnn.print_report()"
      ]
    },
    {
      "cell_type": "code",
      "execution_count": 26,
      "metadata": {
        "colab": {
          "base_uri": "https://localhost:8080/",
          "height": 0
        },
        "id": "V2IRV1T93YoA",
        "outputId": "244bc175-bbd3-4745-fb6b-f2a03fb86398"
      },
      "outputs": [
        {
          "data": {
            "text/html": [
              "<html>\n",
              "<head><meta charset=\"utf-8\" /></head>\n",
              "<body>\n",
              "    <div>            <script src=\"https://cdnjs.cloudflare.com/ajax/libs/mathjax/2.7.5/MathJax.js?config=TeX-AMS-MML_SVG\"></script><script type=\"text/javascript\">if (window.MathJax) {MathJax.Hub.Config({SVG: {font: \"STIX-Web\"}});}</script>                <script type=\"text/javascript\">window.PlotlyConfig = {MathJaxConfig: 'local'};</script>\n",
              "        <script src=\"https://cdn.plot.ly/plotly-2.8.3.min.js\"></script>                <div id=\"41945330-bd81-40e8-9f5e-5704d9fd60c8\" class=\"plotly-graph-div\" style=\"height:525px; width:100%;\"></div>            <script type=\"text/javascript\">                                    window.PLOTLYENV=window.PLOTLYENV || {};                                    if (document.getElementById(\"41945330-bd81-40e8-9f5e-5704d9fd60c8\")) {                    Plotly.newPlot(                        \"41945330-bd81-40e8-9f5e-5704d9fd60c8\",                        [{\"customdata\":[0.9999662637710571,0.9999234199523925,0.9999026179313659,0.9998908519744873,0.9998825311660766,0.9998746991157532,0.999869418144226,0.9998648643493653,0.9998519778251648,0.9998457372188568,0.999837452173233,0.9998192310333252,0.999813175201416,0.9998029589653015,0.9997959613800049,0.999780684709549,0.9997686564922332,0.9997654855251312,0.9997566640377045,0.9997447669506073,0.9997388541698455,0.9997192263603211,0.9997076213359832,0.9996977329254151,0.9996714055538177,0.9996600866317749,0.9996407449245452,0.9996342778205871,0.9996019423007965,0.9995875537395478,0.9995680272579193,0.9995239853858948,0.999503892660141,0.9994186162948608,0.9990834295749664,0.9985240638256073,0.9960156321525574,0.9826713383197785,0.899501484632492,0.8994875192642212,0.8994702339172364,0.8994467496871948,0.8994293332099914,0.89941326379776,0.8994017004966736,0.8993849098682404,0.8993545413017273,0.8993234097957611,0.8993050813674927,0.8992734134197236,0.8992161452770233,0.8991583526134491,0.8991083562374115,0.8990336537361145,0.8989487290382385,0.8988609850406647,0.8987740635871887,0.8986486852169037,0.8984286069869996,0.8980199813842773,0.8977949142456054,0.8973462045192718,0.8968592464923859,0.8959896683692932,0.8953442335128784,0.8907696545124054,0.88818199634552,0.8757265031337738,0.7947458326816559,0.7939198672771454,0.792413204908371,0.7912732362747192,0.7893035531044006,0.787100863456726,0.7820110082626343,0.778847473859787,0.7635079562664032,0.7547569155693055,0.673185509443283,0.6671516537666321,0.6570458352565766,0.6381783783435822,0.5477759718894959,0.5402474761009216,0.5317169308662415,0.44413982629776,0.4234527587890625,0.3289584696292877,0.24385810494422913,0.23588491678237916,0.1520132064819336,0.0,0.0,0.0,0.0,0.0,0.0,0.0,0.0,0.0,0.0],\"hovertemplate\":\"<b>class: %{text}</b><br>recall: %{x:.3f}<br>precision: %{y:.3f}<br>threshold: %{customdata:.3f}<extra></extra>\",\"line\":{\"color\":\"#3366CC\"},\"mode\":\"lines\",\"name\":\"bus (AP = 0.755)\",\"text\":[\"bus\",\"bus\",\"bus\",\"bus\",\"bus\",\"bus\",\"bus\",\"bus\",\"bus\",\"bus\",\"bus\",\"bus\",\"bus\",\"bus\",\"bus\",\"bus\",\"bus\",\"bus\",\"bus\",\"bus\",\"bus\",\"bus\",\"bus\",\"bus\",\"bus\",\"bus\",\"bus\",\"bus\",\"bus\",\"bus\",\"bus\",\"bus\",\"bus\",\"bus\",\"bus\",\"bus\",\"bus\",\"bus\",\"bus\",\"bus\",\"bus\",\"bus\",\"bus\",\"bus\",\"bus\",\"bus\",\"bus\",\"bus\",\"bus\",\"bus\",\"bus\",\"bus\",\"bus\",\"bus\",\"bus\",\"bus\",\"bus\",\"bus\",\"bus\",\"bus\",\"bus\",\"bus\",\"bus\",\"bus\",\"bus\",\"bus\",\"bus\",\"bus\",\"bus\",\"bus\",\"bus\",\"bus\",\"bus\",\"bus\",\"bus\",\"bus\",\"bus\",\"bus\",\"bus\",\"bus\",\"bus\",\"bus\",\"bus\",\"bus\",\"bus\",\"bus\",\"bus\",\"bus\",\"bus\",\"bus\",\"bus\",\"bus\",\"bus\",\"bus\",\"bus\",\"bus\",\"bus\",\"bus\",\"bus\",\"bus\",\"bus\"],\"x\":[0.0,0.01,0.02,0.03,0.04,0.05,0.06,0.07,0.08,0.09,0.1,0.11,0.12,0.13,0.14,0.15,0.16,0.17,0.18,0.19,0.2,0.21,0.22,0.23,0.24,0.25,0.26,0.27,0.28,0.29,0.3,0.31,0.32,0.33,0.34,0.35000000000000003,0.36,0.37,0.38,0.39,0.4,0.41000000000000003,0.42,0.43,0.44,0.45,0.46,0.47000000000000003,0.48,0.49,0.5,0.51,0.52,0.53,0.54,0.55,0.56,0.5700000000000001,0.58,0.59,0.6,0.61,0.62,0.63,0.64,0.65,0.66,0.67,0.68,0.6900000000000001,0.7000000000000001,0.71,0.72,0.73,0.74,0.75,0.76,0.77,0.78,0.79,0.8,0.81,0.8200000000000001,0.8300000000000001,0.84,0.85,0.86,0.87,0.88,0.89,0.9,0.91,0.92,0.93,0.9400000000000001,0.9500000000000001,0.96,0.97,0.98,0.99,1.0],\"y\":[0.9748125937031483,0.9748125937031483,0.9748125937031483,0.9748125937031483,0.9748125937031483,0.9748125937031483,0.9736945812807882,0.9736945812807882,0.9736945812807882,0.9686021077749055,0.9686021077749055,0.9668499175371081,0.964595015576324,0.9639539899352982,0.9632829588387353,0.9632829588387353,0.9632829588387353,0.9632829588387353,0.9632829588387353,0.9632829588387353,0.963271991521341,0.9626078360891445,0.9602967699622889,0.9600547856912665,0.9593764363413513,0.9564120581828401,0.9549283489096572,0.9549283489096572,0.9547522482807265,0.9547522482807265,0.9534045393858477,0.9514529390735916,0.9513418961467339,0.9472120896300156,0.9403151414296171,0.9381495176286032,0.931299226499123,0.9227107546821969,0.8856391035918543,0.8850793071541952,0.8846031166780047,0.8836912225705328,0.8834342922121825,0.8834342922121825,0.8834342922121825,0.8827194357366771,0.8822727272727272,0.8822727272727272,0.8809029602382203,0.8809029602382203,0.8800391556009532,0.8789031620553359,0.8788918982571833,0.8788918982571833,0.8770664508473734,0.8747660027951717,0.8733890034709996,0.8723311174112816,0.870010805131843,0.8665711361265267,0.8635394130111189,0.8591501804064643,0.857557065429293,0.8534110807416881,0.8520434373212009,0.8464923246756115,0.8416751407459534,0.8336418511610304,0.7667755838539927,0.7637228577128987,0.7607778309492348,0.7574649335256909,0.7548883666894278,0.7499970825655343,0.7442296553667034,0.7399119697954899,0.7267139120231654,0.7226413077194114,0.6464676740333308,0.6438917614490529,0.6377253881397296,0.6281633202885751,0.5416426294725853,0.5387607119314437,0.5350756746228114,0.44996976459036253,0.43815957188964044,0.34488985375803793,0.25911812132782236,0.2566331970854807,0.16941176470588235,0.0,0.0,0.0,0.0,0.0,0.0,0.0,0.0,0.0,0.0],\"type\":\"scatter\"},{\"customdata\":[0.9997485280036926,0.9994797885417939,0.9993142008781433,0.9992061495780945,0.9990767180919647,0.9990126013755798,0.9989542543888092,0.9988837778568268,0.9986895263195038,0.9986200094223022,0.9985649228096009,0.9984984338283539,0.9984124302864075,0.9983359396457672,0.9982300996780396,0.9981256484985351,0.9979708075523377,0.9978442251682281,0.9976502418518066,0.9974766552448273,0.9973434329032898,0.9971888661384583,0.9969756782054902,0.9965907216072083,0.9963382840156555,0.9960541605949402,0.9957960546016693,0.9954904615879059,0.9949647605419158,0.9939833641052246,0.9920938789844513,0.9882398009300232,0.9773502230644227,0.8965397536754608,0.8963836133480072,0.8962338209152222,0.8960641503334046,0.8958782315254211,0.8956813335418701,0.8954691529273987,0.8952498018741608,0.8950635850429535,0.8948567271232605,0.8945988655090332,0.8942961931228638,0.893965208530426,0.8936296164989471,0.8932578265666962,0.8929415583610535,0.8926014542579651,0.8923158586025238,0.8918295621871948,0.8912569999694824,0.8907212555408478,0.8901407599449158,0.8892312407493591,0.8882558703422546,0.8871542274951935,0.8851464450359344,0.8836559951305389,0.8818054914474487,0.8792377471923828,0.8763110935688019,0.8724461853504181,0.8660269439220428,0.7844208419322968,0.7830975413322449,0.780854094028473,0.7792105078697205,0.7771432161331177,0.7735118746757508,0.7696624994277954,0.765400868654251,0.7568100214004516,0.7486007332801818,0.6691674411296844,0.6655371427536011,0.6608591556549073,0.6527489602565766,0.6445744454860687,0.6339723110198975,0.5524733364582062,0.5435323417186737,0.5340393483638763,0.44560847282409666,0.4369402229785919,0.42331162095069885,0.33759440779685973,0.3242657780647278,0.23572813868522643,0.15300197005271912,0.0,0.0,0.0,0.0,0.0,0.0,0.0,0.0,0.0,0.0],\"hovertemplate\":\"<b>class: %{text}</b><br>recall: %{x:.3f}<br>precision: %{y:.3f}<br>threshold: %{customdata:.3f}<extra></extra>\",\"line\":{\"color\":\"#DC3912\"},\"mode\":\"lines\",\"name\":\"cat (AP = 0.722)\",\"text\":[\"cat\",\"cat\",\"cat\",\"cat\",\"cat\",\"cat\",\"cat\",\"cat\",\"cat\",\"cat\",\"cat\",\"cat\",\"cat\",\"cat\",\"cat\",\"cat\",\"cat\",\"cat\",\"cat\",\"cat\",\"cat\",\"cat\",\"cat\",\"cat\",\"cat\",\"cat\",\"cat\",\"cat\",\"cat\",\"cat\",\"cat\",\"cat\",\"cat\",\"cat\",\"cat\",\"cat\",\"cat\",\"cat\",\"cat\",\"cat\",\"cat\",\"cat\",\"cat\",\"cat\",\"cat\",\"cat\",\"cat\",\"cat\",\"cat\",\"cat\",\"cat\",\"cat\",\"cat\",\"cat\",\"cat\",\"cat\",\"cat\",\"cat\",\"cat\",\"cat\",\"cat\",\"cat\",\"cat\",\"cat\",\"cat\",\"cat\",\"cat\",\"cat\",\"cat\",\"cat\",\"cat\",\"cat\",\"cat\",\"cat\",\"cat\",\"cat\",\"cat\",\"cat\",\"cat\",\"cat\",\"cat\",\"cat\",\"cat\",\"cat\",\"cat\",\"cat\",\"cat\",\"cat\",\"cat\",\"cat\",\"cat\",\"cat\",\"cat\",\"cat\",\"cat\",\"cat\",\"cat\",\"cat\",\"cat\",\"cat\",\"cat\"],\"x\":[0.0,0.01,0.02,0.03,0.04,0.05,0.06,0.07,0.08,0.09,0.1,0.11,0.12,0.13,0.14,0.15,0.16,0.17,0.18,0.19,0.2,0.21,0.22,0.23,0.24,0.25,0.26,0.27,0.28,0.29,0.3,0.31,0.32,0.33,0.34,0.35000000000000003,0.36,0.37,0.38,0.39,0.4,0.41000000000000003,0.42,0.43,0.44,0.45,0.46,0.47000000000000003,0.48,0.49,0.5,0.51,0.52,0.53,0.54,0.55,0.56,0.5700000000000001,0.58,0.59,0.6,0.61,0.62,0.63,0.64,0.65,0.66,0.67,0.68,0.6900000000000001,0.7000000000000001,0.71,0.72,0.73,0.74,0.75,0.76,0.77,0.78,0.79,0.8,0.81,0.8200000000000001,0.8300000000000001,0.84,0.85,0.86,0.87,0.88,0.89,0.9,0.91,0.92,0.93,0.9400000000000001,0.9500000000000001,0.96,0.97,0.98,0.99,1.0],\"y\":[1.0,0.9421969696969696,0.9312491324201456,0.9312491324201456,0.9312491324201456,0.9310976172686305,0.9310976172686305,0.9276857411545485,0.9267238327282307,0.9267238327282307,0.9266488364780432,0.9255086337753407,0.9233920593696094,0.9219951202618271,0.9212668920335988,0.9211471494800888,0.9203680166887608,0.9198238773891001,0.917619363799882,0.9176103062390831,0.9162663647274177,0.9116991319998841,0.9108337929766502,0.9096703779059503,0.9056788164760677,0.9045962336759616,0.9035028222843531,0.9012629386895201,0.8989996803217271,0.8965223596804052,0.8940865398924801,0.8921851947485033,0.8898329035252119,0.8570093148217429,0.8564603740454944,0.8563673707546087,0.856350904970508,0.8561053356134061,0.8553813423760568,0.8552318054940123,0.8552318054940123,0.8550005630872315,0.8546115268361263,0.8526296843814757,0.851783676065,0.8504103801734578,0.8499608781679215,0.8493464903216303,0.8487277710140848,0.8481921158277442,0.8473915040395065,0.8457867108702478,0.8446236736129696,0.8438036333241413,0.8424217315084152,0.8417006754414971,0.8408105004955585,0.8395695039383272,0.8363167221939513,0.8349932341868787,0.8333536456862198,0.8317042475581653,0.828877376567927,0.8259293245886097,0.8227328693580889,0.7556090366564305,0.7538473088016869,0.74967394981226,0.7472840675947784,0.7458374672252955,0.7426242868588381,0.7394236438569575,0.7369073106689685,0.7321605665344604,0.7289141563201069,0.6538287871705941,0.6516603574198034,0.6497449700941762,0.6442756810164092,0.6412335834289582,0.6372869744589416,0.5559704622696773,0.5523527335913918,0.5494529850727127,0.4609925906694083,0.45864272691315744,0.45336487539965536,0.3651118842437696,0.36094394588490586,0.26931541788568697,0.17940483136888785,0.0,0.0,0.0,0.0,0.0,0.0,0.0,0.0,0.0,0.0],\"type\":\"scatter\"},{\"customdata\":[0.9998641014099121,0.9997651815414429,0.9997417986392975,0.9997217059135437,0.9996787369251251,0.9996245443820954,0.99959237575531,0.9995797872543335,0.9995432496070862,0.9995210111141205,0.9995033144950867,0.9994673609733582,0.9994035542011261,0.9993430495262146,0.9992980480194091,0.9992055892944336,0.9989739716053009,0.9987666368484497,0.9984556138515472,0.9981437385082245,0.9955046355724335,0.9888029992580414,0.8992619693279267,0.8992333590984345,0.8992178320884705,0.8991923034191132,0.8991648375988006,0.8991246163845062,0.8990758657455444,0.8990487396717072,0.8989999413490295,0.8989375948905944,0.8988684952259064,0.8988274037837982,0.8987823307514191,0.8986969709396362,0.8986437916755676,0.8985827028751373,0.8983900725841523,0.8982565462589264,0.8980806171894073,0.8979464828968048,0.8976900517940521,0.8975742518901825,0.8973404109477997,0.8971637547016144,0.8969316899776458,0.8968176126480103,0.8966084480285644,0.8963551461696625,0.8961284458637238,0.8957678556442261,0.8947632312774658,0.8926820456981659,0.8913308501243591,0.8889279782772064,0.8840415000915527,0.7953893303871155,0.7950337946414947,0.7945087492465973,0.794046151638031,0.7936823785305023,0.7930944204330445,0.7924338042736053,0.7920410633087158,0.791353976726532,0.7904773056507111,0.789449679851532,0.7885756194591522,0.7869746804237365,0.7858142137527466,0.7837874054908752,0.7803108155727386,0.7743739783763885,0.7687286317348481,0.6817131996154785,0.6780434846878052,0.6756253123283387,0.6697365581989289,0.6662496268749237,0.6594541013240814,0.6517369687557221,0.563390988111496,0.553740245103836,0.5413598239421844,0.5281691610813141,0.4381353497505188,0.4231980681419373,0.33452417254447936,0.3252130627632141,0.0,0.0,0.0,0.0,0.0,0.0,0.0,0.0,0.0,0.0,0.0],\"hovertemplate\":\"<b>class: %{text}</b><br>recall: %{x:.3f}<br>precision: %{y:.3f}<br>threshold: %{customdata:.3f}<extra></extra>\",\"line\":{\"color\":\"#FF9900\"},\"mode\":\"lines\",\"name\":\"train (AP = 0.718)\",\"text\":[\"train\",\"train\",\"train\",\"train\",\"train\",\"train\",\"train\",\"train\",\"train\",\"train\",\"train\",\"train\",\"train\",\"train\",\"train\",\"train\",\"train\",\"train\",\"train\",\"train\",\"train\",\"train\",\"train\",\"train\",\"train\",\"train\",\"train\",\"train\",\"train\",\"train\",\"train\",\"train\",\"train\",\"train\",\"train\",\"train\",\"train\",\"train\",\"train\",\"train\",\"train\",\"train\",\"train\",\"train\",\"train\",\"train\",\"train\",\"train\",\"train\",\"train\",\"train\",\"train\",\"train\",\"train\",\"train\",\"train\",\"train\",\"train\",\"train\",\"train\",\"train\",\"train\",\"train\",\"train\",\"train\",\"train\",\"train\",\"train\",\"train\",\"train\",\"train\",\"train\",\"train\",\"train\",\"train\",\"train\",\"train\",\"train\",\"train\",\"train\",\"train\",\"train\",\"train\",\"train\",\"train\",\"train\",\"train\",\"train\",\"train\",\"train\",\"train\",\"train\",\"train\",\"train\",\"train\",\"train\",\"train\",\"train\",\"train\",\"train\",\"train\"],\"x\":[0.0,0.01,0.02,0.03,0.04,0.05,0.06,0.07,0.08,0.09,0.1,0.11,0.12,0.13,0.14,0.15,0.16,0.17,0.18,0.19,0.2,0.21,0.22,0.23,0.24,0.25,0.26,0.27,0.28,0.29,0.3,0.31,0.32,0.33,0.34,0.35000000000000003,0.36,0.37,0.38,0.39,0.4,0.41000000000000003,0.42,0.43,0.44,0.45,0.46,0.47000000000000003,0.48,0.49,0.5,0.51,0.52,0.53,0.54,0.55,0.56,0.5700000000000001,0.58,0.59,0.6,0.61,0.62,0.63,0.64,0.65,0.66,0.67,0.68,0.6900000000000001,0.7000000000000001,0.71,0.72,0.73,0.74,0.75,0.76,0.77,0.78,0.79,0.8,0.81,0.8200000000000001,0.8300000000000001,0.84,0.85,0.86,0.87,0.88,0.89,0.9,0.91,0.92,0.93,0.9400000000000001,0.9500000000000001,0.96,0.97,0.98,0.99,1.0],\"y\":[1.0,0.940909090909091,0.9360795454545455,0.9360795454545455,0.9360795454545455,0.9360795454545455,0.9360795454545455,0.9360795454545455,0.9354545454545455,0.9354545454545455,0.933916083916084,0.9332498210450966,0.9332498210450966,0.9324619422572178,0.9324619422572178,0.9293558384061982,0.9227324414715719,0.9218846153846154,0.9208182437031995,0.9196346153846153,0.9168721598686013,0.9156068376068376,0.8923076923076924,0.8904826546003017,0.8872577519379845,0.8872577519379845,0.8866130363036303,0.8861386138613861,0.8848801702600166,0.8846403224393236,0.8837271243233955,0.8820059222556799,0.8798760208482891,0.8796496368186535,0.879109375884117,0.879109375884117,0.879109375884117,0.8787728847105394,0.8746844725972119,0.8719466269933516,0.8703542691076136,0.8688908375463186,0.8593522861202763,0.856884476175974,0.8540842329278684,0.8529301255767129,0.8511145335170625,0.8511145335170625,0.8477889562928219,0.8464636309450168,0.8452029923319516,0.8425714038298289,0.8365395588419373,0.8310060118827705,0.8292778549472658,0.8263892891461019,0.824296150187004,0.7661403153609105,0.765258661955706,0.7630423182737179,0.760969168289167,0.760041060914283,0.7555056662739409,0.7546359892522656,0.7542568542568542,0.7526528684205033,0.7515961726269653,0.7494874115656491,0.7483344079853559,0.7449111526683203,0.7433722649534283,0.7401449300499312,0.7363044507575758,0.7305363595373607,0.7262476281457244,0.6512118444727291,0.6468259374032801,0.6444416529742527,0.6369726179104069,0.63432845085863,0.6304771745765744,0.6253050580646285,0.5433860551455131,0.5382461316259335,0.5309573240472121,0.525949491960146,0.4402569070080863,0.4335983930279491,0.3466108966108966,0.342770099443789,0.0,0.0,0.0,0.0,0.0,0.0,0.0,0.0,0.0,0.0,0.0],\"type\":\"scatter\"}],                        {\"template\":{\"data\":{\"barpolar\":[{\"marker\":{\"line\":{\"color\":\"rgb(237,237,237)\",\"width\":0.5},\"pattern\":{\"fillmode\":\"overlay\",\"size\":10,\"solidity\":0.2}},\"type\":\"barpolar\"}],\"bar\":[{\"error_x\":{\"color\":\"rgb(51,51,51)\"},\"error_y\":{\"color\":\"rgb(51,51,51)\"},\"marker\":{\"line\":{\"color\":\"rgb(237,237,237)\",\"width\":0.5},\"pattern\":{\"fillmode\":\"overlay\",\"size\":10,\"solidity\":0.2}},\"type\":\"bar\"}],\"carpet\":[{\"aaxis\":{\"endlinecolor\":\"rgb(51,51,51)\",\"gridcolor\":\"white\",\"linecolor\":\"white\",\"minorgridcolor\":\"white\",\"startlinecolor\":\"rgb(51,51,51)\"},\"baxis\":{\"endlinecolor\":\"rgb(51,51,51)\",\"gridcolor\":\"white\",\"linecolor\":\"white\",\"minorgridcolor\":\"white\",\"startlinecolor\":\"rgb(51,51,51)\"},\"type\":\"carpet\"}],\"choropleth\":[{\"colorbar\":{\"outlinewidth\":0,\"tickcolor\":\"rgb(237,237,237)\",\"ticklen\":6,\"ticks\":\"inside\"},\"type\":\"choropleth\"}],\"contourcarpet\":[{\"colorbar\":{\"outlinewidth\":0,\"tickcolor\":\"rgb(237,237,237)\",\"ticklen\":6,\"ticks\":\"inside\"},\"type\":\"contourcarpet\"}],\"contour\":[{\"colorbar\":{\"outlinewidth\":0,\"tickcolor\":\"rgb(237,237,237)\",\"ticklen\":6,\"ticks\":\"inside\"},\"colorscale\":[[0,\"rgb(20,44,66)\"],[1,\"rgb(90,179,244)\"]],\"type\":\"contour\"}],\"heatmapgl\":[{\"colorbar\":{\"outlinewidth\":0,\"tickcolor\":\"rgb(237,237,237)\",\"ticklen\":6,\"ticks\":\"inside\"},\"colorscale\":[[0,\"rgb(20,44,66)\"],[1,\"rgb(90,179,244)\"]],\"type\":\"heatmapgl\"}],\"heatmap\":[{\"colorbar\":{\"outlinewidth\":0,\"tickcolor\":\"rgb(237,237,237)\",\"ticklen\":6,\"ticks\":\"inside\"},\"colorscale\":[[0,\"rgb(20,44,66)\"],[1,\"rgb(90,179,244)\"]],\"type\":\"heatmap\"}],\"histogram2dcontour\":[{\"colorbar\":{\"outlinewidth\":0,\"tickcolor\":\"rgb(237,237,237)\",\"ticklen\":6,\"ticks\":\"inside\"},\"colorscale\":[[0,\"rgb(20,44,66)\"],[1,\"rgb(90,179,244)\"]],\"type\":\"histogram2dcontour\"}],\"histogram2d\":[{\"colorbar\":{\"outlinewidth\":0,\"tickcolor\":\"rgb(237,237,237)\",\"ticklen\":6,\"ticks\":\"inside\"},\"colorscale\":[[0,\"rgb(20,44,66)\"],[1,\"rgb(90,179,244)\"]],\"type\":\"histogram2d\"}],\"histogram\":[{\"marker\":{\"pattern\":{\"fillmode\":\"overlay\",\"size\":10,\"solidity\":0.2}},\"type\":\"histogram\"}],\"mesh3d\":[{\"colorbar\":{\"outlinewidth\":0,\"tickcolor\":\"rgb(237,237,237)\",\"ticklen\":6,\"ticks\":\"inside\"},\"type\":\"mesh3d\"}],\"parcoords\":[{\"line\":{\"colorbar\":{\"outlinewidth\":0,\"tickcolor\":\"rgb(237,237,237)\",\"ticklen\":6,\"ticks\":\"inside\"}},\"type\":\"parcoords\"}],\"pie\":[{\"automargin\":true,\"type\":\"pie\"}],\"scatter3d\":[{\"line\":{\"colorbar\":{\"outlinewidth\":0,\"tickcolor\":\"rgb(237,237,237)\",\"ticklen\":6,\"ticks\":\"inside\"}},\"marker\":{\"colorbar\":{\"outlinewidth\":0,\"tickcolor\":\"rgb(237,237,237)\",\"ticklen\":6,\"ticks\":\"inside\"}},\"type\":\"scatter3d\"}],\"scattercarpet\":[{\"marker\":{\"colorbar\":{\"outlinewidth\":0,\"tickcolor\":\"rgb(237,237,237)\",\"ticklen\":6,\"ticks\":\"inside\"}},\"type\":\"scattercarpet\"}],\"scattergeo\":[{\"marker\":{\"colorbar\":{\"outlinewidth\":0,\"tickcolor\":\"rgb(237,237,237)\",\"ticklen\":6,\"ticks\":\"inside\"}},\"type\":\"scattergeo\"}],\"scattergl\":[{\"marker\":{\"colorbar\":{\"outlinewidth\":0,\"tickcolor\":\"rgb(237,237,237)\",\"ticklen\":6,\"ticks\":\"inside\"}},\"type\":\"scattergl\"}],\"scattermapbox\":[{\"marker\":{\"colorbar\":{\"outlinewidth\":0,\"tickcolor\":\"rgb(237,237,237)\",\"ticklen\":6,\"ticks\":\"inside\"}},\"type\":\"scattermapbox\"}],\"scatterpolargl\":[{\"marker\":{\"colorbar\":{\"outlinewidth\":0,\"tickcolor\":\"rgb(237,237,237)\",\"ticklen\":6,\"ticks\":\"inside\"}},\"type\":\"scatterpolargl\"}],\"scatterpolar\":[{\"marker\":{\"colorbar\":{\"outlinewidth\":0,\"tickcolor\":\"rgb(237,237,237)\",\"ticklen\":6,\"ticks\":\"inside\"}},\"type\":\"scatterpolar\"}],\"scatter\":[{\"marker\":{\"colorbar\":{\"outlinewidth\":0,\"tickcolor\":\"rgb(237,237,237)\",\"ticklen\":6,\"ticks\":\"inside\"}},\"type\":\"scatter\"}],\"scatterternary\":[{\"marker\":{\"colorbar\":{\"outlinewidth\":0,\"tickcolor\":\"rgb(237,237,237)\",\"ticklen\":6,\"ticks\":\"inside\"}},\"type\":\"scatterternary\"}],\"surface\":[{\"colorbar\":{\"outlinewidth\":0,\"tickcolor\":\"rgb(237,237,237)\",\"ticklen\":6,\"ticks\":\"inside\"},\"colorscale\":[[0,\"rgb(20,44,66)\"],[1,\"rgb(90,179,244)\"]],\"type\":\"surface\"}],\"table\":[{\"cells\":{\"fill\":{\"color\":\"rgb(237,237,237)\"},\"line\":{\"color\":\"white\"}},\"header\":{\"fill\":{\"color\":\"rgb(217,217,217)\"},\"line\":{\"color\":\"white\"}},\"type\":\"table\"}]},\"layout\":{\"annotationdefaults\":{\"arrowhead\":0,\"arrowwidth\":1},\"autotypenumbers\":\"strict\",\"coloraxis\":{\"colorbar\":{\"outlinewidth\":0,\"tickcolor\":\"rgb(237,237,237)\",\"ticklen\":6,\"ticks\":\"inside\"}},\"colorscale\":{\"sequential\":[[0,\"rgb(20,44,66)\"],[1,\"rgb(90,179,244)\"]],\"sequentialminus\":[[0,\"rgb(20,44,66)\"],[1,\"rgb(90,179,244)\"]]},\"colorway\":[\"#F8766D\",\"#A3A500\",\"#00BF7D\",\"#00B0F6\",\"#E76BF3\"],\"font\":{\"color\":\"rgb(51,51,51)\"},\"geo\":{\"bgcolor\":\"white\",\"lakecolor\":\"white\",\"landcolor\":\"rgb(237,237,237)\",\"showlakes\":true,\"showland\":true,\"subunitcolor\":\"white\"},\"hoverlabel\":{\"align\":\"left\"},\"hovermode\":\"closest\",\"paper_bgcolor\":\"white\",\"plot_bgcolor\":\"rgb(237,237,237)\",\"polar\":{\"angularaxis\":{\"gridcolor\":\"white\",\"linecolor\":\"white\",\"showgrid\":true,\"tickcolor\":\"rgb(51,51,51)\",\"ticks\":\"outside\"},\"bgcolor\":\"rgb(237,237,237)\",\"radialaxis\":{\"gridcolor\":\"white\",\"linecolor\":\"white\",\"showgrid\":true,\"tickcolor\":\"rgb(51,51,51)\",\"ticks\":\"outside\"}},\"scene\":{\"xaxis\":{\"backgroundcolor\":\"rgb(237,237,237)\",\"gridcolor\":\"white\",\"gridwidth\":2,\"linecolor\":\"white\",\"showbackground\":true,\"showgrid\":true,\"tickcolor\":\"rgb(51,51,51)\",\"ticks\":\"outside\",\"zerolinecolor\":\"white\"},\"yaxis\":{\"backgroundcolor\":\"rgb(237,237,237)\",\"gridcolor\":\"white\",\"gridwidth\":2,\"linecolor\":\"white\",\"showbackground\":true,\"showgrid\":true,\"tickcolor\":\"rgb(51,51,51)\",\"ticks\":\"outside\",\"zerolinecolor\":\"white\"},\"zaxis\":{\"backgroundcolor\":\"rgb(237,237,237)\",\"gridcolor\":\"white\",\"gridwidth\":2,\"linecolor\":\"white\",\"showbackground\":true,\"showgrid\":true,\"tickcolor\":\"rgb(51,51,51)\",\"ticks\":\"outside\",\"zerolinecolor\":\"white\"}},\"shapedefaults\":{\"fillcolor\":\"black\",\"line\":{\"width\":0},\"opacity\":0.3},\"ternary\":{\"aaxis\":{\"gridcolor\":\"white\",\"linecolor\":\"white\",\"showgrid\":true,\"tickcolor\":\"rgb(51,51,51)\",\"ticks\":\"outside\"},\"baxis\":{\"gridcolor\":\"white\",\"linecolor\":\"white\",\"showgrid\":true,\"tickcolor\":\"rgb(51,51,51)\",\"ticks\":\"outside\"},\"bgcolor\":\"rgb(237,237,237)\",\"caxis\":{\"gridcolor\":\"white\",\"linecolor\":\"white\",\"showgrid\":true,\"tickcolor\":\"rgb(51,51,51)\",\"ticks\":\"outside\"}},\"xaxis\":{\"automargin\":true,\"gridcolor\":\"white\",\"linecolor\":\"white\",\"showgrid\":true,\"tickcolor\":\"rgb(51,51,51)\",\"ticks\":\"outside\",\"title\":{\"standoff\":15},\"zerolinecolor\":\"white\"},\"yaxis\":{\"automargin\":true,\"gridcolor\":\"white\",\"linecolor\":\"white\",\"showgrid\":true,\"tickcolor\":\"rgb(51,51,51)\",\"ticks\":\"outside\",\"title\":{\"standoff\":15},\"zerolinecolor\":\"white\"}}},\"shapes\":[{\"line\":{\"dash\":\"dash\"},\"type\":\"line\",\"x0\":0,\"x1\":1,\"y0\":1,\"y1\":0}],\"xaxis\":{\"range\":[0,1],\"constrain\":\"domain\",\"title\":{\"text\":\"Recall\"}},\"yaxis\":{\"range\":[0,1],\"constrain\":\"domain\",\"scaleanchor\":\"x\",\"scaleratio\":1,\"title\":{\"text\":\"Precision\"}},\"title\":{},\"margin\":{\"r\":0,\"t\":30,\"l\":0,\"b\":0}},                        {\"responsive\": true}                    ).then(function(){\n",
              "                            \n",
              "var gd = document.getElementById('41945330-bd81-40e8-9f5e-5704d9fd60c8');\n",
              "var x = new MutationObserver(function (mutations, observer) {{\n",
              "        var display = window.getComputedStyle(gd).display;\n",
              "        if (!display || display === 'none') {{\n",
              "            console.log([gd, 'removed!']);\n",
              "            Plotly.purge(gd);\n",
              "            observer.disconnect();\n",
              "        }}\n",
              "}});\n",
              "\n",
              "// Listen for the removal of the full notebook cells\n",
              "var notebookContainer = gd.closest('#notebook-container');\n",
              "if (notebookContainer) {{\n",
              "    x.observe(notebookContainer, {childList: true});\n",
              "}}\n",
              "\n",
              "// Listen for the clearing of the current output cell\n",
              "var outputEl = gd.closest('.output');\n",
              "if (outputEl) {{\n",
              "    x.observe(outputEl, {childList: true});\n",
              "}}\n",
              "\n",
              "                        })                };                            </script>        </div>\n",
              "</body>\n",
              "</html>"
            ]
          },
          "metadata": {},
          "output_type": "display_data"
        }
      ],
      "source": [
        "plot = results_f_rcnn.plot_pr_curves()\n",
        "plot.show()"
      ]
    },
    {
      "cell_type": "code",
      "execution_count": 27,
      "metadata": {
        "id": "cd-yCULVNAHV"
      },
      "outputs": [],
      "source": [
        "# plot.freeze()"
      ]
    },
    {
      "cell_type": "markdown",
      "metadata": {
        "id": "uAx0x-El2KCy"
      },
      "source": [
        "# FCOS results\n",
        "\n",
        "*   Precision Recall f1-score support\n",
        "*   mAP\n",
        "*   pr curve\n",
        "\n"
      ]
    },
    {
      "cell_type": "code",
      "execution_count": 28,
      "metadata": {
        "colab": {
          "base_uri": "https://localhost:8080/"
        },
        "id": "PBiZ3H1YyDBY",
        "outputId": "4a35ef92-91db-4cb6-b2fd-9656a9d0f896"
      },
      "outputs": [
        {
          "name": "stdout",
          "output_type": "stream",
          "text": [
            "mAP: 0.23650524435939385\n",
            "              precision    recall  f1-score   support\n",
            "\n",
            "   aeroplane       1.00      0.50      0.66       484\n",
            "     bicycle       0.95      0.22      0.35       380\n",
            "        bird       0.97      0.42      0.59       629\n",
            "        boat       0.92      0.11      0.20       491\n",
            "      bottle       0.93      0.16      0.27       733\n",
            "         bus       0.98      0.57      0.72       320\n",
            "         car       0.96      0.26      0.41      1173\n",
            "         cat       0.98      0.38      0.55       618\n",
            "       chair       0.96      0.11      0.20      1449\n",
            "         cow       0.97      0.41      0.57       347\n",
            " diningtable       0.67      0.01      0.01       374\n",
            "         dog       0.97      0.37      0.53       773\n",
            "       horse       0.97      0.43      0.60       373\n",
            "   motorbike       0.99      0.27      0.43       376\n",
            "      person       0.97      0.40      0.57      5110\n",
            " pottedplant       0.94      0.09      0.16       542\n",
            "       sheep       1.00      0.41      0.58       485\n",
            "        sofa       1.00      0.07      0.13       387\n",
            "       train       0.98      0.46      0.62       329\n",
            "   tvmonitor       1.00      0.27      0.43       414\n",
            "\n",
            "   micro avg       0.97      0.31      0.47     15787\n",
            "   macro avg       0.95      0.30      0.43     15787\n",
            "weighted avg       0.96      0.31      0.45     15787\n",
            "\n"
          ]
        }
      ],
      "source": [
        "print(f'mAP: {results_fcos.mAP()}')\n",
        "results_fcos.print_report()"
      ]
    },
    {
      "cell_type": "code",
      "execution_count": 29,
      "metadata": {
        "colab": {
          "base_uri": "https://localhost:8080/",
          "height": 0
        },
        "id": "-Ed3jKPS2y_M",
        "outputId": "ea601d81-0153-4645-acd2-61de80fff824"
      },
      "outputs": [
        {
          "data": {
            "text/html": [
              "<html>\n",
              "<head><meta charset=\"utf-8\" /></head>\n",
              "<body>\n",
              "    <div>            <script src=\"https://cdnjs.cloudflare.com/ajax/libs/mathjax/2.7.5/MathJax.js?config=TeX-AMS-MML_SVG\"></script><script type=\"text/javascript\">if (window.MathJax) {MathJax.Hub.Config({SVG: {font: \"STIX-Web\"}});}</script>                <script type=\"text/javascript\">window.PlotlyConfig = {MathJaxConfig: 'local'};</script>\n",
              "        <script src=\"https://cdn.plot.ly/plotly-2.8.3.min.js\"></script>                <div id=\"3165f6d2-5ce9-4c6f-ab4d-10d9e494acf2\" class=\"plotly-graph-div\" style=\"height:525px; width:100%;\"></div>            <script type=\"text/javascript\">                                    window.PLOTLYENV=window.PLOTLYENV || {};                                    if (document.getElementById(\"3165f6d2-5ce9-4c6f-ab4d-10d9e494acf2\")) {                    Plotly.newPlot(                        \"3165f6d2-5ce9-4c6f-ab4d-10d9e494acf2\",                        [{\"customdata\":[0.8993784189224243,0.8956239521503448,0.8900316298007965,0.8874331057071686,0.8858062267303467,0.8808297395706177,0.8761482238769531,0.8739344596862793,0.8713408052921295,0.8678206980228425,0.8666373074054718,0.861747145652771,0.8608128190040588,0.8587147355079651,0.8567818880081177,0.8546022057533265,0.8530324757099151,0.8515865504741669,0.8487139225006104,0.8448405027389526,0.8428837358951569,0.8391712844371796,0.8365805387496948,0.8351977050304413,0.832597291469574,0.8312413156032562,0.8285371720790863,0.8257260382175445,0.8225544095039368,0.8190325140953064,0.7420710802078248,0.7399262070655823,0.7388173341751099,0.73673495054245,0.7344959616661072,0.7311368227005005,0.7294305324554443,0.7280049800872803,0.7258610129356384,0.7239131271839142,0.7222303092479706,0.7192864418029785,0.7159850776195527,0.7127373933792114,0.7093432426452637,0.7073343455791473,0.7032889008522034,0.70011106133461,0.6959097504615783,0.6187186241149902,0.6161843121051789,0.612738162279129,0.6107779026031495,0.6082953870296478,0.5308726072311402,0.4534657061100006,0.3768843948841095,0.15033332109451295,0.0,0.0,0.0,0.0,0.0,0.0,0.0,0.0,0.0,0.0,0.0,0.0,0.0,0.0,0.0,0.0,0.0,0.0,0.0,0.0,0.0,0.0,0.0,0.0,0.0,0.0,0.0,0.0,0.0,0.0,0.0,0.0,0.0,0.0,0.0,0.0,0.0,0.0,0.0,0.0,0.0,0.0,0.0],\"hovertemplate\":\"<b>class: %{text}</b><br>recall: %{x:.3f}<br>precision: %{y:.3f}<br>threshold: %{customdata:.3f}<extra></extra>\",\"line\":{\"color\":\"#3366CC\"},\"mode\":\"lines\",\"name\":\"bus (AP = 0.505)\",\"text\":[\"bus\",\"bus\",\"bus\",\"bus\",\"bus\",\"bus\",\"bus\",\"bus\",\"bus\",\"bus\",\"bus\",\"bus\",\"bus\",\"bus\",\"bus\",\"bus\",\"bus\",\"bus\",\"bus\",\"bus\",\"bus\",\"bus\",\"bus\",\"bus\",\"bus\",\"bus\",\"bus\",\"bus\",\"bus\",\"bus\",\"bus\",\"bus\",\"bus\",\"bus\",\"bus\",\"bus\",\"bus\",\"bus\",\"bus\",\"bus\",\"bus\",\"bus\",\"bus\",\"bus\",\"bus\",\"bus\",\"bus\",\"bus\",\"bus\",\"bus\",\"bus\",\"bus\",\"bus\",\"bus\",\"bus\",\"bus\",\"bus\",\"bus\",\"bus\",\"bus\",\"bus\",\"bus\",\"bus\",\"bus\",\"bus\",\"bus\",\"bus\",\"bus\",\"bus\",\"bus\",\"bus\",\"bus\",\"bus\",\"bus\",\"bus\",\"bus\",\"bus\",\"bus\",\"bus\",\"bus\",\"bus\",\"bus\",\"bus\",\"bus\",\"bus\",\"bus\",\"bus\",\"bus\",\"bus\",\"bus\",\"bus\",\"bus\",\"bus\",\"bus\",\"bus\",\"bus\",\"bus\",\"bus\",\"bus\",\"bus\",\"bus\"],\"x\":[0.0,0.01,0.02,0.03,0.04,0.05,0.06,0.07,0.08,0.09,0.1,0.11,0.12,0.13,0.14,0.15,0.16,0.17,0.18,0.19,0.2,0.21,0.22,0.23,0.24,0.25,0.26,0.27,0.28,0.29,0.3,0.31,0.32,0.33,0.34,0.35000000000000003,0.36,0.37,0.38,0.39,0.4,0.41000000000000003,0.42,0.43,0.44,0.45,0.46,0.47000000000000003,0.48,0.49,0.5,0.51,0.52,0.53,0.54,0.55,0.56,0.5700000000000001,0.58,0.59,0.6,0.61,0.62,0.63,0.64,0.65,0.66,0.67,0.68,0.6900000000000001,0.7000000000000001,0.71,0.72,0.73,0.74,0.75,0.76,0.77,0.78,0.79,0.8,0.81,0.8200000000000001,0.8300000000000001,0.84,0.85,0.86,0.87,0.88,0.89,0.9,0.91,0.92,0.93,0.9400000000000001,0.9500000000000001,0.96,0.97,0.98,0.99,1.0],\"y\":[1.0,0.9857142857142858,0.9818181818181818,0.9800000000000001,0.9787878787878788,0.9787878787878788,0.9787878787878788,0.9787878787878788,0.9787878787878788,0.9659574468085106,0.9653846153846153,0.9649122807017545,0.964179104477612,0.9623272526257601,0.962037037037037,0.9601734646038442,0.9590676883780331,0.9560147849462366,0.9554608585858586,0.9552083333333334,0.9534680698397512,0.9453088803088804,0.9428406869246565,0.9394312652068126,0.9371904761904762,0.9364743589743589,0.9312590458322166,0.9266406218458778,0.9215373747543645,0.920090932090601,0.8693442144992233,0.8675696093244119,0.8675037861692886,0.8675037861692886,0.8667876210274578,0.8657741997312026,0.8652601110997196,0.8649713457079795,0.8648061790310742,0.8640640760092223,0.8632328360000878,0.8628415054763069,0.8623543576200093,0.8611231940344881,0.8607982341980633,0.8602559853624013,0.8597504121139938,0.8588888888888888,0.8577758852762504,0.7731991579330233,0.7726248045016277,0.7696180284330574,0.7689420055894045,0.7670471535365152,0.6762162162162162,0.5822570442783209,0.4876279470960322,0.19574468085106383,0.0,0.0,0.0,0.0,0.0,0.0,0.0,0.0,0.0,0.0,0.0,0.0,0.0,0.0,0.0,0.0,0.0,0.0,0.0,0.0,0.0,0.0,0.0,0.0,0.0,0.0,0.0,0.0,0.0,0.0,0.0,0.0,0.0,0.0,0.0,0.0,0.0,0.0,0.0,0.0,0.0,0.0,0.0],\"type\":\"scatter\"},{\"customdata\":[0.9502435922622681,0.9248858869075776,0.9105576753616333,0.9036288440227509,0.8939261436462402,0.8835966289043427,0.8746110320091247,0.8700793385505676,0.8653305232524872,0.8598470449447632,0.8569217979907989,0.8520024359226227,0.8459679901599884,0.8420254588127136,0.8356713354587555,0.8305329501628875,0.8255957186222076,0.7483825504779815,0.7463281869888305,0.744750839471817,0.7429575622081757,0.740275639295578,0.7374516010284424,0.735613751411438,0.7334119439125061,0.7316486299037933,0.7303787767887115,0.7278694987297059,0.724712872505188,0.7226422369480133,0.720251488685608,0.7179428219795227,0.7161881804466248,0.71317617893219,0.7101287722587586,0.633118999004364,0.6304078757762909,0.6272661924362183,0.6246740698814393,0.6219197869300842,0.6199350118637085,0.6176337540149689,0.5401298463344574,0.5381420910358429,0.5359007298946381,0.53302161693573,0.5305009841918945,0.4533348083496094,0.3766610324382782,0.22526862621307372,0.0,0.0,0.0,0.0,0.0,0.0,0.0,0.0,0.0,0.0,0.0,0.0,0.0,0.0,0.0,0.0,0.0,0.0,0.0,0.0,0.0,0.0,0.0,0.0,0.0,0.0,0.0,0.0,0.0,0.0,0.0,0.0,0.0,0.0,0.0,0.0,0.0,0.0,0.0,0.0,0.0,0.0,0.0,0.0,0.0,0.0,0.0,0.0,0.0,0.0,0.0],\"hovertemplate\":\"<b>class: %{text}</b><br>recall: %{x:.3f}<br>precision: %{y:.3f}<br>threshold: %{customdata:.3f}<extra></extra>\",\"line\":{\"color\":\"#DC3912\"},\"mode\":\"lines\",\"name\":\"aeroplane (AP = 0.405)\",\"text\":[\"aeroplane\",\"aeroplane\",\"aeroplane\",\"aeroplane\",\"aeroplane\",\"aeroplane\",\"aeroplane\",\"aeroplane\",\"aeroplane\",\"aeroplane\",\"aeroplane\",\"aeroplane\",\"aeroplane\",\"aeroplane\",\"aeroplane\",\"aeroplane\",\"aeroplane\",\"aeroplane\",\"aeroplane\",\"aeroplane\",\"aeroplane\",\"aeroplane\",\"aeroplane\",\"aeroplane\",\"aeroplane\",\"aeroplane\",\"aeroplane\",\"aeroplane\",\"aeroplane\",\"aeroplane\",\"aeroplane\",\"aeroplane\",\"aeroplane\",\"aeroplane\",\"aeroplane\",\"aeroplane\",\"aeroplane\",\"aeroplane\",\"aeroplane\",\"aeroplane\",\"aeroplane\",\"aeroplane\",\"aeroplane\",\"aeroplane\",\"aeroplane\",\"aeroplane\",\"aeroplane\",\"aeroplane\",\"aeroplane\",\"aeroplane\",\"aeroplane\",\"aeroplane\",\"aeroplane\",\"aeroplane\",\"aeroplane\",\"aeroplane\",\"aeroplane\",\"aeroplane\",\"aeroplane\",\"aeroplane\",\"aeroplane\",\"aeroplane\",\"aeroplane\",\"aeroplane\",\"aeroplane\",\"aeroplane\",\"aeroplane\",\"aeroplane\",\"aeroplane\",\"aeroplane\",\"aeroplane\",\"aeroplane\",\"aeroplane\",\"aeroplane\",\"aeroplane\",\"aeroplane\",\"aeroplane\",\"aeroplane\",\"aeroplane\",\"aeroplane\",\"aeroplane\",\"aeroplane\",\"aeroplane\",\"aeroplane\",\"aeroplane\",\"aeroplane\",\"aeroplane\",\"aeroplane\",\"aeroplane\",\"aeroplane\",\"aeroplane\",\"aeroplane\",\"aeroplane\",\"aeroplane\",\"aeroplane\",\"aeroplane\",\"aeroplane\",\"aeroplane\",\"aeroplane\",\"aeroplane\",\"aeroplane\"],\"x\":[0.0,0.01,0.02,0.03,0.04,0.05,0.06,0.07,0.08,0.09,0.1,0.11,0.12,0.13,0.14,0.15,0.16,0.17,0.18,0.19,0.2,0.21,0.22,0.23,0.24,0.25,0.26,0.27,0.28,0.29,0.3,0.31,0.32,0.33,0.34,0.35000000000000003,0.36,0.37,0.38,0.39,0.4,0.41000000000000003,0.42,0.43,0.44,0.45,0.46,0.47000000000000003,0.48,0.49,0.5,0.51,0.52,0.53,0.54,0.55,0.56,0.5700000000000001,0.58,0.59,0.6,0.61,0.62,0.63,0.64,0.65,0.66,0.67,0.68,0.6900000000000001,0.7000000000000001,0.71,0.72,0.73,0.74,0.75,0.76,0.77,0.78,0.79,0.8,0.81,0.8200000000000001,0.8300000000000001,0.84,0.85,0.86,0.87,0.88,0.89,0.9,0.91,0.92,0.93,0.9400000000000001,0.9500000000000001,0.96,0.97,0.98,0.99,1.0],\"y\":[0.95,0.9139176971147455,0.9037068934256809,0.9037068934256809,0.9037068934256809,0.9031717763688247,0.9031717763688247,0.9031717763688247,0.9031717763688247,0.9031717763688247,0.9018673038917605,0.9007566111206762,0.9007566111206762,0.8999246780860732,0.8967329722251309,0.8960939799900387,0.8915303340951407,0.8583388447334386,0.8573417508468604,0.8560483696167296,0.854401074321278,0.8526075381798025,0.851552818046135,0.8515152805085975,0.8495825338084089,0.8495825338084089,0.8495825338084089,0.8487957699532661,0.8478710387704703,0.8475542529871982,0.8475542529871982,0.8453570594509688,0.8445432635878394,0.8442635087846962,0.841647287135285,0.7714345211778382,0.7709026022964046,0.7703972159418362,0.7703972159418362,0.7702871376639497,0.7697494489024347,0.7688498567401425,0.6847275607029684,0.6835952704414721,0.6835805124721687,0.6827488099281374,0.6809917355371901,0.5888429752066116,0.49421487603305786,0.2983471074380165,0.0,0.0,0.0,0.0,0.0,0.0,0.0,0.0,0.0,0.0,0.0,0.0,0.0,0.0,0.0,0.0,0.0,0.0,0.0,0.0,0.0,0.0,0.0,0.0,0.0,0.0,0.0,0.0,0.0,0.0,0.0,0.0,0.0,0.0,0.0,0.0,0.0,0.0,0.0,0.0,0.0,0.0,0.0,0.0,0.0,0.0,0.0,0.0,0.0,0.0,0.0],\"type\":\"scatter\"},{\"customdata\":[0.9070819020271301,0.8979551017284393,0.8904616355895996,0.878612619638443,0.872568553686142,0.8700866103172302,0.8663502097129822,0.8600668251514435,0.8540206670761108,0.8478341341018677,0.8447770535945892,0.8386865437030793,0.7620788991451264,0.759379243850708,0.7564208388328553,0.75498828291893,0.7528878569602966,0.7488282501697541,0.7438244938850402,0.7411332786083221,0.7379415452480316,0.7321019649505616,0.7297341525554657,0.7257214188575745,0.7228959083557129,0.7182483494281768,0.7155973553657532,0.7139680981636047,0.7101029217243194,0.708078271150589,0.7057592332363128,0.628263247013092,0.6232470035552978,0.6210884273052215,0.6192160487174988,0.6158663928508759,0.614360386133194,0.6127770960330963,0.6107955873012543,0.5335952579975128,0.5319457471370697,0.4558743298053741,0.37925401926040647,0.37824331521987914,0.302084481716156,0.15017662048339844,0.0,0.0,0.0,0.0,0.0,0.0,0.0,0.0,0.0,0.0,0.0,0.0,0.0,0.0,0.0,0.0,0.0,0.0,0.0,0.0,0.0,0.0,0.0,0.0,0.0,0.0,0.0,0.0,0.0,0.0,0.0,0.0,0.0,0.0,0.0,0.0,0.0,0.0,0.0,0.0,0.0,0.0,0.0,0.0,0.0,0.0,0.0,0.0,0.0,0.0,0.0,0.0,0.0,0.0,0.0],\"hovertemplate\":\"<b>class: %{text}</b><br>recall: %{x:.3f}<br>precision: %{y:.3f}<br>threshold: %{customdata:.3f}<extra></extra>\",\"line\":{\"color\":\"#FF9900\"},\"mode\":\"lines\",\"name\":\"train (AP = 0.362)\",\"text\":[\"train\",\"train\",\"train\",\"train\",\"train\",\"train\",\"train\",\"train\",\"train\",\"train\",\"train\",\"train\",\"train\",\"train\",\"train\",\"train\",\"train\",\"train\",\"train\",\"train\",\"train\",\"train\",\"train\",\"train\",\"train\",\"train\",\"train\",\"train\",\"train\",\"train\",\"train\",\"train\",\"train\",\"train\",\"train\",\"train\",\"train\",\"train\",\"train\",\"train\",\"train\",\"train\",\"train\",\"train\",\"train\",\"train\",\"train\",\"train\",\"train\",\"train\",\"train\",\"train\",\"train\",\"train\",\"train\",\"train\",\"train\",\"train\",\"train\",\"train\",\"train\",\"train\",\"train\",\"train\",\"train\",\"train\",\"train\",\"train\",\"train\",\"train\",\"train\",\"train\",\"train\",\"train\",\"train\",\"train\",\"train\",\"train\",\"train\",\"train\",\"train\",\"train\",\"train\",\"train\",\"train\",\"train\",\"train\",\"train\",\"train\",\"train\",\"train\",\"train\",\"train\",\"train\",\"train\",\"train\",\"train\",\"train\",\"train\",\"train\",\"train\"],\"x\":[0.0,0.01,0.02,0.03,0.04,0.05,0.06,0.07,0.08,0.09,0.1,0.11,0.12,0.13,0.14,0.15,0.16,0.17,0.18,0.19,0.2,0.21,0.22,0.23,0.24,0.25,0.26,0.27,0.28,0.29,0.3,0.31,0.32,0.33,0.34,0.35000000000000003,0.36,0.37,0.38,0.39,0.4,0.41000000000000003,0.42,0.43,0.44,0.45,0.46,0.47000000000000003,0.48,0.49,0.5,0.51,0.52,0.53,0.54,0.55,0.56,0.5700000000000001,0.58,0.59,0.6,0.61,0.62,0.63,0.64,0.65,0.66,0.67,0.68,0.6900000000000001,0.7000000000000001,0.71,0.72,0.73,0.74,0.75,0.76,0.77,0.78,0.79,0.8,0.81,0.8200000000000001,0.8300000000000001,0.84,0.85,0.86,0.87,0.88,0.89,0.9,0.91,0.92,0.93,0.9400000000000001,0.9500000000000001,0.96,0.97,0.98,0.99,1.0],\"y\":[1.0,0.9625,0.9388888888888889,0.9346938775510203,0.9071077029945794,0.9071077029945794,0.9068400549517557,0.8977116310861923,0.8956195086492423,0.8904017724178569,0.8902163184588181,0.8854985946621469,0.8594043526468523,0.8594043526468523,0.8559351674894913,0.8515189708657941,0.8506032199500432,0.8476941874845979,0.8432728811113476,0.840938414378393,0.840938414378393,0.8409191000374948,0.8409191000374948,0.8409191000374948,0.8396837157400338,0.83716177924574,0.83716177924574,0.83716177924574,0.8367787971457696,0.834191598411782,0.8337253979455814,0.7653597192817376,0.7637933662667609,0.7553404480456464,0.7534358097355001,0.7501203771459243,0.7494150027818758,0.7480670748673065,0.7468695219469212,0.6620692216280452,0.6606637643402349,0.5728369669546141,0.48235294117647054,0.48235294117647054,0.38823529411764707,0.1954248366013072,0.0,0.0,0.0,0.0,0.0,0.0,0.0,0.0,0.0,0.0,0.0,0.0,0.0,0.0,0.0,0.0,0.0,0.0,0.0,0.0,0.0,0.0,0.0,0.0,0.0,0.0,0.0,0.0,0.0,0.0,0.0,0.0,0.0,0.0,0.0,0.0,0.0,0.0,0.0,0.0,0.0,0.0,0.0,0.0,0.0,0.0,0.0,0.0,0.0,0.0,0.0,0.0,0.0,0.0,0.0],\"type\":\"scatter\"}],                        {\"template\":{\"data\":{\"barpolar\":[{\"marker\":{\"line\":{\"color\":\"rgb(237,237,237)\",\"width\":0.5},\"pattern\":{\"fillmode\":\"overlay\",\"size\":10,\"solidity\":0.2}},\"type\":\"barpolar\"}],\"bar\":[{\"error_x\":{\"color\":\"rgb(51,51,51)\"},\"error_y\":{\"color\":\"rgb(51,51,51)\"},\"marker\":{\"line\":{\"color\":\"rgb(237,237,237)\",\"width\":0.5},\"pattern\":{\"fillmode\":\"overlay\",\"size\":10,\"solidity\":0.2}},\"type\":\"bar\"}],\"carpet\":[{\"aaxis\":{\"endlinecolor\":\"rgb(51,51,51)\",\"gridcolor\":\"white\",\"linecolor\":\"white\",\"minorgridcolor\":\"white\",\"startlinecolor\":\"rgb(51,51,51)\"},\"baxis\":{\"endlinecolor\":\"rgb(51,51,51)\",\"gridcolor\":\"white\",\"linecolor\":\"white\",\"minorgridcolor\":\"white\",\"startlinecolor\":\"rgb(51,51,51)\"},\"type\":\"carpet\"}],\"choropleth\":[{\"colorbar\":{\"outlinewidth\":0,\"tickcolor\":\"rgb(237,237,237)\",\"ticklen\":6,\"ticks\":\"inside\"},\"type\":\"choropleth\"}],\"contourcarpet\":[{\"colorbar\":{\"outlinewidth\":0,\"tickcolor\":\"rgb(237,237,237)\",\"ticklen\":6,\"ticks\":\"inside\"},\"type\":\"contourcarpet\"}],\"contour\":[{\"colorbar\":{\"outlinewidth\":0,\"tickcolor\":\"rgb(237,237,237)\",\"ticklen\":6,\"ticks\":\"inside\"},\"colorscale\":[[0,\"rgb(20,44,66)\"],[1,\"rgb(90,179,244)\"]],\"type\":\"contour\"}],\"heatmapgl\":[{\"colorbar\":{\"outlinewidth\":0,\"tickcolor\":\"rgb(237,237,237)\",\"ticklen\":6,\"ticks\":\"inside\"},\"colorscale\":[[0,\"rgb(20,44,66)\"],[1,\"rgb(90,179,244)\"]],\"type\":\"heatmapgl\"}],\"heatmap\":[{\"colorbar\":{\"outlinewidth\":0,\"tickcolor\":\"rgb(237,237,237)\",\"ticklen\":6,\"ticks\":\"inside\"},\"colorscale\":[[0,\"rgb(20,44,66)\"],[1,\"rgb(90,179,244)\"]],\"type\":\"heatmap\"}],\"histogram2dcontour\":[{\"colorbar\":{\"outlinewidth\":0,\"tickcolor\":\"rgb(237,237,237)\",\"ticklen\":6,\"ticks\":\"inside\"},\"colorscale\":[[0,\"rgb(20,44,66)\"],[1,\"rgb(90,179,244)\"]],\"type\":\"histogram2dcontour\"}],\"histogram2d\":[{\"colorbar\":{\"outlinewidth\":0,\"tickcolor\":\"rgb(237,237,237)\",\"ticklen\":6,\"ticks\":\"inside\"},\"colorscale\":[[0,\"rgb(20,44,66)\"],[1,\"rgb(90,179,244)\"]],\"type\":\"histogram2d\"}],\"histogram\":[{\"marker\":{\"pattern\":{\"fillmode\":\"overlay\",\"size\":10,\"solidity\":0.2}},\"type\":\"histogram\"}],\"mesh3d\":[{\"colorbar\":{\"outlinewidth\":0,\"tickcolor\":\"rgb(237,237,237)\",\"ticklen\":6,\"ticks\":\"inside\"},\"type\":\"mesh3d\"}],\"parcoords\":[{\"line\":{\"colorbar\":{\"outlinewidth\":0,\"tickcolor\":\"rgb(237,237,237)\",\"ticklen\":6,\"ticks\":\"inside\"}},\"type\":\"parcoords\"}],\"pie\":[{\"automargin\":true,\"type\":\"pie\"}],\"scatter3d\":[{\"line\":{\"colorbar\":{\"outlinewidth\":0,\"tickcolor\":\"rgb(237,237,237)\",\"ticklen\":6,\"ticks\":\"inside\"}},\"marker\":{\"colorbar\":{\"outlinewidth\":0,\"tickcolor\":\"rgb(237,237,237)\",\"ticklen\":6,\"ticks\":\"inside\"}},\"type\":\"scatter3d\"}],\"scattercarpet\":[{\"marker\":{\"colorbar\":{\"outlinewidth\":0,\"tickcolor\":\"rgb(237,237,237)\",\"ticklen\":6,\"ticks\":\"inside\"}},\"type\":\"scattercarpet\"}],\"scattergeo\":[{\"marker\":{\"colorbar\":{\"outlinewidth\":0,\"tickcolor\":\"rgb(237,237,237)\",\"ticklen\":6,\"ticks\":\"inside\"}},\"type\":\"scattergeo\"}],\"scattergl\":[{\"marker\":{\"colorbar\":{\"outlinewidth\":0,\"tickcolor\":\"rgb(237,237,237)\",\"ticklen\":6,\"ticks\":\"inside\"}},\"type\":\"scattergl\"}],\"scattermapbox\":[{\"marker\":{\"colorbar\":{\"outlinewidth\":0,\"tickcolor\":\"rgb(237,237,237)\",\"ticklen\":6,\"ticks\":\"inside\"}},\"type\":\"scattermapbox\"}],\"scatterpolargl\":[{\"marker\":{\"colorbar\":{\"outlinewidth\":0,\"tickcolor\":\"rgb(237,237,237)\",\"ticklen\":6,\"ticks\":\"inside\"}},\"type\":\"scatterpolargl\"}],\"scatterpolar\":[{\"marker\":{\"colorbar\":{\"outlinewidth\":0,\"tickcolor\":\"rgb(237,237,237)\",\"ticklen\":6,\"ticks\":\"inside\"}},\"type\":\"scatterpolar\"}],\"scatter\":[{\"marker\":{\"colorbar\":{\"outlinewidth\":0,\"tickcolor\":\"rgb(237,237,237)\",\"ticklen\":6,\"ticks\":\"inside\"}},\"type\":\"scatter\"}],\"scatterternary\":[{\"marker\":{\"colorbar\":{\"outlinewidth\":0,\"tickcolor\":\"rgb(237,237,237)\",\"ticklen\":6,\"ticks\":\"inside\"}},\"type\":\"scatterternary\"}],\"surface\":[{\"colorbar\":{\"outlinewidth\":0,\"tickcolor\":\"rgb(237,237,237)\",\"ticklen\":6,\"ticks\":\"inside\"},\"colorscale\":[[0,\"rgb(20,44,66)\"],[1,\"rgb(90,179,244)\"]],\"type\":\"surface\"}],\"table\":[{\"cells\":{\"fill\":{\"color\":\"rgb(237,237,237)\"},\"line\":{\"color\":\"white\"}},\"header\":{\"fill\":{\"color\":\"rgb(217,217,217)\"},\"line\":{\"color\":\"white\"}},\"type\":\"table\"}]},\"layout\":{\"annotationdefaults\":{\"arrowhead\":0,\"arrowwidth\":1},\"autotypenumbers\":\"strict\",\"coloraxis\":{\"colorbar\":{\"outlinewidth\":0,\"tickcolor\":\"rgb(237,237,237)\",\"ticklen\":6,\"ticks\":\"inside\"}},\"colorscale\":{\"sequential\":[[0,\"rgb(20,44,66)\"],[1,\"rgb(90,179,244)\"]],\"sequentialminus\":[[0,\"rgb(20,44,66)\"],[1,\"rgb(90,179,244)\"]]},\"colorway\":[\"#F8766D\",\"#A3A500\",\"#00BF7D\",\"#00B0F6\",\"#E76BF3\"],\"font\":{\"color\":\"rgb(51,51,51)\"},\"geo\":{\"bgcolor\":\"white\",\"lakecolor\":\"white\",\"landcolor\":\"rgb(237,237,237)\",\"showlakes\":true,\"showland\":true,\"subunitcolor\":\"white\"},\"hoverlabel\":{\"align\":\"left\"},\"hovermode\":\"closest\",\"paper_bgcolor\":\"white\",\"plot_bgcolor\":\"rgb(237,237,237)\",\"polar\":{\"angularaxis\":{\"gridcolor\":\"white\",\"linecolor\":\"white\",\"showgrid\":true,\"tickcolor\":\"rgb(51,51,51)\",\"ticks\":\"outside\"},\"bgcolor\":\"rgb(237,237,237)\",\"radialaxis\":{\"gridcolor\":\"white\",\"linecolor\":\"white\",\"showgrid\":true,\"tickcolor\":\"rgb(51,51,51)\",\"ticks\":\"outside\"}},\"scene\":{\"xaxis\":{\"backgroundcolor\":\"rgb(237,237,237)\",\"gridcolor\":\"white\",\"gridwidth\":2,\"linecolor\":\"white\",\"showbackground\":true,\"showgrid\":true,\"tickcolor\":\"rgb(51,51,51)\",\"ticks\":\"outside\",\"zerolinecolor\":\"white\"},\"yaxis\":{\"backgroundcolor\":\"rgb(237,237,237)\",\"gridcolor\":\"white\",\"gridwidth\":2,\"linecolor\":\"white\",\"showbackground\":true,\"showgrid\":true,\"tickcolor\":\"rgb(51,51,51)\",\"ticks\":\"outside\",\"zerolinecolor\":\"white\"},\"zaxis\":{\"backgroundcolor\":\"rgb(237,237,237)\",\"gridcolor\":\"white\",\"gridwidth\":2,\"linecolor\":\"white\",\"showbackground\":true,\"showgrid\":true,\"tickcolor\":\"rgb(51,51,51)\",\"ticks\":\"outside\",\"zerolinecolor\":\"white\"}},\"shapedefaults\":{\"fillcolor\":\"black\",\"line\":{\"width\":0},\"opacity\":0.3},\"ternary\":{\"aaxis\":{\"gridcolor\":\"white\",\"linecolor\":\"white\",\"showgrid\":true,\"tickcolor\":\"rgb(51,51,51)\",\"ticks\":\"outside\"},\"baxis\":{\"gridcolor\":\"white\",\"linecolor\":\"white\",\"showgrid\":true,\"tickcolor\":\"rgb(51,51,51)\",\"ticks\":\"outside\"},\"bgcolor\":\"rgb(237,237,237)\",\"caxis\":{\"gridcolor\":\"white\",\"linecolor\":\"white\",\"showgrid\":true,\"tickcolor\":\"rgb(51,51,51)\",\"ticks\":\"outside\"}},\"xaxis\":{\"automargin\":true,\"gridcolor\":\"white\",\"linecolor\":\"white\",\"showgrid\":true,\"tickcolor\":\"rgb(51,51,51)\",\"ticks\":\"outside\",\"title\":{\"standoff\":15},\"zerolinecolor\":\"white\"},\"yaxis\":{\"automargin\":true,\"gridcolor\":\"white\",\"linecolor\":\"white\",\"showgrid\":true,\"tickcolor\":\"rgb(51,51,51)\",\"ticks\":\"outside\",\"title\":{\"standoff\":15},\"zerolinecolor\":\"white\"}}},\"shapes\":[{\"line\":{\"dash\":\"dash\"},\"type\":\"line\",\"x0\":0,\"x1\":1,\"y0\":1,\"y1\":0}],\"xaxis\":{\"range\":[0,1],\"constrain\":\"domain\",\"title\":{\"text\":\"Recall\"}},\"yaxis\":{\"range\":[0,1],\"constrain\":\"domain\",\"scaleanchor\":\"x\",\"scaleratio\":1,\"title\":{\"text\":\"Precision\"}},\"title\":{},\"margin\":{\"r\":0,\"t\":30,\"l\":0,\"b\":0}},                        {\"responsive\": true}                    ).then(function(){\n",
              "                            \n",
              "var gd = document.getElementById('3165f6d2-5ce9-4c6f-ab4d-10d9e494acf2');\n",
              "var x = new MutationObserver(function (mutations, observer) {{\n",
              "        var display = window.getComputedStyle(gd).display;\n",
              "        if (!display || display === 'none') {{\n",
              "            console.log([gd, 'removed!']);\n",
              "            Plotly.purge(gd);\n",
              "            observer.disconnect();\n",
              "        }}\n",
              "}});\n",
              "\n",
              "// Listen for the removal of the full notebook cells\n",
              "var notebookContainer = gd.closest('#notebook-container');\n",
              "if (notebookContainer) {{\n",
              "    x.observe(notebookContainer, {childList: true});\n",
              "}}\n",
              "\n",
              "// Listen for the clearing of the current output cell\n",
              "var outputEl = gd.closest('.output');\n",
              "if (outputEl) {{\n",
              "    x.observe(outputEl, {childList: true});\n",
              "}}\n",
              "\n",
              "                        })                };                            </script>        </div>\n",
              "</body>\n",
              "</html>"
            ]
          },
          "metadata": {},
          "output_type": "display_data"
        }
      ],
      "source": [
        "plot = results_fcos.plot_pr_curves()\n",
        "plot.show()"
      ]
    },
    {
      "cell_type": "markdown",
      "metadata": {
        "id": "F2LuGJIQEWd-"
      },
      "source": [
        "# SSD results\n",
        "\n",
        "*   Precision Recall f1-score support\n",
        "*   mAP\n",
        "*   pr curve"
      ]
    },
    {
      "cell_type": "code",
      "execution_count": 30,
      "metadata": {
        "colab": {
          "base_uri": "https://localhost:8080/"
        },
        "id": "a0ZJPjYkEX4V",
        "outputId": "2fe03200-74b5-42a6-9b12-022140244d23"
      },
      "outputs": [
        {
          "name": "stdout",
          "output_type": "stream",
          "text": [
            "mAP: 0.3177265227342415\n",
            "              precision    recall  f1-score   support\n",
            "\n",
            "   aeroplane       0.98      0.62      0.76       484\n",
            "     bicycle       0.99      0.50      0.66       380\n",
            "        bird       0.95      0.42      0.58       629\n",
            "        boat       0.96      0.21      0.34       491\n",
            "      bottle       0.99      0.12      0.22       733\n",
            "         bus       0.96      0.67      0.79       320\n",
            "         car       0.99      0.30      0.46      1173\n",
            "         cat       0.95      0.69      0.80       618\n",
            "       chair       0.94      0.22      0.36      1449\n",
            "         cow       0.94      0.48      0.63       347\n",
            " diningtable       0.93      0.23      0.37       374\n",
            "         dog       0.93      0.62      0.74       773\n",
            "       horse       0.96      0.65      0.78       373\n",
            "   motorbike       0.95      0.60      0.74       376\n",
            "      person       0.97      0.48      0.64      5110\n",
            " pottedplant       0.83      0.13      0.22       542\n",
            "       sheep       0.95      0.41      0.57       485\n",
            "        sofa       0.88      0.34      0.49       387\n",
            "       train       0.96      0.67      0.79       329\n",
            "   tvmonitor       0.98      0.45      0.62       414\n",
            "\n",
            "   micro avg       0.96      0.42      0.59     15787\n",
            "   macro avg       0.95      0.44      0.58     15787\n",
            "weighted avg       0.96      0.42      0.57     15787\n",
            "\n"
          ]
        }
      ],
      "source": [
        "print(f'mAP: {results_ssd.mAP()}')\n",
        "results_ssd.print_report()"
      ]
    },
    {
      "cell_type": "code",
      "execution_count": 31,
      "metadata": {
        "colab": {
          "base_uri": "https://localhost:8080/",
          "height": 0
        },
        "id": "4L9jK86UEZGs",
        "outputId": "dab1a0f0-f3ff-4c22-87ea-9397d65536bb"
      },
      "outputs": [
        {
          "data": {
            "text/html": [
              "<html>\n",
              "<head><meta charset=\"utf-8\" /></head>\n",
              "<body>\n",
              "    <div>            <script src=\"https://cdnjs.cloudflare.com/ajax/libs/mathjax/2.7.5/MathJax.js?config=TeX-AMS-MML_SVG\"></script><script type=\"text/javascript\">if (window.MathJax) {MathJax.Hub.Config({SVG: {font: \"STIX-Web\"}});}</script>                <script type=\"text/javascript\">window.PlotlyConfig = {MathJaxConfig: 'local'};</script>\n",
              "        <script src=\"https://cdn.plot.ly/plotly-2.8.3.min.js\"></script>                <div id=\"92a7d48a-ac28-4478-b62b-4a507682e1ed\" class=\"plotly-graph-div\" style=\"height:525px; width:100%;\"></div>            <script type=\"text/javascript\">                                    window.PLOTLYENV=window.PLOTLYENV || {};                                    if (document.getElementById(\"92a7d48a-ac28-4478-b62b-4a507682e1ed\")) {                    Plotly.newPlot(                        \"92a7d48a-ac28-4478-b62b-4a507682e1ed\",                        [{\"customdata\":[0.9998194575309753,0.9997477650642395,0.9997201859951019,0.9996611535549164,0.9996353030204773,0.9995866179466247,0.999540376663208,0.9995075285434722,0.9994838833808899,0.999451357126236,0.99940105676651,0.9993442118167877,0.9992996156215668,0.9992302477359771,0.9991423547267914,0.9991027235984802,0.9988575935363769,0.9985887765884399,0.9981494188308716,0.9977422297000885,0.9958595097064972,0.9934006333351135,0.9890677988529205,0.97476846575737,0.8987691879272461,0.8987181007862091,0.8985575020313263,0.8984760701656341,0.8983374834060669,0.8981793522834778,0.8979922711849213,0.8977807998657227,0.8974981248378754,0.8972746074199677,0.8969622731208802,0.896379417181015,0.8959776699543,0.8955589950084686,0.8949494600296021,0.8943525850772858,0.8936043500900268,0.8923530399799346,0.8913380682468415,0.8903314113616944,0.8893416225910187,0.8880884230136872,0.8848942041397094,0.8831884384155273,0.8800883650779724,0.8758998811244965,0.8721903383731842,0.8665930569171906,0.852936577796936,0.7738169729709625,0.7705199718475342,0.7656747162342071,0.7594384729862214,0.7523898243904114,0.748714166879654,0.7419169068336486,0.7335483372211457,0.7080046951770782,0.616759842634201,0.6049834907054901,0.5089226841926575,0.4012138664722443,0.1525118827819824,0.0,0.0,0.0,0.0,0.0,0.0,0.0,0.0,0.0,0.0,0.0,0.0,0.0,0.0,0.0,0.0,0.0,0.0,0.0,0.0,0.0,0.0,0.0,0.0,0.0,0.0,0.0,0.0,0.0,0.0,0.0,0.0,0.0,0.0],\"hovertemplate\":\"<b>class: %{text}</b><br>recall: %{x:.3f}<br>precision: %{y:.3f}<br>threshold: %{customdata:.3f}<extra></extra>\",\"line\":{\"color\":\"#3366CC\"},\"mode\":\"lines\",\"name\":\"bus (AP = 0.570)\",\"text\":[\"bus\",\"bus\",\"bus\",\"bus\",\"bus\",\"bus\",\"bus\",\"bus\",\"bus\",\"bus\",\"bus\",\"bus\",\"bus\",\"bus\",\"bus\",\"bus\",\"bus\",\"bus\",\"bus\",\"bus\",\"bus\",\"bus\",\"bus\",\"bus\",\"bus\",\"bus\",\"bus\",\"bus\",\"bus\",\"bus\",\"bus\",\"bus\",\"bus\",\"bus\",\"bus\",\"bus\",\"bus\",\"bus\",\"bus\",\"bus\",\"bus\",\"bus\",\"bus\",\"bus\",\"bus\",\"bus\",\"bus\",\"bus\",\"bus\",\"bus\",\"bus\",\"bus\",\"bus\",\"bus\",\"bus\",\"bus\",\"bus\",\"bus\",\"bus\",\"bus\",\"bus\",\"bus\",\"bus\",\"bus\",\"bus\",\"bus\",\"bus\",\"bus\",\"bus\",\"bus\",\"bus\",\"bus\",\"bus\",\"bus\",\"bus\",\"bus\",\"bus\",\"bus\",\"bus\",\"bus\",\"bus\",\"bus\",\"bus\",\"bus\",\"bus\",\"bus\",\"bus\",\"bus\",\"bus\",\"bus\",\"bus\",\"bus\",\"bus\",\"bus\",\"bus\",\"bus\",\"bus\",\"bus\",\"bus\",\"bus\",\"bus\"],\"x\":[0.0,0.01,0.02,0.03,0.04,0.05,0.06,0.07,0.08,0.09,0.1,0.11,0.12,0.13,0.14,0.15,0.16,0.17,0.18,0.19,0.2,0.21,0.22,0.23,0.24,0.25,0.26,0.27,0.28,0.29,0.3,0.31,0.32,0.33,0.34,0.35000000000000003,0.36,0.37,0.38,0.39,0.4,0.41000000000000003,0.42,0.43,0.44,0.45,0.46,0.47000000000000003,0.48,0.49,0.5,0.51,0.52,0.53,0.54,0.55,0.56,0.5700000000000001,0.58,0.59,0.6,0.61,0.62,0.63,0.64,0.65,0.66,0.67,0.68,0.6900000000000001,0.7000000000000001,0.71,0.72,0.73,0.74,0.75,0.76,0.77,0.78,0.79,0.8,0.81,0.8200000000000001,0.8300000000000001,0.84,0.85,0.86,0.87,0.88,0.89,0.9,0.91,0.92,0.93,0.9400000000000001,0.9500000000000001,0.96,0.97,0.98,0.99,1.0],\"y\":[1.0,0.9833333333333334,0.9666666666666666,0.9625,0.9541666666666666,0.95,0.9467741935483872,0.9467741935483872,0.9467741935483872,0.9459545214172396,0.9438260869565218,0.9412380952380953,0.9408979591836735,0.9408979591836735,0.9408598130841123,0.9408598130841123,0.9381713981074238,0.9375062096373572,0.9350819672131149,0.9307883658629927,0.926027516162503,0.921903794734677,0.920344079939668,0.918873491704374,0.8855401583710407,0.8845352564102564,0.8845352564102564,0.8838408119658119,0.882451923076923,0.8821078863796753,0.8801113360323886,0.8800460902733629,0.8791627256704861,0.8759658241834603,0.8757244623948424,0.8747493684098799,0.8742940046483636,0.8742940046483636,0.8730772367681325,0.8727581346554564,0.8727581346554564,0.8726192797996204,0.8720774899989081,0.871508321563639,0.8699925961625448,0.8689693636572466,0.8675859644477605,0.8671511818390648,0.8661946044278496,0.8650197193495213,0.8633665255407583,0.8618086414019641,0.85812818912336,0.7812698412698411,0.7809523809523808,0.7807840307840307,0.7807840307840307,0.7804954304954304,0.7789058998815096,0.7755049793912085,0.7746286147252552,0.7665217510414596,0.67310541283333,0.6703371843225986,0.5768764622198785,0.4789821350806688,0.1914798206278027,0.0,0.0,0.0,0.0,0.0,0.0,0.0,0.0,0.0,0.0,0.0,0.0,0.0,0.0,0.0,0.0,0.0,0.0,0.0,0.0,0.0,0.0,0.0,0.0,0.0,0.0,0.0,0.0,0.0,0.0,0.0,0.0,0.0,0.0],\"type\":\"scatter\"},{\"customdata\":[0.9998255372047424,0.9997358977794647,0.999643188714981,0.9995765566825867,0.9994556486606598,0.9993735492229462,0.9991912364959716,0.9979797661304474,0.9959486663341522,0.8992817103862762,0.8991953074932099,0.8990971505641937,0.8990103721618652,0.8989409387111664,0.8988289952278137,0.8987677156925201,0.8986592531204224,0.8985154926776886,0.8983500599861145,0.8980854213237762,0.8978032767772675,0.8977060437202453,0.8975106179714203,0.8972429692745209,0.8970730185508728,0.8965875506401062,0.8962450742721557,0.8956675827503204,0.8942916452884674,0.8931946635246277,0.8926985502243042,0.8918639421463013,0.8891548037528991,0.8851672172546386,0.8815885245800018,0.8752253293991089,0.8702661335468292,0.7916673958301544,0.7902447640895843,0.7895863234996796,0.7886663913726807,0.7872142195701599,0.7850780189037323,0.7820007801055908,0.7797614097595215,0.7749111592769623,0.7692358255386352,0.7662729561328888,0.7600307941436768,0.7536747574806213,0.7486380696296692,0.6687836885452271,0.6644708216190338,0.6563035905361175,0.6521104574203491,0.6436129987239838,0.6367136120796204,0.6278302192687988,0.6180450260639191,0.5326724767684936,0.5226718723773957,0.513268107175827,0.5001083016395569,0.4862251579761505,0.405230712890625,0.39569109082221987,0.30514423847198485,0.0,0.0,0.0,0.0,0.0,0.0,0.0,0.0,0.0,0.0,0.0,0.0,0.0,0.0,0.0,0.0,0.0,0.0,0.0,0.0,0.0,0.0,0.0,0.0,0.0,0.0,0.0,0.0,0.0,0.0,0.0,0.0,0.0,0.0],\"hovertemplate\":\"<b>class: %{text}</b><br>recall: %{x:.3f}<br>precision: %{y:.3f}<br>threshold: %{customdata:.3f}<extra></extra>\",\"line\":{\"color\":\"#DC3912\"},\"mode\":\"lines\",\"name\":\"train (AP = 0.516)\",\"text\":[\"train\",\"train\",\"train\",\"train\",\"train\",\"train\",\"train\",\"train\",\"train\",\"train\",\"train\",\"train\",\"train\",\"train\",\"train\",\"train\",\"train\",\"train\",\"train\",\"train\",\"train\",\"train\",\"train\",\"train\",\"train\",\"train\",\"train\",\"train\",\"train\",\"train\",\"train\",\"train\",\"train\",\"train\",\"train\",\"train\",\"train\",\"train\",\"train\",\"train\",\"train\",\"train\",\"train\",\"train\",\"train\",\"train\",\"train\",\"train\",\"train\",\"train\",\"train\",\"train\",\"train\",\"train\",\"train\",\"train\",\"train\",\"train\",\"train\",\"train\",\"train\",\"train\",\"train\",\"train\",\"train\",\"train\",\"train\",\"train\",\"train\",\"train\",\"train\",\"train\",\"train\",\"train\",\"train\",\"train\",\"train\",\"train\",\"train\",\"train\",\"train\",\"train\",\"train\",\"train\",\"train\",\"train\",\"train\",\"train\",\"train\",\"train\",\"train\",\"train\",\"train\",\"train\",\"train\",\"train\",\"train\",\"train\",\"train\",\"train\",\"train\"],\"x\":[0.0,0.01,0.02,0.03,0.04,0.05,0.06,0.07,0.08,0.09,0.1,0.11,0.12,0.13,0.14,0.15,0.16,0.17,0.18,0.19,0.2,0.21,0.22,0.23,0.24,0.25,0.26,0.27,0.28,0.29,0.3,0.31,0.32,0.33,0.34,0.35000000000000003,0.36,0.37,0.38,0.39,0.4,0.41000000000000003,0.42,0.43,0.44,0.45,0.46,0.47000000000000003,0.48,0.49,0.5,0.51,0.52,0.53,0.54,0.55,0.56,0.5700000000000001,0.58,0.59,0.6,0.61,0.62,0.63,0.64,0.65,0.66,0.67,0.68,0.6900000000000001,0.7000000000000001,0.71,0.72,0.73,0.74,0.75,0.76,0.77,0.78,0.79,0.8,0.81,0.8200000000000001,0.8300000000000001,0.84,0.85,0.86,0.87,0.88,0.89,0.9,0.91,0.92,0.93,0.9400000000000001,0.9500000000000001,0.96,0.97,0.98,0.99,1.0],\"y\":[0.95,0.9253521126760564,0.9086854460093898,0.9003521126760564,0.8896516295842691,0.8896516295842691,0.8865217391304349,0.8813063196293012,0.8809661835748793,0.8642995169082127,0.8642995169082127,0.8642995169082127,0.8642995169082127,0.8619208001632988,0.8616556888165331,0.8616556888165331,0.860941257299897,0.8590206427032261,0.8562933699759533,0.8562933699759533,0.8544380186069901,0.8533270187070803,0.8527236111393641,0.8515003695491501,0.8515003695491501,0.8482804792107117,0.8465244279529994,0.8458577612863328,0.8430570409982175,0.8430089235917457,0.8418574084402307,0.837632566863336,0.8346884059787285,0.8290211360560198,0.8257386094534432,0.8231189009370423,0.8207393913042825,0.7656536626125867,0.7651500313949451,0.7651383827190112,0.7647631495063235,0.7647631495063235,0.7638511793060738,0.7630820666063978,0.7630820666063978,0.760741805291,0.7590211315711135,0.7587736068186383,0.756780629785047,0.7558437528455935,0.754532299454475,0.6821638784018434,0.6788194528417992,0.6780793788343985,0.6770629833129833,0.6741289381914382,0.673325441541522,0.6705480643302425,0.6642763517464736,0.578256286735952,0.5773661496453198,0.574161450917051,0.5730580409325654,0.5711522713979333,0.4807174887892377,0.4795769155780854,0.38130434782608696,0.0,0.0,0.0,0.0,0.0,0.0,0.0,0.0,0.0,0.0,0.0,0.0,0.0,0.0,0.0,0.0,0.0,0.0,0.0,0.0,0.0,0.0,0.0,0.0,0.0,0.0,0.0,0.0,0.0,0.0,0.0,0.0,0.0,0.0],\"type\":\"scatter\"},{\"customdata\":[0.9998774528503418,0.9995664060115814,0.9993068039417267,0.9990298926830292,0.9987226486206054,0.9983943700790405,0.9981662094593048,0.9974408209323883,0.9970639526844025,0.988576740026474,0.8982813000679016,0.8981309354305267,0.897860997915268,0.8976240158081055,0.8973901152610779,0.8970874428749085,0.8968791782855987,0.8962927758693695,0.8959251582622528,0.8956389725208282,0.8948603212833405,0.8942384362220764,0.8936354339122772,0.8931673645973206,0.8924580395221711,0.8915464043617248,0.8909218311309814,0.8894115924835205,0.8883419156074523,0.8867067635059357,0.8853393256664276,0.8804279565811157,0.8706991016864777,0.7883004724979401,0.7877012550830841,0.786756944656372,0.7849304854869843,0.7833791375160217,0.7821572244167327,0.7805637061595917,0.7782251715660096,0.7763929545879364,0.7735710442066193,0.7674522459506988,0.762597632408142,0.756938761472702,0.751089894771576,0.7421128571033477,0.6575314402580261,0.654603761434555,0.6483464121818543,0.6420986413955688,0.6367833554744721,0.6257011115550994,0.6146906673908233,0.5295016288757324,0.5230075359344483,0.5133768379688263,0.5033082962036133,0.41674563884735105,0.4124782145023346,0.4027993559837341,0.31999008655548095,0.3127566397190094,0.2306989848613739,0.07511300444602967,0.0,0.0,0.0,0.0,0.0,0.0,0.0,0.0,0.0,0.0,0.0,0.0,0.0,0.0,0.0,0.0,0.0,0.0,0.0,0.0,0.0,0.0,0.0,0.0,0.0,0.0,0.0,0.0,0.0,0.0,0.0,0.0,0.0,0.0,0.0],\"hovertemplate\":\"<b>class: %{text}</b><br>recall: %{x:.3f}<br>precision: %{y:.3f}<br>threshold: %{customdata:.3f}<extra></extra>\",\"line\":{\"color\":\"#FF9900\"},\"mode\":\"lines\",\"name\":\"horse (AP = 0.491)\",\"text\":[\"horse\",\"horse\",\"horse\",\"horse\",\"horse\",\"horse\",\"horse\",\"horse\",\"horse\",\"horse\",\"horse\",\"horse\",\"horse\",\"horse\",\"horse\",\"horse\",\"horse\",\"horse\",\"horse\",\"horse\",\"horse\",\"horse\",\"horse\",\"horse\",\"horse\",\"horse\",\"horse\",\"horse\",\"horse\",\"horse\",\"horse\",\"horse\",\"horse\",\"horse\",\"horse\",\"horse\",\"horse\",\"horse\",\"horse\",\"horse\",\"horse\",\"horse\",\"horse\",\"horse\",\"horse\",\"horse\",\"horse\",\"horse\",\"horse\",\"horse\",\"horse\",\"horse\",\"horse\",\"horse\",\"horse\",\"horse\",\"horse\",\"horse\",\"horse\",\"horse\",\"horse\",\"horse\",\"horse\",\"horse\",\"horse\",\"horse\",\"horse\",\"horse\",\"horse\",\"horse\",\"horse\",\"horse\",\"horse\",\"horse\",\"horse\",\"horse\",\"horse\",\"horse\",\"horse\",\"horse\",\"horse\",\"horse\",\"horse\",\"horse\",\"horse\",\"horse\",\"horse\",\"horse\",\"horse\",\"horse\",\"horse\",\"horse\",\"horse\",\"horse\",\"horse\",\"horse\",\"horse\",\"horse\",\"horse\",\"horse\",\"horse\"],\"x\":[0.0,0.01,0.02,0.03,0.04,0.05,0.06,0.07,0.08,0.09,0.1,0.11,0.12,0.13,0.14,0.15,0.16,0.17,0.18,0.19,0.2,0.21,0.22,0.23,0.24,0.25,0.26,0.27,0.28,0.29,0.3,0.31,0.32,0.33,0.34,0.35000000000000003,0.36,0.37,0.38,0.39,0.4,0.41000000000000003,0.42,0.43,0.44,0.45,0.46,0.47000000000000003,0.48,0.49,0.5,0.51,0.52,0.53,0.54,0.55,0.56,0.5700000000000001,0.58,0.59,0.6,0.61,0.62,0.63,0.64,0.65,0.66,0.67,0.68,0.6900000000000001,0.7000000000000001,0.71,0.72,0.73,0.74,0.75,0.76,0.77,0.78,0.79,0.8,0.81,0.8200000000000001,0.8300000000000001,0.84,0.85,0.86,0.87,0.88,0.89,0.9,0.91,0.92,0.93,0.9400000000000001,0.9500000000000001,0.96,0.97,0.98,0.99,1.0],\"y\":[0.925,0.915,0.9139583333333334,0.9057765151515152,0.9057765151515152,0.9008814102564104,0.8987382075471698,0.8952506121273226,0.8951720310765816,0.8859250648305463,0.869811320754717,0.8671853724956234,0.8671853724956234,0.8671853724956234,0.8655633930186291,0.8641541321615683,0.8630115588878475,0.862095420762407,0.860614805109728,0.8596297132535561,0.8579543115867463,0.8579245651749071,0.8563309396323062,0.8543966040024257,0.8530710033396254,0.8518441912847614,0.8503369191347308,0.848069115286564,0.848069115286564,0.8476159524583314,0.844561157796452,0.8394174557327002,0.8249046450096186,0.7715504951304888,0.7707153661042898,0.7677083045413402,0.7668412070840451,0.7648383602298102,0.7632889292686146,0.7632889292686146,0.7620658448342102,0.7583567289214508,0.7576303497394057,0.7538897857013587,0.7532451817672812,0.7479835486932965,0.7453116564450555,0.7417798183389962,0.6659397175415481,0.664869399055099,0.661865019963187,0.6612592695044628,0.6598168264985522,0.6575564004314824,0.6539100321154013,0.5695200929863894,0.5681584928420749,0.5652231090032964,0.5637974698218449,0.4740354331465665,0.4740354331465665,0.47257652458850546,0.38180772884067393,0.3808371827229868,0.2872374874994047,0.09604743083003953,0.0,0.0,0.0,0.0,0.0,0.0,0.0,0.0,0.0,0.0,0.0,0.0,0.0,0.0,0.0,0.0,0.0,0.0,0.0,0.0,0.0,0.0,0.0,0.0,0.0,0.0,0.0,0.0,0.0,0.0,0.0,0.0,0.0,0.0,0.0],\"type\":\"scatter\"}],                        {\"template\":{\"data\":{\"barpolar\":[{\"marker\":{\"line\":{\"color\":\"rgb(237,237,237)\",\"width\":0.5},\"pattern\":{\"fillmode\":\"overlay\",\"size\":10,\"solidity\":0.2}},\"type\":\"barpolar\"}],\"bar\":[{\"error_x\":{\"color\":\"rgb(51,51,51)\"},\"error_y\":{\"color\":\"rgb(51,51,51)\"},\"marker\":{\"line\":{\"color\":\"rgb(237,237,237)\",\"width\":0.5},\"pattern\":{\"fillmode\":\"overlay\",\"size\":10,\"solidity\":0.2}},\"type\":\"bar\"}],\"carpet\":[{\"aaxis\":{\"endlinecolor\":\"rgb(51,51,51)\",\"gridcolor\":\"white\",\"linecolor\":\"white\",\"minorgridcolor\":\"white\",\"startlinecolor\":\"rgb(51,51,51)\"},\"baxis\":{\"endlinecolor\":\"rgb(51,51,51)\",\"gridcolor\":\"white\",\"linecolor\":\"white\",\"minorgridcolor\":\"white\",\"startlinecolor\":\"rgb(51,51,51)\"},\"type\":\"carpet\"}],\"choropleth\":[{\"colorbar\":{\"outlinewidth\":0,\"tickcolor\":\"rgb(237,237,237)\",\"ticklen\":6,\"ticks\":\"inside\"},\"type\":\"choropleth\"}],\"contourcarpet\":[{\"colorbar\":{\"outlinewidth\":0,\"tickcolor\":\"rgb(237,237,237)\",\"ticklen\":6,\"ticks\":\"inside\"},\"type\":\"contourcarpet\"}],\"contour\":[{\"colorbar\":{\"outlinewidth\":0,\"tickcolor\":\"rgb(237,237,237)\",\"ticklen\":6,\"ticks\":\"inside\"},\"colorscale\":[[0,\"rgb(20,44,66)\"],[1,\"rgb(90,179,244)\"]],\"type\":\"contour\"}],\"heatmapgl\":[{\"colorbar\":{\"outlinewidth\":0,\"tickcolor\":\"rgb(237,237,237)\",\"ticklen\":6,\"ticks\":\"inside\"},\"colorscale\":[[0,\"rgb(20,44,66)\"],[1,\"rgb(90,179,244)\"]],\"type\":\"heatmapgl\"}],\"heatmap\":[{\"colorbar\":{\"outlinewidth\":0,\"tickcolor\":\"rgb(237,237,237)\",\"ticklen\":6,\"ticks\":\"inside\"},\"colorscale\":[[0,\"rgb(20,44,66)\"],[1,\"rgb(90,179,244)\"]],\"type\":\"heatmap\"}],\"histogram2dcontour\":[{\"colorbar\":{\"outlinewidth\":0,\"tickcolor\":\"rgb(237,237,237)\",\"ticklen\":6,\"ticks\":\"inside\"},\"colorscale\":[[0,\"rgb(20,44,66)\"],[1,\"rgb(90,179,244)\"]],\"type\":\"histogram2dcontour\"}],\"histogram2d\":[{\"colorbar\":{\"outlinewidth\":0,\"tickcolor\":\"rgb(237,237,237)\",\"ticklen\":6,\"ticks\":\"inside\"},\"colorscale\":[[0,\"rgb(20,44,66)\"],[1,\"rgb(90,179,244)\"]],\"type\":\"histogram2d\"}],\"histogram\":[{\"marker\":{\"pattern\":{\"fillmode\":\"overlay\",\"size\":10,\"solidity\":0.2}},\"type\":\"histogram\"}],\"mesh3d\":[{\"colorbar\":{\"outlinewidth\":0,\"tickcolor\":\"rgb(237,237,237)\",\"ticklen\":6,\"ticks\":\"inside\"},\"type\":\"mesh3d\"}],\"parcoords\":[{\"line\":{\"colorbar\":{\"outlinewidth\":0,\"tickcolor\":\"rgb(237,237,237)\",\"ticklen\":6,\"ticks\":\"inside\"}},\"type\":\"parcoords\"}],\"pie\":[{\"automargin\":true,\"type\":\"pie\"}],\"scatter3d\":[{\"line\":{\"colorbar\":{\"outlinewidth\":0,\"tickcolor\":\"rgb(237,237,237)\",\"ticklen\":6,\"ticks\":\"inside\"}},\"marker\":{\"colorbar\":{\"outlinewidth\":0,\"tickcolor\":\"rgb(237,237,237)\",\"ticklen\":6,\"ticks\":\"inside\"}},\"type\":\"scatter3d\"}],\"scattercarpet\":[{\"marker\":{\"colorbar\":{\"outlinewidth\":0,\"tickcolor\":\"rgb(237,237,237)\",\"ticklen\":6,\"ticks\":\"inside\"}},\"type\":\"scattercarpet\"}],\"scattergeo\":[{\"marker\":{\"colorbar\":{\"outlinewidth\":0,\"tickcolor\":\"rgb(237,237,237)\",\"ticklen\":6,\"ticks\":\"inside\"}},\"type\":\"scattergeo\"}],\"scattergl\":[{\"marker\":{\"colorbar\":{\"outlinewidth\":0,\"tickcolor\":\"rgb(237,237,237)\",\"ticklen\":6,\"ticks\":\"inside\"}},\"type\":\"scattergl\"}],\"scattermapbox\":[{\"marker\":{\"colorbar\":{\"outlinewidth\":0,\"tickcolor\":\"rgb(237,237,237)\",\"ticklen\":6,\"ticks\":\"inside\"}},\"type\":\"scattermapbox\"}],\"scatterpolargl\":[{\"marker\":{\"colorbar\":{\"outlinewidth\":0,\"tickcolor\":\"rgb(237,237,237)\",\"ticklen\":6,\"ticks\":\"inside\"}},\"type\":\"scatterpolargl\"}],\"scatterpolar\":[{\"marker\":{\"colorbar\":{\"outlinewidth\":0,\"tickcolor\":\"rgb(237,237,237)\",\"ticklen\":6,\"ticks\":\"inside\"}},\"type\":\"scatterpolar\"}],\"scatter\":[{\"marker\":{\"colorbar\":{\"outlinewidth\":0,\"tickcolor\":\"rgb(237,237,237)\",\"ticklen\":6,\"ticks\":\"inside\"}},\"type\":\"scatter\"}],\"scatterternary\":[{\"marker\":{\"colorbar\":{\"outlinewidth\":0,\"tickcolor\":\"rgb(237,237,237)\",\"ticklen\":6,\"ticks\":\"inside\"}},\"type\":\"scatterternary\"}],\"surface\":[{\"colorbar\":{\"outlinewidth\":0,\"tickcolor\":\"rgb(237,237,237)\",\"ticklen\":6,\"ticks\":\"inside\"},\"colorscale\":[[0,\"rgb(20,44,66)\"],[1,\"rgb(90,179,244)\"]],\"type\":\"surface\"}],\"table\":[{\"cells\":{\"fill\":{\"color\":\"rgb(237,237,237)\"},\"line\":{\"color\":\"white\"}},\"header\":{\"fill\":{\"color\":\"rgb(217,217,217)\"},\"line\":{\"color\":\"white\"}},\"type\":\"table\"}]},\"layout\":{\"annotationdefaults\":{\"arrowhead\":0,\"arrowwidth\":1},\"autotypenumbers\":\"strict\",\"coloraxis\":{\"colorbar\":{\"outlinewidth\":0,\"tickcolor\":\"rgb(237,237,237)\",\"ticklen\":6,\"ticks\":\"inside\"}},\"colorscale\":{\"sequential\":[[0,\"rgb(20,44,66)\"],[1,\"rgb(90,179,244)\"]],\"sequentialminus\":[[0,\"rgb(20,44,66)\"],[1,\"rgb(90,179,244)\"]]},\"colorway\":[\"#F8766D\",\"#A3A500\",\"#00BF7D\",\"#00B0F6\",\"#E76BF3\"],\"font\":{\"color\":\"rgb(51,51,51)\"},\"geo\":{\"bgcolor\":\"white\",\"lakecolor\":\"white\",\"landcolor\":\"rgb(237,237,237)\",\"showlakes\":true,\"showland\":true,\"subunitcolor\":\"white\"},\"hoverlabel\":{\"align\":\"left\"},\"hovermode\":\"closest\",\"paper_bgcolor\":\"white\",\"plot_bgcolor\":\"rgb(237,237,237)\",\"polar\":{\"angularaxis\":{\"gridcolor\":\"white\",\"linecolor\":\"white\",\"showgrid\":true,\"tickcolor\":\"rgb(51,51,51)\",\"ticks\":\"outside\"},\"bgcolor\":\"rgb(237,237,237)\",\"radialaxis\":{\"gridcolor\":\"white\",\"linecolor\":\"white\",\"showgrid\":true,\"tickcolor\":\"rgb(51,51,51)\",\"ticks\":\"outside\"}},\"scene\":{\"xaxis\":{\"backgroundcolor\":\"rgb(237,237,237)\",\"gridcolor\":\"white\",\"gridwidth\":2,\"linecolor\":\"white\",\"showbackground\":true,\"showgrid\":true,\"tickcolor\":\"rgb(51,51,51)\",\"ticks\":\"outside\",\"zerolinecolor\":\"white\"},\"yaxis\":{\"backgroundcolor\":\"rgb(237,237,237)\",\"gridcolor\":\"white\",\"gridwidth\":2,\"linecolor\":\"white\",\"showbackground\":true,\"showgrid\":true,\"tickcolor\":\"rgb(51,51,51)\",\"ticks\":\"outside\",\"zerolinecolor\":\"white\"},\"zaxis\":{\"backgroundcolor\":\"rgb(237,237,237)\",\"gridcolor\":\"white\",\"gridwidth\":2,\"linecolor\":\"white\",\"showbackground\":true,\"showgrid\":true,\"tickcolor\":\"rgb(51,51,51)\",\"ticks\":\"outside\",\"zerolinecolor\":\"white\"}},\"shapedefaults\":{\"fillcolor\":\"black\",\"line\":{\"width\":0},\"opacity\":0.3},\"ternary\":{\"aaxis\":{\"gridcolor\":\"white\",\"linecolor\":\"white\",\"showgrid\":true,\"tickcolor\":\"rgb(51,51,51)\",\"ticks\":\"outside\"},\"baxis\":{\"gridcolor\":\"white\",\"linecolor\":\"white\",\"showgrid\":true,\"tickcolor\":\"rgb(51,51,51)\",\"ticks\":\"outside\"},\"bgcolor\":\"rgb(237,237,237)\",\"caxis\":{\"gridcolor\":\"white\",\"linecolor\":\"white\",\"showgrid\":true,\"tickcolor\":\"rgb(51,51,51)\",\"ticks\":\"outside\"}},\"xaxis\":{\"automargin\":true,\"gridcolor\":\"white\",\"linecolor\":\"white\",\"showgrid\":true,\"tickcolor\":\"rgb(51,51,51)\",\"ticks\":\"outside\",\"title\":{\"standoff\":15},\"zerolinecolor\":\"white\"},\"yaxis\":{\"automargin\":true,\"gridcolor\":\"white\",\"linecolor\":\"white\",\"showgrid\":true,\"tickcolor\":\"rgb(51,51,51)\",\"ticks\":\"outside\",\"title\":{\"standoff\":15},\"zerolinecolor\":\"white\"}}},\"shapes\":[{\"line\":{\"dash\":\"dash\"},\"type\":\"line\",\"x0\":0,\"x1\":1,\"y0\":1,\"y1\":0}],\"xaxis\":{\"range\":[0,1],\"constrain\":\"domain\",\"title\":{\"text\":\"Recall\"}},\"yaxis\":{\"range\":[0,1],\"constrain\":\"domain\",\"scaleanchor\":\"x\",\"scaleratio\":1,\"title\":{\"text\":\"Precision\"}},\"title\":{},\"margin\":{\"r\":0,\"t\":30,\"l\":0,\"b\":0}},                        {\"responsive\": true}                    ).then(function(){\n",
              "                            \n",
              "var gd = document.getElementById('92a7d48a-ac28-4478-b62b-4a507682e1ed');\n",
              "var x = new MutationObserver(function (mutations, observer) {{\n",
              "        var display = window.getComputedStyle(gd).display;\n",
              "        if (!display || display === 'none') {{\n",
              "            console.log([gd, 'removed!']);\n",
              "            Plotly.purge(gd);\n",
              "            observer.disconnect();\n",
              "        }}\n",
              "}});\n",
              "\n",
              "// Listen for the removal of the full notebook cells\n",
              "var notebookContainer = gd.closest('#notebook-container');\n",
              "if (notebookContainer) {{\n",
              "    x.observe(notebookContainer, {childList: true});\n",
              "}}\n",
              "\n",
              "// Listen for the clearing of the current output cell\n",
              "var outputEl = gd.closest('.output');\n",
              "if (outputEl) {{\n",
              "    x.observe(outputEl, {childList: true});\n",
              "}}\n",
              "\n",
              "                        })                };                            </script>        </div>\n",
              "</body>\n",
              "</html>"
            ]
          },
          "metadata": {},
          "output_type": "display_data"
        }
      ],
      "source": [
        "plot = results_ssd.plot_pr_curves()\n",
        "plot.show()"
      ]
    },
    {
      "cell_type": "markdown",
      "metadata": {
        "id": "s6Lt0XopZdil"
      },
      "source": [
        "# Plotting IOU Distribution"
      ]
    },
    {
      "cell_type": "code",
      "execution_count": 37,
      "metadata": {
        "id": "WsDAa1dmZfyE"
      },
      "outputs": [],
      "source": [
        "def iou_dist(data):\n",
        "  iou_f_rcnn = []\n",
        "  iou_fcos = []\n",
        "  iou_ssd = []\n",
        "\n",
        "  with fo.ProgressBar() as pb:\n",
        "      for sample in pb(data):\n",
        "        for detection in sample.faster_rcnn.detections:\n",
        "          if detection.eval_f_rcnn == 'tp':\n",
        "            iou_f_rcnn.append(detection.eval_f_rcnn_iou)\n",
        "        for detection in sample.fcos.detections:\n",
        "          if detection.eval_fcos == 'tp':\n",
        "            iou_fcos.append(detection.eval_fcos_iou)\n",
        "        for detection in sample.ssd.detections:\n",
        "          if detection.eval_ssd == 'tp':\n",
        "            iou_ssd.append(detection.eval_ssd_iou)\n",
        "\n",
        "  return iou_f_rcnn, iou_fcos, iou_ssd"
      ]
    },
    {
      "cell_type": "code",
      "execution_count": 38,
      "metadata": {
        "colab": {
          "base_uri": "https://localhost:8080/"
        },
        "id": "9EHSSlgVZhGd",
        "outputId": "e8bf339a-eb56-4b0e-a0a9-e562bb5fe53b"
      },
      "outputs": [
        {
          "name": "stdout",
          "output_type": "stream",
          "text": [
            " 100% |███████████████| 5823/5823 [23.9s elapsed, 0s remaining, 217.4 samples/s]      \n"
          ]
        },
        {
          "name": "stderr",
          "output_type": "stream",
          "text": [
            "INFO:eta.core.utils: 100% |███████████████| 5823/5823 [23.9s elapsed, 0s remaining, 217.4 samples/s]      \n"
          ]
        },
        {
          "name": "stdout",
          "output_type": "stream",
          "text": [
            "Average IOU\n",
            "Faster R-CNN:  0.8647354956050226\n",
            "FCOS:  0.8940410197037469\n",
            "SSD:  0.855607493159523\n"
          ]
        }
      ],
      "source": [
        "iou_f_rcnn, iou_fcos, iou_ssd = iou_dist(high_conf_view)\n",
        "print('Average IOU')\n",
        "print('Faster R-CNN: ', np.average(iou_f_rcnn))\n",
        "print('FCOS: ', np.average(iou_fcos))\n",
        "print('SSD: ', np.average(iou_ssd))"
      ]
    },
    {
      "cell_type": "code",
      "execution_count": 39,
      "metadata": {
        "colab": {
          "base_uri": "https://localhost:8080/",
          "height": 265
        },
        "id": "OPZR0QLCZk4c",
        "outputId": "370985dc-5a54-433d-fe08-a0b6838138e6"
      },
      "outputs": [
        {
          "data": {
            "image/png": "[encoded data removed]",
            "text/plain": [
              "<Figure size 432x288 with 1 Axes>"
            ]
          },
          "metadata": {
            "needs_background": "light"
          },
          "output_type": "display_data"
        }
      ],
      "source": [
        "fig,ax = plt.subplots()\n",
        "ax.hist(iou_f_rcnn, label=\"Faster R-CNN\", histtype=\"step\", density=True)\n",
        "ax.hist(iou_fcos, label=\"FCOS\", histtype=\"step\", density=True)\n",
        "ax.hist(iou_ssd, label=\"SSD\", histtype=\"step\", density=True)\n",
        "plt.legend(loc='upper left')\n",
        "plt.show()"
      ]
    },
    {
      "cell_type": "markdown",
      "metadata": {
        "id": "SlAB8Q78xB6E"
      },
      "source": [
        "# Plotting Confusion Matrices"
      ]
    },
    {
      "cell_type": "markdown",
      "metadata": {
        "id": "HqRVVsC_1NDu"
      },
      "source": [
        "## Faster R-CNN"
      ]
    },
    {
      "cell_type": "code",
      "execution_count": 45,
      "metadata": {
        "colab": {
          "base_uri": "https://localhost:8080/",
          "height": 641
        },
        "id": "ua2bto1OxEld",
        "outputId": "89df4ea7-da5b-4d48-9528-cd3355cfd536"
      },
      "outputs": [
        {
          "name": "stderr",
          "output_type": "stream",
          "text": [
            "/usr/local/lib/python3.8/dist-packages/fiftyone/core/plots/plotly.py:1782: UserWarning:\n",
            "\n",
            "Interactive plots are currently only supported in Jupyter notebooks. Support outside of notebooks and in Google Colab will be included in an upcoming release. In the meantime, you can still use this plot, but note that (i) selecting data will not trigger callbacks, and (ii) you must manually call `plot.show()` to launch a new plot that reflects the current state of an attached session.\n",
            "\n",
            "See https://voxel51.com/docs/fiftyone/user_guide/plots.html#working-in-notebooks for more information.\n",
            "\n"
          ]
        },
        {
          "data": {
            "text/html": [
              "<html>\n",
              "<head><meta charset=\"utf-8\" /></head>\n",
              "<body>\n",
              "    <div>            <script src=\"https://cdnjs.cloudflare.com/ajax/libs/mathjax/2.7.5/MathJax.js?config=TeX-AMS-MML_SVG\"></script><script type=\"text/javascript\">if (window.MathJax) {MathJax.Hub.Config({SVG: {font: \"STIX-Web\"}});}</script>                <script type=\"text/javascript\">window.PlotlyConfig = {MathJaxConfig: 'local'};</script>\n",
              "        <script src=\"https://cdn.plot.ly/plotly-2.8.3.min.js\"></script>                <div id=\"26ee875f-d88c-47d0-9056-1348f4ad3267\" class=\"plotly-graph-div\" style=\"height:500px; width:500px;\"></div>            <script type=\"text/javascript\">                                    window.PLOTLYENV=window.PLOTLYENV || {};                                    if (document.getElementById(\"26ee875f-d88c-47d0-9056-1348f4ad3267\")) {                    Plotly.newPlot(                        \"26ee875f-d88c-47d0-9056-1348f4ad3267\",                        [{\"mode\":\"markers\",\"opacity\":0.1,\"x\":[0,1,2,3,4,5,6,7,8,9,10,11,12,13,14,15,16,17,18,19,20,0,1,2,3,4,5,6,7,8,9,10,11,12,13,14,15,16,17,18,19,20,0,1,2,3,4,5,6,7,8,9,10,11,12,13,14,15,16,17,18,19,20,0,1,2,3,4,5,6,7,8,9,10,11,12,13,14,15,16,17,18,19,20,0,1,2,3,4,5,6,7,8,9,10,11,12,13,14,15,16,17,18,19,20,0,1,2,3,4,5,6,7,8,9,10,11,12,13,14,15,16,17,18,19,20,0,1,2,3,4,5,6,7,8,9,10,11,12,13,14,15,16,17,18,19,20,0,1,2,3,4,5,6,7,8,9,10,11,12,13,14,15,16,17,18,19,20,0,1,2,3,4,5,6,7,8,9,10,11,12,13,14,15,16,17,18,19,20,0,1,2,3,4,5,6,7,8,9,10,11,12,13,14,15,16,17,18,19,20,0,1,2,3,4,5,6,7,8,9,10,11,12,13,14,15,16,17,18,19,20,0,1,2,3,4,5,6,7,8,9,10,11,12,13,14,15,16,17,18,19,20,0,1,2,3,4,5,6,7,8,9,10,11,12,13,14,15,16,17,18,19,20,0,1,2,3,4,5,6,7,8,9,10,11,12,13,14,15,16,17,18,19,20,0,1,2,3,4,5,6,7,8,9,10,11,12,13,14,15,16,17,18,19,20,0,1,2,3,4,5,6,7,8,9,10,11,12,13,14,15,16,17,18,19,20,0,1,2,3,4,5,6,7,8,9,10,11,12,13,14,15,16,17,18,19,20,0,1,2,3,4,5,6,7,8,9,10,11,12,13,14,15,16,17,18,19,20,0,1,2,3,4,5,6,7,8,9,10,11,12,13,14,15,16,17,18,19,20,0,1,2,3,4,5,6,7,8,9,10,11,12,13,14,15,16,17,18,19,20,0,1,2,3,4,5,6,7,8,9,10,11,12,13,14,15,16,17,18,19,20],\"y\":[0,0,0,0,0,0,0,0,0,0,0,0,0,0,0,0,0,0,0,0,0,1,1,1,1,1,1,1,1,1,1,1,1,1,1,1,1,1,1,1,1,1,2,2,2,2,2,2,2,2,2,2,2,2,2,2,2,2,2,2,2,2,2,3,3,3,3,3,3,3,3,3,3,3,3,3,3,3,3,3,3,3,3,3,4,4,4,4,4,4,4,4,4,4,4,4,4,4,4,4,4,4,4,4,4,5,5,5,5,5,5,5,5,5,5,5,5,5,5,5,5,5,5,5,5,5,6,6,6,6,6,6,6,6,6,6,6,6,6,6,6,6,6,6,6,6,6,7,7,7,7,7,7,7,7,7,7,7,7,7,7,7,7,7,7,7,7,7,8,8,8,8,8,8,8,8,8,8,8,8,8,8,8,8,8,8,8,8,8,9,9,9,9,9,9,9,9,9,9,9,9,9,9,9,9,9,9,9,9,9,10,10,10,10,10,10,10,10,10,10,10,10,10,10,10,10,10,10,10,10,10,11,11,11,11,11,11,11,11,11,11,11,11,11,11,11,11,11,11,11,11,11,12,12,12,12,12,12,12,12,12,12,12,12,12,12,12,12,12,12,12,12,12,13,13,13,13,13,13,13,13,13,13,13,13,13,13,13,13,13,13,13,13,13,14,14,14,14,14,14,14,14,14,14,14,14,14,14,14,14,14,14,14,14,14,15,15,15,15,15,15,15,15,15,15,15,15,15,15,15,15,15,15,15,15,15,16,16,16,16,16,16,16,16,16,16,16,16,16,16,16,16,16,16,16,16,16,17,17,17,17,17,17,17,17,17,17,17,17,17,17,17,17,17,17,17,17,17,18,18,18,18,18,18,18,18,18,18,18,18,18,18,18,18,18,18,18,18,18,19,19,19,19,19,19,19,19,19,19,19,19,19,19,19,19,19,19,19,19,19,20,20,20,20,20,20,20,20,20,20,20,20,20,20,20,20,20,20,20,20,20],\"type\":\"scatter\",\"uid\":\"f51ab129-c486-40f5-95d2-4ccf2cf2f44a\"},{\"colorscale\":[[0.0,\"rgb(255,245,235)\"],[0.125,\"rgb(254,230,206)\"],[0.25,\"rgb(253,208,162)\"],[0.375,\"rgb(253,174,107)\"],[0.5,\"rgb(253,141,60)\"],[0.625,\"rgb(241,105,19)\"],[0.75,\"rgb(217,72,1)\"],[0.875,\"rgb(166,54,3)\"],[1.0,\"rgb(127,39,4)\"]],\"hoverinfo\":\"skip\",\"showscale\":false,\"z\":[[58,83,75,211,220,57,364,65,649,57,243,88,49,63,1394,267,73,121,55,52,0],[0,0,0,0,0,0,0,0,0,0,0,0,0,0,0,0,0,0,0,301,113],[0,0,0,0,0,0,0,0,0,0,0,0,0,0,0,0,0,0,296,0,33],[0,0,0,0,0,0,0,0,0,0,0,0,0,0,0,0,0,268,0,0,119],[0,0,0,0,0,0,0,0,0,0,0,0,0,0,0,0,379,0,0,0,106],[0,0,0,0,0,0,0,0,0,0,0,0,0,0,0,381,0,0,0,0,161],[0,0,0,0,0,0,0,0,0,0,0,0,0,0,4580,0,0,0,0,0,530],[0,0,0,0,0,0,0,0,0,0,0,0,0,343,0,0,0,0,0,0,33],[0,0,0,0,0,0,0,0,0,0,0,0,335,0,0,0,0,0,0,0,38],[0,0,0,0,0,0,0,0,0,0,0,655,0,0,0,0,0,0,0,0,118],[0,0,0,0,0,0,0,0,0,0,276,0,0,0,0,0,0,0,0,0,98],[0,0,0,0,0,0,0,0,0,297,0,0,0,0,0,0,0,0,0,0,50],[0,0,0,0,0,0,0,0,1023,0,0,0,0,0,0,0,0,0,0,0,426],[0,0,0,0,0,0,0,562,0,0,0,0,0,0,0,0,0,0,0,0,56],[0,0,0,0,0,0,921,0,0,0,0,0,0,0,0,0,0,0,0,0,252],[0,0,0,0,0,288,0,0,0,0,0,0,0,0,0,0,0,0,0,0,32],[0,0,0,0,538,0,0,0,0,0,0,0,0,0,0,0,0,0,0,0,195],[0,0,0,369,0,0,0,0,0,0,0,0,0,0,0,0,0,0,0,0,122],[0,0,515,0,0,0,0,0,0,0,0,0,0,0,0,0,0,0,0,0,114],[0,324,0,0,0,0,0,0,0,0,0,0,0,0,0,0,0,0,0,0,56],[410,0,0,0,0,0,0,0,0,0,0,0,0,0,0,0,0,0,0,0,74]],\"zmax\":4580,\"zmin\":0,\"type\":\"heatmap\",\"uid\":\"930a8bd4-1a81-4898-b1bc-ab88a30fe7a1\"},{\"colorbar\":{\"len\":1,\"lenmode\":\"fraction\"},\"colorscale\":[[0.0,\"rgb(255,245,235)\"],[0.125,\"rgb(254,230,206)\"],[0.25,\"rgb(253,208,162)\"],[0.375,\"rgb(253,174,107)\"],[0.5,\"rgb(253,141,60)\"],[0.625,\"rgb(241,105,19)\"],[0.75,\"rgb(217,72,1)\"],[0.875,\"rgb(166,54,3)\"],[1.0,\"rgb(127,39,4)\"]],\"hovertemplate\":\"<b>count: %{z}</b><br>truth: %{y}<br>predicted: %{x}<extra></extra>\",\"opacity\":0.25,\"z\":[[58,83,75,211,220,57,364,65,649,57,243,88,49,63,1394,267,73,121,55,52,0],[0,0,0,0,0,0,0,0,0,0,0,0,0,0,0,0,0,0,0,301,113],[0,0,0,0,0,0,0,0,0,0,0,0,0,0,0,0,0,0,296,0,33],[0,0,0,0,0,0,0,0,0,0,0,0,0,0,0,0,0,268,0,0,119],[0,0,0,0,0,0,0,0,0,0,0,0,0,0,0,0,379,0,0,0,106],[0,0,0,0,0,0,0,0,0,0,0,0,0,0,0,381,0,0,0,0,161],[0,0,0,0,0,0,0,0,0,0,0,0,0,0,4580,0,0,0,0,0,530],[0,0,0,0,0,0,0,0,0,0,0,0,0,343,0,0,0,0,0,0,33],[0,0,0,0,0,0,0,0,0,0,0,0,335,0,0,0,0,0,0,0,38],[0,0,0,0,0,0,0,0,0,0,0,655,0,0,0,0,0,0,0,0,118],[0,0,0,0,0,0,0,0,0,0,276,0,0,0,0,0,0,0,0,0,98],[0,0,0,0,0,0,0,0,0,297,0,0,0,0,0,0,0,0,0,0,50],[0,0,0,0,0,0,0,0,1023,0,0,0,0,0,0,0,0,0,0,0,426],[0,0,0,0,0,0,0,562,0,0,0,0,0,0,0,0,0,0,0,0,56],[0,0,0,0,0,0,921,0,0,0,0,0,0,0,0,0,0,0,0,0,252],[0,0,0,0,0,288,0,0,0,0,0,0,0,0,0,0,0,0,0,0,32],[0,0,0,0,538,0,0,0,0,0,0,0,0,0,0,0,0,0,0,0,195],[0,0,0,369,0,0,0,0,0,0,0,0,0,0,0,0,0,0,0,0,122],[0,0,515,0,0,0,0,0,0,0,0,0,0,0,0,0,0,0,0,0,114],[0,324,0,0,0,0,0,0,0,0,0,0,0,0,0,0,0,0,0,0,56],[410,0,0,0,0,0,0,0,0,0,0,0,0,0,0,0,0,0,0,0,74]],\"zmax\":4580,\"zmin\":0,\"type\":\"heatmap\",\"uid\":\"87faf5d3-eed8-45de-8354-56ffab340a3a\"}],                        {\"clickmode\":\"event\",\"template\":{\"data\":{\"barpolar\":[{\"marker\":{\"line\":{\"color\":\"rgb(237,237,237)\",\"width\":0.5},\"pattern\":{\"fillmode\":\"overlay\",\"size\":10,\"solidity\":0.2}},\"type\":\"barpolar\"}],\"bar\":[{\"error_x\":{\"color\":\"rgb(51,51,51)\"},\"error_y\":{\"color\":\"rgb(51,51,51)\"},\"marker\":{\"line\":{\"color\":\"rgb(237,237,237)\",\"width\":0.5},\"pattern\":{\"fillmode\":\"overlay\",\"size\":10,\"solidity\":0.2}},\"type\":\"bar\"}],\"carpet\":[{\"aaxis\":{\"endlinecolor\":\"rgb(51,51,51)\",\"gridcolor\":\"white\",\"linecolor\":\"white\",\"minorgridcolor\":\"white\",\"startlinecolor\":\"rgb(51,51,51)\"},\"baxis\":{\"endlinecolor\":\"rgb(51,51,51)\",\"gridcolor\":\"white\",\"linecolor\":\"white\",\"minorgridcolor\":\"white\",\"startlinecolor\":\"rgb(51,51,51)\"},\"type\":\"carpet\"}],\"choropleth\":[{\"colorbar\":{\"outlinewidth\":0,\"tickcolor\":\"rgb(237,237,237)\",\"ticklen\":6,\"ticks\":\"inside\"},\"type\":\"choropleth\"}],\"contourcarpet\":[{\"colorbar\":{\"outlinewidth\":0,\"tickcolor\":\"rgb(237,237,237)\",\"ticklen\":6,\"ticks\":\"inside\"},\"type\":\"contourcarpet\"}],\"contour\":[{\"colorbar\":{\"outlinewidth\":0,\"tickcolor\":\"rgb(237,237,237)\",\"ticklen\":6,\"ticks\":\"inside\"},\"colorscale\":[[0,\"rgb(20,44,66)\"],[1,\"rgb(90,179,244)\"]],\"type\":\"contour\"}],\"heatmapgl\":[{\"colorbar\":{\"outlinewidth\":0,\"tickcolor\":\"rgb(237,237,237)\",\"ticklen\":6,\"ticks\":\"inside\"},\"colorscale\":[[0,\"rgb(20,44,66)\"],[1,\"rgb(90,179,244)\"]],\"type\":\"heatmapgl\"}],\"heatmap\":[{\"colorbar\":{\"outlinewidth\":0,\"tickcolor\":\"rgb(237,237,237)\",\"ticklen\":6,\"ticks\":\"inside\"},\"colorscale\":[[0,\"rgb(20,44,66)\"],[1,\"rgb(90,179,244)\"]],\"type\":\"heatmap\"}],\"histogram2dcontour\":[{\"colorbar\":{\"outlinewidth\":0,\"tickcolor\":\"rgb(237,237,237)\",\"ticklen\":6,\"ticks\":\"inside\"},\"colorscale\":[[0,\"rgb(20,44,66)\"],[1,\"rgb(90,179,244)\"]],\"type\":\"histogram2dcontour\"}],\"histogram2d\":[{\"colorbar\":{\"outlinewidth\":0,\"tickcolor\":\"rgb(237,237,237)\",\"ticklen\":6,\"ticks\":\"inside\"},\"colorscale\":[[0,\"rgb(20,44,66)\"],[1,\"rgb(90,179,244)\"]],\"type\":\"histogram2d\"}],\"histogram\":[{\"marker\":{\"pattern\":{\"fillmode\":\"overlay\",\"size\":10,\"solidity\":0.2}},\"type\":\"histogram\"}],\"mesh3d\":[{\"colorbar\":{\"outlinewidth\":0,\"tickcolor\":\"rgb(237,237,237)\",\"ticklen\":6,\"ticks\":\"inside\"},\"type\":\"mesh3d\"}],\"parcoords\":[{\"line\":{\"colorbar\":{\"outlinewidth\":0,\"tickcolor\":\"rgb(237,237,237)\",\"ticklen\":6,\"ticks\":\"inside\"}},\"type\":\"parcoords\"}],\"pie\":[{\"automargin\":true,\"type\":\"pie\"}],\"scatter3d\":[{\"line\":{\"colorbar\":{\"outlinewidth\":0,\"tickcolor\":\"rgb(237,237,237)\",\"ticklen\":6,\"ticks\":\"inside\"}},\"marker\":{\"colorbar\":{\"outlinewidth\":0,\"tickcolor\":\"rgb(237,237,237)\",\"ticklen\":6,\"ticks\":\"inside\"}},\"type\":\"scatter3d\"}],\"scattercarpet\":[{\"marker\":{\"colorbar\":{\"outlinewidth\":0,\"tickcolor\":\"rgb(237,237,237)\",\"ticklen\":6,\"ticks\":\"inside\"}},\"type\":\"scattercarpet\"}],\"scattergeo\":[{\"marker\":{\"colorbar\":{\"outlinewidth\":0,\"tickcolor\":\"rgb(237,237,237)\",\"ticklen\":6,\"ticks\":\"inside\"}},\"type\":\"scattergeo\"}],\"scattergl\":[{\"marker\":{\"colorbar\":{\"outlinewidth\":0,\"tickcolor\":\"rgb(237,237,237)\",\"ticklen\":6,\"ticks\":\"inside\"}},\"type\":\"scattergl\"}],\"scattermapbox\":[{\"marker\":{\"colorbar\":{\"outlinewidth\":0,\"tickcolor\":\"rgb(237,237,237)\",\"ticklen\":6,\"ticks\":\"inside\"}},\"type\":\"scattermapbox\"}],\"scatterpolargl\":[{\"marker\":{\"colorbar\":{\"outlinewidth\":0,\"tickcolor\":\"rgb(237,237,237)\",\"ticklen\":6,\"ticks\":\"inside\"}},\"type\":\"scatterpolargl\"}],\"scatterpolar\":[{\"marker\":{\"colorbar\":{\"outlinewidth\":0,\"tickcolor\":\"rgb(237,237,237)\",\"ticklen\":6,\"ticks\":\"inside\"}},\"type\":\"scatterpolar\"}],\"scatter\":[{\"marker\":{\"colorbar\":{\"outlinewidth\":0,\"tickcolor\":\"rgb(237,237,237)\",\"ticklen\":6,\"ticks\":\"inside\"}},\"type\":\"scatter\"}],\"scatterternary\":[{\"marker\":{\"colorbar\":{\"outlinewidth\":0,\"tickcolor\":\"rgb(237,237,237)\",\"ticklen\":6,\"ticks\":\"inside\"}},\"type\":\"scatterternary\"}],\"surface\":[{\"colorbar\":{\"outlinewidth\":0,\"tickcolor\":\"rgb(237,237,237)\",\"ticklen\":6,\"ticks\":\"inside\"},\"colorscale\":[[0,\"rgb(20,44,66)\"],[1,\"rgb(90,179,244)\"]],\"type\":\"surface\"}],\"table\":[{\"cells\":{\"fill\":{\"color\":\"rgb(237,237,237)\"},\"line\":{\"color\":\"white\"}},\"header\":{\"fill\":{\"color\":\"rgb(217,217,217)\"},\"line\":{\"color\":\"white\"}},\"type\":\"table\"}]},\"layout\":{\"annotationdefaults\":{\"arrowhead\":0,\"arrowwidth\":1},\"autotypenumbers\":\"strict\",\"coloraxis\":{\"colorbar\":{\"outlinewidth\":0,\"tickcolor\":\"rgb(237,237,237)\",\"ticklen\":6,\"ticks\":\"inside\"}},\"colorscale\":{\"sequential\":[[0,\"rgb(20,44,66)\"],[1,\"rgb(90,179,244)\"]],\"sequentialminus\":[[0,\"rgb(20,44,66)\"],[1,\"rgb(90,179,244)\"]]},\"colorway\":[\"#F8766D\",\"#A3A500\",\"#00BF7D\",\"#00B0F6\",\"#E76BF3\"],\"font\":{\"color\":\"rgb(51,51,51)\"},\"geo\":{\"bgcolor\":\"white\",\"lakecolor\":\"white\",\"landcolor\":\"rgb(237,237,237)\",\"showlakes\":true,\"showland\":true,\"subunitcolor\":\"white\"},\"hoverlabel\":{\"align\":\"left\"},\"hovermode\":\"closest\",\"paper_bgcolor\":\"white\",\"plot_bgcolor\":\"rgb(237,237,237)\",\"polar\":{\"angularaxis\":{\"gridcolor\":\"white\",\"linecolor\":\"white\",\"showgrid\":true,\"tickcolor\":\"rgb(51,51,51)\",\"ticks\":\"outside\"},\"bgcolor\":\"rgb(237,237,237)\",\"radialaxis\":{\"gridcolor\":\"white\",\"linecolor\":\"white\",\"showgrid\":true,\"tickcolor\":\"rgb(51,51,51)\",\"ticks\":\"outside\"}},\"scene\":{\"xaxis\":{\"backgroundcolor\":\"rgb(237,237,237)\",\"gridcolor\":\"white\",\"gridwidth\":2,\"linecolor\":\"white\",\"showbackground\":true,\"showgrid\":true,\"tickcolor\":\"rgb(51,51,51)\",\"ticks\":\"outside\",\"zerolinecolor\":\"white\"},\"yaxis\":{\"backgroundcolor\":\"rgb(237,237,237)\",\"gridcolor\":\"white\",\"gridwidth\":2,\"linecolor\":\"white\",\"showbackground\":true,\"showgrid\":true,\"tickcolor\":\"rgb(51,51,51)\",\"ticks\":\"outside\",\"zerolinecolor\":\"white\"},\"zaxis\":{\"backgroundcolor\":\"rgb(237,237,237)\",\"gridcolor\":\"white\",\"gridwidth\":2,\"linecolor\":\"white\",\"showbackground\":true,\"showgrid\":true,\"tickcolor\":\"rgb(51,51,51)\",\"ticks\":\"outside\",\"zerolinecolor\":\"white\"}},\"shapedefaults\":{\"fillcolor\":\"black\",\"line\":{\"width\":0},\"opacity\":0.3},\"ternary\":{\"aaxis\":{\"gridcolor\":\"white\",\"linecolor\":\"white\",\"showgrid\":true,\"tickcolor\":\"rgb(51,51,51)\",\"ticks\":\"outside\"},\"baxis\":{\"gridcolor\":\"white\",\"linecolor\":\"white\",\"showgrid\":true,\"tickcolor\":\"rgb(51,51,51)\",\"ticks\":\"outside\"},\"bgcolor\":\"rgb(237,237,237)\",\"caxis\":{\"gridcolor\":\"white\",\"linecolor\":\"white\",\"showgrid\":true,\"tickcolor\":\"rgb(51,51,51)\",\"ticks\":\"outside\"}},\"xaxis\":{\"automargin\":true,\"gridcolor\":\"white\",\"linecolor\":\"white\",\"showgrid\":true,\"tickcolor\":\"rgb(51,51,51)\",\"ticks\":\"outside\",\"title\":{\"standoff\":15},\"zerolinecolor\":\"white\"},\"yaxis\":{\"automargin\":true,\"gridcolor\":\"white\",\"linecolor\":\"white\",\"showgrid\":true,\"tickcolor\":\"rgb(51,51,51)\",\"ticks\":\"outside\",\"title\":{\"standoff\":15},\"zerolinecolor\":\"white\"}}},\"xaxis\":{\"constrain\":\"domain\",\"range\":[-0.5,20.5],\"tickmode\":\"array\",\"ticktext\":[\"aeroplane\",\"bicycle\",\"bird\",\"boat\",\"bottle\",\"bus\",\"car\",\"cat\",\"chair\",\"cow\",\"diningtable\",\"dog\",\"horse\",\"motorbike\",\"person\",\"pottedplant\",\"sheep\",\"sofa\",\"train\",\"tvmonitor\",\"(none)\"],\"tickvals\":[0,1,2,3,4,5,6,7,8,9,10,11,12,13,14,15,16,17,18,19,20]},\"yaxis\":{\"constrain\":\"domain\",\"range\":[-0.5,20.5],\"scaleanchor\":\"x\",\"scaleratio\":1,\"tickmode\":\"array\",\"ticktext\":[\"(none)\",\"tvmonitor\",\"train\",\"sofa\",\"sheep\",\"pottedplant\",\"person\",\"motorbike\",\"horse\",\"dog\",\"diningtable\",\"cow\",\"chair\",\"cat\",\"car\",\"bus\",\"bottle\",\"boat\",\"bird\",\"bicycle\",\"aeroplane\"],\"tickvals\":[0,1,2,3,4,5,6,7,8,9,10,11,12,13,14,15,16,17,18,19,20]},\"margin\":{\"r\":0,\"t\":30,\"l\":0,\"b\":0},\"title\":{},\"autosize\":false,\"width\":500,\"height\":500},                        {\"responsive\": true}                    ).then(function(){\n",
              "                            \n",
              "var gd = document.getElementById('26ee875f-d88c-47d0-9056-1348f4ad3267');\n",
              "var x = new MutationObserver(function (mutations, observer) {{\n",
              "        var display = window.getComputedStyle(gd).display;\n",
              "        if (!display || display === 'none') {{\n",
              "            console.log([gd, 'removed!']);\n",
              "            Plotly.purge(gd);\n",
              "            observer.disconnect();\n",
              "        }}\n",
              "}});\n",
              "\n",
              "// Listen for the removal of the full notebook cells\n",
              "var notebookContainer = gd.closest('#notebook-container');\n",
              "if (notebookContainer) {{\n",
              "    x.observe(notebookContainer, {childList: true});\n",
              "}}\n",
              "\n",
              "// Listen for the clearing of the current output cell\n",
              "var outputEl = gd.closest('.output');\n",
              "if (outputEl) {{\n",
              "    x.observe(outputEl, {childList: true});\n",
              "}}\n",
              "\n",
              "                        })                };                            </script>        </div>\n",
              "</body>\n",
              "</html>"
            ]
          },
          "metadata": {},
          "output_type": "display_data"
        }
      ],
      "source": [
        "fig = go.Figure()\n",
        "fig = results_f_rcnn.plot_confusion_matrix(classes=classes_voc)\n",
        "fig.update_layout(autosize=False, width=500, height=500)\n",
        "fig.show()"
      ]
    },
    {
      "cell_type": "markdown",
      "metadata": {
        "id": "9tRwOwSE2U4c"
      },
      "source": [
        "## FCOS"
      ]
    },
    {
      "cell_type": "code",
      "execution_count": 48,
      "metadata": {
        "colab": {
          "base_uri": "https://localhost:8080/",
          "height": 517
        },
        "id": "mtZiwFct2Pc2",
        "outputId": "9872879f-8c28-4f13-e2d5-827486df966b"
      },
      "outputs": [
        {
          "data": {
            "text/html": [
              "<html>\n",
              "<head><meta charset=\"utf-8\" /></head>\n",
              "<body>\n",
              "    <div>            <script src=\"https://cdnjs.cloudflare.com/ajax/libs/mathjax/2.7.5/MathJax.js?config=TeX-AMS-MML_SVG\"></script><script type=\"text/javascript\">if (window.MathJax) {MathJax.Hub.Config({SVG: {font: \"STIX-Web\"}});}</script>                <script type=\"text/javascript\">window.PlotlyConfig = {MathJaxConfig: 'local'};</script>\n",
              "        <script src=\"https://cdn.plot.ly/plotly-2.8.3.min.js\"></script>                <div id=\"9fc682e3-8d63-419b-a563-dc5c6be4e4ac\" class=\"plotly-graph-div\" style=\"height:500px; width:500px;\"></div>            <script type=\"text/javascript\">                                    window.PLOTLYENV=window.PLOTLYENV || {};                                    if (document.getElementById(\"9fc682e3-8d63-419b-a563-dc5c6be4e4ac\")) {                    Plotly.newPlot(                        \"9fc682e3-8d63-419b-a563-dc5c6be4e4ac\",                        [{\"mode\":\"markers\",\"opacity\":0.1,\"x\":[0,1,2,3,4,5,6,7,8,9,10,11,12,13,14,15,16,17,18,19,20,0,1,2,3,4,5,6,7,8,9,10,11,12,13,14,15,16,17,18,19,20,0,1,2,3,4,5,6,7,8,9,10,11,12,13,14,15,16,17,18,19,20,0,1,2,3,4,5,6,7,8,9,10,11,12,13,14,15,16,17,18,19,20,0,1,2,3,4,5,6,7,8,9,10,11,12,13,14,15,16,17,18,19,20,0,1,2,3,4,5,6,7,8,9,10,11,12,13,14,15,16,17,18,19,20,0,1,2,3,4,5,6,7,8,9,10,11,12,13,14,15,16,17,18,19,20,0,1,2,3,4,5,6,7,8,9,10,11,12,13,14,15,16,17,18,19,20,0,1,2,3,4,5,6,7,8,9,10,11,12,13,14,15,16,17,18,19,20,0,1,2,3,4,5,6,7,8,9,10,11,12,13,14,15,16,17,18,19,20,0,1,2,3,4,5,6,7,8,9,10,11,12,13,14,15,16,17,18,19,20,0,1,2,3,4,5,6,7,8,9,10,11,12,13,14,15,16,17,18,19,20,0,1,2,3,4,5,6,7,8,9,10,11,12,13,14,15,16,17,18,19,20,0,1,2,3,4,5,6,7,8,9,10,11,12,13,14,15,16,17,18,19,20,0,1,2,3,4,5,6,7,8,9,10,11,12,13,14,15,16,17,18,19,20,0,1,2,3,4,5,6,7,8,9,10,11,12,13,14,15,16,17,18,19,20,0,1,2,3,4,5,6,7,8,9,10,11,12,13,14,15,16,17,18,19,20,0,1,2,3,4,5,6,7,8,9,10,11,12,13,14,15,16,17,18,19,20,0,1,2,3,4,5,6,7,8,9,10,11,12,13,14,15,16,17,18,19,20,0,1,2,3,4,5,6,7,8,9,10,11,12,13,14,15,16,17,18,19,20,0,1,2,3,4,5,6,7,8,9,10,11,12,13,14,15,16,17,18,19,20],\"y\":[0,0,0,0,0,0,0,0,0,0,0,0,0,0,0,0,0,0,0,0,0,1,1,1,1,1,1,1,1,1,1,1,1,1,1,1,1,1,1,1,1,1,2,2,2,2,2,2,2,2,2,2,2,2,2,2,2,2,2,2,2,2,2,3,3,3,3,3,3,3,3,3,3,3,3,3,3,3,3,3,3,3,3,3,4,4,4,4,4,4,4,4,4,4,4,4,4,4,4,4,4,4,4,4,4,5,5,5,5,5,5,5,5,5,5,5,5,5,5,5,5,5,5,5,5,5,6,6,6,6,6,6,6,6,6,6,6,6,6,6,6,6,6,6,6,6,6,7,7,7,7,7,7,7,7,7,7,7,7,7,7,7,7,7,7,7,7,7,8,8,8,8,8,8,8,8,8,8,8,8,8,8,8,8,8,8,8,8,8,9,9,9,9,9,9,9,9,9,9,9,9,9,9,9,9,9,9,9,9,9,10,10,10,10,10,10,10,10,10,10,10,10,10,10,10,10,10,10,10,10,10,11,11,11,11,11,11,11,11,11,11,11,11,11,11,11,11,11,11,11,11,11,12,12,12,12,12,12,12,12,12,12,12,12,12,12,12,12,12,12,12,12,12,13,13,13,13,13,13,13,13,13,13,13,13,13,13,13,13,13,13,13,13,13,14,14,14,14,14,14,14,14,14,14,14,14,14,14,14,14,14,14,14,14,14,15,15,15,15,15,15,15,15,15,15,15,15,15,15,15,15,15,15,15,15,15,16,16,16,16,16,16,16,16,16,16,16,16,16,16,16,16,16,16,16,16,16,17,17,17,17,17,17,17,17,17,17,17,17,17,17,17,17,17,17,17,17,17,18,18,18,18,18,18,18,18,18,18,18,18,18,18,18,18,18,18,18,18,18,19,19,19,19,19,19,19,19,19,19,19,19,19,19,19,19,19,19,19,19,19,20,20,20,20,20,20,20,20,20,20,20,20,20,20,20,20,20,20,20,20,20],\"type\":\"scatter\",\"uid\":\"7cfbc43f-d246-493a-9f15-f9b7cdeb6f32\"},{\"colorscale\":[[0.0,\"rgb(255,245,235)\"],[0.125,\"rgb(254,230,206)\"],[0.25,\"rgb(253,208,162)\"],[0.375,\"rgb(253,174,107)\"],[0.5,\"rgb(253,141,60)\"],[0.625,\"rgb(241,105,19)\"],[0.75,\"rgb(217,72,1)\"],[0.875,\"rgb(166,54,3)\"],[1.0,\"rgb(127,39,4)\"]],\"hoverinfo\":\"skip\",\"showscale\":false,\"z\":[[1,4,8,5,9,4,14,6,7,4,1,10,5,1,56,3,0,0,3,0,0],[0,0,0,0,0,0,0,0,0,0,0,0,0,0,0,0,0,0,0,112,302],[0,0,0,0,0,0,0,0,0,0,0,0,0,0,0,0,0,0,150,0,179],[0,0,0,0,0,0,0,0,0,0,0,0,0,0,0,0,0,28,0,0,359],[0,0,0,0,0,0,0,0,0,0,0,0,0,0,0,0,200,0,0,0,285],[0,0,0,0,0,0,0,0,0,0,0,0,0,0,0,48,0,0,0,0,494],[0,0,0,0,0,0,0,0,0,0,0,0,0,0,2048,0,0,0,0,0,3062],[0,0,0,0,0,0,0,0,0,0,0,0,0,102,0,0,0,0,0,0,274],[0,0,0,0,0,0,0,0,0,0,0,0,161,0,0,0,0,0,0,0,212],[0,0,0,0,0,0,0,0,0,0,0,283,0,0,0,0,0,0,0,0,490],[0,0,0,0,0,0,0,0,0,0,2,0,0,0,0,0,0,0,0,0,372],[0,0,0,0,0,0,0,0,0,141,0,0,0,0,0,0,0,0,0,0,206],[0,0,0,0,0,0,0,0,163,0,0,0,0,0,0,0,0,0,0,0,1286],[0,0,0,0,0,0,0,236,0,0,0,0,0,0,0,0,0,0,0,0,382],[0,0,0,0,0,0,310,0,0,0,0,0,0,0,0,0,0,0,0,0,863],[0,0,0,0,0,184,0,0,0,0,0,0,0,0,0,0,0,0,0,0,136],[0,0,0,0,114,0,0,0,0,0,0,0,0,0,0,0,0,0,0,0,619],[0,0,0,54,0,0,0,0,0,0,0,0,0,0,0,0,0,0,0,0,437],[0,0,267,0,0,0,0,0,0,0,0,0,0,0,0,0,0,0,0,0,362],[0,82,0,0,0,0,0,0,0,0,0,0,0,0,0,0,0,0,0,0,298],[241,0,0,0,0,0,0,0,0,0,0,0,0,0,0,0,0,0,0,0,243]],\"zmax\":3062,\"zmin\":0,\"type\":\"heatmap\",\"uid\":\"3c4cbd57-2334-467b-b47c-24be7854f2c7\"},{\"colorbar\":{\"len\":1,\"lenmode\":\"fraction\"},\"colorscale\":[[0.0,\"rgb(255,245,235)\"],[0.125,\"rgb(254,230,206)\"],[0.25,\"rgb(253,208,162)\"],[0.375,\"rgb(253,174,107)\"],[0.5,\"rgb(253,141,60)\"],[0.625,\"rgb(241,105,19)\"],[0.75,\"rgb(217,72,1)\"],[0.875,\"rgb(166,54,3)\"],[1.0,\"rgb(127,39,4)\"]],\"hovertemplate\":\"<b>count: %{z}</b><br>truth: %{y}<br>predicted: %{x}<extra></extra>\",\"opacity\":0.25,\"z\":[[1,4,8,5,9,4,14,6,7,4,1,10,5,1,56,3,0,0,3,0,0],[0,0,0,0,0,0,0,0,0,0,0,0,0,0,0,0,0,0,0,112,302],[0,0,0,0,0,0,0,0,0,0,0,0,0,0,0,0,0,0,150,0,179],[0,0,0,0,0,0,0,0,0,0,0,0,0,0,0,0,0,28,0,0,359],[0,0,0,0,0,0,0,0,0,0,0,0,0,0,0,0,200,0,0,0,285],[0,0,0,0,0,0,0,0,0,0,0,0,0,0,0,48,0,0,0,0,494],[0,0,0,0,0,0,0,0,0,0,0,0,0,0,2048,0,0,0,0,0,3062],[0,0,0,0,0,0,0,0,0,0,0,0,0,102,0,0,0,0,0,0,274],[0,0,0,0,0,0,0,0,0,0,0,0,161,0,0,0,0,0,0,0,212],[0,0,0,0,0,0,0,0,0,0,0,283,0,0,0,0,0,0,0,0,490],[0,0,0,0,0,0,0,0,0,0,2,0,0,0,0,0,0,0,0,0,372],[0,0,0,0,0,0,0,0,0,141,0,0,0,0,0,0,0,0,0,0,206],[0,0,0,0,0,0,0,0,163,0,0,0,0,0,0,0,0,0,0,0,1286],[0,0,0,0,0,0,0,236,0,0,0,0,0,0,0,0,0,0,0,0,382],[0,0,0,0,0,0,310,0,0,0,0,0,0,0,0,0,0,0,0,0,863],[0,0,0,0,0,184,0,0,0,0,0,0,0,0,0,0,0,0,0,0,136],[0,0,0,0,114,0,0,0,0,0,0,0,0,0,0,0,0,0,0,0,619],[0,0,0,54,0,0,0,0,0,0,0,0,0,0,0,0,0,0,0,0,437],[0,0,267,0,0,0,0,0,0,0,0,0,0,0,0,0,0,0,0,0,362],[0,82,0,0,0,0,0,0,0,0,0,0,0,0,0,0,0,0,0,0,298],[241,0,0,0,0,0,0,0,0,0,0,0,0,0,0,0,0,0,0,0,243]],\"zmax\":3062,\"zmin\":0,\"type\":\"heatmap\",\"uid\":\"59fde997-f5a5-4146-b734-a1576b1532bf\"}],                        {\"clickmode\":\"event\",\"template\":{\"data\":{\"barpolar\":[{\"marker\":{\"line\":{\"color\":\"rgb(237,237,237)\",\"width\":0.5},\"pattern\":{\"fillmode\":\"overlay\",\"size\":10,\"solidity\":0.2}},\"type\":\"barpolar\"}],\"bar\":[{\"error_x\":{\"color\":\"rgb(51,51,51)\"},\"error_y\":{\"color\":\"rgb(51,51,51)\"},\"marker\":{\"line\":{\"color\":\"rgb(237,237,237)\",\"width\":0.5},\"pattern\":{\"fillmode\":\"overlay\",\"size\":10,\"solidity\":0.2}},\"type\":\"bar\"}],\"carpet\":[{\"aaxis\":{\"endlinecolor\":\"rgb(51,51,51)\",\"gridcolor\":\"white\",\"linecolor\":\"white\",\"minorgridcolor\":\"white\",\"startlinecolor\":\"rgb(51,51,51)\"},\"baxis\":{\"endlinecolor\":\"rgb(51,51,51)\",\"gridcolor\":\"white\",\"linecolor\":\"white\",\"minorgridcolor\":\"white\",\"startlinecolor\":\"rgb(51,51,51)\"},\"type\":\"carpet\"}],\"choropleth\":[{\"colorbar\":{\"outlinewidth\":0,\"tickcolor\":\"rgb(237,237,237)\",\"ticklen\":6,\"ticks\":\"inside\"},\"type\":\"choropleth\"}],\"contourcarpet\":[{\"colorbar\":{\"outlinewidth\":0,\"tickcolor\":\"rgb(237,237,237)\",\"ticklen\":6,\"ticks\":\"inside\"},\"type\":\"contourcarpet\"}],\"contour\":[{\"colorbar\":{\"outlinewidth\":0,\"tickcolor\":\"rgb(237,237,237)\",\"ticklen\":6,\"ticks\":\"inside\"},\"colorscale\":[[0,\"rgb(20,44,66)\"],[1,\"rgb(90,179,244)\"]],\"type\":\"contour\"}],\"heatmapgl\":[{\"colorbar\":{\"outlinewidth\":0,\"tickcolor\":\"rgb(237,237,237)\",\"ticklen\":6,\"ticks\":\"inside\"},\"colorscale\":[[0,\"rgb(20,44,66)\"],[1,\"rgb(90,179,244)\"]],\"type\":\"heatmapgl\"}],\"heatmap\":[{\"colorbar\":{\"outlinewidth\":0,\"tickcolor\":\"rgb(237,237,237)\",\"ticklen\":6,\"ticks\":\"inside\"},\"colorscale\":[[0,\"rgb(20,44,66)\"],[1,\"rgb(90,179,244)\"]],\"type\":\"heatmap\"}],\"histogram2dcontour\":[{\"colorbar\":{\"outlinewidth\":0,\"tickcolor\":\"rgb(237,237,237)\",\"ticklen\":6,\"ticks\":\"inside\"},\"colorscale\":[[0,\"rgb(20,44,66)\"],[1,\"rgb(90,179,244)\"]],\"type\":\"histogram2dcontour\"}],\"histogram2d\":[{\"colorbar\":{\"outlinewidth\":0,\"tickcolor\":\"rgb(237,237,237)\",\"ticklen\":6,\"ticks\":\"inside\"},\"colorscale\":[[0,\"rgb(20,44,66)\"],[1,\"rgb(90,179,244)\"]],\"type\":\"histogram2d\"}],\"histogram\":[{\"marker\":{\"pattern\":{\"fillmode\":\"overlay\",\"size\":10,\"solidity\":0.2}},\"type\":\"histogram\"}],\"mesh3d\":[{\"colorbar\":{\"outlinewidth\":0,\"tickcolor\":\"rgb(237,237,237)\",\"ticklen\":6,\"ticks\":\"inside\"},\"type\":\"mesh3d\"}],\"parcoords\":[{\"line\":{\"colorbar\":{\"outlinewidth\":0,\"tickcolor\":\"rgb(237,237,237)\",\"ticklen\":6,\"ticks\":\"inside\"}},\"type\":\"parcoords\"}],\"pie\":[{\"automargin\":true,\"type\":\"pie\"}],\"scatter3d\":[{\"line\":{\"colorbar\":{\"outlinewidth\":0,\"tickcolor\":\"rgb(237,237,237)\",\"ticklen\":6,\"ticks\":\"inside\"}},\"marker\":{\"colorbar\":{\"outlinewidth\":0,\"tickcolor\":\"rgb(237,237,237)\",\"ticklen\":6,\"ticks\":\"inside\"}},\"type\":\"scatter3d\"}],\"scattercarpet\":[{\"marker\":{\"colorbar\":{\"outlinewidth\":0,\"tickcolor\":\"rgb(237,237,237)\",\"ticklen\":6,\"ticks\":\"inside\"}},\"type\":\"scattercarpet\"}],\"scattergeo\":[{\"marker\":{\"colorbar\":{\"outlinewidth\":0,\"tickcolor\":\"rgb(237,237,237)\",\"ticklen\":6,\"ticks\":\"inside\"}},\"type\":\"scattergeo\"}],\"scattergl\":[{\"marker\":{\"colorbar\":{\"outlinewidth\":0,\"tickcolor\":\"rgb(237,237,237)\",\"ticklen\":6,\"ticks\":\"inside\"}},\"type\":\"scattergl\"}],\"scattermapbox\":[{\"marker\":{\"colorbar\":{\"outlinewidth\":0,\"tickcolor\":\"rgb(237,237,237)\",\"ticklen\":6,\"ticks\":\"inside\"}},\"type\":\"scattermapbox\"}],\"scatterpolargl\":[{\"marker\":{\"colorbar\":{\"outlinewidth\":0,\"tickcolor\":\"rgb(237,237,237)\",\"ticklen\":6,\"ticks\":\"inside\"}},\"type\":\"scatterpolargl\"}],\"scatterpolar\":[{\"marker\":{\"colorbar\":{\"outlinewidth\":0,\"tickcolor\":\"rgb(237,237,237)\",\"ticklen\":6,\"ticks\":\"inside\"}},\"type\":\"scatterpolar\"}],\"scatter\":[{\"marker\":{\"colorbar\":{\"outlinewidth\":0,\"tickcolor\":\"rgb(237,237,237)\",\"ticklen\":6,\"ticks\":\"inside\"}},\"type\":\"scatter\"}],\"scatterternary\":[{\"marker\":{\"colorbar\":{\"outlinewidth\":0,\"tickcolor\":\"rgb(237,237,237)\",\"ticklen\":6,\"ticks\":\"inside\"}},\"type\":\"scatterternary\"}],\"surface\":[{\"colorbar\":{\"outlinewidth\":0,\"tickcolor\":\"rgb(237,237,237)\",\"ticklen\":6,\"ticks\":\"inside\"},\"colorscale\":[[0,\"rgb(20,44,66)\"],[1,\"rgb(90,179,244)\"]],\"type\":\"surface\"}],\"table\":[{\"cells\":{\"fill\":{\"color\":\"rgb(237,237,237)\"},\"line\":{\"color\":\"white\"}},\"header\":{\"fill\":{\"color\":\"rgb(217,217,217)\"},\"line\":{\"color\":\"white\"}},\"type\":\"table\"}]},\"layout\":{\"annotationdefaults\":{\"arrowhead\":0,\"arrowwidth\":1},\"autotypenumbers\":\"strict\",\"coloraxis\":{\"colorbar\":{\"outlinewidth\":0,\"tickcolor\":\"rgb(237,237,237)\",\"ticklen\":6,\"ticks\":\"inside\"}},\"colorscale\":{\"sequential\":[[0,\"rgb(20,44,66)\"],[1,\"rgb(90,179,244)\"]],\"sequentialminus\":[[0,\"rgb(20,44,66)\"],[1,\"rgb(90,179,244)\"]]},\"colorway\":[\"#F8766D\",\"#A3A500\",\"#00BF7D\",\"#00B0F6\",\"#E76BF3\"],\"font\":{\"color\":\"rgb(51,51,51)\"},\"geo\":{\"bgcolor\":\"white\",\"lakecolor\":\"white\",\"landcolor\":\"rgb(237,237,237)\",\"showlakes\":true,\"showland\":true,\"subunitcolor\":\"white\"},\"hoverlabel\":{\"align\":\"left\"},\"hovermode\":\"closest\",\"paper_bgcolor\":\"white\",\"plot_bgcolor\":\"rgb(237,237,237)\",\"polar\":{\"angularaxis\":{\"gridcolor\":\"white\",\"linecolor\":\"white\",\"showgrid\":true,\"tickcolor\":\"rgb(51,51,51)\",\"ticks\":\"outside\"},\"bgcolor\":\"rgb(237,237,237)\",\"radialaxis\":{\"gridcolor\":\"white\",\"linecolor\":\"white\",\"showgrid\":true,\"tickcolor\":\"rgb(51,51,51)\",\"ticks\":\"outside\"}},\"scene\":{\"xaxis\":{\"backgroundcolor\":\"rgb(237,237,237)\",\"gridcolor\":\"white\",\"gridwidth\":2,\"linecolor\":\"white\",\"showbackground\":true,\"showgrid\":true,\"tickcolor\":\"rgb(51,51,51)\",\"ticks\":\"outside\",\"zerolinecolor\":\"white\"},\"yaxis\":{\"backgroundcolor\":\"rgb(237,237,237)\",\"gridcolor\":\"white\",\"gridwidth\":2,\"linecolor\":\"white\",\"showbackground\":true,\"showgrid\":true,\"tickcolor\":\"rgb(51,51,51)\",\"ticks\":\"outside\",\"zerolinecolor\":\"white\"},\"zaxis\":{\"backgroundcolor\":\"rgb(237,237,237)\",\"gridcolor\":\"white\",\"gridwidth\":2,\"linecolor\":\"white\",\"showbackground\":true,\"showgrid\":true,\"tickcolor\":\"rgb(51,51,51)\",\"ticks\":\"outside\",\"zerolinecolor\":\"white\"}},\"shapedefaults\":{\"fillcolor\":\"black\",\"line\":{\"width\":0},\"opacity\":0.3},\"ternary\":{\"aaxis\":{\"gridcolor\":\"white\",\"linecolor\":\"white\",\"showgrid\":true,\"tickcolor\":\"rgb(51,51,51)\",\"ticks\":\"outside\"},\"baxis\":{\"gridcolor\":\"white\",\"linecolor\":\"white\",\"showgrid\":true,\"tickcolor\":\"rgb(51,51,51)\",\"ticks\":\"outside\"},\"bgcolor\":\"rgb(237,237,237)\",\"caxis\":{\"gridcolor\":\"white\",\"linecolor\":\"white\",\"showgrid\":true,\"tickcolor\":\"rgb(51,51,51)\",\"ticks\":\"outside\"}},\"xaxis\":{\"automargin\":true,\"gridcolor\":\"white\",\"linecolor\":\"white\",\"showgrid\":true,\"tickcolor\":\"rgb(51,51,51)\",\"ticks\":\"outside\",\"title\":{\"standoff\":15},\"zerolinecolor\":\"white\"},\"yaxis\":{\"automargin\":true,\"gridcolor\":\"white\",\"linecolor\":\"white\",\"showgrid\":true,\"tickcolor\":\"rgb(51,51,51)\",\"ticks\":\"outside\",\"title\":{\"standoff\":15},\"zerolinecolor\":\"white\"}}},\"xaxis\":{\"constrain\":\"domain\",\"range\":[-0.5,20.5],\"tickmode\":\"array\",\"ticktext\":[\"aeroplane\",\"bicycle\",\"bird\",\"boat\",\"bottle\",\"bus\",\"car\",\"cat\",\"chair\",\"cow\",\"diningtable\",\"dog\",\"horse\",\"motorbike\",\"person\",\"pottedplant\",\"sheep\",\"sofa\",\"train\",\"tvmonitor\",\"(none)\"],\"tickvals\":[0,1,2,3,4,5,6,7,8,9,10,11,12,13,14,15,16,17,18,19,20]},\"yaxis\":{\"constrain\":\"domain\",\"range\":[-0.5,20.5],\"scaleanchor\":\"x\",\"scaleratio\":1,\"tickmode\":\"array\",\"ticktext\":[\"(none)\",\"tvmonitor\",\"train\",\"sofa\",\"sheep\",\"pottedplant\",\"person\",\"motorbike\",\"horse\",\"dog\",\"diningtable\",\"cow\",\"chair\",\"cat\",\"car\",\"bus\",\"bottle\",\"boat\",\"bird\",\"bicycle\",\"aeroplane\"],\"tickvals\":[0,1,2,3,4,5,6,7,8,9,10,11,12,13,14,15,16,17,18,19,20]},\"margin\":{\"r\":0,\"t\":30,\"l\":0,\"b\":0},\"title\":{},\"autosize\":false,\"width\":500,\"height\":500},                        {\"responsive\": true}                    ).then(function(){\n",
              "                            \n",
              "var gd = document.getElementById('9fc682e3-8d63-419b-a563-dc5c6be4e4ac');\n",
              "var x = new MutationObserver(function (mutations, observer) {{\n",
              "        var display = window.getComputedStyle(gd).display;\n",
              "        if (!display || display === 'none') {{\n",
              "            console.log([gd, 'removed!']);\n",
              "            Plotly.purge(gd);\n",
              "            observer.disconnect();\n",
              "        }}\n",
              "}});\n",
              "\n",
              "// Listen for the removal of the full notebook cells\n",
              "var notebookContainer = gd.closest('#notebook-container');\n",
              "if (notebookContainer) {{\n",
              "    x.observe(notebookContainer, {childList: true});\n",
              "}}\n",
              "\n",
              "// Listen for the clearing of the current output cell\n",
              "var outputEl = gd.closest('.output');\n",
              "if (outputEl) {{\n",
              "    x.observe(outputEl, {childList: true});\n",
              "}}\n",
              "\n",
              "                        })                };                            </script>        </div>\n",
              "</body>\n",
              "</html>"
            ]
          },
          "metadata": {},
          "output_type": "display_data"
        }
      ],
      "source": [
        "fig = go.Figure()\n",
        "fig = results_fcos.plot_confusion_matrix(classes=classes_voc)\n",
        "fig.update_layout(autosize=False, width=500, height=500)\n",
        "fig.show()"
      ]
    },
    {
      "cell_type": "markdown",
      "metadata": {
        "id": "tCaUjYkC2YQI"
      },
      "source": [
        "## SSD"
      ]
    },
    {
      "cell_type": "code",
      "execution_count": 49,
      "metadata": {
        "colab": {
          "base_uri": "https://localhost:8080/",
          "height": 517
        },
        "id": "uLw8T-2S2ZNZ",
        "outputId": "41d01869-af63-4b6c-b739-0e0b9fad4d5b"
      },
      "outputs": [
        {
          "data": {
            "text/html": [
              "<html>\n",
              "<head><meta charset=\"utf-8\" /></head>\n",
              "<body>\n",
              "    <div>            <script src=\"https://cdnjs.cloudflare.com/ajax/libs/mathjax/2.7.5/MathJax.js?config=TeX-AMS-MML_SVG\"></script><script type=\"text/javascript\">if (window.MathJax) {MathJax.Hub.Config({SVG: {font: \"STIX-Web\"}});}</script>                <script type=\"text/javascript\">window.PlotlyConfig = {MathJaxConfig: 'local'};</script>\n",
              "        <script src=\"https://cdn.plot.ly/plotly-2.8.3.min.js\"></script>                <div id=\"51a899fe-0773-4905-b989-0ddc069f8cd5\" class=\"plotly-graph-div\" style=\"height:500px; width:500px;\"></div>            <script type=\"text/javascript\">                                    window.PLOTLYENV=window.PLOTLYENV || {};                                    if (document.getElementById(\"51a899fe-0773-4905-b989-0ddc069f8cd5\")) {                    Plotly.newPlot(                        \"51a899fe-0773-4905-b989-0ddc069f8cd5\",                        [{\"mode\":\"markers\",\"opacity\":0.1,\"x\":[0,1,2,3,4,5,6,7,8,9,10,11,12,13,14,15,16,17,18,19,20,0,1,2,3,4,5,6,7,8,9,10,11,12,13,14,15,16,17,18,19,20,0,1,2,3,4,5,6,7,8,9,10,11,12,13,14,15,16,17,18,19,20,0,1,2,3,4,5,6,7,8,9,10,11,12,13,14,15,16,17,18,19,20,0,1,2,3,4,5,6,7,8,9,10,11,12,13,14,15,16,17,18,19,20,0,1,2,3,4,5,6,7,8,9,10,11,12,13,14,15,16,17,18,19,20,0,1,2,3,4,5,6,7,8,9,10,11,12,13,14,15,16,17,18,19,20,0,1,2,3,4,5,6,7,8,9,10,11,12,13,14,15,16,17,18,19,20,0,1,2,3,4,5,6,7,8,9,10,11,12,13,14,15,16,17,18,19,20,0,1,2,3,4,5,6,7,8,9,10,11,12,13,14,15,16,17,18,19,20,0,1,2,3,4,5,6,7,8,9,10,11,12,13,14,15,16,17,18,19,20,0,1,2,3,4,5,6,7,8,9,10,11,12,13,14,15,16,17,18,19,20,0,1,2,3,4,5,6,7,8,9,10,11,12,13,14,15,16,17,18,19,20,0,1,2,3,4,5,6,7,8,9,10,11,12,13,14,15,16,17,18,19,20,0,1,2,3,4,5,6,7,8,9,10,11,12,13,14,15,16,17,18,19,20,0,1,2,3,4,5,6,7,8,9,10,11,12,13,14,15,16,17,18,19,20,0,1,2,3,4,5,6,7,8,9,10,11,12,13,14,15,16,17,18,19,20,0,1,2,3,4,5,6,7,8,9,10,11,12,13,14,15,16,17,18,19,20,0,1,2,3,4,5,6,7,8,9,10,11,12,13,14,15,16,17,18,19,20,0,1,2,3,4,5,6,7,8,9,10,11,12,13,14,15,16,17,18,19,20,0,1,2,3,4,5,6,7,8,9,10,11,12,13,14,15,16,17,18,19,20],\"y\":[0,0,0,0,0,0,0,0,0,0,0,0,0,0,0,0,0,0,0,0,0,1,1,1,1,1,1,1,1,1,1,1,1,1,1,1,1,1,1,1,1,1,2,2,2,2,2,2,2,2,2,2,2,2,2,2,2,2,2,2,2,2,2,3,3,3,3,3,3,3,3,3,3,3,3,3,3,3,3,3,3,3,3,3,4,4,4,4,4,4,4,4,4,4,4,4,4,4,4,4,4,4,4,4,4,5,5,5,5,5,5,5,5,5,5,5,5,5,5,5,5,5,5,5,5,5,6,6,6,6,6,6,6,6,6,6,6,6,6,6,6,6,6,6,6,6,6,7,7,7,7,7,7,7,7,7,7,7,7,7,7,7,7,7,7,7,7,7,8,8,8,8,8,8,8,8,8,8,8,8,8,8,8,8,8,8,8,8,8,9,9,9,9,9,9,9,9,9,9,9,9,9,9,9,9,9,9,9,9,9,10,10,10,10,10,10,10,10,10,10,10,10,10,10,10,10,10,10,10,10,10,11,11,11,11,11,11,11,11,11,11,11,11,11,11,11,11,11,11,11,11,11,12,12,12,12,12,12,12,12,12,12,12,12,12,12,12,12,12,12,12,12,12,13,13,13,13,13,13,13,13,13,13,13,13,13,13,13,13,13,13,13,13,13,14,14,14,14,14,14,14,14,14,14,14,14,14,14,14,14,14,14,14,14,14,15,15,15,15,15,15,15,15,15,15,15,15,15,15,15,15,15,15,15,15,15,16,16,16,16,16,16,16,16,16,16,16,16,16,16,16,16,16,16,16,16,16,17,17,17,17,17,17,17,17,17,17,17,17,17,17,17,17,17,17,17,17,17,18,18,18,18,18,18,18,18,18,18,18,18,18,18,18,18,18,18,18,18,18,19,19,19,19,19,19,19,19,19,19,19,19,19,19,19,19,19,19,19,19,19,20,20,20,20,20,20,20,20,20,20,20,20,20,20,20,20,20,20,20,20,20],\"type\":\"scatter\",\"uid\":\"b8f429bf-2b33-46ac-a053-967bcee9366e\"},{\"colorscale\":[[0.0,\"rgb(255,245,235)\"],[0.125,\"rgb(254,230,206)\"],[0.25,\"rgb(253,208,162)\"],[0.375,\"rgb(253,174,107)\"],[0.5,\"rgb(253,141,60)\"],[0.625,\"rgb(241,105,19)\"],[0.75,\"rgb(217,72,1)\"],[0.875,\"rgb(166,54,3)\"],[1.0,\"rgb(127,39,4)\"]],\"hoverinfo\":\"skip\",\"showscale\":false,\"z\":[[6,1,14,4,1,9,5,23,22,11,7,35,10,12,75,14,11,18,10,4,0],[0,0,0,0,0,0,0,0,0,0,0,0,0,0,0,0,0,0,0,186,228],[0,0,0,0,0,0,0,0,0,0,0,0,0,0,0,0,0,0,220,0,109],[0,0,0,0,0,0,0,0,0,0,0,0,0,0,0,0,0,131,0,0,256],[0,0,0,0,0,0,0,0,0,0,0,0,0,0,0,0,199,0,0,0,286],[0,0,0,0,0,0,0,0,0,0,0,0,0,0,0,69,0,0,0,0,473],[0,0,0,0,0,0,0,0,0,0,0,0,0,0,2430,0,0,0,0,0,2680],[0,0,0,0,0,0,0,0,0,0,0,0,0,226,0,0,0,0,0,0,150],[0,0,0,0,0,0,0,0,0,0,0,0,243,0,0,0,0,0,0,0,130],[0,0,0,0,0,0,0,0,0,0,0,476,0,0,0,0,0,0,0,0,297],[0,0,0,0,0,0,0,0,0,0,87,0,0,0,0,0,0,0,0,0,287],[0,0,0,0,0,0,0,0,0,165,0,0,0,0,0,0,0,0,0,0,182],[0,0,0,0,0,0,0,0,324,0,0,0,0,0,0,0,0,0,0,0,1125],[0,0,0,0,0,0,0,427,0,0,0,0,0,0,0,0,0,0,0,0,191],[0,0,0,0,0,0,349,0,0,0,0,0,0,0,0,0,0,0,0,0,824],[0,0,0,0,0,214,0,0,0,0,0,0,0,0,0,0,0,0,0,0,106],[0,0,0,0,91,0,0,0,0,0,0,0,0,0,0,0,0,0,0,0,642],[0,0,0,103,0,0,0,0,0,0,0,0,0,0,0,0,0,0,0,0,388],[0,0,262,0,0,0,0,0,0,0,0,0,0,0,0,0,0,0,0,0,367],[0,189,0,0,0,0,0,0,0,0,0,0,0,0,0,0,0,0,0,0,191],[302,0,0,0,0,0,0,0,0,0,0,0,0,0,0,0,0,0,0,0,182]],\"zmax\":2680,\"zmin\":0,\"type\":\"heatmap\",\"uid\":\"a16315d2-275c-43da-a6ce-5d74a2844b15\"},{\"colorbar\":{\"len\":1,\"lenmode\":\"fraction\"},\"colorscale\":[[0.0,\"rgb(255,245,235)\"],[0.125,\"rgb(254,230,206)\"],[0.25,\"rgb(253,208,162)\"],[0.375,\"rgb(253,174,107)\"],[0.5,\"rgb(253,141,60)\"],[0.625,\"rgb(241,105,19)\"],[0.75,\"rgb(217,72,1)\"],[0.875,\"rgb(166,54,3)\"],[1.0,\"rgb(127,39,4)\"]],\"hovertemplate\":\"<b>count: %{z}</b><br>truth: %{y}<br>predicted: %{x}<extra></extra>\",\"opacity\":0.25,\"z\":[[6,1,14,4,1,9,5,23,22,11,7,35,10,12,75,14,11,18,10,4,0],[0,0,0,0,0,0,0,0,0,0,0,0,0,0,0,0,0,0,0,186,228],[0,0,0,0,0,0,0,0,0,0,0,0,0,0,0,0,0,0,220,0,109],[0,0,0,0,0,0,0,0,0,0,0,0,0,0,0,0,0,131,0,0,256],[0,0,0,0,0,0,0,0,0,0,0,0,0,0,0,0,199,0,0,0,286],[0,0,0,0,0,0,0,0,0,0,0,0,0,0,0,69,0,0,0,0,473],[0,0,0,0,0,0,0,0,0,0,0,0,0,0,2430,0,0,0,0,0,2680],[0,0,0,0,0,0,0,0,0,0,0,0,0,226,0,0,0,0,0,0,150],[0,0,0,0,0,0,0,0,0,0,0,0,243,0,0,0,0,0,0,0,130],[0,0,0,0,0,0,0,0,0,0,0,476,0,0,0,0,0,0,0,0,297],[0,0,0,0,0,0,0,0,0,0,87,0,0,0,0,0,0,0,0,0,287],[0,0,0,0,0,0,0,0,0,165,0,0,0,0,0,0,0,0,0,0,182],[0,0,0,0,0,0,0,0,324,0,0,0,0,0,0,0,0,0,0,0,1125],[0,0,0,0,0,0,0,427,0,0,0,0,0,0,0,0,0,0,0,0,191],[0,0,0,0,0,0,349,0,0,0,0,0,0,0,0,0,0,0,0,0,824],[0,0,0,0,0,214,0,0,0,0,0,0,0,0,0,0,0,0,0,0,106],[0,0,0,0,91,0,0,0,0,0,0,0,0,0,0,0,0,0,0,0,642],[0,0,0,103,0,0,0,0,0,0,0,0,0,0,0,0,0,0,0,0,388],[0,0,262,0,0,0,0,0,0,0,0,0,0,0,0,0,0,0,0,0,367],[0,189,0,0,0,0,0,0,0,0,0,0,0,0,0,0,0,0,0,0,191],[302,0,0,0,0,0,0,0,0,0,0,0,0,0,0,0,0,0,0,0,182]],\"zmax\":2680,\"zmin\":0,\"type\":\"heatmap\",\"uid\":\"3ebdbcdf-c6b3-46f5-aef6-39b343ed1bea\"}],                        {\"clickmode\":\"event\",\"template\":{\"data\":{\"barpolar\":[{\"marker\":{\"line\":{\"color\":\"rgb(237,237,237)\",\"width\":0.5},\"pattern\":{\"fillmode\":\"overlay\",\"size\":10,\"solidity\":0.2}},\"type\":\"barpolar\"}],\"bar\":[{\"error_x\":{\"color\":\"rgb(51,51,51)\"},\"error_y\":{\"color\":\"rgb(51,51,51)\"},\"marker\":{\"line\":{\"color\":\"rgb(237,237,237)\",\"width\":0.5},\"pattern\":{\"fillmode\":\"overlay\",\"size\":10,\"solidity\":0.2}},\"type\":\"bar\"}],\"carpet\":[{\"aaxis\":{\"endlinecolor\":\"rgb(51,51,51)\",\"gridcolor\":\"white\",\"linecolor\":\"white\",\"minorgridcolor\":\"white\",\"startlinecolor\":\"rgb(51,51,51)\"},\"baxis\":{\"endlinecolor\":\"rgb(51,51,51)\",\"gridcolor\":\"white\",\"linecolor\":\"white\",\"minorgridcolor\":\"white\",\"startlinecolor\":\"rgb(51,51,51)\"},\"type\":\"carpet\"}],\"choropleth\":[{\"colorbar\":{\"outlinewidth\":0,\"tickcolor\":\"rgb(237,237,237)\",\"ticklen\":6,\"ticks\":\"inside\"},\"type\":\"choropleth\"}],\"contourcarpet\":[{\"colorbar\":{\"outlinewidth\":0,\"tickcolor\":\"rgb(237,237,237)\",\"ticklen\":6,\"ticks\":\"inside\"},\"type\":\"contourcarpet\"}],\"contour\":[{\"colorbar\":{\"outlinewidth\":0,\"tickcolor\":\"rgb(237,237,237)\",\"ticklen\":6,\"ticks\":\"inside\"},\"colorscale\":[[0,\"rgb(20,44,66)\"],[1,\"rgb(90,179,244)\"]],\"type\":\"contour\"}],\"heatmapgl\":[{\"colorbar\":{\"outlinewidth\":0,\"tickcolor\":\"rgb(237,237,237)\",\"ticklen\":6,\"ticks\":\"inside\"},\"colorscale\":[[0,\"rgb(20,44,66)\"],[1,\"rgb(90,179,244)\"]],\"type\":\"heatmapgl\"}],\"heatmap\":[{\"colorbar\":{\"outlinewidth\":0,\"tickcolor\":\"rgb(237,237,237)\",\"ticklen\":6,\"ticks\":\"inside\"},\"colorscale\":[[0,\"rgb(20,44,66)\"],[1,\"rgb(90,179,244)\"]],\"type\":\"heatmap\"}],\"histogram2dcontour\":[{\"colorbar\":{\"outlinewidth\":0,\"tickcolor\":\"rgb(237,237,237)\",\"ticklen\":6,\"ticks\":\"inside\"},\"colorscale\":[[0,\"rgb(20,44,66)\"],[1,\"rgb(90,179,244)\"]],\"type\":\"histogram2dcontour\"}],\"histogram2d\":[{\"colorbar\":{\"outlinewidth\":0,\"tickcolor\":\"rgb(237,237,237)\",\"ticklen\":6,\"ticks\":\"inside\"},\"colorscale\":[[0,\"rgb(20,44,66)\"],[1,\"rgb(90,179,244)\"]],\"type\":\"histogram2d\"}],\"histogram\":[{\"marker\":{\"pattern\":{\"fillmode\":\"overlay\",\"size\":10,\"solidity\":0.2}},\"type\":\"histogram\"}],\"mesh3d\":[{\"colorbar\":{\"outlinewidth\":0,\"tickcolor\":\"rgb(237,237,237)\",\"ticklen\":6,\"ticks\":\"inside\"},\"type\":\"mesh3d\"}],\"parcoords\":[{\"line\":{\"colorbar\":{\"outlinewidth\":0,\"tickcolor\":\"rgb(237,237,237)\",\"ticklen\":6,\"ticks\":\"inside\"}},\"type\":\"parcoords\"}],\"pie\":[{\"automargin\":true,\"type\":\"pie\"}],\"scatter3d\":[{\"line\":{\"colorbar\":{\"outlinewidth\":0,\"tickcolor\":\"rgb(237,237,237)\",\"ticklen\":6,\"ticks\":\"inside\"}},\"marker\":{\"colorbar\":{\"outlinewidth\":0,\"tickcolor\":\"rgb(237,237,237)\",\"ticklen\":6,\"ticks\":\"inside\"}},\"type\":\"scatter3d\"}],\"scattercarpet\":[{\"marker\":{\"colorbar\":{\"outlinewidth\":0,\"tickcolor\":\"rgb(237,237,237)\",\"ticklen\":6,\"ticks\":\"inside\"}},\"type\":\"scattercarpet\"}],\"scattergeo\":[{\"marker\":{\"colorbar\":{\"outlinewidth\":0,\"tickcolor\":\"rgb(237,237,237)\",\"ticklen\":6,\"ticks\":\"inside\"}},\"type\":\"scattergeo\"}],\"scattergl\":[{\"marker\":{\"colorbar\":{\"outlinewidth\":0,\"tickcolor\":\"rgb(237,237,237)\",\"ticklen\":6,\"ticks\":\"inside\"}},\"type\":\"scattergl\"}],\"scattermapbox\":[{\"marker\":{\"colorbar\":{\"outlinewidth\":0,\"tickcolor\":\"rgb(237,237,237)\",\"ticklen\":6,\"ticks\":\"inside\"}},\"type\":\"scattermapbox\"}],\"scatterpolargl\":[{\"marker\":{\"colorbar\":{\"outlinewidth\":0,\"tickcolor\":\"rgb(237,237,237)\",\"ticklen\":6,\"ticks\":\"inside\"}},\"type\":\"scatterpolargl\"}],\"scatterpolar\":[{\"marker\":{\"colorbar\":{\"outlinewidth\":0,\"tickcolor\":\"rgb(237,237,237)\",\"ticklen\":6,\"ticks\":\"inside\"}},\"type\":\"scatterpolar\"}],\"scatter\":[{\"marker\":{\"colorbar\":{\"outlinewidth\":0,\"tickcolor\":\"rgb(237,237,237)\",\"ticklen\":6,\"ticks\":\"inside\"}},\"type\":\"scatter\"}],\"scatterternary\":[{\"marker\":{\"colorbar\":{\"outlinewidth\":0,\"tickcolor\":\"rgb(237,237,237)\",\"ticklen\":6,\"ticks\":\"inside\"}},\"type\":\"scatterternary\"}],\"surface\":[{\"colorbar\":{\"outlinewidth\":0,\"tickcolor\":\"rgb(237,237,237)\",\"ticklen\":6,\"ticks\":\"inside\"},\"colorscale\":[[0,\"rgb(20,44,66)\"],[1,\"rgb(90,179,244)\"]],\"type\":\"surface\"}],\"table\":[{\"cells\":{\"fill\":{\"color\":\"rgb(237,237,237)\"},\"line\":{\"color\":\"white\"}},\"header\":{\"fill\":{\"color\":\"rgb(217,217,217)\"},\"line\":{\"color\":\"white\"}},\"type\":\"table\"}]},\"layout\":{\"annotationdefaults\":{\"arrowhead\":0,\"arrowwidth\":1},\"autotypenumbers\":\"strict\",\"coloraxis\":{\"colorbar\":{\"outlinewidth\":0,\"tickcolor\":\"rgb(237,237,237)\",\"ticklen\":6,\"ticks\":\"inside\"}},\"colorscale\":{\"sequential\":[[0,\"rgb(20,44,66)\"],[1,\"rgb(90,179,244)\"]],\"sequentialminus\":[[0,\"rgb(20,44,66)\"],[1,\"rgb(90,179,244)\"]]},\"colorway\":[\"#F8766D\",\"#A3A500\",\"#00BF7D\",\"#00B0F6\",\"#E76BF3\"],\"font\":{\"color\":\"rgb(51,51,51)\"},\"geo\":{\"bgcolor\":\"white\",\"lakecolor\":\"white\",\"landcolor\":\"rgb(237,237,237)\",\"showlakes\":true,\"showland\":true,\"subunitcolor\":\"white\"},\"hoverlabel\":{\"align\":\"left\"},\"hovermode\":\"closest\",\"paper_bgcolor\":\"white\",\"plot_bgcolor\":\"rgb(237,237,237)\",\"polar\":{\"angularaxis\":{\"gridcolor\":\"white\",\"linecolor\":\"white\",\"showgrid\":true,\"tickcolor\":\"rgb(51,51,51)\",\"ticks\":\"outside\"},\"bgcolor\":\"rgb(237,237,237)\",\"radialaxis\":{\"gridcolor\":\"white\",\"linecolor\":\"white\",\"showgrid\":true,\"tickcolor\":\"rgb(51,51,51)\",\"ticks\":\"outside\"}},\"scene\":{\"xaxis\":{\"backgroundcolor\":\"rgb(237,237,237)\",\"gridcolor\":\"white\",\"gridwidth\":2,\"linecolor\":\"white\",\"showbackground\":true,\"showgrid\":true,\"tickcolor\":\"rgb(51,51,51)\",\"ticks\":\"outside\",\"zerolinecolor\":\"white\"},\"yaxis\":{\"backgroundcolor\":\"rgb(237,237,237)\",\"gridcolor\":\"white\",\"gridwidth\":2,\"linecolor\":\"white\",\"showbackground\":true,\"showgrid\":true,\"tickcolor\":\"rgb(51,51,51)\",\"ticks\":\"outside\",\"zerolinecolor\":\"white\"},\"zaxis\":{\"backgroundcolor\":\"rgb(237,237,237)\",\"gridcolor\":\"white\",\"gridwidth\":2,\"linecolor\":\"white\",\"showbackground\":true,\"showgrid\":true,\"tickcolor\":\"rgb(51,51,51)\",\"ticks\":\"outside\",\"zerolinecolor\":\"white\"}},\"shapedefaults\":{\"fillcolor\":\"black\",\"line\":{\"width\":0},\"opacity\":0.3},\"ternary\":{\"aaxis\":{\"gridcolor\":\"white\",\"linecolor\":\"white\",\"showgrid\":true,\"tickcolor\":\"rgb(51,51,51)\",\"ticks\":\"outside\"},\"baxis\":{\"gridcolor\":\"white\",\"linecolor\":\"white\",\"showgrid\":true,\"tickcolor\":\"rgb(51,51,51)\",\"ticks\":\"outside\"},\"bgcolor\":\"rgb(237,237,237)\",\"caxis\":{\"gridcolor\":\"white\",\"linecolor\":\"white\",\"showgrid\":true,\"tickcolor\":\"rgb(51,51,51)\",\"ticks\":\"outside\"}},\"xaxis\":{\"automargin\":true,\"gridcolor\":\"white\",\"linecolor\":\"white\",\"showgrid\":true,\"tickcolor\":\"rgb(51,51,51)\",\"ticks\":\"outside\",\"title\":{\"standoff\":15},\"zerolinecolor\":\"white\"},\"yaxis\":{\"automargin\":true,\"gridcolor\":\"white\",\"linecolor\":\"white\",\"showgrid\":true,\"tickcolor\":\"rgb(51,51,51)\",\"ticks\":\"outside\",\"title\":{\"standoff\":15},\"zerolinecolor\":\"white\"}}},\"xaxis\":{\"constrain\":\"domain\",\"range\":[-0.5,20.5],\"tickmode\":\"array\",\"ticktext\":[\"aeroplane\",\"bicycle\",\"bird\",\"boat\",\"bottle\",\"bus\",\"car\",\"cat\",\"chair\",\"cow\",\"diningtable\",\"dog\",\"horse\",\"motorbike\",\"person\",\"pottedplant\",\"sheep\",\"sofa\",\"train\",\"tvmonitor\",\"(none)\"],\"tickvals\":[0,1,2,3,4,5,6,7,8,9,10,11,12,13,14,15,16,17,18,19,20]},\"yaxis\":{\"constrain\":\"domain\",\"range\":[-0.5,20.5],\"scaleanchor\":\"x\",\"scaleratio\":1,\"tickmode\":\"array\",\"ticktext\":[\"(none)\",\"tvmonitor\",\"train\",\"sofa\",\"sheep\",\"pottedplant\",\"person\",\"motorbike\",\"horse\",\"dog\",\"diningtable\",\"cow\",\"chair\",\"cat\",\"car\",\"bus\",\"bottle\",\"boat\",\"bird\",\"bicycle\",\"aeroplane\"],\"tickvals\":[0,1,2,3,4,5,6,7,8,9,10,11,12,13,14,15,16,17,18,19,20]},\"margin\":{\"r\":0,\"t\":30,\"l\":0,\"b\":0},\"title\":{},\"autosize\":false,\"width\":500,\"height\":500},                        {\"responsive\": true}                    ).then(function(){\n",
              "                            \n",
              "var gd = document.getElementById('51a899fe-0773-4905-b989-0ddc069f8cd5');\n",
              "var x = new MutationObserver(function (mutations, observer) {{\n",
              "        var display = window.getComputedStyle(gd).display;\n",
              "        if (!display || display === 'none') {{\n",
              "            console.log([gd, 'removed!']);\n",
              "            Plotly.purge(gd);\n",
              "            observer.disconnect();\n",
              "        }}\n",
              "}});\n",
              "\n",
              "// Listen for the removal of the full notebook cells\n",
              "var notebookContainer = gd.closest('#notebook-container');\n",
              "if (notebookContainer) {{\n",
              "    x.observe(notebookContainer, {childList: true});\n",
              "}}\n",
              "\n",
              "// Listen for the clearing of the current output cell\n",
              "var outputEl = gd.closest('.output');\n",
              "if (outputEl) {{\n",
              "    x.observe(outputEl, {childList: true});\n",
              "}}\n",
              "\n",
              "                        })                };                            </script>        </div>\n",
              "</body>\n",
              "</html>"
            ]
          },
          "metadata": {},
          "output_type": "display_data"
        }
      ],
      "source": [
        "fig = go.Figure()\n",
        "fig = results_ssd.plot_confusion_matrix(classes=classes_voc)\n",
        "fig.update_layout(autosize=False, width=500, height=500)\n",
        "fig.show()"
      ]
    },
    {
      "cell_type": "markdown",
      "metadata": {
        "id": "UVZuRZvn4dQi"
      },
      "source": [
        "# Explore high Confidence view"
      ]
    },
    {
      "cell_type": "code",
      "execution_count": 43,
      "metadata": {
        "colab": {
          "base_uri": "https://localhost:8080/",
          "height": 821
        },
        "id": "ROqiEFOW8i1u",
        "outputId": "8fb210cd-3a4c-41db-e5a3-fc331c6ab07a"
      },
      "outputs": [
        {
          "data": {
            "text/html": [
              "\n",
              "<style>\n",
              "\n",
              "@import url(\"https://fonts.googleapis.com/css2?family=Palanquin&display=swap\");\n",
              "\n",
              "#focontainer-13739994-16c0-4f5a-a87a-9ec0103c728f {\n",
              "  position: relative;\n",
              "  height: px;\n",
              "  display: block !important;\n",
              "}\n",
              "#foactivate-13739994-16c0-4f5a-a87a-9ec0103c728f {\n",
              "  font-weight: bold;\n",
              "  cursor: pointer;\n",
              "  font-size: 24px;\n",
              "  border-radius: 3px;\n",
              "  text-align: center;\n",
              "  padding: 0.5em;\n",
              "  color: rgb(255, 255, 255);\n",
              "  font-family: \"Palanquin\", sans-serif;\n",
              "  position: absolute;\n",
              "  left: 50%;\n",
              "  top: 50%;\n",
              "  width: 160px;\n",
              "  margin-left: -80px;\n",
              "  margin-top: -23px;\n",
              "  background: hsla(210,11%,15%, 0.8);\n",
              "  border: none;\n",
              "}\n",
              "#foactivate-13739994-16c0-4f5a-a87a-9ec0103c728f:focus {\n",
              "  outline: none;\n",
              "}\n",
              "#fooverlay-13739994-16c0-4f5a-a87a-9ec0103c728f {\n",
              "  width: 100%;\n",
              "  height: 100%;\n",
              "  background: hsla(208, 7%, 46%, 0.7);\n",
              "  position: absolute;\n",
              "  top: 0;\n",
              "  left: 0;\n",
              "  display: none;\n",
              "  cursor: pointer;\n",
              "}\n",
              "</style>\n",
              "<div id=\"focontainer-13739994-16c0-4f5a-a87a-9ec0103c728f\" style=\"display: none;\">\n",
              "   <div id=\"fooverlay-13739994-16c0-4f5a-a87a-9ec0103c728f\">\n",
              "      <button id=\"foactivate-13739994-16c0-4f5a-a87a-9ec0103c728f\" >Activate</button>\n",
              "   </div>\n",
              "</div>"
            ],
            "text/plain": [
              "<IPython.core.display.HTML object>"
            ]
          },
          "metadata": {},
          "output_type": "display_data"
        }
      ],
      "source": [
        "session0 = fo.launch_app(high_conf_view)"
      ]
    },
    {
      "cell_type": "markdown",
      "metadata": {
        "id": "y_Fum92rG-8F"
      },
      "source": [
        "## Faster RCNN"
      ]
    },
    {
      "cell_type": "code",
      "execution_count": null,
      "metadata": {
        "id": "pjUJbGVWHClS"
      },
      "outputs": [],
      "source": [
        "# Show samples with most true positives\n",
        "session1 = fo.launch_app(high_conf_view.sort_by(\"eval_f_rcnn_tp\", reverse=True))"
      ]
    },
    {
      "cell_type": "code",
      "execution_count": null,
      "metadata": {
        "id": "nMewXKJvHD75"
      },
      "outputs": [],
      "source": [
        "# Show samples with most true positives\n",
        "session2 = fo.launch_app(high_conf_view.sort_by(\"eval_f_rcnn_fp\", reverse=True))"
      ]
    },
    {
      "cell_type": "markdown",
      "metadata": {
        "id": "YqxgCgLdGz6k"
      },
      "source": [
        "## FCOS"
      ]
    },
    {
      "cell_type": "code",
      "execution_count": null,
      "metadata": {
        "colab": {
          "base_uri": "https://localhost:8080/",
          "height": 821
        },
        "id": "t1WNkUz0G3al",
        "outputId": "9b91ecf0-a54f-49b8-fbb2-d09e43c2921e"
      },
      "outputs": [
        {
          "data": {
            "text/html": [
              "\n",
              "<style>\n",
              "\n",
              "@import url(\"https://fonts.googleapis.com/css2?family=Palanquin&display=swap\");\n",
              "\n",
              "#focontainer-bf7fb684-080e-4b13-8317-c551980be2f2 {\n",
              "  position: relative;\n",
              "  height: px;\n",
              "  display: block !important;\n",
              "}\n",
              "#foactivate-bf7fb684-080e-4b13-8317-c551980be2f2 {\n",
              "  font-weight: bold;\n",
              "  cursor: pointer;\n",
              "  font-size: 24px;\n",
              "  border-radius: 3px;\n",
              "  text-align: center;\n",
              "  padding: 0.5em;\n",
              "  color: rgb(255, 255, 255);\n",
              "  font-family: \"Palanquin\", sans-serif;\n",
              "  position: absolute;\n",
              "  left: 50%;\n",
              "  top: 50%;\n",
              "  width: 160px;\n",
              "  margin-left: -80px;\n",
              "  margin-top: -23px;\n",
              "  background: hsla(210,11%,15%, 0.8);\n",
              "  border: none;\n",
              "}\n",
              "#foactivate-bf7fb684-080e-4b13-8317-c551980be2f2:focus {\n",
              "  outline: none;\n",
              "}\n",
              "#fooverlay-bf7fb684-080e-4b13-8317-c551980be2f2 {\n",
              "  width: 100%;\n",
              "  height: 100%;\n",
              "  background: hsla(208, 7%, 46%, 0.7);\n",
              "  position: absolute;\n",
              "  top: 0;\n",
              "  left: 0;\n",
              "  display: none;\n",
              "  cursor: pointer;\n",
              "}\n",
              "</style>\n",
              "<div id=\"focontainer-bf7fb684-080e-4b13-8317-c551980be2f2\" style=\"display: none;\">\n",
              "   <div id=\"fooverlay-bf7fb684-080e-4b13-8317-c551980be2f2\">\n",
              "      <button id=\"foactivate-bf7fb684-080e-4b13-8317-c551980be2f2\" >Activate</button>\n",
              "   </div>\n",
              "</div>"
            ],
            "text/plain": [
              "<IPython.core.display.HTML object>"
            ]
          },
          "metadata": {},
          "output_type": "display_data"
        }
      ],
      "source": [
        "# Show samples with most true positives\n",
        "session3 = fo.launch_app(high_conf_view.sort_by(\"eval_fcos_tp\", reverse=True))"
      ]
    },
    {
      "cell_type": "code",
      "execution_count": null,
      "metadata": {
        "id": "hnFGVeSUG33Q"
      },
      "outputs": [],
      "source": [
        "# Show samples with most true positives\n",
        "session4 = fo.launch_app(high_conf_view.sort_by(\"eval_fcos_fp\", reverse=True))"
      ]
    },
    {
      "cell_type": "markdown",
      "metadata": {
        "id": "TKHrladDGx8x"
      },
      "source": [
        "## SSD"
      ]
    },
    {
      "cell_type": "code",
      "execution_count": null,
      "metadata": {
        "colab": {
          "base_uri": "https://localhost:8080/",
          "height": 821
        },
        "id": "8s4qGIF744LT",
        "outputId": "ef6d8296-d779-4a20-e447-4918d577fdcb"
      },
      "outputs": [
        {
          "data": {
            "text/html": [
              "\n",
              "<style>\n",
              "\n",
              "@import url(\"https://fonts.googleapis.com/css2?family=Palanquin&display=swap\");\n",
              "\n",
              "#focontainer-6cd7d01e-ed94-4f37-b4c8-6ef4bd0eeef0 {\n",
              "  position: relative;\n",
              "  height: px;\n",
              "  display: block !important;\n",
              "}\n",
              "#foactivate-6cd7d01e-ed94-4f37-b4c8-6ef4bd0eeef0 {\n",
              "  font-weight: bold;\n",
              "  cursor: pointer;\n",
              "  font-size: 24px;\n",
              "  border-radius: 3px;\n",
              "  text-align: center;\n",
              "  padding: 0.5em;\n",
              "  color: rgb(255, 255, 255);\n",
              "  font-family: \"Palanquin\", sans-serif;\n",
              "  position: absolute;\n",
              "  left: 50%;\n",
              "  top: 50%;\n",
              "  width: 160px;\n",
              "  margin-left: -80px;\n",
              "  margin-top: -23px;\n",
              "  background: hsla(210,11%,15%, 0.8);\n",
              "  border: none;\n",
              "}\n",
              "#foactivate-6cd7d01e-ed94-4f37-b4c8-6ef4bd0eeef0:focus {\n",
              "  outline: none;\n",
              "}\n",
              "#fooverlay-6cd7d01e-ed94-4f37-b4c8-6ef4bd0eeef0 {\n",
              "  width: 100%;\n",
              "  height: 100%;\n",
              "  background: hsla(208, 7%, 46%, 0.7);\n",
              "  position: absolute;\n",
              "  top: 0;\n",
              "  left: 0;\n",
              "  display: none;\n",
              "  cursor: pointer;\n",
              "}\n",
              "</style>\n",
              "<div id=\"focontainer-6cd7d01e-ed94-4f37-b4c8-6ef4bd0eeef0\" style=\"display: none;\">\n",
              "   <div id=\"fooverlay-6cd7d01e-ed94-4f37-b4c8-6ef4bd0eeef0\">\n",
              "      <button id=\"foactivate-6cd7d01e-ed94-4f37-b4c8-6ef4bd0eeef0\" >Activate</button>\n",
              "   </div>\n",
              "</div>"
            ],
            "text/plain": [
              "<IPython.core.display.HTML object>"
            ]
          },
          "metadata": {},
          "output_type": "display_data"
        }
      ],
      "source": [
        "# Show samples with most true positives\n",
        "session5 = fo.launch_app(high_conf_view.sort_by(\"eval_ssd_tp\", reverse=True))"
      ]
    },
    {
      "cell_type": "code",
      "execution_count": null,
      "metadata": {
        "id": "jLhzdSzIE-XM"
      },
      "outputs": [],
      "source": [
        "# Show samples with most false positives\n",
        "session6 = fo.launch_app(high_conf_view.sort_by(\"eval_ssd_fp\", reverse=True))"
      ]
    }
  ],
  "metadata": {
    "accelerator": "GPU",
    "colab": {
      "collapsed_sections": [
        "UbIewKZED-Yk",
        "v7C78zYNEImH",
        "YcderkSCDhDQ",
        "4SLYwIHMRQcg",
        "GfagGVvfRhpG",
        "75MGYa7167ps",
        "Q2x6TamyVMu-",
        "4N8IzMmxVPon",
        "cRL6dTZfCHBH",
        "Xt9a_v3gCMLa",
        "NU6Lq7hoUVbe",
        "x4fx1xQLlKR5",
        "ukw3pKhZ3UGs",
        "uAx0x-El2KCy",
        "F2LuGJIQEWd-",
        "s6Lt0XopZdil",
        "SlAB8Q78xB6E",
        "HqRVVsC_1NDu",
        "9tRwOwSE2U4c",
        "tCaUjYkC2YQI"
      ],
      "provenance": []
    },
    "gpuClass": "standard",
    "kernelspec": {
      "display_name": "Python 3",
      "language": "python",
      "name": "python3"
    },
    "language_info": {
      "name": "python",
      "version": "3.9.10 (tags/v3.9.10:f2f3f53, Jan 17 2022, 15:14:21) [MSC v.1929 64 bit (AMD64)]"
    },
    "vscode": {
      "interpreter": {
        "hash": "38cbbce93a7ce53e7c9e200675631f3085865155cd3736ae1ff8ae79ae812e11"
      }
    },
    "widgets": {
      "application/vnd.jupyter.widget-state+json": {
        "0182075895d244339a8a9d84de9ae7aa": {
          "model_module": "@jupyter-widgets/base",
          "model_module_version": "1.2.0",
          "model_name": "LayoutModel",
          "state": {
            "_model_module": "@jupyter-widgets/base",
            "_model_module_version": "1.2.0",
            "_model_name": "LayoutModel",
            "_view_count": null,
            "_view_module": "@jupyter-widgets/base",
            "_view_module_version": "1.2.0",
            "_view_name": "LayoutView",
            "align_content": null,
            "align_items": null,
            "align_self": null,
            "border": null,
            "bottom": null,
            "display": null,
            "flex": null,
            "flex_flow": null,
            "grid_area": null,
            "grid_auto_columns": null,
            "grid_auto_flow": null,
            "grid_auto_rows": null,
            "grid_column": null,
            "grid_gap": null,
            "grid_row": null,
            "grid_template_areas": null,
            "grid_template_columns": null,
            "grid_template_rows": null,
            "height": null,
            "justify_content": null,
            "justify_items": null,
            "left": null,
            "margin": null,
            "max_height": null,
            "max_width": null,
            "min_height": null,
            "min_width": null,
            "object_fit": null,
            "object_position": null,
            "order": null,
            "overflow": null,
            "overflow_x": null,
            "overflow_y": null,
            "padding": null,
            "right": null,
            "top": null,
            "visibility": null,
            "width": null
          }
        },
        "040c9554981b4d46a717070f3ef1f7ba": {
          "model_module": "@jupyter-widgets/base",
          "model_module_version": "1.2.0",
          "model_name": "LayoutModel",
          "state": {
            "_model_module": "@jupyter-widgets/base",
            "_model_module_version": "1.2.0",
            "_model_name": "LayoutModel",
            "_view_count": null,
            "_view_module": "@jupyter-widgets/base",
            "_view_module_version": "1.2.0",
            "_view_name": "LayoutView",
            "align_content": null,
            "align_items": null,
            "align_self": null,
            "border": null,
            "bottom": null,
            "display": null,
            "flex": null,
            "flex_flow": null,
            "grid_area": null,
            "grid_auto_columns": null,
            "grid_auto_flow": null,
            "grid_auto_rows": null,
            "grid_column": null,
            "grid_gap": null,
            "grid_row": null,
            "grid_template_areas": null,
            "grid_template_columns": null,
            "grid_template_rows": null,
            "height": null,
            "justify_content": null,
            "justify_items": null,
            "left": null,
            "margin": null,
            "max_height": null,
            "max_width": null,
            "min_height": null,
            "min_width": null,
            "object_fit": null,
            "object_position": null,
            "order": null,
            "overflow": null,
            "overflow_x": null,
            "overflow_y": null,
            "padding": null,
            "right": null,
            "top": null,
            "visibility": null,
            "width": null
          }
        },
        "09e7b35c1b4c4d7a8a59eeae05081bff": {
          "model_module": "@jupyter-widgets/controls",
          "model_module_version": "1.5.0",
          "model_name": "ProgressStyleModel",
          "state": {
            "_model_module": "@jupyter-widgets/controls",
            "_model_module_version": "1.5.0",
            "_model_name": "ProgressStyleModel",
            "_view_count": null,
            "_view_module": "@jupyter-widgets/base",
            "_view_module_version": "1.2.0",
            "_view_name": "StyleView",
            "bar_color": null,
            "description_width": ""
          }
        },
        "1582eff33ff140a2aaffd7fc0d3a750a": {
          "model_module": "@jupyter-widgets/controls",
          "model_module_version": "1.5.0",
          "model_name": "HTMLModel",
          "state": {
            "_dom_classes": [],
            "_model_module": "@jupyter-widgets/controls",
            "_model_module_version": "1.5.0",
            "_model_name": "HTMLModel",
            "_view_count": null,
            "_view_module": "@jupyter-widgets/controls",
            "_view_module_version": "1.5.0",
            "_view_name": "HTMLView",
            "description": "",
            "description_tooltip": null,
            "layout": "IPY_MODEL_ac038d8fdae64e2db2ad9073da315c37",
            "placeholder": "​",
            "style": "IPY_MODEL_37bed7452f0a481eaa74c80f5874f418",
            "value": " 136M/136M [00:00&lt;00:00, 200MB/s]"
          }
        },
        "207e83ef69d8486487c76c98bc19546c": {
          "model_module": "@jupyter-widgets/controls",
          "model_module_version": "1.5.0",
          "model_name": "HBoxModel",
          "state": {
            "_dom_classes": [],
            "_model_module": "@jupyter-widgets/controls",
            "_model_module_version": "1.5.0",
            "_model_name": "HBoxModel",
            "_view_count": null,
            "_view_module": "@jupyter-widgets/controls",
            "_view_module_version": "1.5.0",
            "_view_name": "HBoxView",
            "box_style": "",
            "children": [
              "IPY_MODEL_e5f73e0b32434111943466fc060a179e",
              "IPY_MODEL_8a9f5885ba3241879998d557f940a863",
              "IPY_MODEL_8c62e81dab484b0a86d9ddb83d785d42"
            ],
            "layout": "IPY_MODEL_4356c07728cc4fabba59a8e361589373"
          }
        },
        "22826917ae9f46549155d34d5fc2ae7d": {
          "model_module": "@jupyter-widgets/base",
          "model_module_version": "1.2.0",
          "model_name": "LayoutModel",
          "state": {
            "_model_module": "@jupyter-widgets/base",
            "_model_module_version": "1.2.0",
            "_model_name": "LayoutModel",
            "_view_count": null,
            "_view_module": "@jupyter-widgets/base",
            "_view_module_version": "1.2.0",
            "_view_name": "LayoutView",
            "align_content": null,
            "align_items": null,
            "align_self": null,
            "border": null,
            "bottom": null,
            "display": null,
            "flex": null,
            "flex_flow": null,
            "grid_area": null,
            "grid_auto_columns": null,
            "grid_auto_flow": null,
            "grid_auto_rows": null,
            "grid_column": null,
            "grid_gap": null,
            "grid_row": null,
            "grid_template_areas": null,
            "grid_template_columns": null,
            "grid_template_rows": null,
            "height": null,
            "justify_content": null,
            "justify_items": null,
            "left": null,
            "margin": null,
            "max_height": null,
            "max_width": null,
            "min_height": null,
            "min_width": null,
            "object_fit": null,
            "object_position": null,
            "order": null,
            "overflow": null,
            "overflow_x": null,
            "overflow_y": null,
            "padding": null,
            "right": null,
            "top": null,
            "visibility": null,
            "width": null
          }
        },
        "29d43d9d824a40389280e63b25c11f23": {
          "model_module": "@jupyter-widgets/base",
          "model_module_version": "1.2.0",
          "model_name": "LayoutModel",
          "state": {
            "_model_module": "@jupyter-widgets/base",
            "_model_module_version": "1.2.0",
            "_model_name": "LayoutModel",
            "_view_count": null,
            "_view_module": "@jupyter-widgets/base",
            "_view_module_version": "1.2.0",
            "_view_name": "LayoutView",
            "align_content": null,
            "align_items": null,
            "align_self": null,
            "border": null,
            "bottom": null,
            "display": null,
            "flex": null,
            "flex_flow": null,
            "grid_area": null,
            "grid_auto_columns": null,
            "grid_auto_flow": null,
            "grid_auto_rows": null,
            "grid_column": null,
            "grid_gap": null,
            "grid_row": null,
            "grid_template_areas": null,
            "grid_template_columns": null,
            "grid_template_rows": null,
            "height": null,
            "justify_content": null,
            "justify_items": null,
            "left": null,
            "margin": null,
            "max_height": null,
            "max_width": null,
            "min_height": null,
            "min_width": null,
            "object_fit": null,
            "object_position": null,
            "order": null,
            "overflow": null,
            "overflow_x": null,
            "overflow_y": null,
            "padding": null,
            "right": null,
            "top": null,
            "visibility": null,
            "width": null
          }
        },
        "2a5900f9719a4d3e80c2fd47f9d43a1b": {
          "model_module": "@jupyter-widgets/controls",
          "model_module_version": "1.5.0",
          "model_name": "DescriptionStyleModel",
          "state": {
            "_model_module": "@jupyter-widgets/controls",
            "_model_module_version": "1.5.0",
            "_model_name": "DescriptionStyleModel",
            "_view_count": null,
            "_view_module": "@jupyter-widgets/base",
            "_view_module_version": "1.2.0",
            "_view_name": "StyleView",
            "description_width": ""
          }
        },
        "2c0097ef9613460487ed5ba6f620f22f": {
          "model_module": "@jupyter-widgets/controls",
          "model_module_version": "1.5.0",
          "model_name": "DescriptionStyleModel",
          "state": {
            "_model_module": "@jupyter-widgets/controls",
            "_model_module_version": "1.5.0",
            "_model_name": "DescriptionStyleModel",
            "_view_count": null,
            "_view_module": "@jupyter-widgets/base",
            "_view_module_version": "1.2.0",
            "_view_name": "StyleView",
            "description_width": ""
          }
        },
        "34d4f65e3813471f84561f3f4bae98a8": {
          "model_module": "@jupyter-widgets/base",
          "model_module_version": "1.2.0",
          "model_name": "LayoutModel",
          "state": {
            "_model_module": "@jupyter-widgets/base",
            "_model_module_version": "1.2.0",
            "_model_name": "LayoutModel",
            "_view_count": null,
            "_view_module": "@jupyter-widgets/base",
            "_view_module_version": "1.2.0",
            "_view_name": "LayoutView",
            "align_content": null,
            "align_items": null,
            "align_self": null,
            "border": null,
            "bottom": null,
            "display": null,
            "flex": null,
            "flex_flow": null,
            "grid_area": null,
            "grid_auto_columns": null,
            "grid_auto_flow": null,
            "grid_auto_rows": null,
            "grid_column": null,
            "grid_gap": null,
            "grid_row": null,
            "grid_template_areas": null,
            "grid_template_columns": null,
            "grid_template_rows": null,
            "height": null,
            "justify_content": null,
            "justify_items": null,
            "left": null,
            "margin": null,
            "max_height": null,
            "max_width": null,
            "min_height": null,
            "min_width": null,
            "object_fit": null,
            "object_position": null,
            "order": null,
            "overflow": null,
            "overflow_x": null,
            "overflow_y": null,
            "padding": null,
            "right": null,
            "top": null,
            "visibility": null,
            "width": null
          }
        },
        "37bed7452f0a481eaa74c80f5874f418": {
          "model_module": "@jupyter-widgets/controls",
          "model_module_version": "1.5.0",
          "model_name": "DescriptionStyleModel",
          "state": {
            "_model_module": "@jupyter-widgets/controls",
            "_model_module_version": "1.5.0",
            "_model_name": "DescriptionStyleModel",
            "_view_count": null,
            "_view_module": "@jupyter-widgets/base",
            "_view_module_version": "1.2.0",
            "_view_name": "StyleView",
            "description_width": ""
          }
        },
        "3d78950b404a4991a9c39b0895192f85": {
          "model_module": "@jupyter-widgets/controls",
          "model_module_version": "1.5.0",
          "model_name": "HTMLModel",
          "state": {
            "_dom_classes": [],
            "_model_module": "@jupyter-widgets/controls",
            "_model_module_version": "1.5.0",
            "_model_name": "HTMLModel",
            "_view_count": null,
            "_view_module": "@jupyter-widgets/controls",
            "_view_module_version": "1.5.0",
            "_view_name": "HTMLView",
            "description": "",
            "description_tooltip": null,
            "layout": "IPY_MODEL_34d4f65e3813471f84561f3f4bae98a8",
            "placeholder": "​",
            "style": "IPY_MODEL_8277c2e6dd4f473d8d5d2db936ed425c",
            "value": "100%"
          }
        },
        "4356c07728cc4fabba59a8e361589373": {
          "model_module": "@jupyter-widgets/base",
          "model_module_version": "1.2.0",
          "model_name": "LayoutModel",
          "state": {
            "_model_module": "@jupyter-widgets/base",
            "_model_module_version": "1.2.0",
            "_model_name": "LayoutModel",
            "_view_count": null,
            "_view_module": "@jupyter-widgets/base",
            "_view_module_version": "1.2.0",
            "_view_name": "LayoutView",
            "align_content": null,
            "align_items": null,
            "align_self": null,
            "border": null,
            "bottom": null,
            "display": null,
            "flex": null,
            "flex_flow": null,
            "grid_area": null,
            "grid_auto_columns": null,
            "grid_auto_flow": null,
            "grid_auto_rows": null,
            "grid_column": null,
            "grid_gap": null,
            "grid_row": null,
            "grid_template_areas": null,
            "grid_template_columns": null,
            "grid_template_rows": null,
            "height": null,
            "justify_content": null,
            "justify_items": null,
            "left": null,
            "margin": null,
            "max_height": null,
            "max_width": null,
            "min_height": null,
            "min_width": null,
            "object_fit": null,
            "object_position": null,
            "order": null,
            "overflow": null,
            "overflow_x": null,
            "overflow_y": null,
            "padding": null,
            "right": null,
            "top": null,
            "visibility": null,
            "width": null
          }
        },
        "4c9a2146499540d186faaf93483d8e9b": {
          "model_module": "@jupyter-widgets/controls",
          "model_module_version": "1.5.0",
          "model_name": "ProgressStyleModel",
          "state": {
            "_model_module": "@jupyter-widgets/controls",
            "_model_module_version": "1.5.0",
            "_model_name": "ProgressStyleModel",
            "_view_count": null,
            "_view_module": "@jupyter-widgets/base",
            "_view_module_version": "1.2.0",
            "_view_name": "StyleView",
            "bar_color": null,
            "description_width": ""
          }
        },
        "53690163f96944a595fc4b493eaec05e": {
          "model_module": "@jupyter-widgets/controls",
          "model_module_version": "1.5.0",
          "model_name": "HTMLModel",
          "state": {
            "_dom_classes": [],
            "_model_module": "@jupyter-widgets/controls",
            "_model_module_version": "1.5.0",
            "_model_name": "HTMLModel",
            "_view_count": null,
            "_view_module": "@jupyter-widgets/controls",
            "_view_module_version": "1.5.0",
            "_view_name": "HTMLView",
            "description": "",
            "description_tooltip": null,
            "layout": "IPY_MODEL_0182075895d244339a8a9d84de9ae7aa",
            "placeholder": "​",
            "style": "IPY_MODEL_2a5900f9719a4d3e80c2fd47f9d43a1b",
            "value": "100%"
          }
        },
        "53f15dd1953d4324a15ce770c8db788a": {
          "model_module": "@jupyter-widgets/base",
          "model_module_version": "1.2.0",
          "model_name": "LayoutModel",
          "state": {
            "_model_module": "@jupyter-widgets/base",
            "_model_module_version": "1.2.0",
            "_model_name": "LayoutModel",
            "_view_count": null,
            "_view_module": "@jupyter-widgets/base",
            "_view_module_version": "1.2.0",
            "_view_name": "LayoutView",
            "align_content": null,
            "align_items": null,
            "align_self": null,
            "border": null,
            "bottom": null,
            "display": null,
            "flex": null,
            "flex_flow": null,
            "grid_area": null,
            "grid_auto_columns": null,
            "grid_auto_flow": null,
            "grid_auto_rows": null,
            "grid_column": null,
            "grid_gap": null,
            "grid_row": null,
            "grid_template_areas": null,
            "grid_template_columns": null,
            "grid_template_rows": null,
            "height": null,
            "justify_content": null,
            "justify_items": null,
            "left": null,
            "margin": null,
            "max_height": null,
            "max_width": null,
            "min_height": null,
            "min_width": null,
            "object_fit": null,
            "object_position": null,
            "order": null,
            "overflow": null,
            "overflow_x": null,
            "overflow_y": null,
            "padding": null,
            "right": null,
            "top": null,
            "visibility": null,
            "width": null
          }
        },
        "5e1c5ba53e26417ba955341aa8d172c0": {
          "model_module": "@jupyter-widgets/base",
          "model_module_version": "1.2.0",
          "model_name": "LayoutModel",
          "state": {
            "_model_module": "@jupyter-widgets/base",
            "_model_module_version": "1.2.0",
            "_model_name": "LayoutModel",
            "_view_count": null,
            "_view_module": "@jupyter-widgets/base",
            "_view_module_version": "1.2.0",
            "_view_name": "LayoutView",
            "align_content": null,
            "align_items": null,
            "align_self": null,
            "border": null,
            "bottom": null,
            "display": null,
            "flex": null,
            "flex_flow": null,
            "grid_area": null,
            "grid_auto_columns": null,
            "grid_auto_flow": null,
            "grid_auto_rows": null,
            "grid_column": null,
            "grid_gap": null,
            "grid_row": null,
            "grid_template_areas": null,
            "grid_template_columns": null,
            "grid_template_rows": null,
            "height": null,
            "justify_content": null,
            "justify_items": null,
            "left": null,
            "margin": null,
            "max_height": null,
            "max_width": null,
            "min_height": null,
            "min_width": null,
            "object_fit": null,
            "object_position": null,
            "order": null,
            "overflow": null,
            "overflow_x": null,
            "overflow_y": null,
            "padding": null,
            "right": null,
            "top": null,
            "visibility": null,
            "width": null
          }
        },
        "66daaa62b831415f88082d6831466347": {
          "model_module": "@jupyter-widgets/controls",
          "model_module_version": "1.5.0",
          "model_name": "HTMLModel",
          "state": {
            "_dom_classes": [],
            "_model_module": "@jupyter-widgets/controls",
            "_model_module_version": "1.5.0",
            "_model_name": "HTMLModel",
            "_view_count": null,
            "_view_module": "@jupyter-widgets/controls",
            "_view_module_version": "1.5.0",
            "_view_name": "HTMLView",
            "description": "",
            "description_tooltip": null,
            "layout": "IPY_MODEL_b0adc8ed9ed94a1c9ae80d9a261310f1",
            "placeholder": "​",
            "style": "IPY_MODEL_c029eaa6f9d944699b2be32c89f5a6cc",
            "value": " 167M/167M [00:00&lt;00:00, 213MB/s]"
          }
        },
        "7009ac4ab9a54cc99ed39abdcb973eac": {
          "model_module": "@jupyter-widgets/base",
          "model_module_version": "1.2.0",
          "model_name": "LayoutModel",
          "state": {
            "_model_module": "@jupyter-widgets/base",
            "_model_module_version": "1.2.0",
            "_model_name": "LayoutModel",
            "_view_count": null,
            "_view_module": "@jupyter-widgets/base",
            "_view_module_version": "1.2.0",
            "_view_name": "LayoutView",
            "align_content": null,
            "align_items": null,
            "align_self": null,
            "border": null,
            "bottom": null,
            "display": null,
            "flex": null,
            "flex_flow": null,
            "grid_area": null,
            "grid_auto_columns": null,
            "grid_auto_flow": null,
            "grid_auto_rows": null,
            "grid_column": null,
            "grid_gap": null,
            "grid_row": null,
            "grid_template_areas": null,
            "grid_template_columns": null,
            "grid_template_rows": null,
            "height": null,
            "justify_content": null,
            "justify_items": null,
            "left": null,
            "margin": null,
            "max_height": null,
            "max_width": null,
            "min_height": null,
            "min_width": null,
            "object_fit": null,
            "object_position": null,
            "order": null,
            "overflow": null,
            "overflow_x": null,
            "overflow_y": null,
            "padding": null,
            "right": null,
            "top": null,
            "visibility": null,
            "width": null
          }
        },
        "73055e9d46704f1594b887cc72c7413f": {
          "model_module": "@jupyter-widgets/controls",
          "model_module_version": "1.5.0",
          "model_name": "HBoxModel",
          "state": {
            "_dom_classes": [],
            "_model_module": "@jupyter-widgets/controls",
            "_model_module_version": "1.5.0",
            "_model_name": "HBoxModel",
            "_view_count": null,
            "_view_module": "@jupyter-widgets/controls",
            "_view_module_version": "1.5.0",
            "_view_name": "HBoxView",
            "box_style": "",
            "children": [
              "IPY_MODEL_53690163f96944a595fc4b493eaec05e",
              "IPY_MODEL_e06a9129a98548c6a3c3fd76f9bfbe8b",
              "IPY_MODEL_eb2400f5d4f14245970846f801cb5169"
            ],
            "layout": "IPY_MODEL_7009ac4ab9a54cc99ed39abdcb973eac"
          }
        },
        "75f714ec4836405eb3998a210b5a9cb6": {
          "model_module": "@jupyter-widgets/controls",
          "model_module_version": "1.5.0",
          "model_name": "DescriptionStyleModel",
          "state": {
            "_model_module": "@jupyter-widgets/controls",
            "_model_module_version": "1.5.0",
            "_model_name": "DescriptionStyleModel",
            "_view_count": null,
            "_view_module": "@jupyter-widgets/base",
            "_view_module_version": "1.2.0",
            "_view_name": "StyleView",
            "description_width": ""
          }
        },
        "8277c2e6dd4f473d8d5d2db936ed425c": {
          "model_module": "@jupyter-widgets/controls",
          "model_module_version": "1.5.0",
          "model_name": "DescriptionStyleModel",
          "state": {
            "_model_module": "@jupyter-widgets/controls",
            "_model_module_version": "1.5.0",
            "_model_name": "DescriptionStyleModel",
            "_view_count": null,
            "_view_module": "@jupyter-widgets/base",
            "_view_module_version": "1.2.0",
            "_view_name": "StyleView",
            "description_width": ""
          }
        },
        "8721208d78a74f06b6d92db94a155837": {
          "model_module": "@jupyter-widgets/base",
          "model_module_version": "1.2.0",
          "model_name": "LayoutModel",
          "state": {
            "_model_module": "@jupyter-widgets/base",
            "_model_module_version": "1.2.0",
            "_model_name": "LayoutModel",
            "_view_count": null,
            "_view_module": "@jupyter-widgets/base",
            "_view_module_version": "1.2.0",
            "_view_name": "LayoutView",
            "align_content": null,
            "align_items": null,
            "align_self": null,
            "border": null,
            "bottom": null,
            "display": null,
            "flex": null,
            "flex_flow": null,
            "grid_area": null,
            "grid_auto_columns": null,
            "grid_auto_flow": null,
            "grid_auto_rows": null,
            "grid_column": null,
            "grid_gap": null,
            "grid_row": null,
            "grid_template_areas": null,
            "grid_template_columns": null,
            "grid_template_rows": null,
            "height": null,
            "justify_content": null,
            "justify_items": null,
            "left": null,
            "margin": null,
            "max_height": null,
            "max_width": null,
            "min_height": null,
            "min_width": null,
            "object_fit": null,
            "object_position": null,
            "order": null,
            "overflow": null,
            "overflow_x": null,
            "overflow_y": null,
            "padding": null,
            "right": null,
            "top": null,
            "visibility": null,
            "width": null
          }
        },
        "89269c4fc5b545a798cad36b98a8f108": {
          "model_module": "@jupyter-widgets/controls",
          "model_module_version": "1.5.0",
          "model_name": "ProgressStyleModel",
          "state": {
            "_model_module": "@jupyter-widgets/controls",
            "_model_module_version": "1.5.0",
            "_model_name": "ProgressStyleModel",
            "_view_count": null,
            "_view_module": "@jupyter-widgets/base",
            "_view_module_version": "1.2.0",
            "_view_name": "StyleView",
            "bar_color": null,
            "description_width": ""
          }
        },
        "8a9f5885ba3241879998d557f940a863": {
          "model_module": "@jupyter-widgets/controls",
          "model_module_version": "1.5.0",
          "model_name": "FloatProgressModel",
          "state": {
            "_dom_classes": [],
            "_model_module": "@jupyter-widgets/controls",
            "_model_module_version": "1.5.0",
            "_model_name": "FloatProgressModel",
            "_view_count": null,
            "_view_module": "@jupyter-widgets/controls",
            "_view_module_version": "1.5.0",
            "_view_name": "ProgressView",
            "bar_style": "success",
            "description": "",
            "description_tooltip": null,
            "layout": "IPY_MODEL_a3d992865cb044d68a608791b1fcf3ad",
            "max": 129612099,
            "min": 0,
            "orientation": "horizontal",
            "style": "IPY_MODEL_09e7b35c1b4c4d7a8a59eeae05081bff",
            "value": 129612099
          }
        },
        "8c62e81dab484b0a86d9ddb83d785d42": {
          "model_module": "@jupyter-widgets/controls",
          "model_module_version": "1.5.0",
          "model_name": "HTMLModel",
          "state": {
            "_dom_classes": [],
            "_model_module": "@jupyter-widgets/controls",
            "_model_module_version": "1.5.0",
            "_model_name": "HTMLModel",
            "_view_count": null,
            "_view_module": "@jupyter-widgets/controls",
            "_view_module_version": "1.5.0",
            "_view_name": "HTMLView",
            "description": "",
            "description_tooltip": null,
            "layout": "IPY_MODEL_5e1c5ba53e26417ba955341aa8d172c0",
            "placeholder": "​",
            "style": "IPY_MODEL_aa4e035f518b4f6a95d58f54d52a7532",
            "value": " 124M/124M [00:00&lt;00:00, 225MB/s]"
          }
        },
        "8d4e0f32eb904ec6b8c01c46a4fc432c": {
          "model_module": "@jupyter-widgets/controls",
          "model_module_version": "1.5.0",
          "model_name": "FloatProgressModel",
          "state": {
            "_dom_classes": [],
            "_model_module": "@jupyter-widgets/controls",
            "_model_module_version": "1.5.0",
            "_model_name": "FloatProgressModel",
            "_view_count": null,
            "_view_module": "@jupyter-widgets/controls",
            "_view_module_version": "1.5.0",
            "_view_name": "ProgressView",
            "bar_style": "success",
            "description": "",
            "description_tooltip": null,
            "layout": "IPY_MODEL_c6988decb6c24180bed0f93ca59f92e1",
            "max": 175221657,
            "min": 0,
            "orientation": "horizontal",
            "style": "IPY_MODEL_af8dc24ab3404e00ab68a1bf2a2d19d3",
            "value": 175221657
          }
        },
        "95e9bf8f64fa47808bee462be23d1d7e": {
          "model_module": "@jupyter-widgets/controls",
          "model_module_version": "1.5.0",
          "model_name": "DescriptionStyleModel",
          "state": {
            "_model_module": "@jupyter-widgets/controls",
            "_model_module_version": "1.5.0",
            "_model_name": "DescriptionStyleModel",
            "_view_count": null,
            "_view_module": "@jupyter-widgets/base",
            "_view_module_version": "1.2.0",
            "_view_name": "StyleView",
            "description_width": ""
          }
        },
        "9e2dc29758f844ac8a5978a9291aeab0": {
          "model_module": "@jupyter-widgets/base",
          "model_module_version": "1.2.0",
          "model_name": "LayoutModel",
          "state": {
            "_model_module": "@jupyter-widgets/base",
            "_model_module_version": "1.2.0",
            "_model_name": "LayoutModel",
            "_view_count": null,
            "_view_module": "@jupyter-widgets/base",
            "_view_module_version": "1.2.0",
            "_view_name": "LayoutView",
            "align_content": null,
            "align_items": null,
            "align_self": null,
            "border": null,
            "bottom": null,
            "display": null,
            "flex": null,
            "flex_flow": null,
            "grid_area": null,
            "grid_auto_columns": null,
            "grid_auto_flow": null,
            "grid_auto_rows": null,
            "grid_column": null,
            "grid_gap": null,
            "grid_row": null,
            "grid_template_areas": null,
            "grid_template_columns": null,
            "grid_template_rows": null,
            "height": null,
            "justify_content": null,
            "justify_items": null,
            "left": null,
            "margin": null,
            "max_height": null,
            "max_width": null,
            "min_height": null,
            "min_width": null,
            "object_fit": null,
            "object_position": null,
            "order": null,
            "overflow": null,
            "overflow_x": null,
            "overflow_y": null,
            "padding": null,
            "right": null,
            "top": null,
            "visibility": null,
            "width": null
          }
        },
        "a3d992865cb044d68a608791b1fcf3ad": {
          "model_module": "@jupyter-widgets/base",
          "model_module_version": "1.2.0",
          "model_name": "LayoutModel",
          "state": {
            "_model_module": "@jupyter-widgets/base",
            "_model_module_version": "1.2.0",
            "_model_name": "LayoutModel",
            "_view_count": null,
            "_view_module": "@jupyter-widgets/base",
            "_view_module_version": "1.2.0",
            "_view_name": "LayoutView",
            "align_content": null,
            "align_items": null,
            "align_self": null,
            "border": null,
            "bottom": null,
            "display": null,
            "flex": null,
            "flex_flow": null,
            "grid_area": null,
            "grid_auto_columns": null,
            "grid_auto_flow": null,
            "grid_auto_rows": null,
            "grid_column": null,
            "grid_gap": null,
            "grid_row": null,
            "grid_template_areas": null,
            "grid_template_columns": null,
            "grid_template_rows": null,
            "height": null,
            "justify_content": null,
            "justify_items": null,
            "left": null,
            "margin": null,
            "max_height": null,
            "max_width": null,
            "min_height": null,
            "min_width": null,
            "object_fit": null,
            "object_position": null,
            "order": null,
            "overflow": null,
            "overflow_x": null,
            "overflow_y": null,
            "padding": null,
            "right": null,
            "top": null,
            "visibility": null,
            "width": null
          }
        },
        "aa4e035f518b4f6a95d58f54d52a7532": {
          "model_module": "@jupyter-widgets/controls",
          "model_module_version": "1.5.0",
          "model_name": "DescriptionStyleModel",
          "state": {
            "_model_module": "@jupyter-widgets/controls",
            "_model_module_version": "1.5.0",
            "_model_name": "DescriptionStyleModel",
            "_view_count": null,
            "_view_module": "@jupyter-widgets/base",
            "_view_module_version": "1.2.0",
            "_view_name": "StyleView",
            "description_width": ""
          }
        },
        "ac038d8fdae64e2db2ad9073da315c37": {
          "model_module": "@jupyter-widgets/base",
          "model_module_version": "1.2.0",
          "model_name": "LayoutModel",
          "state": {
            "_model_module": "@jupyter-widgets/base",
            "_model_module_version": "1.2.0",
            "_model_name": "LayoutModel",
            "_view_count": null,
            "_view_module": "@jupyter-widgets/base",
            "_view_module_version": "1.2.0",
            "_view_name": "LayoutView",
            "align_content": null,
            "align_items": null,
            "align_self": null,
            "border": null,
            "bottom": null,
            "display": null,
            "flex": null,
            "flex_flow": null,
            "grid_area": null,
            "grid_auto_columns": null,
            "grid_auto_flow": null,
            "grid_auto_rows": null,
            "grid_column": null,
            "grid_gap": null,
            "grid_row": null,
            "grid_template_areas": null,
            "grid_template_columns": null,
            "grid_template_rows": null,
            "height": null,
            "justify_content": null,
            "justify_items": null,
            "left": null,
            "margin": null,
            "max_height": null,
            "max_width": null,
            "min_height": null,
            "min_width": null,
            "object_fit": null,
            "object_position": null,
            "order": null,
            "overflow": null,
            "overflow_x": null,
            "overflow_y": null,
            "padding": null,
            "right": null,
            "top": null,
            "visibility": null,
            "width": null
          }
        },
        "af8dc24ab3404e00ab68a1bf2a2d19d3": {
          "model_module": "@jupyter-widgets/controls",
          "model_module_version": "1.5.0",
          "model_name": "ProgressStyleModel",
          "state": {
            "_model_module": "@jupyter-widgets/controls",
            "_model_module_version": "1.5.0",
            "_model_name": "ProgressStyleModel",
            "_view_count": null,
            "_view_module": "@jupyter-widgets/base",
            "_view_module_version": "1.2.0",
            "_view_name": "StyleView",
            "bar_color": null,
            "description_width": ""
          }
        },
        "b0adc8ed9ed94a1c9ae80d9a261310f1": {
          "model_module": "@jupyter-widgets/base",
          "model_module_version": "1.2.0",
          "model_name": "LayoutModel",
          "state": {
            "_model_module": "@jupyter-widgets/base",
            "_model_module_version": "1.2.0",
            "_model_name": "LayoutModel",
            "_view_count": null,
            "_view_module": "@jupyter-widgets/base",
            "_view_module_version": "1.2.0",
            "_view_name": "LayoutView",
            "align_content": null,
            "align_items": null,
            "align_self": null,
            "border": null,
            "bottom": null,
            "display": null,
            "flex": null,
            "flex_flow": null,
            "grid_area": null,
            "grid_auto_columns": null,
            "grid_auto_flow": null,
            "grid_auto_rows": null,
            "grid_column": null,
            "grid_gap": null,
            "grid_row": null,
            "grid_template_areas": null,
            "grid_template_columns": null,
            "grid_template_rows": null,
            "height": null,
            "justify_content": null,
            "justify_items": null,
            "left": null,
            "margin": null,
            "max_height": null,
            "max_width": null,
            "min_height": null,
            "min_width": null,
            "object_fit": null,
            "object_position": null,
            "order": null,
            "overflow": null,
            "overflow_x": null,
            "overflow_y": null,
            "padding": null,
            "right": null,
            "top": null,
            "visibility": null,
            "width": null
          }
        },
        "b21968fe4a6346fdba6c4bbdeb73d2f9": {
          "model_module": "@jupyter-widgets/controls",
          "model_module_version": "1.5.0",
          "model_name": "FloatProgressModel",
          "state": {
            "_dom_classes": [],
            "_model_module": "@jupyter-widgets/controls",
            "_model_module_version": "1.5.0",
            "_model_name": "FloatProgressModel",
            "_view_count": null,
            "_view_module": "@jupyter-widgets/controls",
            "_view_module_version": "1.5.0",
            "_view_name": "ProgressView",
            "bar_style": "success",
            "description": "",
            "description_tooltip": null,
            "layout": "IPY_MODEL_8721208d78a74f06b6d92db94a155837",
            "max": 142594222,
            "min": 0,
            "orientation": "horizontal",
            "style": "IPY_MODEL_4c9a2146499540d186faaf93483d8e9b",
            "value": 142594222
          }
        },
        "b2888123a9584cfdb95b167ca414de3e": {
          "model_module": "@jupyter-widgets/controls",
          "model_module_version": "1.5.0",
          "model_name": "HBoxModel",
          "state": {
            "_dom_classes": [],
            "_model_module": "@jupyter-widgets/controls",
            "_model_module_version": "1.5.0",
            "_model_name": "HBoxModel",
            "_view_count": null,
            "_view_module": "@jupyter-widgets/controls",
            "_view_module_version": "1.5.0",
            "_view_name": "HBoxView",
            "box_style": "",
            "children": [
              "IPY_MODEL_d7c3450630a048ae9ab52926f6424708",
              "IPY_MODEL_8d4e0f32eb904ec6b8c01c46a4fc432c",
              "IPY_MODEL_66daaa62b831415f88082d6831466347"
            ],
            "layout": "IPY_MODEL_f99fb5477d1a419db2ef195874faa66f"
          }
        },
        "b37562781c45495cb8090462a3824c63": {
          "model_module": "@jupyter-widgets/controls",
          "model_module_version": "1.5.0",
          "model_name": "HBoxModel",
          "state": {
            "_dom_classes": [],
            "_model_module": "@jupyter-widgets/controls",
            "_model_module_version": "1.5.0",
            "_model_name": "HBoxModel",
            "_view_count": null,
            "_view_module": "@jupyter-widgets/controls",
            "_view_module_version": "1.5.0",
            "_view_name": "HBoxView",
            "box_style": "",
            "children": [
              "IPY_MODEL_3d78950b404a4991a9c39b0895192f85",
              "IPY_MODEL_b21968fe4a6346fdba6c4bbdeb73d2f9",
              "IPY_MODEL_1582eff33ff140a2aaffd7fc0d3a750a"
            ],
            "layout": "IPY_MODEL_22826917ae9f46549155d34d5fc2ae7d"
          }
        },
        "c029eaa6f9d944699b2be32c89f5a6cc": {
          "model_module": "@jupyter-widgets/controls",
          "model_module_version": "1.5.0",
          "model_name": "DescriptionStyleModel",
          "state": {
            "_model_module": "@jupyter-widgets/controls",
            "_model_module_version": "1.5.0",
            "_model_name": "DescriptionStyleModel",
            "_view_count": null,
            "_view_module": "@jupyter-widgets/base",
            "_view_module_version": "1.2.0",
            "_view_name": "StyleView",
            "description_width": ""
          }
        },
        "c6988decb6c24180bed0f93ca59f92e1": {
          "model_module": "@jupyter-widgets/base",
          "model_module_version": "1.2.0",
          "model_name": "LayoutModel",
          "state": {
            "_model_module": "@jupyter-widgets/base",
            "_model_module_version": "1.2.0",
            "_model_name": "LayoutModel",
            "_view_count": null,
            "_view_module": "@jupyter-widgets/base",
            "_view_module_version": "1.2.0",
            "_view_name": "LayoutView",
            "align_content": null,
            "align_items": null,
            "align_self": null,
            "border": null,
            "bottom": null,
            "display": null,
            "flex": null,
            "flex_flow": null,
            "grid_area": null,
            "grid_auto_columns": null,
            "grid_auto_flow": null,
            "grid_auto_rows": null,
            "grid_column": null,
            "grid_gap": null,
            "grid_row": null,
            "grid_template_areas": null,
            "grid_template_columns": null,
            "grid_template_rows": null,
            "height": null,
            "justify_content": null,
            "justify_items": null,
            "left": null,
            "margin": null,
            "max_height": null,
            "max_width": null,
            "min_height": null,
            "min_width": null,
            "object_fit": null,
            "object_position": null,
            "order": null,
            "overflow": null,
            "overflow_x": null,
            "overflow_y": null,
            "padding": null,
            "right": null,
            "top": null,
            "visibility": null,
            "width": null
          }
        },
        "d7c3450630a048ae9ab52926f6424708": {
          "model_module": "@jupyter-widgets/controls",
          "model_module_version": "1.5.0",
          "model_name": "HTMLModel",
          "state": {
            "_dom_classes": [],
            "_model_module": "@jupyter-widgets/controls",
            "_model_module_version": "1.5.0",
            "_model_name": "HTMLModel",
            "_view_count": null,
            "_view_module": "@jupyter-widgets/controls",
            "_view_module_version": "1.5.0",
            "_view_name": "HTMLView",
            "description": "",
            "description_tooltip": null,
            "layout": "IPY_MODEL_040c9554981b4d46a717070f3ef1f7ba",
            "placeholder": "​",
            "style": "IPY_MODEL_2c0097ef9613460487ed5ba6f620f22f",
            "value": "100%"
          }
        },
        "e06a9129a98548c6a3c3fd76f9bfbe8b": {
          "model_module": "@jupyter-widgets/controls",
          "model_module_version": "1.5.0",
          "model_name": "FloatProgressModel",
          "state": {
            "_dom_classes": [],
            "_model_module": "@jupyter-widgets/controls",
            "_model_module_version": "1.5.0",
            "_model_name": "FloatProgressModel",
            "_view_count": null,
            "_view_module": "@jupyter-widgets/controls",
            "_view_module_version": "1.5.0",
            "_view_name": "ProgressView",
            "bar_style": "success",
            "description": "",
            "description_tooltip": null,
            "layout": "IPY_MODEL_29d43d9d824a40389280e63b25c11f23",
            "max": 1999639040,
            "min": 0,
            "orientation": "horizontal",
            "style": "IPY_MODEL_89269c4fc5b545a798cad36b98a8f108",
            "value": 1999639040
          }
        },
        "e5f73e0b32434111943466fc060a179e": {
          "model_module": "@jupyter-widgets/controls",
          "model_module_version": "1.5.0",
          "model_name": "HTMLModel",
          "state": {
            "_dom_classes": [],
            "_model_module": "@jupyter-widgets/controls",
            "_model_module_version": "1.5.0",
            "_model_name": "HTMLModel",
            "_view_count": null,
            "_view_module": "@jupyter-widgets/controls",
            "_view_module_version": "1.5.0",
            "_view_name": "HTMLView",
            "description": "",
            "description_tooltip": null,
            "layout": "IPY_MODEL_9e2dc29758f844ac8a5978a9291aeab0",
            "placeholder": "​",
            "style": "IPY_MODEL_75f714ec4836405eb3998a210b5a9cb6",
            "value": "100%"
          }
        },
        "eb2400f5d4f14245970846f801cb5169": {
          "model_module": "@jupyter-widgets/controls",
          "model_module_version": "1.5.0",
          "model_name": "HTMLModel",
          "state": {
            "_dom_classes": [],
            "_model_module": "@jupyter-widgets/controls",
            "_model_module_version": "1.5.0",
            "_model_name": "HTMLModel",
            "_view_count": null,
            "_view_module": "@jupyter-widgets/controls",
            "_view_module_version": "1.5.0",
            "_view_name": "HTMLView",
            "description": "",
            "description_tooltip": null,
            "layout": "IPY_MODEL_53f15dd1953d4324a15ce770c8db788a",
            "placeholder": "​",
            "style": "IPY_MODEL_95e9bf8f64fa47808bee462be23d1d7e",
            "value": " 1999639040/1999639040 [01:06&lt;00:00, 30807064.92it/s]"
          }
        },
        "f99fb5477d1a419db2ef195874faa66f": {
          "model_module": "@jupyter-widgets/base",
          "model_module_version": "1.2.0",
          "model_name": "LayoutModel",
          "state": {
            "_model_module": "@jupyter-widgets/base",
            "_model_module_version": "1.2.0",
            "_model_name": "LayoutModel",
            "_view_count": null,
            "_view_module": "@jupyter-widgets/base",
            "_view_module_version": "1.2.0",
            "_view_name": "LayoutView",
            "align_content": null,
            "align_items": null,
            "align_self": null,
            "border": null,
            "bottom": null,
            "display": null,
            "flex": null,
            "flex_flow": null,
            "grid_area": null,
            "grid_auto_columns": null,
            "grid_auto_flow": null,
            "grid_auto_rows": null,
            "grid_column": null,
            "grid_gap": null,
            "grid_row": null,
            "grid_template_areas": null,
            "grid_template_columns": null,
            "grid_template_rows": null,
            "height": null,
            "justify_content": null,
            "justify_items": null,
            "left": null,
            "margin": null,
            "max_height": null,
            "max_width": null,
            "min_height": null,
            "min_width": null,
            "object_fit": null,
            "object_position": null,
            "order": null,
            "overflow": null,
            "overflow_x": null,
            "overflow_y": null,
            "padding": null,
            "right": null,
            "top": null,
            "visibility": null,
            "width": null
          }
        }
      }
    }
  },
  "nbformat": 4,
  "nbformat_minor": 0
}
