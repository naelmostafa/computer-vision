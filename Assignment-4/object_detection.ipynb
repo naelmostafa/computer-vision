{
  "nbformat": 4,
  "nbformat_minor": 0,
  "metadata": {
    "colab": {
      "provenance": [],
      "authorship_tag": "ABX9TyNhWoFsbWZ9slplCQUm7wNo",
      "include_colab_link": true
    },
    "kernelspec": {
      "name": "python3",
      "display_name": "Python 3"
    },
    "language_info": {
      "name": "python"
    },
    "accelerator": "GPU",
    "gpuClass": "standard",
    "widgets": {
      "application/vnd.jupyter.widget-state+json": {
        "c4dc2809139145739d8479f9d37173a7": {
          "model_module": "@jupyter-widgets/controls",
          "model_name": "HBoxModel",
          "model_module_version": "1.5.0",
          "state": {
            "_dom_classes": [],
            "_model_module": "@jupyter-widgets/controls",
            "_model_module_version": "1.5.0",
            "_model_name": "HBoxModel",
            "_view_count": null,
            "_view_module": "@jupyter-widgets/controls",
            "_view_module_version": "1.5.0",
            "_view_name": "HBoxView",
            "box_style": "",
            "children": [
              "IPY_MODEL_b6b8952cbdbc445ba83fa84b97f6749c",
              "IPY_MODEL_2a6e33bf21a64f87ad5b2968f0fd6b5f",
              "IPY_MODEL_78b06dbb8a144990885fb4c141f95b15"
            ],
            "layout": "IPY_MODEL_850e831a0e9948659ab08dca14312259"
          }
        },
        "b6b8952cbdbc445ba83fa84b97f6749c": {
          "model_module": "@jupyter-widgets/controls",
          "model_name": "HTMLModel",
          "model_module_version": "1.5.0",
          "state": {
            "_dom_classes": [],
            "_model_module": "@jupyter-widgets/controls",
            "_model_module_version": "1.5.0",
            "_model_name": "HTMLModel",
            "_view_count": null,
            "_view_module": "@jupyter-widgets/controls",
            "_view_module_version": "1.5.0",
            "_view_name": "HTMLView",
            "description": "",
            "description_tooltip": null,
            "layout": "IPY_MODEL_f14559a591cd48769ca9aa96de0bff17",
            "placeholder": "​",
            "style": "IPY_MODEL_aa03871e675f430fa10df2d17138e763",
            "value": "100%"
          }
        },
        "2a6e33bf21a64f87ad5b2968f0fd6b5f": {
          "model_module": "@jupyter-widgets/controls",
          "model_name": "FloatProgressModel",
          "model_module_version": "1.5.0",
          "state": {
            "_dom_classes": [],
            "_model_module": "@jupyter-widgets/controls",
            "_model_module_version": "1.5.0",
            "_model_name": "FloatProgressModel",
            "_view_count": null,
            "_view_module": "@jupyter-widgets/controls",
            "_view_module_version": "1.5.0",
            "_view_name": "ProgressView",
            "bar_style": "success",
            "description": "",
            "description_tooltip": null,
            "layout": "IPY_MODEL_35a85cdb3217488a829a2a273743c345",
            "max": 142594222,
            "min": 0,
            "orientation": "horizontal",
            "style": "IPY_MODEL_e2ffb0bec3a6498eaefc57e65a2d0487",
            "value": 142594222
          }
        },
        "78b06dbb8a144990885fb4c141f95b15": {
          "model_module": "@jupyter-widgets/controls",
          "model_name": "HTMLModel",
          "model_module_version": "1.5.0",
          "state": {
            "_dom_classes": [],
            "_model_module": "@jupyter-widgets/controls",
            "_model_module_version": "1.5.0",
            "_model_name": "HTMLModel",
            "_view_count": null,
            "_view_module": "@jupyter-widgets/controls",
            "_view_module_version": "1.5.0",
            "_view_name": "HTMLView",
            "description": "",
            "description_tooltip": null,
            "layout": "IPY_MODEL_e908d67bf43c448fbc3b21e38778fb3a",
            "placeholder": "​",
            "style": "IPY_MODEL_c760b132901d48eba23fe13f490384df",
            "value": " 136M/136M [00:09&lt;00:00, 18.2MB/s]"
          }
        },
        "850e831a0e9948659ab08dca14312259": {
          "model_module": "@jupyter-widgets/base",
          "model_name": "LayoutModel",
          "model_module_version": "1.2.0",
          "state": {
            "_model_module": "@jupyter-widgets/base",
            "_model_module_version": "1.2.0",
            "_model_name": "LayoutModel",
            "_view_count": null,
            "_view_module": "@jupyter-widgets/base",
            "_view_module_version": "1.2.0",
            "_view_name": "LayoutView",
            "align_content": null,
            "align_items": null,
            "align_self": null,
            "border": null,
            "bottom": null,
            "display": null,
            "flex": null,
            "flex_flow": null,
            "grid_area": null,
            "grid_auto_columns": null,
            "grid_auto_flow": null,
            "grid_auto_rows": null,
            "grid_column": null,
            "grid_gap": null,
            "grid_row": null,
            "grid_template_areas": null,
            "grid_template_columns": null,
            "grid_template_rows": null,
            "height": null,
            "justify_content": null,
            "justify_items": null,
            "left": null,
            "margin": null,
            "max_height": null,
            "max_width": null,
            "min_height": null,
            "min_width": null,
            "object_fit": null,
            "object_position": null,
            "order": null,
            "overflow": null,
            "overflow_x": null,
            "overflow_y": null,
            "padding": null,
            "right": null,
            "top": null,
            "visibility": null,
            "width": null
          }
        },
        "f14559a591cd48769ca9aa96de0bff17": {
          "model_module": "@jupyter-widgets/base",
          "model_name": "LayoutModel",
          "model_module_version": "1.2.0",
          "state": {
            "_model_module": "@jupyter-widgets/base",
            "_model_module_version": "1.2.0",
            "_model_name": "LayoutModel",
            "_view_count": null,
            "_view_module": "@jupyter-widgets/base",
            "_view_module_version": "1.2.0",
            "_view_name": "LayoutView",
            "align_content": null,
            "align_items": null,
            "align_self": null,
            "border": null,
            "bottom": null,
            "display": null,
            "flex": null,
            "flex_flow": null,
            "grid_area": null,
            "grid_auto_columns": null,
            "grid_auto_flow": null,
            "grid_auto_rows": null,
            "grid_column": null,
            "grid_gap": null,
            "grid_row": null,
            "grid_template_areas": null,
            "grid_template_columns": null,
            "grid_template_rows": null,
            "height": null,
            "justify_content": null,
            "justify_items": null,
            "left": null,
            "margin": null,
            "max_height": null,
            "max_width": null,
            "min_height": null,
            "min_width": null,
            "object_fit": null,
            "object_position": null,
            "order": null,
            "overflow": null,
            "overflow_x": null,
            "overflow_y": null,
            "padding": null,
            "right": null,
            "top": null,
            "visibility": null,
            "width": null
          }
        },
        "aa03871e675f430fa10df2d17138e763": {
          "model_module": "@jupyter-widgets/controls",
          "model_name": "DescriptionStyleModel",
          "model_module_version": "1.5.0",
          "state": {
            "_model_module": "@jupyter-widgets/controls",
            "_model_module_version": "1.5.0",
            "_model_name": "DescriptionStyleModel",
            "_view_count": null,
            "_view_module": "@jupyter-widgets/base",
            "_view_module_version": "1.2.0",
            "_view_name": "StyleView",
            "description_width": ""
          }
        },
        "35a85cdb3217488a829a2a273743c345": {
          "model_module": "@jupyter-widgets/base",
          "model_name": "LayoutModel",
          "model_module_version": "1.2.0",
          "state": {
            "_model_module": "@jupyter-widgets/base",
            "_model_module_version": "1.2.0",
            "_model_name": "LayoutModel",
            "_view_count": null,
            "_view_module": "@jupyter-widgets/base",
            "_view_module_version": "1.2.0",
            "_view_name": "LayoutView",
            "align_content": null,
            "align_items": null,
            "align_self": null,
            "border": null,
            "bottom": null,
            "display": null,
            "flex": null,
            "flex_flow": null,
            "grid_area": null,
            "grid_auto_columns": null,
            "grid_auto_flow": null,
            "grid_auto_rows": null,
            "grid_column": null,
            "grid_gap": null,
            "grid_row": null,
            "grid_template_areas": null,
            "grid_template_columns": null,
            "grid_template_rows": null,
            "height": null,
            "justify_content": null,
            "justify_items": null,
            "left": null,
            "margin": null,
            "max_height": null,
            "max_width": null,
            "min_height": null,
            "min_width": null,
            "object_fit": null,
            "object_position": null,
            "order": null,
            "overflow": null,
            "overflow_x": null,
            "overflow_y": null,
            "padding": null,
            "right": null,
            "top": null,
            "visibility": null,
            "width": null
          }
        },
        "e2ffb0bec3a6498eaefc57e65a2d0487": {
          "model_module": "@jupyter-widgets/controls",
          "model_name": "ProgressStyleModel",
          "model_module_version": "1.5.0",
          "state": {
            "_model_module": "@jupyter-widgets/controls",
            "_model_module_version": "1.5.0",
            "_model_name": "ProgressStyleModel",
            "_view_count": null,
            "_view_module": "@jupyter-widgets/base",
            "_view_module_version": "1.2.0",
            "_view_name": "StyleView",
            "bar_color": null,
            "description_width": ""
          }
        },
        "e908d67bf43c448fbc3b21e38778fb3a": {
          "model_module": "@jupyter-widgets/base",
          "model_name": "LayoutModel",
          "model_module_version": "1.2.0",
          "state": {
            "_model_module": "@jupyter-widgets/base",
            "_model_module_version": "1.2.0",
            "_model_name": "LayoutModel",
            "_view_count": null,
            "_view_module": "@jupyter-widgets/base",
            "_view_module_version": "1.2.0",
            "_view_name": "LayoutView",
            "align_content": null,
            "align_items": null,
            "align_self": null,
            "border": null,
            "bottom": null,
            "display": null,
            "flex": null,
            "flex_flow": null,
            "grid_area": null,
            "grid_auto_columns": null,
            "grid_auto_flow": null,
            "grid_auto_rows": null,
            "grid_column": null,
            "grid_gap": null,
            "grid_row": null,
            "grid_template_areas": null,
            "grid_template_columns": null,
            "grid_template_rows": null,
            "height": null,
            "justify_content": null,
            "justify_items": null,
            "left": null,
            "margin": null,
            "max_height": null,
            "max_width": null,
            "min_height": null,
            "min_width": null,
            "object_fit": null,
            "object_position": null,
            "order": null,
            "overflow": null,
            "overflow_x": null,
            "overflow_y": null,
            "padding": null,
            "right": null,
            "top": null,
            "visibility": null,
            "width": null
          }
        },
        "c760b132901d48eba23fe13f490384df": {
          "model_module": "@jupyter-widgets/controls",
          "model_name": "DescriptionStyleModel",
          "model_module_version": "1.5.0",
          "state": {
            "_model_module": "@jupyter-widgets/controls",
            "_model_module_version": "1.5.0",
            "_model_name": "DescriptionStyleModel",
            "_view_count": null,
            "_view_module": "@jupyter-widgets/base",
            "_view_module_version": "1.2.0",
            "_view_name": "StyleView",
            "description_width": ""
          }
        }
      }
    }
  },
  "cells": [
    {
      "cell_type": "markdown",
      "metadata": {
        "id": "view-in-github",
        "colab_type": "text"
      },
      "source": [
        "<a href=\"https://colab.research.google.com/github/naelmostafa/computer-vision/blob/main/Assignment-4/object_detection.ipynb\" target=\"_parent\"><img src=\"https://colab.research.google.com/assets/colab-badge.svg\" alt=\"Open In Colab\"/></a>"
      ]
    },
    {
      "cell_type": "markdown",
      "source": [
        "# Dependencies"
      ],
      "metadata": {
        "id": "ZrruqE5O8bpm"
      }
    },
    {
      "cell_type": "markdown",
      "source": [
        "## Download fiftyone"
      ],
      "metadata": {
        "id": "UbIewKZED-Yk"
      }
    },
    {
      "cell_type": "code",
      "source": [
        "!pip install fiftyone"
      ],
      "metadata": {
        "id": "tNxuCgpiL0fK"
      },
      "execution_count": null,
      "outputs": []
    },
    {
      "cell_type": "markdown",
      "source": [
        "## Imports"
      ],
      "metadata": {
        "id": "v7C78zYNEImH"
      }
    },
    {
      "cell_type": "code",
      "execution_count": null,
      "metadata": {
        "id": "ObA-y6RE8ZkX"
      },
      "outputs": [],
      "source": [
        "import torch\n",
        "import torchvision\n",
        "from PIL import Image\n",
        "from torchvision.transforms import functional as func\n",
        "from torch.utils.data import DataLoader\n",
        "from torchvision import datasets\n",
        "from torchvision.transforms import ToTensor\n",
        "\n",
        "import fiftyone as fo\n",
        "import fiftyone.zoo as foz\n",
        "from fiftyone import ViewField as F"
      ]
    },
    {
      "cell_type": "markdown",
      "source": [
        "# Model intialization\n",
        "\n",
        "\n",
        "*   Run on GPU if available\n",
        "*   Load pre-trained Model\n",
        "*   load model to GPU\n",
        "*   Set to evalution mode"
      ],
      "metadata": {
        "id": "YcderkSCDhDQ"
      }
    },
    {
      "cell_type": "code",
      "source": [
        "# Run on GPU\n",
        "device = torch.device(\"cuda:0\" if torch.cuda.is_available() else \"cpu\")"
      ],
      "metadata": {
        "id": "a9iHTYQHQ07F"
      },
      "execution_count": null,
      "outputs": []
    },
    {
      "cell_type": "markdown",
      "source": [
        "## Faster R-CNN"
      ],
      "metadata": {
        "id": "4SLYwIHMRQcg"
      }
    },
    {
      "cell_type": "code",
      "source": [
        "# Load pre-trained model\n",
        "model_rcnn = torchvision.models.detection.fasterrcnn_resnet50_fpn_v2(weights=torchvision.models.detection.FasterRCNN_ResNet50_FPN_V2_Weights.DEFAULT)\n",
        "model_rcnn.to(device)\n",
        "model_rcnn.eval()\n",
        "\n",
        "print(\"Model Faster R-CNN\")"
      ],
      "metadata": {
        "colab": {
          "base_uri": "https://localhost:8080/"
        },
        "id": "ZDnWevAS_BwJ",
        "outputId": "3fea16ab-8432-4d81-8bbd-5fbe9d8a1cd9"
      },
      "execution_count": null,
      "outputs": [
        {
          "output_type": "stream",
          "name": "stdout",
          "text": [
            "Model Faster R-CNN\n"
          ]
        }
      ]
    },
    {
      "cell_type": "markdown",
      "source": [
        "## FCOS: Fully Convolutional One-Stage Object Detection"
      ],
      "metadata": {
        "id": "GfagGVvfRhpG"
      }
    },
    {
      "cell_type": "code",
      "source": [
        "# Load pre-trained model\n",
        "model_fcos = torchvision.models.detection.fcos_resnet50_fpn(weights=torchvision.models.detection.FCOS_ResNet50_FPN_Weights.DEFAULT)\n",
        "model_fcos.to(device)\n",
        "model_fcos.eval()\n",
        "\n",
        "print(\"Model FOCS\")"
      ],
      "metadata": {
        "colab": {
          "base_uri": "https://localhost:8080/"
        },
        "id": "xbh7TBAsQ3rd",
        "outputId": "9e40c833-fbb7-4445-f6ff-aa059a759fa9"
      },
      "execution_count": null,
      "outputs": [
        {
          "output_type": "stream",
          "name": "stdout",
          "text": [
            "Model FOCS\n"
          ]
        }
      ]
    },
    {
      "cell_type": "markdown",
      "source": [
        "## SSD"
      ],
      "metadata": {
        "id": "75MGYa7167ps"
      }
    },
    {
      "cell_type": "code",
      "source": [
        "model_ssd = torchvision.models.detection.ssd300_vgg16(weights=torchvision.models.detection.SSD300_VGG16_Weights.DEFAULT)\n",
        "model_ssd.to(device)\n",
        "model_ssd.eval()\n",
        "\n",
        "print(\"Model SSD\")"
      ],
      "metadata": {
        "colab": {
          "base_uri": "https://localhost:8080/",
          "height": 84,
          "referenced_widgets": [
            "c4dc2809139145739d8479f9d37173a7",
            "b6b8952cbdbc445ba83fa84b97f6749c",
            "2a6e33bf21a64f87ad5b2968f0fd6b5f",
            "78b06dbb8a144990885fb4c141f95b15",
            "850e831a0e9948659ab08dca14312259",
            "f14559a591cd48769ca9aa96de0bff17",
            "aa03871e675f430fa10df2d17138e763",
            "35a85cdb3217488a829a2a273743c345",
            "e2ffb0bec3a6498eaefc57e65a2d0487",
            "e908d67bf43c448fbc3b21e38778fb3a",
            "c760b132901d48eba23fe13f490384df"
          ]
        },
        "id": "gufOqkhi68La",
        "outputId": "7e633d05-7ba8-4e84-d078-0af620a3b2d5"
      },
      "execution_count": null,
      "outputs": [
        {
          "output_type": "stream",
          "name": "stderr",
          "text": [
            "Downloading: \"https://download.pytorch.org/models/ssd300_vgg16_coco-b556d3b4.pth\" to /root/.cache/torch/hub/checkpoints/ssd300_vgg16_coco-b556d3b4.pth\n"
          ]
        },
        {
          "output_type": "display_data",
          "data": {
            "text/plain": [
              "  0%|          | 0.00/136M [00:00<?, ?B/s]"
            ],
            "application/vnd.jupyter.widget-view+json": {
              "version_major": 2,
              "version_minor": 0,
              "model_id": "c4dc2809139145739d8479f9d37173a7"
            }
          },
          "metadata": {}
        },
        {
          "output_type": "stream",
          "name": "stdout",
          "text": [
            "Model SSD\n"
          ]
        }
      ]
    },
    {
      "cell_type": "markdown",
      "source": [
        "# Download COCO-2017 validation split and explore"
      ],
      "metadata": {
        "id": "4fzuVDn8EdRg"
      }
    },
    {
      "cell_type": "markdown",
      "source": [
        "## Download"
      ],
      "metadata": {
        "id": "Q2x6TamyVMu-"
      }
    },
    {
      "cell_type": "code",
      "source": [
        "# Download test split\n",
        "dataset = foz.load_zoo_dataset(\n",
        "    \"coco-2017\",\n",
        "    split=\"validation\",\n",
        ")\n",
        "\n",
        "dataset.persistent = True"
      ],
      "metadata": {
        "colab": {
          "base_uri": "https://localhost:8080/"
        },
        "id": "Ag1a-joQPfYw",
        "outputId": "3cddb1d3-3d12-4c46-b40e-bbdde9166783"
      },
      "execution_count": null,
      "outputs": [
        {
          "output_type": "stream",
          "name": "stdout",
          "text": [
            "Downloading split 'validation' to '/root/fiftyone/coco-2017/validation' if necessary\n"
          ]
        },
        {
          "output_type": "stream",
          "name": "stderr",
          "text": [
            "INFO:fiftyone.zoo.datasets:Downloading split 'validation' to '/root/fiftyone/coco-2017/validation' if necessary\n"
          ]
        },
        {
          "output_type": "stream",
          "name": "stdout",
          "text": [
            "Found annotations at '/root/fiftyone/coco-2017/raw/instances_val2017.json'\n"
          ]
        },
        {
          "output_type": "stream",
          "name": "stderr",
          "text": [
            "INFO:fiftyone.utils.coco:Found annotations at '/root/fiftyone/coco-2017/raw/instances_val2017.json'\n"
          ]
        },
        {
          "output_type": "stream",
          "name": "stdout",
          "text": [
            "Images already downloaded\n"
          ]
        },
        {
          "output_type": "stream",
          "name": "stderr",
          "text": [
            "INFO:fiftyone.utils.coco:Images already downloaded\n"
          ]
        },
        {
          "output_type": "stream",
          "name": "stdout",
          "text": [
            "Existing download of split 'validation' is sufficient\n"
          ]
        },
        {
          "output_type": "stream",
          "name": "stderr",
          "text": [
            "INFO:fiftyone.zoo.datasets:Existing download of split 'validation' is sufficient\n"
          ]
        },
        {
          "output_type": "stream",
          "name": "stdout",
          "text": [
            "Loading existing dataset 'coco-2017-validation'. To reload from disk, either delete the existing dataset or provide a custom `dataset_name` to use\n"
          ]
        },
        {
          "output_type": "stream",
          "name": "stderr",
          "text": [
            "INFO:fiftyone.zoo.datasets:Loading existing dataset 'coco-2017-validation'. To reload from disk, either delete the existing dataset or provide a custom `dataset_name` to use\n"
          ]
        }
      ]
    },
    {
      "cell_type": "code",
      "source": [
        "print(dataset)"
      ],
      "metadata": {
        "colab": {
          "base_uri": "https://localhost:8080/"
        },
        "id": "-oJddmTbSOyA",
        "outputId": "a2147a06-c62e-4e0f-b2e4-ba4dbb5efd0e"
      },
      "execution_count": null,
      "outputs": [
        {
          "output_type": "stream",
          "name": "stdout",
          "text": [
            "Name:        coco-2017-validation\n",
            "Media type:  image\n",
            "Num samples: 5000\n",
            "Persistent:  True\n",
            "Tags:        []\n",
            "Sample fields:\n",
            "    id:           fiftyone.core.fields.ObjectIdField\n",
            "    filepath:     fiftyone.core.fields.StringField\n",
            "    tags:         fiftyone.core.fields.ListField(fiftyone.core.fields.StringField)\n",
            "    metadata:     fiftyone.core.fields.EmbeddedDocumentField(fiftyone.core.metadata.ImageMetadata)\n",
            "    ground_truth: fiftyone.core.fields.EmbeddedDocumentField(fiftyone.core.labels.Detections)\n",
            "    faster_rcnn:  fiftyone.core.fields.EmbeddedDocumentField(fiftyone.core.labels.Detections)\n",
            "    FCOS:         fiftyone.core.fields.EmbeddedDocumentField(fiftyone.core.labels.Detections)\n",
            "    Faster_RCNN:  fiftyone.core.fields.EmbeddedDocumentField(fiftyone.core.labels.Detections)\n",
            "    eval_tp:      fiftyone.core.fields.IntField\n",
            "    eval_fp:      fiftyone.core.fields.IntField\n",
            "    eval_fn:      fiftyone.core.fields.IntField\n"
          ]
        }
      ]
    },
    {
      "cell_type": "markdown",
      "source": [
        "## Explore"
      ],
      "metadata": {
        "id": "4N8IzMmxVPon"
      }
    },
    {
      "cell_type": "code",
      "source": [
        "print(dataset.first().ground_truth.detections[0])"
      ],
      "metadata": {
        "colab": {
          "base_uri": "https://localhost:8080/"
        },
        "id": "D20IMkxJEpbg",
        "outputId": "397c5aff-f205-4959-e867-e63c36939e85"
      },
      "execution_count": null,
      "outputs": [
        {
          "output_type": "stream",
          "name": "stdout",
          "text": [
            "<Detection: {\n",
            "    'id': '63a055620b4e02ae95cf631d',\n",
            "    'attributes': {},\n",
            "    'tags': [],\n",
            "    'label': 'potted plant',\n",
            "    'bounding_box': [\n",
            "        0.37028125,\n",
            "        0.3345305164319249,\n",
            "        0.038593749999999996,\n",
            "        0.16314553990610328,\n",
            "    ],\n",
            "    'mask': None,\n",
            "    'confidence': None,\n",
            "    'index': None,\n",
            "    'supercategory': 'furniture',\n",
            "    'iscrowd': 0,\n",
            "    'eval': 'fn',\n",
            "    'eval_id': '',\n",
            "}>\n"
          ]
        }
      ]
    },
    {
      "cell_type": "code",
      "source": [
        "session = fo.launch_app(dataset)"
      ],
      "metadata": {
        "id": "r4dEWL_uVGMK"
      },
      "execution_count": null,
      "outputs": []
    },
    {
      "cell_type": "markdown",
      "source": [
        "# Run test and add predections to dataset to visualize"
      ],
      "metadata": {
        "id": "NU6Lq7hoUVbe"
      }
    },
    {
      "cell_type": "code",
      "source": [
        "# Classes\n",
        "classes = dataset.default_classes\n",
        "print(len(classes))"
      ],
      "metadata": {
        "colab": {
          "base_uri": "https://localhost:8080/"
        },
        "id": "iiK8V-g0Ajes",
        "outputId": "d5122d5c-b1d6-41c5-a35a-fe85d7fc6f27"
      },
      "execution_count": null,
      "outputs": [
        {
          "output_type": "stream",
          "name": "stdout",
          "text": [
            "91\n"
          ]
        }
      ]
    },
    {
      "cell_type": "code",
      "source": [
        "def predection_inference(model, dataset, label_name:str):\n",
        "  classes = dataset.default_classes\n",
        "  # Add predictions to samples\n",
        "  with fo.ProgressBar() as pb:\n",
        "      for sample in pb(dataset):\n",
        "          # Load image\n",
        "          image = Image.open(sample.filepath)\n",
        "          image = func.to_tensor(image).to(device)\n",
        "          c, h, w = image.shape\n",
        "          \n",
        "          # Perform inference\n",
        "          preds = model([image])[0]\n",
        "          labels = preds[\"labels\"].cpu().detach().numpy()\n",
        "          scores = preds[\"scores\"].cpu().detach().numpy()\n",
        "          boxes = preds[\"boxes\"].cpu().detach().numpy()\n",
        "          \n",
        "          # Convert detections to FiftyOne format\n",
        "          detections = []\n",
        "          for label, score, box in zip(labels, scores, boxes):\n",
        "              # Convert to [top-left-x, top-left-y, width, height]\n",
        "              # in relative coordinates in [0, 1] x [0, 1]\n",
        "              x1, y1, x2, y2 = box\n",
        "              rel_box = [x1 / w, y1 / h, (x2 - x1) / w, (y2 - y1) / h]\n",
        "\n",
        "              detections.append(\n",
        "                  fo.Detection(\n",
        "                      label=classes[label],\n",
        "                      bounding_box=rel_box,\n",
        "                      confidence=score\n",
        "                  )\n",
        "              )\n",
        "          \n",
        "          # Save predictions to dataset\n",
        "          sample[label_name] = fo.Detections(detections=detections)\n",
        "          sample.save()\n",
        "\n",
        "  print(\"Finished adding predictions\")"
      ],
      "metadata": {
        "id": "ELgZOFT_WvZJ"
      },
      "execution_count": null,
      "outputs": []
    },
    {
      "cell_type": "code",
      "source": [
        "predection_inference(model_rcnn, dataset, \"faster_rcnn\")"
      ],
      "metadata": {
        "colab": {
          "base_uri": "https://localhost:8080/"
        },
        "id": "hxyoOjaxaC0p",
        "outputId": "abeb2d45-b9fc-4162-cce2-5c4e821d1237"
      },
      "execution_count": null,
      "outputs": [
        {
          "output_type": "stream",
          "name": "stdout",
          "text": [
            " 100% |███████████████| 5000/5000 [18.5m elapsed, 0s remaining, 5.0 samples/s]      \n"
          ]
        },
        {
          "output_type": "stream",
          "name": "stderr",
          "text": [
            "INFO:eta.core.utils: 100% |███████████████| 5000/5000 [18.5m elapsed, 0s remaining, 5.0 samples/s]      \n"
          ]
        },
        {
          "output_type": "stream",
          "name": "stdout",
          "text": [
            "Finished adding predictions\n"
          ]
        }
      ]
    },
    {
      "cell_type": "code",
      "source": [
        "predection_inference(model_fcos, dataset, \"fcos\")"
      ],
      "metadata": {
        "colab": {
          "base_uri": "https://localhost:8080/"
        },
        "id": "7KqAc1daZiGH",
        "outputId": "dad93c56-0bc7-4f17-d5b5-3976022fa50a"
      },
      "execution_count": null,
      "outputs": [
        {
          "output_type": "stream",
          "name": "stdout",
          "text": [
            " 100% |███████████████| 5000/5000 [14.2m elapsed, 0s remaining, 6.1 samples/s]      \n"
          ]
        },
        {
          "output_type": "stream",
          "name": "stderr",
          "text": [
            "INFO:eta.core.utils: 100% |███████████████| 5000/5000 [14.2m elapsed, 0s remaining, 6.1 samples/s]      \n"
          ]
        },
        {
          "output_type": "stream",
          "name": "stdout",
          "text": [
            "Finished adding predictions\n"
          ]
        }
      ]
    },
    {
      "cell_type": "code",
      "source": [
        "predection_inference(model_ssd, dataset, \"ssd\")"
      ],
      "metadata": {
        "colab": {
          "base_uri": "https://localhost:8080/"
        },
        "id": "6nVic67D8VED",
        "outputId": "57199de7-adf1-49d3-eb75-1bbce34f0059"
      },
      "execution_count": null,
      "outputs": [
        {
          "output_type": "stream",
          "name": "stdout",
          "text": [
            " 100% |███████████████| 5000/5000 [17.5m elapsed, 0s remaining, 6.0 samples/s]      \n"
          ]
        },
        {
          "output_type": "stream",
          "name": "stderr",
          "text": [
            "INFO:eta.core.utils: 100% |███████████████| 5000/5000 [17.5m elapsed, 0s remaining, 6.0 samples/s]      \n"
          ]
        },
        {
          "output_type": "stream",
          "name": "stdout",
          "text": [
            "Finished adding predictions\n"
          ]
        }
      ]
    },
    {
      "cell_type": "markdown",
      "source": [
        "# Evaluate"
      ],
      "metadata": {
        "id": "x4fx1xQLlKR5"
      }
    },
    {
      "cell_type": "code",
      "source": [
        "# Only contains detections with confidence >= 0.75\n",
        "high_conf_view_faster_rcnn = dataset.filter_labels(\"faster_rcnn\", F(\"confidence\") > 0.75, only_matches=False)\n",
        "high_conf_view_fcos = dataset.filter_labels(\"fcos\", F(\"confidence\") > 0.75, only_matches=False)\n",
        "high_conf_view_ssd = dataset.filter_labels(\"ssd\", F(\"confidence\") > 0.75, only_matches=False)"
      ],
      "metadata": {
        "id": "N48ZCwWtDSCd"
      },
      "execution_count": null,
      "outputs": []
    },
    {
      "cell_type": "code",
      "source": [
        "results_f_rcnn = high_conf_view_faster_rcnn.evaluate_detections(\n",
        "    \"faster_rcnn\",\n",
        "    gt_field=\"ground_truth\",\n",
        "    eval_key=\"eval_f_rcnn\",\n",
        "    compute_mAP=True,\n",
        "    iou=0.5\n",
        ")\n",
        "\n",
        "results_fcos = high_conf_view_fcos.evaluate_detections(\n",
        "    \"fcos\",\n",
        "    gt_field=\"ground_truth\",\n",
        "    eval_key=\"eval_fcos\",\n",
        "    compute_mAP=True,\n",
        "    iou=0.5\n",
        ")\n",
        "\n",
        "results_ssd = high_conf_view_ssd.evaluate_detections(\n",
        "    \"ssd\",\n",
        "    gt_field=\"ground_truth\",\n",
        "    eval_key=\"eval_ssd\",\n",
        "    compute_mAP=True,\n",
        "    iou=0.5\n",
        ")"
      ],
      "metadata": {
        "id": "iQO-wBESlJuM"
      },
      "execution_count": null,
      "outputs": []
    },
    {
      "cell_type": "markdown",
      "source": [
        "# Faster RCNN"
      ],
      "metadata": {
        "id": "ukw3pKhZ3UGs"
      }
    },
    {
      "cell_type": "code",
      "source": [
        "results_fcos.print_report()\n",
        "print(f'mAP: {results_fcos.mAP()}')"
      ],
      "metadata": {
        "id": "xrijYm4V3THl"
      },
      "execution_count": null,
      "outputs": []
    },
    {
      "cell_type": "code",
      "source": [
        "plot = results_fcos.plot_pr_curves()\n",
        "plot.show()"
      ],
      "metadata": {
        "id": "V2IRV1T93YoA"
      },
      "execution_count": null,
      "outputs": []
    },
    {
      "cell_type": "code",
      "source": [
        "plot.freeze()"
      ],
      "metadata": {
        "id": "cd-yCULVNAHV"
      },
      "execution_count": null,
      "outputs": []
    },
    {
      "cell_type": "markdown",
      "source": [
        "# FCOS results\n",
        "\n",
        "*   Precision Recall f1-score support\n",
        "*   mAP\n",
        "*   pr curve\n",
        "\n"
      ],
      "metadata": {
        "id": "uAx0x-El2KCy"
      }
    },
    {
      "cell_type": "code",
      "source": [
        "results_fcos.print_report()\n",
        "print(f'mAP: {results_fcos.mAP()}')"
      ],
      "metadata": {
        "colab": {
          "base_uri": "https://localhost:8080/"
        },
        "id": "PBiZ3H1YyDBY",
        "outputId": "84ac5a36-b3a8-491e-9aaf-ef4c82c550fb"
      },
      "execution_count": null,
      "outputs": [
        {
          "output_type": "stream",
          "name": "stdout",
          "text": [
            "                precision    recall  f1-score   support\n",
            "\n",
            "      airplane       0.15      0.97      0.26       143\n",
            "         apple       0.11      0.77      0.19       361\n",
            "      backpack       0.04      0.63      0.08       371\n",
            "        banana       0.20      0.89      0.32       850\n",
            "  baseball bat       0.08      0.62      0.14       146\n",
            "baseball glove       0.10      0.74      0.18       148\n",
            "          bear       0.15      0.93      0.26        71\n",
            "           bed       0.05      0.90      0.10       163\n",
            "         bench       0.03      0.61      0.07       427\n",
            "       bicycle       0.09      0.77      0.16       343\n",
            "          bird       0.27      0.83      0.41       898\n",
            "          boat       0.14      0.85      0.24       618\n",
            "          book       0.24      0.85      0.37      2735\n",
            "        bottle       0.18      0.83      0.29      1388\n",
            "          bowl       0.10      0.82      0.17       654\n",
            "      broccoli       0.09      0.88      0.17       460\n",
            "           bus       0.14      0.89      0.24       304\n",
            "          cake       0.15      0.88      0.26       481\n",
            "           car       0.16      0.87      0.28      2392\n",
            "        carrot       0.15      0.84      0.25       639\n",
            "           cat       0.11      0.98      0.21       202\n",
            "    cell phone       0.10      0.78      0.17       262\n",
            "         chair       0.10      0.77      0.17      2140\n",
            "         clock       0.16      0.81      0.27       267\n",
            "         couch       0.05      0.90      0.10       261\n",
            "           cow       0.29      0.95      0.45       690\n",
            "           cup       0.15      0.82      0.25       957\n",
            "  dining table       0.05      0.74      0.10       708\n",
            "           dog       0.10      0.92      0.18       218\n",
            "         donut       0.32      0.92      0.47       721\n",
            "      elephant       0.23      0.98      0.38       416\n",
            "  fire hydrant       0.14      0.90      0.24       101\n",
            "          fork       0.08      0.75      0.15       215\n",
            "       frisbee       0.17      0.90      0.29       115\n",
            "       giraffe       0.21      0.94      0.34       232\n",
            "    hair drier       0.02      0.55      0.03        11\n",
            "       handbag       0.04      0.63      0.08       540\n",
            "         horse       0.12      0.91      0.20       273\n",
            "       hot dog       0.12      0.77      0.20       183\n",
            "      keyboard       0.10      0.85      0.18       153\n",
            "          kite       0.28      0.90      0.42       529\n",
            "         knife       0.06      0.55      0.10       326\n",
            "        laptop       0.10      0.85      0.19       231\n",
            "     microwave       0.08      0.84      0.14        55\n",
            "    motorcycle       0.14      0.90      0.24       485\n",
            "         mouse       0.15      0.89      0.25       106\n",
            "        orange       0.13      0.79      0.23       343\n",
            "          oven       0.06      0.77      0.11       143\n",
            " parking meter       0.07      0.73      0.12        60\n",
            "        person       0.31      0.94      0.47     18357\n",
            "         pizza       0.12      0.85      0.21       285\n",
            "  potted plant       0.06      0.76      0.11       345\n",
            "  refrigerator       0.07      0.87      0.13       126\n",
            "        remote       0.11      0.77      0.18       283\n",
            "      sandwich       0.07      0.80      0.13       177\n",
            "      scissors       0.03      0.67      0.06        36\n",
            "         sheep       0.27      0.96      0.42       690\n",
            "          sink       0.08      0.80      0.14       225\n",
            "    skateboard       0.12      0.85      0.21       179\n",
            "          skis       0.07      0.71      0.12       241\n",
            "     snowboard       0.05      0.72      0.09        69\n",
            "         spoon       0.05      0.60      0.09       253\n",
            "   sports ball       0.19      0.74      0.30       286\n",
            "     stop sign       0.12      0.84      0.22        75\n",
            "      suitcase       0.13      0.88      0.23       444\n",
            "     surfboard       0.10      0.76      0.17       270\n",
            "    teddy bear       0.09      0.84      0.16       192\n",
            " tennis racket       0.14      0.85      0.25       225\n",
            "           tie       0.09      0.70      0.15       277\n",
            "       toaster       0.03      0.78      0.06         9\n",
            "        toilet       0.12      0.91      0.22       179\n",
            "    toothbrush       0.04      0.65      0.08        57\n",
            " traffic light       0.13      0.71      0.22       652\n",
            "         train       0.12      0.95      0.22       190\n",
            "         truck       0.08      0.88      0.14       416\n",
            "            tv       0.11      0.87      0.20       288\n",
            "      umbrella       0.13      0.82      0.23       505\n",
            "          vase       0.09      0.81      0.16       282\n",
            "    wine glass       0.16      0.77      0.26       382\n",
            "         zebra       0.23      0.98      0.38       330\n",
            "\n",
            "     micro avg       0.16      0.87      0.27     50860\n",
            "     macro avg       0.12      0.82      0.21     50860\n",
            "  weighted avg       0.21      0.87      0.33     50860\n",
            "\n",
            "mAP: 0.391520749079543\n"
          ]
        }
      ]
    },
    {
      "cell_type": "code",
      "source": [
        "plot = results_fcos.plot_pr_curves()\n",
        "plot.show()"
      ],
      "metadata": {
        "id": "-Ed3jKPS2y_M"
      },
      "execution_count": null,
      "outputs": []
    },
    {
      "cell_type": "markdown",
      "source": [
        "# SSD"
      ],
      "metadata": {
        "id": "F2LuGJIQEWd-"
      }
    },
    {
      "cell_type": "code",
      "source": [
        "results_ssd.print_report()\n",
        "print(f'mAP: {results_ssd.mAP()}')"
      ],
      "metadata": {
        "colab": {
          "base_uri": "https://localhost:8080/"
        },
        "id": "a0ZJPjYkEX4V",
        "outputId": "b4001754-853b-4340-9460-5931bf25219e"
      },
      "execution_count": null,
      "outputs": [
        {
          "output_type": "stream",
          "name": "stdout",
          "text": [
            "                precision    recall  f1-score   support\n",
            "\n",
            "      airplane       0.93      0.49      0.64       143\n",
            "         apple       0.67      0.03      0.05       239\n",
            "      backpack       0.80      0.01      0.02       371\n",
            "        banana       0.93      0.07      0.12       379\n",
            "  baseball bat       0.80      0.08      0.15       146\n",
            "baseball glove       0.88      0.05      0.09       148\n",
            "          bear       0.98      0.61      0.75        71\n",
            "           bed       0.94      0.37      0.54       163\n",
            "         bench       0.89      0.11      0.20       413\n",
            "       bicycle       0.92      0.14      0.24       316\n",
            "          bird       0.98      0.14      0.25       440\n",
            "          boat       0.91      0.07      0.14       430\n",
            "          book       1.00      0.00      0.01      1161\n",
            "        bottle       0.85      0.03      0.05      1025\n",
            "          bowl       0.86      0.15      0.26       626\n",
            "      broccoli       0.66      0.06      0.11       316\n",
            "           bus       1.00      0.47      0.64       285\n",
            "          cake       0.92      0.15      0.26       316\n",
            "           car       0.94      0.11      0.19      1932\n",
            "        carrot       0.83      0.01      0.03       371\n",
            "           cat       0.96      0.63      0.76       202\n",
            "    cell phone       0.91      0.12      0.21       262\n",
            "         chair       0.94      0.06      0.12      1791\n",
            "         clock       0.97      0.23      0.37       267\n",
            "         couch       0.86      0.23      0.36       261\n",
            "           cow       0.93      0.24      0.38       380\n",
            "           cup       0.91      0.10      0.18       899\n",
            "  dining table       0.78      0.18      0.29       697\n",
            "           dog       0.93      0.51      0.66       218\n",
            "         donut       0.82      0.21      0.33       338\n",
            "      elephant       0.94      0.50      0.65       255\n",
            "  fire hydrant       1.00      0.40      0.57       101\n",
            "          fork       0.91      0.05      0.09       215\n",
            "       frisbee       0.96      0.21      0.34       115\n",
            "       giraffe       0.97      0.58      0.73       232\n",
            "    hair drier       0.00      0.00      0.00        11\n",
            "       handbag       1.00      0.00      0.00       540\n",
            "         horse       0.96      0.40      0.56       273\n",
            "       hot dog       1.00      0.13      0.24       127\n",
            "      keyboard       1.00      0.24      0.39       153\n",
            "          kite       0.87      0.08      0.15       336\n",
            "         knife       1.00      0.01      0.01       326\n",
            "        laptop       0.95      0.44      0.60       231\n",
            "     microwave       1.00      0.27      0.43        55\n",
            "    motorcycle       0.96      0.26      0.41       371\n",
            "         mouse       1.00      0.10      0.19       106\n",
            "        orange       0.74      0.08      0.14       287\n",
            "          oven       0.94      0.21      0.34       143\n",
            " parking meter       1.00      0.23      0.38        60\n",
            "        person       0.97      0.27      0.43     11008\n",
            "         pizza       0.95      0.33      0.49       285\n",
            "  potted plant       0.94      0.05      0.09       343\n",
            "  refrigerator       0.95      0.33      0.49       126\n",
            "        remote       0.83      0.04      0.07       283\n",
            "      sandwich       0.89      0.23      0.37       177\n",
            "      scissors       1.00      0.08      0.15        36\n",
            "         sheep       0.97      0.24      0.38       361\n",
            "          sink       0.91      0.18      0.30       225\n",
            "    skateboard       0.98      0.23      0.37       179\n",
            "          skis       1.00      0.05      0.09       241\n",
            "     snowboard       1.00      0.09      0.16        69\n",
            "         spoon       1.00      0.00      0.01       253\n",
            "   sports ball       1.00      0.02      0.04       263\n",
            "     stop sign       0.92      0.48      0.63        75\n",
            "      suitcase       0.94      0.10      0.17       303\n",
            "     surfboard       0.96      0.16      0.28       269\n",
            "    teddy bear       0.91      0.36      0.52       191\n",
            " tennis racket       0.98      0.28      0.43       225\n",
            "           tie       0.92      0.09      0.17       254\n",
            "       toaster       0.00      0.00      0.00         9\n",
            "        toilet       0.93      0.51      0.66       179\n",
            "    toothbrush       1.00      0.02      0.03        57\n",
            " traffic light       0.95      0.03      0.05       637\n",
            "         train       0.98      0.64      0.78       190\n",
            "         truck       0.87      0.14      0.24       415\n",
            "            tv       0.94      0.40      0.56       288\n",
            "      umbrella       0.89      0.14      0.25       413\n",
            "          vase       0.88      0.13      0.22       277\n",
            "    wine glass       0.94      0.09      0.16       343\n",
            "         zebra       0.98      0.51      0.67       268\n",
            "\n",
            "     micro avg       0.95      0.19      0.32     36785\n",
            "     macro avg       0.90      0.20      0.30     36785\n",
            "  weighted avg       0.93      0.19      0.30     36785\n",
            "\n",
            "mAP: 0.14422599907152245\n"
          ]
        }
      ]
    },
    {
      "cell_type": "code",
      "source": [
        "plot = results_ssd.plot_pr_curves()\n",
        "plot.show()"
      ],
      "metadata": {
        "colab": {
          "base_uri": "https://localhost:8080/",
          "height": 542
        },
        "id": "4L9jK86UEZGs",
        "outputId": "fe34508b-6959-46f0-bec5-2504b1ff30c9"
      },
      "execution_count": null,
      "outputs": [
        {
          "output_type": "display_data",
          "data": {
            "text/html": [
              "<html>\n",
              "<head><meta charset=\"utf-8\" /></head>\n",
              "<body>\n",
              "    <div>            <script src=\"https://cdnjs.cloudflare.com/ajax/libs/mathjax/2.7.5/MathJax.js?config=TeX-AMS-MML_SVG\"></script><script type=\"text/javascript\">if (window.MathJax) {MathJax.Hub.Config({SVG: {font: \"STIX-Web\"}});}</script>                <script type=\"text/javascript\">window.PlotlyConfig = {MathJaxConfig: 'local'};</script>\n",
              "        <script src=\"https://cdn.plot.ly/plotly-2.8.3.min.js\"></script>                <div id=\"1463197c-add7-4008-99d0-c13f29e57311\" class=\"plotly-graph-div\" style=\"height:525px; width:100%;\"></div>            <script type=\"text/javascript\">                                    window.PLOTLYENV=window.PLOTLYENV || {};                                    if (document.getElementById(\"1463197c-add7-4008-99d0-c13f29e57311\")) {                    Plotly.newPlot(                        \"1463197c-add7-4008-99d0-c13f29e57311\",                        [{\"customdata\":[0.9998574256896973,0.9998574256896973,0.9996659874916076,0.9994551181793213,0.9994551181793213,0.999301415681839,0.9987646520137787,0.9987646520137787,0.9982833743095398,0.8993158638477325,0.89914191365242,0.89914191365242,0.898874717950821,0.8988024473190308,0.8988024473190308,0.8985775113105774,0.8983002662658691,0.8982696235179901,0.8982696235179901,0.898082023859024,0.8980696201324463,0.8980696201324463,0.8979634761810302,0.8979096591472626,0.8978235483169555,0.8978235483169555,0.8976714193820954,0.8972268104553223,0.8972268104553223,0.8969890177249908,0.8966403543949127,0.8953401505947113,0.8953401505947113,0.8945590376853942,0.8835360050201416,0.8835360050201416,0.8704015493392945,0.7932286977767944,0.7932286977767944,0.7923248469829559,0.7903659284114838,0.7894161403179168,0.7894161403179168,0.7848800539970398,0.7828578233718873,0.7828578233718873,0.7723330199718476,0.756335175037384,0.7419073283672333,0.7419073283672333,0.6317842304706573,0.6271879315376282,0.6271879315376282,0.6246828734874725,0.608492237329483,0.5111902534961701,0.5111902534961701,0.5059777855873108,0.4651335835456848,0.4651335835456848,0.07616940140724182,0.0,0.0,0.0,0.0,0.0,0.0,0.0,0.0,0.0,0.0,0.0,0.0,0.0,0.0,0.0,0.0,0.0,0.0,0.0,0.0,0.0,0.0,0.0,0.0,0.0,0.0,0.0,0.0,0.0,0.0,0.0,0.0,0.0,0.0,0.0,0.0,0.0,0.0,0.0,0.0],\"hovertemplate\":\"<b>class: %{text}</b><br>recall: %{x:.3f}<br>precision: %{y:.3f}<br>threshold: %{customdata:.3f}<extra></extra>\",\"line\":{\"color\":\"#3366CC\"},\"mode\":\"lines\",\"name\":\"bear (AP = 0.489)\",\"text\":[\"bear\",\"bear\",\"bear\",\"bear\",\"bear\",\"bear\",\"bear\",\"bear\",\"bear\",\"bear\",\"bear\",\"bear\",\"bear\",\"bear\",\"bear\",\"bear\",\"bear\",\"bear\",\"bear\",\"bear\",\"bear\",\"bear\",\"bear\",\"bear\",\"bear\",\"bear\",\"bear\",\"bear\",\"bear\",\"bear\",\"bear\",\"bear\",\"bear\",\"bear\",\"bear\",\"bear\",\"bear\",\"bear\",\"bear\",\"bear\",\"bear\",\"bear\",\"bear\",\"bear\",\"bear\",\"bear\",\"bear\",\"bear\",\"bear\",\"bear\",\"bear\",\"bear\",\"bear\",\"bear\",\"bear\",\"bear\",\"bear\",\"bear\",\"bear\",\"bear\",\"bear\",\"bear\",\"bear\",\"bear\",\"bear\",\"bear\",\"bear\",\"bear\",\"bear\",\"bear\",\"bear\",\"bear\",\"bear\",\"bear\",\"bear\",\"bear\",\"bear\",\"bear\",\"bear\",\"bear\",\"bear\",\"bear\",\"bear\",\"bear\",\"bear\",\"bear\",\"bear\",\"bear\",\"bear\",\"bear\",\"bear\",\"bear\",\"bear\",\"bear\",\"bear\",\"bear\",\"bear\",\"bear\",\"bear\",\"bear\",\"bear\"],\"x\":[0.0,0.01,0.02,0.03,0.04,0.05,0.06,0.07,0.08,0.09,0.1,0.11,0.12,0.13,0.14,0.15,0.16,0.17,0.18,0.19,0.2,0.21,0.22,0.23,0.24,0.25,0.26,0.27,0.28,0.29,0.3,0.31,0.32,0.33,0.34,0.35000000000000003,0.36,0.37,0.38,0.39,0.4,0.41000000000000003,0.42,0.43,0.44,0.45,0.46,0.47000000000000003,0.48,0.49,0.5,0.51,0.52,0.53,0.54,0.55,0.56,0.5700000000000001,0.58,0.59,0.6,0.61,0.62,0.63,0.64,0.65,0.66,0.67,0.68,0.6900000000000001,0.7000000000000001,0.71,0.72,0.73,0.74,0.75,0.76,0.77,0.78,0.79,0.8,0.81,0.8200000000000001,0.8300000000000001,0.84,0.85,0.86,0.87,0.88,0.89,0.9,0.91,0.92,0.93,0.9400000000000001,0.9500000000000001,0.96,0.97,0.98,0.99,1.0],\"y\":[1.0,1.0,0.925,0.925,0.925,0.925,0.9206896551724139,0.9206896551724139,0.9025078369905957,0.8818181818181818,0.8818181818181818,0.8818181818181818,0.8818181818181818,0.8818181818181818,0.8818181818181818,0.8818181818181818,0.8818181818181818,0.8776515151515151,0.8776515151515151,0.8776515151515151,0.8776515151515151,0.8776515151515151,0.8776515151515151,0.8776515151515151,0.8776515151515151,0.8776515151515151,0.875,0.8727564102564103,0.8727564102564103,0.8716954022988505,0.8716954022988505,0.868560606060606,0.868560606060606,0.865034965034965,0.852404181184669,0.852404181184669,0.8505194805194807,0.7885714285714286,0.7885714285714286,0.7885714285714286,0.7885714285714286,0.7885714285714286,0.7885714285714286,0.7885714285714286,0.7885714285714286,0.7885714285714286,0.7780952380952381,0.7780952380952381,0.7681818181818182,0.7681818181818182,0.6754784688995217,0.6754784688995217,0.6754784688995217,0.665909090909091,0.6636363636363637,0.575,0.575,0.575,0.575,0.575,0.09772727272727273,0.0,0.0,0.0,0.0,0.0,0.0,0.0,0.0,0.0,0.0,0.0,0.0,0.0,0.0,0.0,0.0,0.0,0.0,0.0,0.0,0.0,0.0,0.0,0.0,0.0,0.0,0.0,0.0,0.0,0.0,0.0,0.0,0.0,0.0,0.0,0.0,0.0,0.0,0.0,0.0],\"type\":\"scatter\"},{\"customdata\":[0.9998595714569092,0.9998303771018981,0.9996662676334381,0.999578857421875,0.9994747638702393,0.9990490198135376,0.9984054327011108,0.9980422616004944,0.9924492597579956,0.8992534816265106,0.8992096304893493,0.899129980802536,0.8990238726139068,0.8989094316959381,0.8987502932548523,0.8986415088176727,0.8985288619995118,0.8983886957168579,0.8983264684677124,0.898113876581192,0.8979864180088043,0.8977450251579284,0.897101616859436,0.8967755615711213,0.896510660648346,0.8957352459430694,0.89444340467453,0.8929208040237426,0.8904913783073425,0.8877111613750458,0.8807550072669983,0.7943833410739899,0.793868750333786,0.792994350194931,0.7920660555362702,0.7904559373855591,0.7897129952907562,0.7879838168621063,0.786679995059967,0.7845879375934601,0.7833225727081299,0.7819628119468689,0.7808288216590882,0.777493816614151,0.7698200464248657,0.7600985050201416,0.7524188399314881,0.6723363697528839,0.6682710647583008,0.6616565167903901,0.6600862920284272,0.6527994334697723,0.6475755333900451,0.6382280230522156,0.6311335921287536,0.5491251230239869,0.5354233264923096,0.5245384275913239,0.4352834224700928,0.4267620623111725,0.41409778594970703,0.40153018832206727,0.3098465263843536,0.22866927981376647,0.2252849221229553,0.0,0.0,0.0,0.0,0.0,0.0,0.0,0.0,0.0,0.0,0.0,0.0,0.0,0.0,0.0,0.0,0.0,0.0,0.0,0.0,0.0,0.0,0.0,0.0,0.0,0.0,0.0,0.0,0.0,0.0,0.0,0.0,0.0,0.0,0.0,0.0],\"hovertemplate\":\"<b>class: %{text}</b><br>recall: %{x:.3f}<br>precision: %{y:.3f}<br>threshold: %{customdata:.3f}<extra></extra>\",\"line\":{\"color\":\"#DC3912\"},\"mode\":\"lines\",\"name\":\"train (AP = 0.486)\",\"text\":[\"train\",\"train\",\"train\",\"train\",\"train\",\"train\",\"train\",\"train\",\"train\",\"train\",\"train\",\"train\",\"train\",\"train\",\"train\",\"train\",\"train\",\"train\",\"train\",\"train\",\"train\",\"train\",\"train\",\"train\",\"train\",\"train\",\"train\",\"train\",\"train\",\"train\",\"train\",\"train\",\"train\",\"train\",\"train\",\"train\",\"train\",\"train\",\"train\",\"train\",\"train\",\"train\",\"train\",\"train\",\"train\",\"train\",\"train\",\"train\",\"train\",\"train\",\"train\",\"train\",\"train\",\"train\",\"train\",\"train\",\"train\",\"train\",\"train\",\"train\",\"train\",\"train\",\"train\",\"train\",\"train\",\"train\",\"train\",\"train\",\"train\",\"train\",\"train\",\"train\",\"train\",\"train\",\"train\",\"train\",\"train\",\"train\",\"train\",\"train\",\"train\",\"train\",\"train\",\"train\",\"train\",\"train\",\"train\",\"train\",\"train\",\"train\",\"train\",\"train\",\"train\",\"train\",\"train\",\"train\",\"train\",\"train\",\"train\",\"train\",\"train\"],\"x\":[0.0,0.01,0.02,0.03,0.04,0.05,0.06,0.07,0.08,0.09,0.1,0.11,0.12,0.13,0.14,0.15,0.16,0.17,0.18,0.19,0.2,0.21,0.22,0.23,0.24,0.25,0.26,0.27,0.28,0.29,0.3,0.31,0.32,0.33,0.34,0.35000000000000003,0.36,0.37,0.38,0.39,0.4,0.41000000000000003,0.42,0.43,0.44,0.45,0.46,0.47000000000000003,0.48,0.49,0.5,0.51,0.52,0.53,0.54,0.55,0.56,0.5700000000000001,0.58,0.59,0.6,0.61,0.62,0.63,0.64,0.65,0.66,0.67,0.68,0.6900000000000001,0.7000000000000001,0.71,0.72,0.73,0.74,0.75,0.76,0.77,0.78,0.79,0.8,0.81,0.8200000000000001,0.8300000000000001,0.84,0.85,0.86,0.87,0.88,0.89,0.9,0.91,0.92,0.93,0.9400000000000001,0.9500000000000001,0.96,0.97,0.98,0.99,1.0],\"y\":[0.9141025641025642,0.9141025641025642,0.9010395010395011,0.9010395010395011,0.9010395010395011,0.9010395010395011,0.893896643896644,0.8936320936320937,0.8850427350427349,0.8696581196581196,0.8696581196581196,0.8696581196581196,0.8631746031746032,0.8631746031746032,0.855854700854701,0.8515565021744796,0.8515565021744796,0.8491953910633686,0.8483699193652555,0.8464989027690543,0.8464989027690543,0.8443483651346456,0.8406296512476288,0.8406296512476288,0.8406296512476288,0.8381272755745215,0.8348126110834364,0.8332824464810692,0.8294488274894855,0.8249860856040632,0.8222721647866941,0.7702690652128854,0.7702690652128854,0.7684176530673557,0.7678494712491738,0.7667494120721191,0.7667494120721191,0.7663148337305641,0.7663148337305641,0.7663148337305641,0.7663148337305641,0.7663148337305641,0.7657247747246634,0.7624427798585102,0.7585209568236104,0.757177764801323,0.7565974940082862,0.681998199819982,0.6807117504203251,0.6807117504203251,0.6807117504203251,0.6765131337695174,0.676018306958901,0.6733151183970856,0.6682468922762279,0.5831908831908832,0.5785760538952947,0.5744903885702405,0.4846774193548387,0.4846774193548387,0.4846774193548387,0.4846774193548387,0.3911290322580645,0.29516129032258065,0.29516129032258065,0.0,0.0,0.0,0.0,0.0,0.0,0.0,0.0,0.0,0.0,0.0,0.0,0.0,0.0,0.0,0.0,0.0,0.0,0.0,0.0,0.0,0.0,0.0,0.0,0.0,0.0,0.0,0.0,0.0,0.0,0.0,0.0,0.0,0.0,0.0,0.0],\"type\":\"scatter\"},{\"customdata\":[0.9999617338180542,0.9999528527259827,0.9998708963394165,0.9998557269573212,0.9998557269573212,0.9998092412948608,0.999786102771759,0.9997321486473083,0.9997321486473083,0.9996808707714081,0.9996265590190887,0.899748569726944,0.899748569726944,0.8997222661972046,0.8995445489883422,0.8994746446609497,0.8994746446609497,0.8994442045688629,0.899326491355896,0.8993043959140777,0.8993043959140777,0.8992577850818634,0.8990736246109009,0.8989543795585633,0.8989543795585633,0.8987315416336059,0.8977139353752136,0.8974120259284973,0.8974120259284973,0.8971268832683563,0.8964869558811188,0.8960148870944977,0.8960148870944977,0.8910144388675689,0.8885629415512085,0.8874124944210052,0.8874124944210052,0.7932824611663818,0.7741420269012451,0.7678868651390076,0.7678868651390076,0.7639766573905945,0.7535012245178223,0.746151864528656,0.746151864528656,0.7223702669143677,0.6613010168075562,0.4788948655128479,0.4788948655128479,0.0,0.0,0.0,0.0,0.0,0.0,0.0,0.0,0.0,0.0,0.0,0.0,0.0,0.0,0.0,0.0,0.0,0.0,0.0,0.0,0.0,0.0,0.0,0.0,0.0,0.0,0.0,0.0,0.0,0.0,0.0,0.0,0.0,0.0,0.0,0.0,0.0,0.0,0.0,0.0,0.0,0.0,0.0,0.0,0.0,0.0,0.0,0.0,0.0,0.0,0.0,0.0],\"hovertemplate\":\"<b>class: %{text}</b><br>recall: %{x:.3f}<br>precision: %{y:.3f}<br>threshold: %{customdata:.3f}<extra></extra>\",\"line\":{\"color\":\"#FF9900\"},\"mode\":\"lines\",\"name\":\"stop sign (AP = 0.416)\",\"text\":[\"stop sign\",\"stop sign\",\"stop sign\",\"stop sign\",\"stop sign\",\"stop sign\",\"stop sign\",\"stop sign\",\"stop sign\",\"stop sign\",\"stop sign\",\"stop sign\",\"stop sign\",\"stop sign\",\"stop sign\",\"stop sign\",\"stop sign\",\"stop sign\",\"stop sign\",\"stop sign\",\"stop sign\",\"stop sign\",\"stop sign\",\"stop sign\",\"stop sign\",\"stop sign\",\"stop sign\",\"stop sign\",\"stop sign\",\"stop sign\",\"stop sign\",\"stop sign\",\"stop sign\",\"stop sign\",\"stop sign\",\"stop sign\",\"stop sign\",\"stop sign\",\"stop sign\",\"stop sign\",\"stop sign\",\"stop sign\",\"stop sign\",\"stop sign\",\"stop sign\",\"stop sign\",\"stop sign\",\"stop sign\",\"stop sign\",\"stop sign\",\"stop sign\",\"stop sign\",\"stop sign\",\"stop sign\",\"stop sign\",\"stop sign\",\"stop sign\",\"stop sign\",\"stop sign\",\"stop sign\",\"stop sign\",\"stop sign\",\"stop sign\",\"stop sign\",\"stop sign\",\"stop sign\",\"stop sign\",\"stop sign\",\"stop sign\",\"stop sign\",\"stop sign\",\"stop sign\",\"stop sign\",\"stop sign\",\"stop sign\",\"stop sign\",\"stop sign\",\"stop sign\",\"stop sign\",\"stop sign\",\"stop sign\",\"stop sign\",\"stop sign\",\"stop sign\",\"stop sign\",\"stop sign\",\"stop sign\",\"stop sign\",\"stop sign\",\"stop sign\",\"stop sign\",\"stop sign\",\"stop sign\",\"stop sign\",\"stop sign\",\"stop sign\",\"stop sign\",\"stop sign\",\"stop sign\",\"stop sign\",\"stop sign\"],\"x\":[0.0,0.01,0.02,0.03,0.04,0.05,0.06,0.07,0.08,0.09,0.1,0.11,0.12,0.13,0.14,0.15,0.16,0.17,0.18,0.19,0.2,0.21,0.22,0.23,0.24,0.25,0.26,0.27,0.28,0.29,0.3,0.31,0.32,0.33,0.34,0.35000000000000003,0.36,0.37,0.38,0.39,0.4,0.41000000000000003,0.42,0.43,0.44,0.45,0.46,0.47000000000000003,0.48,0.49,0.5,0.51,0.52,0.53,0.54,0.55,0.56,0.5700000000000001,0.58,0.59,0.6,0.61,0.62,0.63,0.64,0.65,0.66,0.67,0.68,0.6900000000000001,0.7000000000000001,0.71,0.72,0.73,0.74,0.75,0.76,0.77,0.78,0.79,0.8,0.81,0.8200000000000001,0.8300000000000001,0.84,0.85,0.86,0.87,0.88,0.89,0.9,0.91,0.92,0.93,0.9400000000000001,0.9500000000000001,0.96,0.97,0.98,0.99,1.0],\"y\":[0.95,0.95,0.95,0.9421052631578947,0.9421052631578947,0.9421052631578947,0.9421052631578947,0.9421052631578947,0.9421052631578947,0.9421052631578947,0.9368421052631579,0.8947368421052632,0.8947368421052632,0.8947368421052632,0.8947368421052632,0.8947368421052632,0.8947368421052632,0.8947368421052632,0.8947368421052632,0.8947368421052632,0.8947368421052632,0.8947368421052632,0.8947368421052632,0.8947368421052632,0.8947368421052632,0.8909090909090909,0.8909090909090909,0.8884615384615385,0.8884615384615385,0.8884615384615385,0.8624400330851945,0.8596927803379417,0.8596927803379417,0.8497360703812318,0.8489784946236559,0.8489784946236559,0.8489784946236559,0.773978494623656,0.773978494623656,0.763978494623656,0.763978494623656,0.7500000000000001,0.7500000000000001,0.7500000000000001,0.7500000000000001,0.7461538461538463,0.7333333333333335,0.5538461538461539,0.5538461538461539,0.0,0.0,0.0,0.0,0.0,0.0,0.0,0.0,0.0,0.0,0.0,0.0,0.0,0.0,0.0,0.0,0.0,0.0,0.0,0.0,0.0,0.0,0.0,0.0,0.0,0.0,0.0,0.0,0.0,0.0,0.0,0.0,0.0,0.0,0.0,0.0,0.0,0.0,0.0,0.0,0.0,0.0,0.0,0.0,0.0,0.0,0.0,0.0,0.0,0.0,0.0,0.0],\"type\":\"scatter\"}],                        {\"template\":{\"data\":{\"barpolar\":[{\"marker\":{\"line\":{\"color\":\"rgb(237,237,237)\",\"width\":0.5},\"pattern\":{\"fillmode\":\"overlay\",\"size\":10,\"solidity\":0.2}},\"type\":\"barpolar\"}],\"bar\":[{\"error_x\":{\"color\":\"rgb(51,51,51)\"},\"error_y\":{\"color\":\"rgb(51,51,51)\"},\"marker\":{\"line\":{\"color\":\"rgb(237,237,237)\",\"width\":0.5},\"pattern\":{\"fillmode\":\"overlay\",\"size\":10,\"solidity\":0.2}},\"type\":\"bar\"}],\"carpet\":[{\"aaxis\":{\"endlinecolor\":\"rgb(51,51,51)\",\"gridcolor\":\"white\",\"linecolor\":\"white\",\"minorgridcolor\":\"white\",\"startlinecolor\":\"rgb(51,51,51)\"},\"baxis\":{\"endlinecolor\":\"rgb(51,51,51)\",\"gridcolor\":\"white\",\"linecolor\":\"white\",\"minorgridcolor\":\"white\",\"startlinecolor\":\"rgb(51,51,51)\"},\"type\":\"carpet\"}],\"choropleth\":[{\"colorbar\":{\"outlinewidth\":0,\"tickcolor\":\"rgb(237,237,237)\",\"ticklen\":6,\"ticks\":\"inside\"},\"type\":\"choropleth\"}],\"contourcarpet\":[{\"colorbar\":{\"outlinewidth\":0,\"tickcolor\":\"rgb(237,237,237)\",\"ticklen\":6,\"ticks\":\"inside\"},\"type\":\"contourcarpet\"}],\"contour\":[{\"colorbar\":{\"outlinewidth\":0,\"tickcolor\":\"rgb(237,237,237)\",\"ticklen\":6,\"ticks\":\"inside\"},\"colorscale\":[[0,\"rgb(20,44,66)\"],[1,\"rgb(90,179,244)\"]],\"type\":\"contour\"}],\"heatmapgl\":[{\"colorbar\":{\"outlinewidth\":0,\"tickcolor\":\"rgb(237,237,237)\",\"ticklen\":6,\"ticks\":\"inside\"},\"colorscale\":[[0,\"rgb(20,44,66)\"],[1,\"rgb(90,179,244)\"]],\"type\":\"heatmapgl\"}],\"heatmap\":[{\"colorbar\":{\"outlinewidth\":0,\"tickcolor\":\"rgb(237,237,237)\",\"ticklen\":6,\"ticks\":\"inside\"},\"colorscale\":[[0,\"rgb(20,44,66)\"],[1,\"rgb(90,179,244)\"]],\"type\":\"heatmap\"}],\"histogram2dcontour\":[{\"colorbar\":{\"outlinewidth\":0,\"tickcolor\":\"rgb(237,237,237)\",\"ticklen\":6,\"ticks\":\"inside\"},\"colorscale\":[[0,\"rgb(20,44,66)\"],[1,\"rgb(90,179,244)\"]],\"type\":\"histogram2dcontour\"}],\"histogram2d\":[{\"colorbar\":{\"outlinewidth\":0,\"tickcolor\":\"rgb(237,237,237)\",\"ticklen\":6,\"ticks\":\"inside\"},\"colorscale\":[[0,\"rgb(20,44,66)\"],[1,\"rgb(90,179,244)\"]],\"type\":\"histogram2d\"}],\"histogram\":[{\"marker\":{\"pattern\":{\"fillmode\":\"overlay\",\"size\":10,\"solidity\":0.2}},\"type\":\"histogram\"}],\"mesh3d\":[{\"colorbar\":{\"outlinewidth\":0,\"tickcolor\":\"rgb(237,237,237)\",\"ticklen\":6,\"ticks\":\"inside\"},\"type\":\"mesh3d\"}],\"parcoords\":[{\"line\":{\"colorbar\":{\"outlinewidth\":0,\"tickcolor\":\"rgb(237,237,237)\",\"ticklen\":6,\"ticks\":\"inside\"}},\"type\":\"parcoords\"}],\"pie\":[{\"automargin\":true,\"type\":\"pie\"}],\"scatter3d\":[{\"line\":{\"colorbar\":{\"outlinewidth\":0,\"tickcolor\":\"rgb(237,237,237)\",\"ticklen\":6,\"ticks\":\"inside\"}},\"marker\":{\"colorbar\":{\"outlinewidth\":0,\"tickcolor\":\"rgb(237,237,237)\",\"ticklen\":6,\"ticks\":\"inside\"}},\"type\":\"scatter3d\"}],\"scattercarpet\":[{\"marker\":{\"colorbar\":{\"outlinewidth\":0,\"tickcolor\":\"rgb(237,237,237)\",\"ticklen\":6,\"ticks\":\"inside\"}},\"type\":\"scattercarpet\"}],\"scattergeo\":[{\"marker\":{\"colorbar\":{\"outlinewidth\":0,\"tickcolor\":\"rgb(237,237,237)\",\"ticklen\":6,\"ticks\":\"inside\"}},\"type\":\"scattergeo\"}],\"scattergl\":[{\"marker\":{\"colorbar\":{\"outlinewidth\":0,\"tickcolor\":\"rgb(237,237,237)\",\"ticklen\":6,\"ticks\":\"inside\"}},\"type\":\"scattergl\"}],\"scattermapbox\":[{\"marker\":{\"colorbar\":{\"outlinewidth\":0,\"tickcolor\":\"rgb(237,237,237)\",\"ticklen\":6,\"ticks\":\"inside\"}},\"type\":\"scattermapbox\"}],\"scatterpolargl\":[{\"marker\":{\"colorbar\":{\"outlinewidth\":0,\"tickcolor\":\"rgb(237,237,237)\",\"ticklen\":6,\"ticks\":\"inside\"}},\"type\":\"scatterpolargl\"}],\"scatterpolar\":[{\"marker\":{\"colorbar\":{\"outlinewidth\":0,\"tickcolor\":\"rgb(237,237,237)\",\"ticklen\":6,\"ticks\":\"inside\"}},\"type\":\"scatterpolar\"}],\"scatter\":[{\"marker\":{\"colorbar\":{\"outlinewidth\":0,\"tickcolor\":\"rgb(237,237,237)\",\"ticklen\":6,\"ticks\":\"inside\"}},\"type\":\"scatter\"}],\"scatterternary\":[{\"marker\":{\"colorbar\":{\"outlinewidth\":0,\"tickcolor\":\"rgb(237,237,237)\",\"ticklen\":6,\"ticks\":\"inside\"}},\"type\":\"scatterternary\"}],\"surface\":[{\"colorbar\":{\"outlinewidth\":0,\"tickcolor\":\"rgb(237,237,237)\",\"ticklen\":6,\"ticks\":\"inside\"},\"colorscale\":[[0,\"rgb(20,44,66)\"],[1,\"rgb(90,179,244)\"]],\"type\":\"surface\"}],\"table\":[{\"cells\":{\"fill\":{\"color\":\"rgb(237,237,237)\"},\"line\":{\"color\":\"white\"}},\"header\":{\"fill\":{\"color\":\"rgb(217,217,217)\"},\"line\":{\"color\":\"white\"}},\"type\":\"table\"}]},\"layout\":{\"annotationdefaults\":{\"arrowhead\":0,\"arrowwidth\":1},\"autotypenumbers\":\"strict\",\"coloraxis\":{\"colorbar\":{\"outlinewidth\":0,\"tickcolor\":\"rgb(237,237,237)\",\"ticklen\":6,\"ticks\":\"inside\"}},\"colorscale\":{\"sequential\":[[0,\"rgb(20,44,66)\"],[1,\"rgb(90,179,244)\"]],\"sequentialminus\":[[0,\"rgb(20,44,66)\"],[1,\"rgb(90,179,244)\"]]},\"colorway\":[\"#F8766D\",\"#A3A500\",\"#00BF7D\",\"#00B0F6\",\"#E76BF3\"],\"font\":{\"color\":\"rgb(51,51,51)\"},\"geo\":{\"bgcolor\":\"white\",\"lakecolor\":\"white\",\"landcolor\":\"rgb(237,237,237)\",\"showlakes\":true,\"showland\":true,\"subunitcolor\":\"white\"},\"hoverlabel\":{\"align\":\"left\"},\"hovermode\":\"closest\",\"paper_bgcolor\":\"white\",\"plot_bgcolor\":\"rgb(237,237,237)\",\"polar\":{\"angularaxis\":{\"gridcolor\":\"white\",\"linecolor\":\"white\",\"showgrid\":true,\"tickcolor\":\"rgb(51,51,51)\",\"ticks\":\"outside\"},\"bgcolor\":\"rgb(237,237,237)\",\"radialaxis\":{\"gridcolor\":\"white\",\"linecolor\":\"white\",\"showgrid\":true,\"tickcolor\":\"rgb(51,51,51)\",\"ticks\":\"outside\"}},\"scene\":{\"xaxis\":{\"backgroundcolor\":\"rgb(237,237,237)\",\"gridcolor\":\"white\",\"gridwidth\":2,\"linecolor\":\"white\",\"showbackground\":true,\"showgrid\":true,\"tickcolor\":\"rgb(51,51,51)\",\"ticks\":\"outside\",\"zerolinecolor\":\"white\"},\"yaxis\":{\"backgroundcolor\":\"rgb(237,237,237)\",\"gridcolor\":\"white\",\"gridwidth\":2,\"linecolor\":\"white\",\"showbackground\":true,\"showgrid\":true,\"tickcolor\":\"rgb(51,51,51)\",\"ticks\":\"outside\",\"zerolinecolor\":\"white\"},\"zaxis\":{\"backgroundcolor\":\"rgb(237,237,237)\",\"gridcolor\":\"white\",\"gridwidth\":2,\"linecolor\":\"white\",\"showbackground\":true,\"showgrid\":true,\"tickcolor\":\"rgb(51,51,51)\",\"ticks\":\"outside\",\"zerolinecolor\":\"white\"}},\"shapedefaults\":{\"fillcolor\":\"black\",\"line\":{\"width\":0},\"opacity\":0.3},\"ternary\":{\"aaxis\":{\"gridcolor\":\"white\",\"linecolor\":\"white\",\"showgrid\":true,\"tickcolor\":\"rgb(51,51,51)\",\"ticks\":\"outside\"},\"baxis\":{\"gridcolor\":\"white\",\"linecolor\":\"white\",\"showgrid\":true,\"tickcolor\":\"rgb(51,51,51)\",\"ticks\":\"outside\"},\"bgcolor\":\"rgb(237,237,237)\",\"caxis\":{\"gridcolor\":\"white\",\"linecolor\":\"white\",\"showgrid\":true,\"tickcolor\":\"rgb(51,51,51)\",\"ticks\":\"outside\"}},\"xaxis\":{\"automargin\":true,\"gridcolor\":\"white\",\"linecolor\":\"white\",\"showgrid\":true,\"tickcolor\":\"rgb(51,51,51)\",\"ticks\":\"outside\",\"title\":{\"standoff\":15},\"zerolinecolor\":\"white\"},\"yaxis\":{\"automargin\":true,\"gridcolor\":\"white\",\"linecolor\":\"white\",\"showgrid\":true,\"tickcolor\":\"rgb(51,51,51)\",\"ticks\":\"outside\",\"title\":{\"standoff\":15},\"zerolinecolor\":\"white\"}}},\"shapes\":[{\"line\":{\"dash\":\"dash\"},\"type\":\"line\",\"x0\":0,\"x1\":1,\"y0\":1,\"y1\":0}],\"xaxis\":{\"range\":[0,1],\"constrain\":\"domain\",\"title\":{\"text\":\"Recall\"}},\"yaxis\":{\"range\":[0,1],\"constrain\":\"domain\",\"scaleanchor\":\"x\",\"scaleratio\":1,\"title\":{\"text\":\"Precision\"}},\"title\":{},\"margin\":{\"r\":0,\"t\":30,\"l\":0,\"b\":0}},                        {\"responsive\": true}                    ).then(function(){\n",
              "                            \n",
              "var gd = document.getElementById('1463197c-add7-4008-99d0-c13f29e57311');\n",
              "var x = new MutationObserver(function (mutations, observer) {{\n",
              "        var display = window.getComputedStyle(gd).display;\n",
              "        if (!display || display === 'none') {{\n",
              "            console.log([gd, 'removed!']);\n",
              "            Plotly.purge(gd);\n",
              "            observer.disconnect();\n",
              "        }}\n",
              "}});\n",
              "\n",
              "// Listen for the removal of the full notebook cells\n",
              "var notebookContainer = gd.closest('#notebook-container');\n",
              "if (notebookContainer) {{\n",
              "    x.observe(notebookContainer, {childList: true});\n",
              "}}\n",
              "\n",
              "// Listen for the clearing of the current output cell\n",
              "var outputEl = gd.closest('.output');\n",
              "if (outputEl) {{\n",
              "    x.observe(outputEl, {childList: true});\n",
              "}}\n",
              "\n",
              "                        })                };                            </script>        </div>\n",
              "</body>\n",
              "</html>"
            ]
          },
          "metadata": {}
        }
      ]
    },
    {
      "cell_type": "markdown",
      "source": [
        "# Explore hight Confidence view"
      ],
      "metadata": {
        "id": "UVZuRZvn4dQi"
      }
    },
    {
      "cell_type": "markdown",
      "source": [
        "## Faster RCNN"
      ],
      "metadata": {
        "id": "y_Fum92rG-8F"
      }
    },
    {
      "cell_type": "code",
      "source": [
        "# Show samples with most true positives\n",
        "session.view = high_conf_view_faster_rcnn.sort_by(\"eval_f_rcnn_tp\", reverse=True)"
      ],
      "metadata": {
        "id": "pjUJbGVWHClS"
      },
      "execution_count": null,
      "outputs": []
    },
    {
      "cell_type": "code",
      "source": [
        "# Show samples with most true positives\n",
        "session.view = high_conf_view_faster_rcnn.sort_by(\"eval_f_rcnn_fp\", reverse=True)"
      ],
      "metadata": {
        "id": "nMewXKJvHD75"
      },
      "execution_count": null,
      "outputs": []
    },
    {
      "cell_type": "markdown",
      "source": [
        "## FCOS"
      ],
      "metadata": {
        "id": "YqxgCgLdGz6k"
      }
    },
    {
      "cell_type": "code",
      "source": [
        "# Show samples with most true positives\n",
        "session.view = high_conf_view_fcos.sort_by(\"eval_fcos_tp\", reverse=True)"
      ],
      "metadata": {
        "id": "t1WNkUz0G3al"
      },
      "execution_count": null,
      "outputs": []
    },
    {
      "cell_type": "code",
      "source": [
        "# Show samples with most true positives\n",
        "session.view = high_conf_view_fcos.sort_by(\"eval_fcos_fp\", reverse=True)"
      ],
      "metadata": {
        "id": "hnFGVeSUG33Q"
      },
      "execution_count": null,
      "outputs": []
    },
    {
      "cell_type": "markdown",
      "source": [
        "## SSD"
      ],
      "metadata": {
        "id": "TKHrladDGx8x"
      }
    },
    {
      "cell_type": "code",
      "source": [
        "# Show samples with most true positives\n",
        "session.view = high_conf_view_ssd.sort_by(\"eval_ssd_tp\", reverse=True)"
      ],
      "metadata": {
        "colab": {
          "base_uri": "https://localhost:8080/",
          "height": 17
        },
        "id": "8s4qGIF744LT",
        "outputId": "aa55d8d6-40a5-4bdc-a116-caeaee32ce83"
      },
      "execution_count": null,
      "outputs": [
        {
          "output_type": "display_data",
          "data": {
            "text/plain": [
              "<IPython.core.display.HTML object>"
            ],
            "text/html": [
              "\n",
              "<style>\n",
              "\n",
              "@import url(\"https://fonts.googleapis.com/css2?family=Palanquin&display=swap\");\n",
              "\n",
              "#focontainer-234a35e8-e49d-4101-97a3-c2ef2d3117be {\n",
              "  position: relative;\n",
              "  height: px;\n",
              "  display: block !important;\n",
              "}\n",
              "#foactivate-234a35e8-e49d-4101-97a3-c2ef2d3117be {\n",
              "  font-weight: bold;\n",
              "  cursor: pointer;\n",
              "  font-size: 24px;\n",
              "  border-radius: 3px;\n",
              "  text-align: center;\n",
              "  padding: 0.5em;\n",
              "  color: rgb(255, 255, 255);\n",
              "  font-family: \"Palanquin\", sans-serif;\n",
              "  position: absolute;\n",
              "  left: 50%;\n",
              "  top: 50%;\n",
              "  width: 160px;\n",
              "  margin-left: -80px;\n",
              "  margin-top: -23px;\n",
              "  background: hsla(210,11%,15%, 0.8);\n",
              "  border: none;\n",
              "}\n",
              "#foactivate-234a35e8-e49d-4101-97a3-c2ef2d3117be:focus {\n",
              "  outline: none;\n",
              "}\n",
              "#fooverlay-234a35e8-e49d-4101-97a3-c2ef2d3117be {\n",
              "  width: 100%;\n",
              "  height: 100%;\n",
              "  background: hsla(208, 7%, 46%, 0.7);\n",
              "  position: absolute;\n",
              "  top: 0;\n",
              "  left: 0;\n",
              "  display: none;\n",
              "  cursor: pointer;\n",
              "}\n",
              "</style>\n",
              "<div id=\"focontainer-234a35e8-e49d-4101-97a3-c2ef2d3117be\" style=\"display: none;\">\n",
              "   <div id=\"fooverlay-234a35e8-e49d-4101-97a3-c2ef2d3117be\">\n",
              "      <button id=\"foactivate-234a35e8-e49d-4101-97a3-c2ef2d3117be\" >Activate</button>\n",
              "   </div>\n",
              "</div>"
            ]
          },
          "metadata": {}
        }
      ]
    },
    {
      "cell_type": "code",
      "source": [
        "# Show samples with most false positives\n",
        "session.view = high_conf_view_ssd.sort_by(\"eval_ssd_fp\", reverse=True)"
      ],
      "metadata": {
        "colab": {
          "base_uri": "https://localhost:8080/",
          "height": 822
        },
        "id": "jLhzdSzIE-XM",
        "outputId": "ed23801d-db2f-4105-a93b-7126e13af3e7"
      },
      "execution_count": null,
      "outputs": [
        {
          "output_type": "display_data",
          "data": {
            "text/plain": [
              "<IPython.core.display.HTML object>"
            ],
            "text/html": [
              "\n",
              "<style>\n",
              "\n",
              "@import url(\"https://fonts.googleapis.com/css2?family=Palanquin&display=swap\");\n",
              "\n",
              "#focontainer-dc56da62-c307-4de2-a84b-b8b3a5a4b1c0 {\n",
              "  position: relative;\n",
              "  height: px;\n",
              "  display: block !important;\n",
              "}\n",
              "#foactivate-dc56da62-c307-4de2-a84b-b8b3a5a4b1c0 {\n",
              "  font-weight: bold;\n",
              "  cursor: pointer;\n",
              "  font-size: 24px;\n",
              "  border-radius: 3px;\n",
              "  text-align: center;\n",
              "  padding: 0.5em;\n",
              "  color: rgb(255, 255, 255);\n",
              "  font-family: \"Palanquin\", sans-serif;\n",
              "  position: absolute;\n",
              "  left: 50%;\n",
              "  top: 50%;\n",
              "  width: 160px;\n",
              "  margin-left: -80px;\n",
              "  margin-top: -23px;\n",
              "  background: hsla(210,11%,15%, 0.8);\n",
              "  border: none;\n",
              "}\n",
              "#foactivate-dc56da62-c307-4de2-a84b-b8b3a5a4b1c0:focus {\n",
              "  outline: none;\n",
              "}\n",
              "#fooverlay-dc56da62-c307-4de2-a84b-b8b3a5a4b1c0 {\n",
              "  width: 100%;\n",
              "  height: 100%;\n",
              "  background: hsla(208, 7%, 46%, 0.7);\n",
              "  position: absolute;\n",
              "  top: 0;\n",
              "  left: 0;\n",
              "  display: none;\n",
              "  cursor: pointer;\n",
              "}\n",
              "</style>\n",
              "<div id=\"focontainer-dc56da62-c307-4de2-a84b-b8b3a5a4b1c0\" style=\"display: none;\">\n",
              "   <div id=\"fooverlay-dc56da62-c307-4de2-a84b-b8b3a5a4b1c0\">\n",
              "      <button id=\"foactivate-dc56da62-c307-4de2-a84b-b8b3a5a4b1c0\" >Activate</button>\n",
              "   </div>\n",
              "</div>"
            ]
          },
          "metadata": {}
        }
      ]
    }
  ]
}