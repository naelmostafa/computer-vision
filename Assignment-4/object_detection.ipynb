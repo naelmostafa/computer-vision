{
  "nbformat": 4,
  "nbformat_minor": 0,
  "metadata": {
    "colab": {
      "provenance": [],
      "authorship_tag": "ABX9TyNIBxVqhsU1ZgGwPu5tbX34",
      "include_colab_link": true
    },
    "kernelspec": {
      "name": "python3",
      "display_name": "Python 3"
    },
    "language_info": {
      "name": "python"
    },
    "accelerator": "GPU",
    "gpuClass": "standard",
    "widgets": {
      "application/vnd.jupyter.widget-state+json": {
        "c4dc2809139145739d8479f9d37173a7": {
          "model_module": "@jupyter-widgets/controls",
          "model_name": "HBoxModel",
          "model_module_version": "1.5.0",
          "state": {
            "_dom_classes": [],
            "_model_module": "@jupyter-widgets/controls",
            "_model_module_version": "1.5.0",
            "_model_name": "HBoxModel",
            "_view_count": null,
            "_view_module": "@jupyter-widgets/controls",
            "_view_module_version": "1.5.0",
            "_view_name": "HBoxView",
            "box_style": "",
            "children": [
              "IPY_MODEL_b6b8952cbdbc445ba83fa84b97f6749c",
              "IPY_MODEL_2a6e33bf21a64f87ad5b2968f0fd6b5f",
              "IPY_MODEL_78b06dbb8a144990885fb4c141f95b15"
            ],
            "layout": "IPY_MODEL_850e831a0e9948659ab08dca14312259"
          }
        },
        "b6b8952cbdbc445ba83fa84b97f6749c": {
          "model_module": "@jupyter-widgets/controls",
          "model_name": "HTMLModel",
          "model_module_version": "1.5.0",
          "state": {
            "_dom_classes": [],
            "_model_module": "@jupyter-widgets/controls",
            "_model_module_version": "1.5.0",
            "_model_name": "HTMLModel",
            "_view_count": null,
            "_view_module": "@jupyter-widgets/controls",
            "_view_module_version": "1.5.0",
            "_view_name": "HTMLView",
            "description": "",
            "description_tooltip": null,
            "layout": "IPY_MODEL_f14559a591cd48769ca9aa96de0bff17",
            "placeholder": "​",
            "style": "IPY_MODEL_aa03871e675f430fa10df2d17138e763",
            "value": "100%"
          }
        },
        "2a6e33bf21a64f87ad5b2968f0fd6b5f": {
          "model_module": "@jupyter-widgets/controls",
          "model_name": "FloatProgressModel",
          "model_module_version": "1.5.0",
          "state": {
            "_dom_classes": [],
            "_model_module": "@jupyter-widgets/controls",
            "_model_module_version": "1.5.0",
            "_model_name": "FloatProgressModel",
            "_view_count": null,
            "_view_module": "@jupyter-widgets/controls",
            "_view_module_version": "1.5.0",
            "_view_name": "ProgressView",
            "bar_style": "success",
            "description": "",
            "description_tooltip": null,
            "layout": "IPY_MODEL_35a85cdb3217488a829a2a273743c345",
            "max": 142594222,
            "min": 0,
            "orientation": "horizontal",
            "style": "IPY_MODEL_e2ffb0bec3a6498eaefc57e65a2d0487",
            "value": 142594222
          }
        },
        "78b06dbb8a144990885fb4c141f95b15": {
          "model_module": "@jupyter-widgets/controls",
          "model_name": "HTMLModel",
          "model_module_version": "1.5.0",
          "state": {
            "_dom_classes": [],
            "_model_module": "@jupyter-widgets/controls",
            "_model_module_version": "1.5.0",
            "_model_name": "HTMLModel",
            "_view_count": null,
            "_view_module": "@jupyter-widgets/controls",
            "_view_module_version": "1.5.0",
            "_view_name": "HTMLView",
            "description": "",
            "description_tooltip": null,
            "layout": "IPY_MODEL_e908d67bf43c448fbc3b21e38778fb3a",
            "placeholder": "​",
            "style": "IPY_MODEL_c760b132901d48eba23fe13f490384df",
            "value": " 136M/136M [00:09&lt;00:00, 18.2MB/s]"
          }
        },
        "850e831a0e9948659ab08dca14312259": {
          "model_module": "@jupyter-widgets/base",
          "model_name": "LayoutModel",
          "model_module_version": "1.2.0",
          "state": {
            "_model_module": "@jupyter-widgets/base",
            "_model_module_version": "1.2.0",
            "_model_name": "LayoutModel",
            "_view_count": null,
            "_view_module": "@jupyter-widgets/base",
            "_view_module_version": "1.2.0",
            "_view_name": "LayoutView",
            "align_content": null,
            "align_items": null,
            "align_self": null,
            "border": null,
            "bottom": null,
            "display": null,
            "flex": null,
            "flex_flow": null,
            "grid_area": null,
            "grid_auto_columns": null,
            "grid_auto_flow": null,
            "grid_auto_rows": null,
            "grid_column": null,
            "grid_gap": null,
            "grid_row": null,
            "grid_template_areas": null,
            "grid_template_columns": null,
            "grid_template_rows": null,
            "height": null,
            "justify_content": null,
            "justify_items": null,
            "left": null,
            "margin": null,
            "max_height": null,
            "max_width": null,
            "min_height": null,
            "min_width": null,
            "object_fit": null,
            "object_position": null,
            "order": null,
            "overflow": null,
            "overflow_x": null,
            "overflow_y": null,
            "padding": null,
            "right": null,
            "top": null,
            "visibility": null,
            "width": null
          }
        },
        "f14559a591cd48769ca9aa96de0bff17": {
          "model_module": "@jupyter-widgets/base",
          "model_name": "LayoutModel",
          "model_module_version": "1.2.0",
          "state": {
            "_model_module": "@jupyter-widgets/base",
            "_model_module_version": "1.2.0",
            "_model_name": "LayoutModel",
            "_view_count": null,
            "_view_module": "@jupyter-widgets/base",
            "_view_module_version": "1.2.0",
            "_view_name": "LayoutView",
            "align_content": null,
            "align_items": null,
            "align_self": null,
            "border": null,
            "bottom": null,
            "display": null,
            "flex": null,
            "flex_flow": null,
            "grid_area": null,
            "grid_auto_columns": null,
            "grid_auto_flow": null,
            "grid_auto_rows": null,
            "grid_column": null,
            "grid_gap": null,
            "grid_row": null,
            "grid_template_areas": null,
            "grid_template_columns": null,
            "grid_template_rows": null,
            "height": null,
            "justify_content": null,
            "justify_items": null,
            "left": null,
            "margin": null,
            "max_height": null,
            "max_width": null,
            "min_height": null,
            "min_width": null,
            "object_fit": null,
            "object_position": null,
            "order": null,
            "overflow": null,
            "overflow_x": null,
            "overflow_y": null,
            "padding": null,
            "right": null,
            "top": null,
            "visibility": null,
            "width": null
          }
        },
        "aa03871e675f430fa10df2d17138e763": {
          "model_module": "@jupyter-widgets/controls",
          "model_name": "DescriptionStyleModel",
          "model_module_version": "1.5.0",
          "state": {
            "_model_module": "@jupyter-widgets/controls",
            "_model_module_version": "1.5.0",
            "_model_name": "DescriptionStyleModel",
            "_view_count": null,
            "_view_module": "@jupyter-widgets/base",
            "_view_module_version": "1.2.0",
            "_view_name": "StyleView",
            "description_width": ""
          }
        },
        "35a85cdb3217488a829a2a273743c345": {
          "model_module": "@jupyter-widgets/base",
          "model_name": "LayoutModel",
          "model_module_version": "1.2.0",
          "state": {
            "_model_module": "@jupyter-widgets/base",
            "_model_module_version": "1.2.0",
            "_model_name": "LayoutModel",
            "_view_count": null,
            "_view_module": "@jupyter-widgets/base",
            "_view_module_version": "1.2.0",
            "_view_name": "LayoutView",
            "align_content": null,
            "align_items": null,
            "align_self": null,
            "border": null,
            "bottom": null,
            "display": null,
            "flex": null,
            "flex_flow": null,
            "grid_area": null,
            "grid_auto_columns": null,
            "grid_auto_flow": null,
            "grid_auto_rows": null,
            "grid_column": null,
            "grid_gap": null,
            "grid_row": null,
            "grid_template_areas": null,
            "grid_template_columns": null,
            "grid_template_rows": null,
            "height": null,
            "justify_content": null,
            "justify_items": null,
            "left": null,
            "margin": null,
            "max_height": null,
            "max_width": null,
            "min_height": null,
            "min_width": null,
            "object_fit": null,
            "object_position": null,
            "order": null,
            "overflow": null,
            "overflow_x": null,
            "overflow_y": null,
            "padding": null,
            "right": null,
            "top": null,
            "visibility": null,
            "width": null
          }
        },
        "e2ffb0bec3a6498eaefc57e65a2d0487": {
          "model_module": "@jupyter-widgets/controls",
          "model_name": "ProgressStyleModel",
          "model_module_version": "1.5.0",
          "state": {
            "_model_module": "@jupyter-widgets/controls",
            "_model_module_version": "1.5.0",
            "_model_name": "ProgressStyleModel",
            "_view_count": null,
            "_view_module": "@jupyter-widgets/base",
            "_view_module_version": "1.2.0",
            "_view_name": "StyleView",
            "bar_color": null,
            "description_width": ""
          }
        },
        "e908d67bf43c448fbc3b21e38778fb3a": {
          "model_module": "@jupyter-widgets/base",
          "model_name": "LayoutModel",
          "model_module_version": "1.2.0",
          "state": {
            "_model_module": "@jupyter-widgets/base",
            "_model_module_version": "1.2.0",
            "_model_name": "LayoutModel",
            "_view_count": null,
            "_view_module": "@jupyter-widgets/base",
            "_view_module_version": "1.2.0",
            "_view_name": "LayoutView",
            "align_content": null,
            "align_items": null,
            "align_self": null,
            "border": null,
            "bottom": null,
            "display": null,
            "flex": null,
            "flex_flow": null,
            "grid_area": null,
            "grid_auto_columns": null,
            "grid_auto_flow": null,
            "grid_auto_rows": null,
            "grid_column": null,
            "grid_gap": null,
            "grid_row": null,
            "grid_template_areas": null,
            "grid_template_columns": null,
            "grid_template_rows": null,
            "height": null,
            "justify_content": null,
            "justify_items": null,
            "left": null,
            "margin": null,
            "max_height": null,
            "max_width": null,
            "min_height": null,
            "min_width": null,
            "object_fit": null,
            "object_position": null,
            "order": null,
            "overflow": null,
            "overflow_x": null,
            "overflow_y": null,
            "padding": null,
            "right": null,
            "top": null,
            "visibility": null,
            "width": null
          }
        },
        "c760b132901d48eba23fe13f490384df": {
          "model_module": "@jupyter-widgets/controls",
          "model_name": "DescriptionStyleModel",
          "model_module_version": "1.5.0",
          "state": {
            "_model_module": "@jupyter-widgets/controls",
            "_model_module_version": "1.5.0",
            "_model_name": "DescriptionStyleModel",
            "_view_count": null,
            "_view_module": "@jupyter-widgets/base",
            "_view_module_version": "1.2.0",
            "_view_name": "StyleView",
            "description_width": ""
          }
        }
      }
    }
  },
  "cells": [
    {
      "cell_type": "markdown",
      "metadata": {
        "id": "view-in-github",
        "colab_type": "text"
      },
      "source": [
        "<a href=\"https://colab.research.google.com/github/naelmostafa/computer-vision/blob/main/Assignment-4/object_detection.ipynb\" target=\"_parent\"><img src=\"https://colab.research.google.com/assets/colab-badge.svg\" alt=\"Open In Colab\"/></a>"
      ]
    },
    {
      "cell_type": "markdown",
      "source": [
        "# Dependencies"
      ],
      "metadata": {
        "id": "ZrruqE5O8bpm"
      }
    },
    {
      "cell_type": "markdown",
      "source": [
        "## Download fiftyone"
      ],
      "metadata": {
        "id": "UbIewKZED-Yk"
      }
    },
    {
      "cell_type": "code",
      "source": [
        "!pip install fiftyone"
      ],
      "metadata": {
        "id": "tNxuCgpiL0fK",
        "colab": {
          "base_uri": "https://localhost:8080/",
          "height": 1000
        },
        "outputId": "a97c1df5-359f-4ee8-e806-919f9eed3b74"
      },
      "execution_count": 2,
      "outputs": [
        {
          "output_type": "stream",
          "name": "stdout",
          "text": [
            "Looking in indexes: https://pypi.org/simple, https://us-python.pkg.dev/colab-wheels/public/simple/\n",
            "Collecting fiftyone\n",
            "  Downloading fiftyone-0.18.0-py3-none-any.whl (2.3 MB)\n",
            "\u001b[K     |████████████████████████████████| 2.3 MB 36.7 MB/s \n",
            "\u001b[?25hCollecting fiftyone-db<0.5,>=0.4\n",
            "  Downloading fiftyone_db-0.4.0-py3-none-manylinux1_x86_64.whl (37.8 MB)\n",
            "\u001b[K     |████████████████████████████████| 37.8 MB 135 kB/s \n",
            "\u001b[?25hRequirement already satisfied: numpy in /usr/local/lib/python3.8/dist-packages (from fiftyone) (1.21.6)\n",
            "Collecting dacite>=1.6.0\n",
            "  Downloading dacite-1.6.0-py3-none-any.whl (12 kB)\n",
            "Collecting ndjson\n",
            "  Downloading ndjson-0.3.1-py2.py3-none-any.whl (5.3 kB)\n",
            "Collecting Deprecated\n",
            "  Downloading Deprecated-1.2.13-py2.py3-none-any.whl (9.6 kB)\n",
            "Requirement already satisfied: pymongo>=3.11 in /usr/local/lib/python3.8/dist-packages (from fiftyone) (4.3.3)\n",
            "Collecting fiftyone-brain<0.10,>=0.9.2\n",
            "  Downloading fiftyone_brain-0.9.2-py3-none-any.whl (49 kB)\n",
            "\u001b[K     |████████████████████████████████| 49 kB 6.4 MB/s \n",
            "\u001b[?25hCollecting motor>=2.3\n",
            "  Downloading motor-3.1.1-py3-none-any.whl (56 kB)\n",
            "\u001b[K     |████████████████████████████████| 56 kB 5.2 MB/s \n",
            "\u001b[?25hCollecting kaleido\n",
            "  Downloading kaleido-0.2.1-py2.py3-none-manylinux1_x86_64.whl (79.9 MB)\n",
            "\u001b[K     |████████████████████████████████| 79.9 MB 122 kB/s \n",
            "\u001b[?25hCollecting voxel51-eta<0.9,>=0.8.1\n",
            "  Downloading voxel51_eta-0.8.1-py2.py3-none-any.whl (564 kB)\n",
            "\u001b[K     |████████████████████████████████| 564 kB 67.3 MB/s \n",
            "\u001b[?25hCollecting pprintpp\n",
            "  Downloading pprintpp-0.4.0-py2.py3-none-any.whl (16 kB)\n",
            "Requirement already satisfied: tabulate in /usr/local/lib/python3.8/dist-packages (from fiftyone) (0.8.10)\n",
            "Requirement already satisfied: opencv-python-headless in /usr/local/lib/python3.8/dist-packages (from fiftyone) (4.6.0.66)\n",
            "Collecting hypercorn>=0.13.2\n",
            "  Downloading Hypercorn-0.14.3-py3-none-any.whl (57 kB)\n",
            "\u001b[K     |████████████████████████████████| 57 kB 6.1 MB/s \n",
            "\u001b[?25hCollecting sse-starlette<1,>=0.10.3\n",
            "  Downloading sse_starlette-0.10.3-py3-none-any.whl (8.0 kB)\n",
            "Requirement already satisfied: plotly>=4.14 in /usr/local/lib/python3.8/dist-packages (from fiftyone) (5.5.0)\n",
            "Collecting sseclient-py<2,>=1.7.2\n",
            "  Downloading sseclient_py-1.7.2-py2.py3-none-any.whl (8.4 kB)\n",
            "Requirement already satisfied: psutil in /usr/local/lib/python3.8/dist-packages (from fiftyone) (5.4.8)\n",
            "Collecting aiofiles\n",
            "  Downloading aiofiles-22.1.0-py3-none-any.whl (14 kB)\n",
            "Collecting retrying\n",
            "  Downloading retrying-1.3.4-py3-none-any.whl (11 kB)\n",
            "Collecting xmltodict\n",
            "  Downloading xmltodict-0.13.0-py2.py3-none-any.whl (10.0 kB)\n",
            "Requirement already satisfied: pytz in /usr/local/lib/python3.8/dist-packages (from fiftyone) (2022.6)\n",
            "Collecting strawberry-graphql==0.138.1\n",
            "  Downloading strawberry_graphql-0.138.1-py3-none-any.whl (192 kB)\n",
            "\u001b[K     |████████████████████████████████| 192 kB 80.4 MB/s \n",
            "\u001b[?25hRequirement already satisfied: scikit-learn in /usr/local/lib/python3.8/dist-packages (from fiftyone) (1.0.2)\n",
            "Requirement already satisfied: packaging in /usr/local/lib/python3.8/dist-packages (from fiftyone) (21.3)\n",
            "Requirement already satisfied: pandas in /usr/local/lib/python3.8/dist-packages (from fiftyone) (1.3.5)\n",
            "Requirement already satisfied: matplotlib in /usr/local/lib/python3.8/dist-packages (from fiftyone) (3.2.2)\n",
            "Requirement already satisfied: scikit-image in /usr/local/lib/python3.8/dist-packages (from fiftyone) (0.18.3)\n",
            "Collecting Jinja2>=3\n",
            "  Downloading Jinja2-3.1.2-py3-none-any.whl (133 kB)\n",
            "\u001b[K     |████████████████████████████████| 133 kB 22.8 MB/s \n",
            "\u001b[?25hRequirement already satisfied: future in /usr/local/lib/python3.8/dist-packages (from fiftyone) (0.16.0)\n",
            "Requirement already satisfied: Pillow>=6.2 in /usr/local/lib/python3.8/dist-packages (from fiftyone) (7.1.2)\n",
            "Requirement already satisfied: PyYAML in /usr/local/lib/python3.8/dist-packages (from fiftyone) (6.0)\n",
            "Collecting universal-analytics-python3<2,>=1.0.1\n",
            "  Downloading universal_analytics_python3-1.1.1-py3-none-any.whl (10 kB)\n",
            "Collecting mongoengine==0.24.2\n",
            "  Downloading mongoengine-0.24.2-py3-none-any.whl (108 kB)\n",
            "\u001b[K     |████████████████████████████████| 108 kB 77.1 MB/s \n",
            "\u001b[?25hCollecting boto3\n",
            "  Downloading boto3-1.26.32-py3-none-any.whl (132 kB)\n",
            "\u001b[K     |████████████████████████████████| 132 kB 75.8 MB/s \n",
            "\u001b[?25hRequirement already satisfied: setuptools in /usr/local/lib/python3.8/dist-packages (from fiftyone) (57.4.0)\n",
            "Collecting eventlet\n",
            "  Downloading eventlet-0.33.2-py2.py3-none-any.whl (226 kB)\n",
            "\u001b[K     |████████████████████████████████| 226 kB 81.0 MB/s \n",
            "\u001b[?25hCollecting argcomplete\n",
            "  Downloading argcomplete-2.0.0-py2.py3-none-any.whl (37 kB)\n",
            "Collecting starlette==0.20.4\n",
            "  Downloading starlette-0.20.4-py3-none-any.whl (63 kB)\n",
            "\u001b[K     |████████████████████████████████| 63 kB 2.4 MB/s \n",
            "\u001b[?25hCollecting anyio<5,>=3.4.0\n",
            "  Downloading anyio-3.6.2-py3-none-any.whl (80 kB)\n",
            "\u001b[K     |████████████████████████████████| 80 kB 4.9 MB/s \n",
            "\u001b[?25hRequirement already satisfied: typing-extensions>=3.10.0 in /usr/local/lib/python3.8/dist-packages (from starlette==0.20.4->fiftyone) (4.4.0)\n",
            "Requirement already satisfied: python-dateutil<3.0.0,>=2.7.0 in /usr/local/lib/python3.8/dist-packages (from strawberry-graphql==0.138.1->fiftyone) (2.8.2)\n",
            "Collecting graphql-core<3.3.0,>=3.2.0\n",
            "  Downloading graphql_core-3.2.3-py3-none-any.whl (202 kB)\n",
            "\u001b[K     |████████████████████████████████| 202 kB 65.7 MB/s \n",
            "\u001b[?25hCollecting sniffio>=1.1\n",
            "  Downloading sniffio-1.3.0-py3-none-any.whl (10 kB)\n",
            "Requirement already satisfied: idna>=2.8 in /usr/local/lib/python3.8/dist-packages (from anyio<5,>=3.4.0->starlette==0.20.4->fiftyone) (2.10)\n",
            "Requirement already satisfied: scipy>=1.2.0 in /usr/local/lib/python3.8/dist-packages (from fiftyone-brain<0.10,>=0.9.2->fiftyone) (1.7.3)\n",
            "Collecting h2>=3.1.0\n",
            "  Downloading h2-4.1.0-py3-none-any.whl (57 kB)\n",
            "\u001b[K     |████████████████████████████████| 57 kB 5.6 MB/s \n",
            "\u001b[?25hCollecting priority\n",
            "  Downloading priority-2.0.0-py3-none-any.whl (8.9 kB)\n",
            "Collecting wsproto>=0.14.0\n",
            "  Downloading wsproto-1.2.0-py3-none-any.whl (24 kB)\n",
            "Requirement already satisfied: toml in /usr/local/lib/python3.8/dist-packages (from hypercorn>=0.13.2->fiftyone) (0.10.2)\n",
            "Collecting h11\n",
            "  Downloading h11-0.14.0-py3-none-any.whl (58 kB)\n",
            "\u001b[K     |████████████████████████████████| 58 kB 6.1 MB/s \n",
            "\u001b[?25hCollecting hyperframe<7,>=6.0\n",
            "  Downloading hyperframe-6.0.1-py3-none-any.whl (12 kB)\n",
            "Collecting hpack<5,>=4.0\n",
            "  Downloading hpack-4.0.0-py3-none-any.whl (32 kB)\n",
            "Requirement already satisfied: MarkupSafe>=2.0 in /usr/local/lib/python3.8/dist-packages (from Jinja2>=3->fiftyone) (2.0.1)\n",
            "Requirement already satisfied: six in /usr/local/lib/python3.8/dist-packages (from plotly>=4.14->fiftyone) (1.15.0)\n",
            "Requirement already satisfied: tenacity>=6.2.0 in /usr/local/lib/python3.8/dist-packages (from plotly>=4.14->fiftyone) (8.1.0)\n",
            "Requirement already satisfied: dnspython<3.0.0,>=1.16.0 in /usr/local/lib/python3.8/dist-packages (from pymongo>=3.11->fiftyone) (2.2.1)\n",
            "Collecting httpx>=0.10.0\n",
            "  Downloading httpx-0.23.1-py3-none-any.whl (84 kB)\n",
            "\u001b[K     |████████████████████████████████| 84 kB 4.2 MB/s \n",
            "\u001b[?25hCollecting rfc3986[idna2008]<2,>=1.3\n",
            "  Downloading rfc3986-1.5.0-py2.py3-none-any.whl (31 kB)\n",
            "Requirement already satisfied: certifi in /usr/local/lib/python3.8/dist-packages (from httpx>=0.10.0->universal-analytics-python3<2,>=1.0.1->fiftyone) (2022.12.7)\n",
            "Collecting httpcore<0.17.0,>=0.15.0\n",
            "  Downloading httpcore-0.16.2-py3-none-any.whl (68 kB)\n",
            "\u001b[K     |████████████████████████████████| 68 kB 8.4 MB/s \n",
            "\u001b[?25hRequirement already satisfied: dill in /usr/local/lib/python3.8/dist-packages (from voxel51-eta<0.9,>=0.8.1->fiftyone) (0.3.6)\n",
            "Requirement already satisfied: glob2 in /usr/local/lib/python3.8/dist-packages (from voxel51-eta<0.9,>=0.8.1->fiftyone) (0.7)\n",
            "Requirement already satisfied: tzlocal in /usr/local/lib/python3.8/dist-packages (from voxel51-eta<0.9,>=0.8.1->fiftyone) (1.5.1)\n",
            "Collecting patool\n",
            "  Downloading patool-1.12-py2.py3-none-any.whl (77 kB)\n",
            "\u001b[K     |████████████████████████████████| 77 kB 7.5 MB/s \n",
            "\u001b[?25hRequirement already satisfied: urllib3 in /usr/local/lib/python3.8/dist-packages (from voxel51-eta<0.9,>=0.8.1->fiftyone) (1.24.3)\n",
            "Requirement already satisfied: requests in /usr/local/lib/python3.8/dist-packages (from voxel51-eta<0.9,>=0.8.1->fiftyone) (2.23.0)\n",
            "Requirement already satisfied: sortedcontainers in /usr/local/lib/python3.8/dist-packages (from voxel51-eta<0.9,>=0.8.1->fiftyone) (2.4.0)\n",
            "Collecting botocore<1.30.0,>=1.29.32\n",
            "  Downloading botocore-1.29.32-py3-none-any.whl (10.3 MB)\n",
            "\u001b[K     |████████████████████████████████| 10.3 MB 60.8 MB/s \n",
            "\u001b[?25hCollecting jmespath<2.0.0,>=0.7.1\n",
            "  Downloading jmespath-1.0.1-py3-none-any.whl (20 kB)\n",
            "Collecting s3transfer<0.7.0,>=0.6.0\n",
            "  Downloading s3transfer-0.6.0-py3-none-any.whl (79 kB)\n",
            "\u001b[K     |████████████████████████████████| 79 kB 8.7 MB/s \n",
            "\u001b[?25hCollecting urllib3\n",
            "  Downloading urllib3-1.26.13-py2.py3-none-any.whl (140 kB)\n",
            "\u001b[K     |████████████████████████████████| 140 kB 77.3 MB/s \n",
            "\u001b[?25hRequirement already satisfied: wrapt<2,>=1.10 in /usr/local/lib/python3.8/dist-packages (from Deprecated->fiftyone) (1.14.1)\n",
            "Requirement already satisfied: greenlet>=0.3 in /usr/local/lib/python3.8/dist-packages (from eventlet->fiftyone) (2.0.1)\n",
            "Requirement already satisfied: pyparsing!=2.0.4,!=2.1.2,!=2.1.6,>=2.0.1 in /usr/local/lib/python3.8/dist-packages (from matplotlib->fiftyone) (3.0.9)\n",
            "Requirement already satisfied: cycler>=0.10 in /usr/local/lib/python3.8/dist-packages (from matplotlib->fiftyone) (0.11.0)\n",
            "Requirement already satisfied: kiwisolver>=1.0.1 in /usr/local/lib/python3.8/dist-packages (from matplotlib->fiftyone) (1.4.4)\n",
            "  Downloading urllib3-1.25.11-py2.py3-none-any.whl (127 kB)\n",
            "\u001b[K     |████████████████████████████████| 127 kB 82.6 MB/s \n",
            "\u001b[?25hRequirement already satisfied: chardet<4,>=3.0.2 in /usr/local/lib/python3.8/dist-packages (from requests->voxel51-eta<0.9,>=0.8.1->fiftyone) (3.0.4)\n",
            "Requirement already satisfied: networkx>=2.0 in /usr/local/lib/python3.8/dist-packages (from scikit-image->fiftyone) (2.8.8)\n",
            "Requirement already satisfied: tifffile>=2019.7.26 in /usr/local/lib/python3.8/dist-packages (from scikit-image->fiftyone) (2022.10.10)\n",
            "Requirement already satisfied: imageio>=2.3.0 in /usr/local/lib/python3.8/dist-packages (from scikit-image->fiftyone) (2.9.0)\n",
            "Requirement already satisfied: PyWavelets>=1.1.1 in /usr/local/lib/python3.8/dist-packages (from scikit-image->fiftyone) (1.4.1)\n",
            "Requirement already satisfied: joblib>=0.11 in /usr/local/lib/python3.8/dist-packages (from scikit-learn->fiftyone) (1.2.0)\n",
            "Requirement already satisfied: threadpoolctl>=2.0.0 in /usr/local/lib/python3.8/dist-packages (from scikit-learn->fiftyone) (3.1.0)\n",
            "Installing collected packages: sniffio, urllib3, rfc3986, jmespath, h11, anyio, hyperframe, httpcore, hpack, botocore, wsproto, starlette, s3transfer, retrying, priority, patool, ndjson, httpx, h2, graphql-core, argcomplete, xmltodict, voxel51-eta, universal-analytics-python3, strawberry-graphql, sseclient-py, sse-starlette, pprintpp, motor, mongoengine, kaleido, Jinja2, hypercorn, fiftyone-db, fiftyone-brain, eventlet, Deprecated, dacite, boto3, aiofiles, fiftyone\n",
            "  Attempting uninstall: urllib3\n",
            "    Found existing installation: urllib3 1.24.3\n",
            "    Uninstalling urllib3-1.24.3:\n",
            "      Successfully uninstalled urllib3-1.24.3\n",
            "  Attempting uninstall: Jinja2\n",
            "    Found existing installation: Jinja2 2.11.3\n",
            "    Uninstalling Jinja2-2.11.3:\n",
            "      Successfully uninstalled Jinja2-2.11.3\n",
            "\u001b[31mERROR: pip's dependency resolver does not currently take into account all the packages that are installed. This behaviour is the source of the following dependency conflicts.\n",
            "notebook 5.7.16 requires jinja2<=3.0.0, but you have jinja2 3.1.2 which is incompatible.\n",
            "flask 1.1.4 requires Jinja2<3.0,>=2.10.1, but you have jinja2 3.1.2 which is incompatible.\u001b[0m\n",
            "Successfully installed Deprecated-1.2.13 Jinja2-3.1.2 aiofiles-22.1.0 anyio-3.6.2 argcomplete-2.0.0 boto3-1.26.32 botocore-1.29.32 dacite-1.6.0 eventlet-0.33.2 fiftyone-0.18.0 fiftyone-brain-0.9.2 fiftyone-db-0.4.0 graphql-core-3.2.3 h11-0.14.0 h2-4.1.0 hpack-4.0.0 httpcore-0.16.2 httpx-0.23.1 hypercorn-0.14.3 hyperframe-6.0.1 jmespath-1.0.1 kaleido-0.2.1 mongoengine-0.24.2 motor-3.1.1 ndjson-0.3.1 patool-1.12 pprintpp-0.4.0 priority-2.0.0 retrying-1.3.4 rfc3986-1.5.0 s3transfer-0.6.0 sniffio-1.3.0 sse-starlette-0.10.3 sseclient-py-1.7.2 starlette-0.20.4 strawberry-graphql-0.138.1 universal-analytics-python3-1.1.1 urllib3-1.25.11 voxel51-eta-0.8.1 wsproto-1.2.0 xmltodict-0.13.0\n"
          ]
        },
        {
          "output_type": "display_data",
          "data": {
            "application/vnd.colab-display-data+json": {
              "pip_warning": {
                "packages": [
                  "urllib3"
                ]
              }
            }
          },
          "metadata": {}
        }
      ]
    },
    {
      "cell_type": "markdown",
      "source": [
        "## Imports"
      ],
      "metadata": {
        "id": "v7C78zYNEImH"
      }
    },
    {
      "cell_type": "code",
      "execution_count": 1,
      "metadata": {
        "id": "ObA-y6RE8ZkX"
      },
      "outputs": [],
      "source": [
        "import torch\n",
        "import torchvision\n",
        "from PIL import Image\n",
        "from torchvision.transforms import functional as func\n",
        "from torch.utils.data import DataLoader\n",
        "from torchvision import datasets\n",
        "from torchvision.transforms import ToTensor\n",
        "\n",
        "import fiftyone as fo\n",
        "import fiftyone.zoo as foz\n",
        "from fiftyone import ViewField as F"
      ]
    },
    {
      "cell_type": "markdown",
      "source": [
        "# Model intialization\n",
        "\n",
        "\n",
        "*   Run on GPU if available\n",
        "*   Load pre-trained Model\n",
        "*   load model to GPU\n",
        "*   Set to evalution mode"
      ],
      "metadata": {
        "id": "YcderkSCDhDQ"
      }
    },
    {
      "cell_type": "code",
      "source": [
        "# Run on GPU\n",
        "device = torch.device(\"cuda:0\" if torch.cuda.is_available() else \"cpu\")"
      ],
      "metadata": {
        "id": "a9iHTYQHQ07F"
      },
      "execution_count": 55,
      "outputs": []
    },
    {
      "cell_type": "markdown",
      "source": [
        "## FCOS: Fully Convolutional One-Stage Object Detection"
      ],
      "metadata": {
        "id": "GfagGVvfRhpG"
      }
    },
    {
      "cell_type": "code",
      "source": [
        "# Load pre-trained model\n",
        "model_fcos = torchvision.models.detection.fcos_resnet50_fpn(weights=torchvision.models.detection.FCOS_ResNet50_FPN_Weights.DEFAULT)\n",
        "model_fcos.to(device)\n",
        "model_fcos.eval()\n",
        "\n",
        "print(\"Model FOCS\")"
      ],
      "metadata": {
        "colab": {
          "base_uri": "https://localhost:8080/"
        },
        "id": "xbh7TBAsQ3rd",
        "outputId": "9e40c833-fbb7-4445-f6ff-aa059a759fa9"
      },
      "execution_count": 56,
      "outputs": [
        {
          "output_type": "stream",
          "name": "stdout",
          "text": [
            "Model FOCS\n"
          ]
        }
      ]
    },
    {
      "cell_type": "markdown",
      "source": [
        "## Faster R-CNN"
      ],
      "metadata": {
        "id": "4SLYwIHMRQcg"
      }
    },
    {
      "cell_type": "code",
      "source": [
        "# Load pre-trained model\n",
        "model_rcnn = torchvision.models.detection.fasterrcnn_resnet50_fpn_v2(weights=torchvision.models.detection.FasterRCNN_ResNet50_FPN_V2_Weights.DEFAULT)\n",
        "model_rcnn.to(device)\n",
        "model_rcnn.eval()\n",
        "\n",
        "print(\"Model Faster R-CNN\")"
      ],
      "metadata": {
        "colab": {
          "base_uri": "https://localhost:8080/"
        },
        "id": "ZDnWevAS_BwJ",
        "outputId": "3fea16ab-8432-4d81-8bbd-5fbe9d8a1cd9"
      },
      "execution_count": 57,
      "outputs": [
        {
          "output_type": "stream",
          "name": "stdout",
          "text": [
            "Model Faster R-CNN\n"
          ]
        }
      ]
    },
    {
      "cell_type": "markdown",
      "source": [
        "## SSD"
      ],
      "metadata": {
        "id": "75MGYa7167ps"
      }
    },
    {
      "cell_type": "code",
      "source": [
        "model_ssd = torchvision.models.detection.ssd300_vgg16(weights=torchvision.models.detection.SSD300_VGG16_Weights.DEFAULT)\n",
        "model_ssd.to(device)\n",
        "model_ssd.eval()\n",
        "\n",
        "print(\"Model SSD\")"
      ],
      "metadata": {
        "colab": {
          "base_uri": "https://localhost:8080/",
          "height": 84,
          "referenced_widgets": [
            "c4dc2809139145739d8479f9d37173a7",
            "b6b8952cbdbc445ba83fa84b97f6749c",
            "2a6e33bf21a64f87ad5b2968f0fd6b5f",
            "78b06dbb8a144990885fb4c141f95b15",
            "850e831a0e9948659ab08dca14312259",
            "f14559a591cd48769ca9aa96de0bff17",
            "aa03871e675f430fa10df2d17138e763",
            "35a85cdb3217488a829a2a273743c345",
            "e2ffb0bec3a6498eaefc57e65a2d0487",
            "e908d67bf43c448fbc3b21e38778fb3a",
            "c760b132901d48eba23fe13f490384df"
          ]
        },
        "id": "gufOqkhi68La",
        "outputId": "7e633d05-7ba8-4e84-d078-0af620a3b2d5"
      },
      "execution_count": 58,
      "outputs": [
        {
          "output_type": "stream",
          "name": "stderr",
          "text": [
            "Downloading: \"https://download.pytorch.org/models/ssd300_vgg16_coco-b556d3b4.pth\" to /root/.cache/torch/hub/checkpoints/ssd300_vgg16_coco-b556d3b4.pth\n"
          ]
        },
        {
          "output_type": "display_data",
          "data": {
            "text/plain": [
              "  0%|          | 0.00/136M [00:00<?, ?B/s]"
            ],
            "application/vnd.jupyter.widget-view+json": {
              "version_major": 2,
              "version_minor": 0,
              "model_id": "c4dc2809139145739d8479f9d37173a7"
            }
          },
          "metadata": {}
        },
        {
          "output_type": "stream",
          "name": "stdout",
          "text": [
            "Model SSD\n"
          ]
        }
      ]
    },
    {
      "cell_type": "markdown",
      "source": [
        "# Download COCO-2017 validation split and explore"
      ],
      "metadata": {
        "id": "4fzuVDn8EdRg"
      }
    },
    {
      "cell_type": "markdown",
      "source": [
        "## Download"
      ],
      "metadata": {
        "id": "Q2x6TamyVMu-"
      }
    },
    {
      "cell_type": "code",
      "source": [
        "# Download test split\n",
        "dataset = foz.load_zoo_dataset(\n",
        "    \"coco-2017\",\n",
        "    split=\"validation\",\n",
        ")\n",
        "\n",
        "dataset.persistent = True"
      ],
      "metadata": {
        "colab": {
          "base_uri": "https://localhost:8080/"
        },
        "id": "Ag1a-joQPfYw",
        "outputId": "3cddb1d3-3d12-4c46-b40e-bbdde9166783"
      },
      "execution_count": 59,
      "outputs": [
        {
          "output_type": "stream",
          "name": "stdout",
          "text": [
            "Downloading split 'validation' to '/root/fiftyone/coco-2017/validation' if necessary\n"
          ]
        },
        {
          "output_type": "stream",
          "name": "stderr",
          "text": [
            "INFO:fiftyone.zoo.datasets:Downloading split 'validation' to '/root/fiftyone/coco-2017/validation' if necessary\n"
          ]
        },
        {
          "output_type": "stream",
          "name": "stdout",
          "text": [
            "Found annotations at '/root/fiftyone/coco-2017/raw/instances_val2017.json'\n"
          ]
        },
        {
          "output_type": "stream",
          "name": "stderr",
          "text": [
            "INFO:fiftyone.utils.coco:Found annotations at '/root/fiftyone/coco-2017/raw/instances_val2017.json'\n"
          ]
        },
        {
          "output_type": "stream",
          "name": "stdout",
          "text": [
            "Images already downloaded\n"
          ]
        },
        {
          "output_type": "stream",
          "name": "stderr",
          "text": [
            "INFO:fiftyone.utils.coco:Images already downloaded\n"
          ]
        },
        {
          "output_type": "stream",
          "name": "stdout",
          "text": [
            "Existing download of split 'validation' is sufficient\n"
          ]
        },
        {
          "output_type": "stream",
          "name": "stderr",
          "text": [
            "INFO:fiftyone.zoo.datasets:Existing download of split 'validation' is sufficient\n"
          ]
        },
        {
          "output_type": "stream",
          "name": "stdout",
          "text": [
            "Loading existing dataset 'coco-2017-validation'. To reload from disk, either delete the existing dataset or provide a custom `dataset_name` to use\n"
          ]
        },
        {
          "output_type": "stream",
          "name": "stderr",
          "text": [
            "INFO:fiftyone.zoo.datasets:Loading existing dataset 'coco-2017-validation'. To reload from disk, either delete the existing dataset or provide a custom `dataset_name` to use\n"
          ]
        }
      ]
    },
    {
      "cell_type": "code",
      "source": [
        "print(dataset)"
      ],
      "metadata": {
        "colab": {
          "base_uri": "https://localhost:8080/"
        },
        "id": "-oJddmTbSOyA",
        "outputId": "a2147a06-c62e-4e0f-b2e4-ba4dbb5efd0e"
      },
      "execution_count": 60,
      "outputs": [
        {
          "output_type": "stream",
          "name": "stdout",
          "text": [
            "Name:        coco-2017-validation\n",
            "Media type:  image\n",
            "Num samples: 5000\n",
            "Persistent:  True\n",
            "Tags:        []\n",
            "Sample fields:\n",
            "    id:           fiftyone.core.fields.ObjectIdField\n",
            "    filepath:     fiftyone.core.fields.StringField\n",
            "    tags:         fiftyone.core.fields.ListField(fiftyone.core.fields.StringField)\n",
            "    metadata:     fiftyone.core.fields.EmbeddedDocumentField(fiftyone.core.metadata.ImageMetadata)\n",
            "    ground_truth: fiftyone.core.fields.EmbeddedDocumentField(fiftyone.core.labels.Detections)\n",
            "    faster_rcnn:  fiftyone.core.fields.EmbeddedDocumentField(fiftyone.core.labels.Detections)\n",
            "    FCOS:         fiftyone.core.fields.EmbeddedDocumentField(fiftyone.core.labels.Detections)\n",
            "    Faster_RCNN:  fiftyone.core.fields.EmbeddedDocumentField(fiftyone.core.labels.Detections)\n",
            "    eval_tp:      fiftyone.core.fields.IntField\n",
            "    eval_fp:      fiftyone.core.fields.IntField\n",
            "    eval_fn:      fiftyone.core.fields.IntField\n"
          ]
        }
      ]
    },
    {
      "cell_type": "markdown",
      "source": [
        "## Explore"
      ],
      "metadata": {
        "id": "4N8IzMmxVPon"
      }
    },
    {
      "cell_type": "code",
      "source": [
        "print(dataset.first().ground_truth.detections[0])"
      ],
      "metadata": {
        "colab": {
          "base_uri": "https://localhost:8080/"
        },
        "id": "D20IMkxJEpbg",
        "outputId": "397c5aff-f205-4959-e867-e63c36939e85"
      },
      "execution_count": 61,
      "outputs": [
        {
          "output_type": "stream",
          "name": "stdout",
          "text": [
            "<Detection: {\n",
            "    'id': '63a055620b4e02ae95cf631d',\n",
            "    'attributes': {},\n",
            "    'tags': [],\n",
            "    'label': 'potted plant',\n",
            "    'bounding_box': [\n",
            "        0.37028125,\n",
            "        0.3345305164319249,\n",
            "        0.038593749999999996,\n",
            "        0.16314553990610328,\n",
            "    ],\n",
            "    'mask': None,\n",
            "    'confidence': None,\n",
            "    'index': None,\n",
            "    'supercategory': 'furniture',\n",
            "    'iscrowd': 0,\n",
            "    'eval': 'fn',\n",
            "    'eval_id': '',\n",
            "}>\n"
          ]
        }
      ]
    },
    {
      "cell_type": "code",
      "source": [
        "session = fo.launch_app(dataset)"
      ],
      "metadata": {
        "id": "r4dEWL_uVGMK"
      },
      "execution_count": null,
      "outputs": []
    },
    {
      "cell_type": "markdown",
      "source": [
        "# Run test and add predections to dataset to visualize"
      ],
      "metadata": {
        "id": "NU6Lq7hoUVbe"
      }
    },
    {
      "cell_type": "code",
      "source": [
        "# Classes\n",
        "classes = dataset.default_classes\n",
        "print(len(classes))"
      ],
      "metadata": {
        "colab": {
          "base_uri": "https://localhost:8080/"
        },
        "id": "iiK8V-g0Ajes",
        "outputId": "d5122d5c-b1d6-41c5-a35a-fe85d7fc6f27"
      },
      "execution_count": 64,
      "outputs": [
        {
          "output_type": "stream",
          "name": "stdout",
          "text": [
            "91\n"
          ]
        }
      ]
    },
    {
      "cell_type": "code",
      "source": [
        "def predection_inference(model, dataset, label_name:str):\n",
        "  classes = dataset.default_classes\n",
        "  # Add predictions to samples\n",
        "  with fo.ProgressBar() as pb:\n",
        "      for sample in pb(dataset):\n",
        "          # Load image\n",
        "          image = Image.open(sample.filepath)\n",
        "          image = func.to_tensor(image).to(device)\n",
        "          c, h, w = image.shape\n",
        "          \n",
        "          # Perform inference\n",
        "          preds = model([image])[0]\n",
        "          labels = preds[\"labels\"].cpu().detach().numpy()\n",
        "          scores = preds[\"scores\"].cpu().detach().numpy()\n",
        "          boxes = preds[\"boxes\"].cpu().detach().numpy()\n",
        "          \n",
        "          # Convert detections to FiftyOne format\n",
        "          detections = []\n",
        "          for label, score, box in zip(labels, scores, boxes):\n",
        "              # Convert to [top-left-x, top-left-y, width, height]\n",
        "              # in relative coordinates in [0, 1] x [0, 1]\n",
        "              x1, y1, x2, y2 = box\n",
        "              rel_box = [x1 / w, y1 / h, (x2 - x1) / w, (y2 - y1) / h]\n",
        "\n",
        "              detections.append(\n",
        "                  fo.Detection(\n",
        "                      label=classes[label],\n",
        "                      bounding_box=rel_box,\n",
        "                      confidence=score\n",
        "                  )\n",
        "              )\n",
        "          \n",
        "          # Save predictions to dataset\n",
        "          sample[label_name] = fo.Detections(detections=detections)\n",
        "          sample.save()\n",
        "\n",
        "  print(\"Finished adding predictions\")"
      ],
      "metadata": {
        "id": "ELgZOFT_WvZJ"
      },
      "execution_count": 65,
      "outputs": []
    },
    {
      "cell_type": "code",
      "source": [
        "predection_inference(model_fcos, dataset, \"fcos\")"
      ],
      "metadata": {
        "colab": {
          "base_uri": "https://localhost:8080/"
        },
        "id": "7KqAc1daZiGH",
        "outputId": "dad93c56-0bc7-4f17-d5b5-3976022fa50a"
      },
      "execution_count": 19,
      "outputs": [
        {
          "output_type": "stream",
          "name": "stdout",
          "text": [
            " 100% |███████████████| 5000/5000 [14.2m elapsed, 0s remaining, 6.1 samples/s]      \n"
          ]
        },
        {
          "output_type": "stream",
          "name": "stderr",
          "text": [
            "INFO:eta.core.utils: 100% |███████████████| 5000/5000 [14.2m elapsed, 0s remaining, 6.1 samples/s]      \n"
          ]
        },
        {
          "output_type": "stream",
          "name": "stdout",
          "text": [
            "Finished adding predictions\n"
          ]
        }
      ]
    },
    {
      "cell_type": "code",
      "source": [
        "predection_inference(model_rcnn, dataset, \"faster_rcnn\")"
      ],
      "metadata": {
        "colab": {
          "base_uri": "https://localhost:8080/"
        },
        "id": "hxyoOjaxaC0p",
        "outputId": "abeb2d45-b9fc-4162-cce2-5c4e821d1237"
      },
      "execution_count": 20,
      "outputs": [
        {
          "output_type": "stream",
          "name": "stdout",
          "text": [
            " 100% |███████████████| 5000/5000 [18.5m elapsed, 0s remaining, 5.0 samples/s]      \n"
          ]
        },
        {
          "output_type": "stream",
          "name": "stderr",
          "text": [
            "INFO:eta.core.utils: 100% |███████████████| 5000/5000 [18.5m elapsed, 0s remaining, 5.0 samples/s]      \n"
          ]
        },
        {
          "output_type": "stream",
          "name": "stdout",
          "text": [
            "Finished adding predictions\n"
          ]
        }
      ]
    },
    {
      "cell_type": "code",
      "source": [
        "predection_inference(model_ssd, dataset, \"ssd\")"
      ],
      "metadata": {
        "colab": {
          "base_uri": "https://localhost:8080/"
        },
        "id": "6nVic67D8VED",
        "outputId": "57199de7-adf1-49d3-eb75-1bbce34f0059"
      },
      "execution_count": 66,
      "outputs": [
        {
          "output_type": "stream",
          "name": "stdout",
          "text": [
            " 100% |███████████████| 5000/5000 [17.5m elapsed, 0s remaining, 6.0 samples/s]      \n"
          ]
        },
        {
          "output_type": "stream",
          "name": "stderr",
          "text": [
            "INFO:eta.core.utils: 100% |███████████████| 5000/5000 [17.5m elapsed, 0s remaining, 6.0 samples/s]      \n"
          ]
        },
        {
          "output_type": "stream",
          "name": "stdout",
          "text": [
            "Finished adding predictions\n"
          ]
        }
      ]
    },
    {
      "cell_type": "markdown",
      "source": [
        "# Evaluate"
      ],
      "metadata": {
        "id": "x4fx1xQLlKR5"
      }
    },
    {
      "cell_type": "code",
      "source": [
        "# Only contains detections with confidence >= 0.75\n",
        "high_conf_view_fcos = dataset.filter_labels(\"fcos\", F(\"confidence\") > 0.75, only_matches=False)\n",
        "high_conf_view_faster_rcnn = dataset.filter_labels(\"faster_rcnn\", F(\"confidence\") > 0.75, only_matches=False)\n",
        "high_conf_view_ssd = dataset.filter_labels(\"ssd\", F(\"confidence\") > 0.75, only_matches=False)"
      ],
      "metadata": {
        "id": "N48ZCwWtDSCd"
      },
      "execution_count": null,
      "outputs": []
    },
    {
      "cell_type": "code",
      "source": [
        "results_fcos = high_conf_view_fcos.evaluate_detections(\n",
        "    \"fcos\",\n",
        "    gt_field=\"ground_truth\",\n",
        "    eval_key=\"eval\",\n",
        "    compute_mAP=True,\n",
        "    iou=0.5\n",
        ")\n",
        "\n",
        "results_f_rcnn = high_conf_view_faster_rcnn.evaluate_detections(\n",
        "    \"faster_rcnn\",\n",
        "    gt_field=\"ground_truth\",\n",
        "    eval_key=\"eval\",\n",
        "    compute_mAP=True,\n",
        "    iou=0.5\n",
        ")\n",
        "\n",
        "results_ssd = high_conf_view_ssd.evaluate_detections(\n",
        "    \"ssd\",\n",
        "    gt_field=\"ground_truth\",\n",
        "    eval_key=\"eval\",\n",
        "    compute_mAP=True,\n",
        "    iou=0.5\n",
        ")"
      ],
      "metadata": {
        "id": "iQO-wBESlJuM"
      },
      "execution_count": null,
      "outputs": []
    },
    {
      "cell_type": "markdown",
      "source": [
        "# FCOS results\n",
        "\n",
        "*   Precision Recall f1-score support\n",
        "*   mAP\n",
        "*   pr curve\n",
        "\n"
      ],
      "metadata": {
        "id": "uAx0x-El2KCy"
      }
    },
    {
      "cell_type": "code",
      "source": [
        "results_fcos.print_report()\n",
        "print(f'mAP: {results_fcos.mAP()}')"
      ],
      "metadata": {
        "colab": {
          "base_uri": "https://localhost:8080/"
        },
        "id": "PBiZ3H1YyDBY",
        "outputId": "84ac5a36-b3a8-491e-9aaf-ef4c82c550fb"
      },
      "execution_count": 32,
      "outputs": [
        {
          "output_type": "stream",
          "name": "stdout",
          "text": [
            "                precision    recall  f1-score   support\n",
            "\n",
            "      airplane       0.15      0.97      0.26       143\n",
            "         apple       0.11      0.77      0.19       361\n",
            "      backpack       0.04      0.63      0.08       371\n",
            "        banana       0.20      0.89      0.32       850\n",
            "  baseball bat       0.08      0.62      0.14       146\n",
            "baseball glove       0.10      0.74      0.18       148\n",
            "          bear       0.15      0.93      0.26        71\n",
            "           bed       0.05      0.90      0.10       163\n",
            "         bench       0.03      0.61      0.07       427\n",
            "       bicycle       0.09      0.77      0.16       343\n",
            "          bird       0.27      0.83      0.41       898\n",
            "          boat       0.14      0.85      0.24       618\n",
            "          book       0.24      0.85      0.37      2735\n",
            "        bottle       0.18      0.83      0.29      1388\n",
            "          bowl       0.10      0.82      0.17       654\n",
            "      broccoli       0.09      0.88      0.17       460\n",
            "           bus       0.14      0.89      0.24       304\n",
            "          cake       0.15      0.88      0.26       481\n",
            "           car       0.16      0.87      0.28      2392\n",
            "        carrot       0.15      0.84      0.25       639\n",
            "           cat       0.11      0.98      0.21       202\n",
            "    cell phone       0.10      0.78      0.17       262\n",
            "         chair       0.10      0.77      0.17      2140\n",
            "         clock       0.16      0.81      0.27       267\n",
            "         couch       0.05      0.90      0.10       261\n",
            "           cow       0.29      0.95      0.45       690\n",
            "           cup       0.15      0.82      0.25       957\n",
            "  dining table       0.05      0.74      0.10       708\n",
            "           dog       0.10      0.92      0.18       218\n",
            "         donut       0.32      0.92      0.47       721\n",
            "      elephant       0.23      0.98      0.38       416\n",
            "  fire hydrant       0.14      0.90      0.24       101\n",
            "          fork       0.08      0.75      0.15       215\n",
            "       frisbee       0.17      0.90      0.29       115\n",
            "       giraffe       0.21      0.94      0.34       232\n",
            "    hair drier       0.02      0.55      0.03        11\n",
            "       handbag       0.04      0.63      0.08       540\n",
            "         horse       0.12      0.91      0.20       273\n",
            "       hot dog       0.12      0.77      0.20       183\n",
            "      keyboard       0.10      0.85      0.18       153\n",
            "          kite       0.28      0.90      0.42       529\n",
            "         knife       0.06      0.55      0.10       326\n",
            "        laptop       0.10      0.85      0.19       231\n",
            "     microwave       0.08      0.84      0.14        55\n",
            "    motorcycle       0.14      0.90      0.24       485\n",
            "         mouse       0.15      0.89      0.25       106\n",
            "        orange       0.13      0.79      0.23       343\n",
            "          oven       0.06      0.77      0.11       143\n",
            " parking meter       0.07      0.73      0.12        60\n",
            "        person       0.31      0.94      0.47     18357\n",
            "         pizza       0.12      0.85      0.21       285\n",
            "  potted plant       0.06      0.76      0.11       345\n",
            "  refrigerator       0.07      0.87      0.13       126\n",
            "        remote       0.11      0.77      0.18       283\n",
            "      sandwich       0.07      0.80      0.13       177\n",
            "      scissors       0.03      0.67      0.06        36\n",
            "         sheep       0.27      0.96      0.42       690\n",
            "          sink       0.08      0.80      0.14       225\n",
            "    skateboard       0.12      0.85      0.21       179\n",
            "          skis       0.07      0.71      0.12       241\n",
            "     snowboard       0.05      0.72      0.09        69\n",
            "         spoon       0.05      0.60      0.09       253\n",
            "   sports ball       0.19      0.74      0.30       286\n",
            "     stop sign       0.12      0.84      0.22        75\n",
            "      suitcase       0.13      0.88      0.23       444\n",
            "     surfboard       0.10      0.76      0.17       270\n",
            "    teddy bear       0.09      0.84      0.16       192\n",
            " tennis racket       0.14      0.85      0.25       225\n",
            "           tie       0.09      0.70      0.15       277\n",
            "       toaster       0.03      0.78      0.06         9\n",
            "        toilet       0.12      0.91      0.22       179\n",
            "    toothbrush       0.04      0.65      0.08        57\n",
            " traffic light       0.13      0.71      0.22       652\n",
            "         train       0.12      0.95      0.22       190\n",
            "         truck       0.08      0.88      0.14       416\n",
            "            tv       0.11      0.87      0.20       288\n",
            "      umbrella       0.13      0.82      0.23       505\n",
            "          vase       0.09      0.81      0.16       282\n",
            "    wine glass       0.16      0.77      0.26       382\n",
            "         zebra       0.23      0.98      0.38       330\n",
            "\n",
            "     micro avg       0.16      0.87      0.27     50860\n",
            "     macro avg       0.12      0.82      0.21     50860\n",
            "  weighted avg       0.21      0.87      0.33     50860\n",
            "\n",
            "mAP: 0.391520749079543\n"
          ]
        }
      ]
    },
    {
      "cell_type": "code",
      "source": [
        "plot = results_fcos.plot_pr_curves()\n",
        "plot.show()"
      ],
      "metadata": {
        "id": "-Ed3jKPS2y_M"
      },
      "execution_count": null,
      "outputs": []
    },
    {
      "cell_type": "markdown",
      "source": [
        "# Faster RCNN"
      ],
      "metadata": {
        "id": "ukw3pKhZ3UGs"
      }
    },
    {
      "cell_type": "code",
      "source": [
        "results_fcos.print_report()\n",
        "print(f'mAP: {results_fcos.mAP()}')"
      ],
      "metadata": {
        "id": "xrijYm4V3THl"
      },
      "execution_count": null,
      "outputs": []
    },
    {
      "cell_type": "code",
      "source": [
        "plot = results_fcos.plot_pr_curves()\n",
        "plot.show()"
      ],
      "metadata": {
        "id": "V2IRV1T93YoA"
      },
      "execution_count": null,
      "outputs": []
    },
    {
      "cell_type": "markdown",
      "source": [
        "# SSD"
      ],
      "metadata": {
        "id": "F2LuGJIQEWd-"
      }
    },
    {
      "cell_type": "code",
      "source": [
        "results_ssd.print_report()\n",
        "print(f'mAP: {results_ssd.mAP()}')"
      ],
      "metadata": {
        "id": "a0ZJPjYkEX4V"
      },
      "execution_count": null,
      "outputs": []
    },
    {
      "cell_type": "code",
      "source": [
        "plot = results_ssd.plot_pr_curves()\n",
        "plot.show()"
      ],
      "metadata": {
        "id": "4L9jK86UEZGs"
      },
      "execution_count": null,
      "outputs": []
    },
    {
      "cell_type": "markdown",
      "source": [
        "# Explore hight Confidence view"
      ],
      "metadata": {
        "id": "UVZuRZvn4dQi"
      }
    },
    {
      "cell_type": "markdown",
      "source": [
        "## SSD"
      ],
      "metadata": {
        "id": "TKHrladDGx8x"
      }
    },
    {
      "cell_type": "code",
      "source": [
        "# Show samples with most true positives\n",
        "session.view = high_conf_view_ssd.sort_by(\"eval_tp\", reverse=True)"
      ],
      "metadata": {
        "id": "8s4qGIF744LT"
      },
      "execution_count": null,
      "outputs": []
    },
    {
      "cell_type": "code",
      "source": [
        "# Show samples with most false positives\n",
        "session.view = high_conf_view_ssd.sort_by(\"eval_fp\", reverse=True)"
      ],
      "metadata": {
        "id": "jLhzdSzIE-XM"
      },
      "execution_count": null,
      "outputs": []
    },
    {
      "cell_type": "markdown",
      "source": [
        "## FCOS"
      ],
      "metadata": {
        "id": "YqxgCgLdGz6k"
      }
    },
    {
      "cell_type": "code",
      "source": [
        "# Show samples with most true positives\n",
        "session.view = high_conf_view_fcos.sort_by(\"eval_tp\", reverse=True)"
      ],
      "metadata": {
        "id": "t1WNkUz0G3al"
      },
      "execution_count": null,
      "outputs": []
    },
    {
      "cell_type": "code",
      "source": [
        "# Show samples with most true positives\n",
        "session.view = high_conf_view_fcos.sort_by(\"eval_tp\", reverse=True)"
      ],
      "metadata": {
        "id": "hnFGVeSUG33Q"
      },
      "execution_count": null,
      "outputs": []
    },
    {
      "cell_type": "markdown",
      "source": [
        "## Faster RCNN"
      ],
      "metadata": {
        "id": "y_Fum92rG-8F"
      }
    },
    {
      "cell_type": "code",
      "source": [
        "# Show samples with most true positives\n",
        "session.view = high_conf_view_faster_rcnn.sort_by(\"eval_tp\", reverse=True)"
      ],
      "metadata": {
        "id": "pjUJbGVWHClS"
      },
      "execution_count": null,
      "outputs": []
    },
    {
      "cell_type": "code",
      "source": [
        "# Show samples with most true positives\n",
        "session.view = high_conf_view_faster_rcnn.sort_by(\"eval_tp\", reverse=True)"
      ],
      "metadata": {
        "id": "nMewXKJvHD75"
      },
      "execution_count": null,
      "outputs": []
    }
  ]
}