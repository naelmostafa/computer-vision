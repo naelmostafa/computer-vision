{
 "cells": [
  {
   "attachments": {},
   "cell_type": "markdown",
   "metadata": {},
   "source": [
    "# Object Tracking in vidoes"
   ]
  },
  {
   "cell_type": "code",
   "execution_count": 28,
   "metadata": {},
   "outputs": [],
   "source": [
    "import numpy as np\n",
    "import cv2\n",
    "import matplotlib.pyplot as plt\n",
    "%matplotlib inline"
   ]
  },
  {
   "cell_type": "code",
   "execution_count": 29,
   "metadata": {},
   "outputs": [],
   "source": [
    "def get_rectangle(frame):\n",
    "    # Define a variable to store the coordinates of the rectangle\n",
    "    rect = [0, 0, 0, 0]\n",
    "    \n",
    "    # Make a copy of the frame\n",
    "    img = frame.copy()\n",
    "    \n",
    "    # Define the mouse callback function\n",
    "    def select_rectangle(event, x, y, flags, param):\n",
    "        nonlocal rect\n",
    "        if event == cv2.EVENT_LBUTTONDOWN:\n",
    "            rect[0] = x\n",
    "            rect[1] = y\n",
    "        elif event == cv2.EVENT_LBUTTONUP:\n",
    "            rect[2] = x - rect[0]\n",
    "            rect[3] = y - rect[1]\n",
    "\n",
    "    # Set the mouse callback function for the window\n",
    "    cv2.namedWindow(\"Select rectangle\")\n",
    "    cv2.setMouseCallback(\"Select rectangle\", select_rectangle)\n",
    "    # draw rectangle\n",
    "    \n",
    "    \n",
    "    while(True):\n",
    "        # Show the frame\n",
    "        cv2.rectangle(img, (rect[0], rect[1]), (rect[0] + rect[2], rect[1] + rect[3]), (0, 255, 0), 2)\n",
    "        cv2.imshow(\"Select rectangle\", img)\n",
    "\n",
    "        # Exit if the user presses the 'q' key\n",
    "        if cv2.waitKey(1) & 0xFF == ord('q'):\n",
    "            break\n",
    "\n",
    "    # Release the display window\n",
    "    cv2.destroyAllWindows()\n",
    "    \n",
    "    return rect\n",
    "\n"
   ]
  },
  {
   "cell_type": "code",
   "execution_count": 30,
   "metadata": {},
   "outputs": [],
   "source": [
    "\n",
    "car_1 = np.load(\"assignment 3-data/car1.npy\")\n",
    "car_2 = np.load(\"assignment 3-data/car2.npy\")\n",
    "landing = np.load(\"assignment 3-data/landing.npy\")\n",
    "\n",
    "def play_video(frames):\n",
    "    \"\"\"\n",
    "    Play a video from a list of frames\n",
    "    \"\"\"\n",
    "    print(\"Playing video ....\")\n",
    "    print(\"Press q to exit\")\n",
    "    for frame in frames:\n",
    "        cv2.imshow('frame', frame)\n",
    "        if cv2.waitKey(25) & 0xFF == ord('q'):\n",
    "            break\n",
    "    cv2.destroyAllWindows()\n"
   ]
  }
 ],
 "metadata": {
  "kernelspec": {
   "display_name": "Python 3",
   "language": "python",
   "name": "python3"
  },
  "language_info": {
   "codemirror_mode": {
    "name": "ipython",
    "version": 3
   },
   "file_extension": ".py",
   "mimetype": "text/x-python",
   "name": "python",
   "nbconvert_exporter": "python",
   "pygments_lexer": "ipython3",
   "version": "3.10.8"
  },
  "orig_nbformat": 4,
  "vscode": {
   "interpreter": {
    "hash": "369f2c481f4da34e4445cda3fffd2e751bd1c4d706f27375911949ba6bb62e1c"
   }
  }
 },
 "nbformat": 4,
 "nbformat_minor": 2
}
