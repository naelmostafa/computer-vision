{
 "cells": [
  {
   "attachments": {},
   "cell_type": "markdown",
   "metadata": {},
   "source": [
    "# Object Tracking"
   ]
  },
  {
   "cell_type": "code",
   "execution_count": 1,
   "metadata": {},
   "outputs": [],
   "source": [
    "import cv2\n",
    "import numpy as np\n",
    "import math\n",
    "import glob\n",
    "import os\n",
    "import copy\n",
    "from tqdm import tqdm\n",
    "from matplotlib import pyplot as plt\n",
    "\n",
    "from utils import *"
   ]
  },
  {
   "attachments": {},
   "cell_type": "markdown",
   "metadata": {},
   "source": [
    "# Lucas Kanade Tracker Implementation"
   ]
  },
  {
   "cell_type": "code",
   "execution_count": 8,
   "metadata": {},
   "outputs": [],
   "source": [
    "def getDeltaP(b, gradImage, templatePts):\n",
    "    \n",
    "    jacobian = getJacobian(templatePts)\n",
    "    gradImage = np.expand_dims(gradImage, axis=1)\n",
    "\n",
    "    A = np.matmul(gradImage, jacobian)\n",
    "    A = np.squeeze(A, axis=1)\n",
    "\n",
    "    Hessian = np.matmul(A.T, A)\n",
    "    AT_b = np.matmul(A.T, b)\n",
    "\n",
    "    deltaP = np.matmul(np.linalg.pinv(Hessian), AT_b)\n",
    "\n",
    "    return deltaP"
   ]
  },
  {
   "cell_type": "code",
   "execution_count": 9,
   "metadata": {},
   "outputs": [],
   "source": [
    "def lucasKanadeTracker(templatePts, templateIntensity, Image, p):\n",
    "    \n",
    "    threshold = 0.035\n",
    "    maxIter = 150\n",
    "    deltaP_norm = np.inf\n",
    "\n",
    "    gradientX = cv2.Sobel(Image,cv2.CV_64F,1,0,ksize=3)\n",
    "    gradientY = cv2.Sobel(Image,cv2.CV_64F,0,1,ksize=3)\n",
    "\n",
    "    for i in range(maxIter):\n",
    "\n",
    "        W = getWarpMat(p)\n",
    "        warpedImgPts, warpedImgIntensity, gradXValues, gradYValues = warpPoints(Image, W, templatePts, gradientX, gradientY)\n",
    "\n",
    "        error = templateIntensity - warpedImgIntensity\n",
    "        \n",
    "        gradImage = np.stack((gradXValues, gradYValues), axis=1)\n",
    "        \n",
    "        deltaP = getDeltaP(error, gradImage, templatePts)\n",
    "        deltaP_norm = np.linalg.norm(deltaP)\n",
    "\n",
    "        p += deltaP\n",
    "\n",
    "        if (deltaP_norm < threshold):\n",
    "            break\n",
    "\n",
    "    return W,p"
   ]
  },
  {
   "cell_type": "code",
   "execution_count": 10,
   "metadata": {},
   "outputs": [],
   "source": [
    "def trackObject(frames, ROI):\n",
    "    \n",
    "    tracker_output = []\n",
    "    roi_Pt1, roi_Pt2 = np.array([ROI[0], ROI[1], 1]), np.array([ROI[0]+ROI[2], ROI[1]+ROI[3], 1])\n",
    "\n",
    "    template = frames[...,0]\n",
    "    templatePts, templateIntensity = getUnrolledPts(template, ROI)\n",
    "    mean_template = np.mean(template)\n",
    "\n",
    "    p = np.zeros(6, dtype = float)\n",
    "\n",
    "    for i in tqdm(range(1, frames.shape[-1])):\n",
    "        \n",
    "        frame_current = copy.deepcopy(frames[...,i])\n",
    "        frame_display = frame_current.copy()\n",
    "        \n",
    "        # Normalizing the intensity for new image with respect to template image\n",
    "        mean_frame = np.mean(frame_current)\n",
    "        frame_current = frame_current.astype(float)\n",
    "        frame_current = frame_current *(mean_template/mean_frame)\n",
    "\n",
    "        # Lucas Kanade Tracker\n",
    "        warpMat, p = lucasKanadeTracker(templatePts, templateIntensity, frame_current, p)\n",
    "\n",
    "        roi_Pt1_new = np.matmul(warpMat, roi_Pt1).astype(int)\n",
    "        roi_Pt2_new = np.matmul(warpMat, roi_Pt2).astype(int)\n",
    "\n",
    "        cv2.rectangle(frame_display, tuple(roi_Pt1_new), tuple(roi_Pt2_new), (0, 0, 255), 2)\n",
    "        tracker_output.append(frame_display)\n",
    "\n",
    "    return tracker_output"
   ]
  },
  {
   "attachments": {},
   "cell_type": "markdown",
   "metadata": {},
   "source": [
    "# Loading Data"
   ]
  },
  {
   "cell_type": "code",
   "execution_count": 11,
   "metadata": {},
   "outputs": [
    {
     "name": "stdout",
     "output_type": "stream",
     "text": [
      "Videos Loaded:  ['car1', 'car2', 'landing']\n"
     ]
    }
   ],
   "source": [
    "data_dir = '../Data/'\n",
    "videos = {}\n",
    "\n",
    "for vid in os.listdir(data_dir):\n",
    "    videos[vid.split('.')[0]] = np.load(data_dir + vid)\n",
    "\n",
    "print('Videos Loaded: ', list(videos.keys()))"
   ]
  },
  {
   "cell_type": "code",
   "execution_count": 12,
   "metadata": {},
   "outputs": [
    {
     "name": "stdout",
     "output_type": "stream",
     "text": [
      "Playing video ....\n",
      "Press q to exit\n"
     ]
    }
   ],
   "source": [
    "play_video(videos['car1'], type='array')"
   ]
  },
  {
   "attachments": {},
   "cell_type": "markdown",
   "metadata": {},
   "source": [
    "# Applying Tracker"
   ]
  },
  {
   "attachments": {},
   "cell_type": "markdown",
   "metadata": {},
   "source": [
    "## Car_1"
   ]
  },
  {
   "cell_type": "code",
   "execution_count": 13,
   "metadata": {},
   "outputs": [],
   "source": [
    "selection = 'car1'\n",
    "frames = videos[selection]"
   ]
  },
  {
   "cell_type": "code",
   "execution_count": 14,
   "metadata": {},
   "outputs": [
    {
     "name": "stdout",
     "output_type": "stream",
     "text": [
      "Selected Region (x,y,w,h):  [118, 103, 226, 179]\n"
     ]
    }
   ],
   "source": [
    "# ROI = get_rectangle(frames[...,0])\n",
    "ROI = [118, 103, 226, 179]\n",
    "print('Selected Region (x,y,w,h): ', ROI)"
   ]
  },
  {
   "cell_type": "code",
   "execution_count": 15,
   "metadata": {},
   "outputs": [
    {
     "name": "stderr",
     "output_type": "stream",
     "text": [
      "100%|██████████| 260/260 [00:41<00:00,  6.21it/s]\n"
     ]
    }
   ],
   "source": [
    "tracker_car1 = trackObject(frames, ROI)"
   ]
  },
  {
   "cell_type": "code",
   "execution_count": 17,
   "metadata": {},
   "outputs": [
    {
     "name": "stdout",
     "output_type": "stream",
     "text": [
      "Playing video ....\n",
      "Press q to exit\n"
     ]
    }
   ],
   "source": [
    "play_video(tracker_car1, type='list')"
   ]
  },
  {
   "attachments": {},
   "cell_type": "markdown",
   "metadata": {},
   "source": [
    "## Car_2"
   ]
  },
  {
   "cell_type": "code",
   "execution_count": 18,
   "metadata": {},
   "outputs": [],
   "source": [
    "selection = 'car2'\n",
    "frames = videos[selection]"
   ]
  },
  {
   "cell_type": "code",
   "execution_count": 19,
   "metadata": {},
   "outputs": [
    {
     "name": "stdout",
     "output_type": "stream",
     "text": [
      "Selected Region (x,y,w,h):  [37, 97, 128, 70]\n"
     ]
    }
   ],
   "source": [
    "ROI = get_rectangle(frames[...,0])\n",
    "print('Selected Region (x,y,w,h): ', ROI)"
   ]
  },
  {
   "cell_type": "code",
   "execution_count": 20,
   "metadata": {},
   "outputs": [
    {
     "name": "stderr",
     "output_type": "stream",
     "text": [
      "100%|██████████| 414/414 [00:31<00:00, 12.99it/s]\n"
     ]
    }
   ],
   "source": [
    "tracker_car2 = trackObject(frames, ROI)"
   ]
  },
  {
   "cell_type": "code",
   "execution_count": 21,
   "metadata": {},
   "outputs": [
    {
     "name": "stdout",
     "output_type": "stream",
     "text": [
      "Playing video ....\n",
      "Press q to exit\n"
     ]
    }
   ],
   "source": [
    "play_video(tracker_car2, type='list')"
   ]
  },
  {
   "attachments": {},
   "cell_type": "markdown",
   "metadata": {},
   "source": [
    "## Landing"
   ]
  },
  {
   "cell_type": "code",
   "execution_count": 22,
   "metadata": {},
   "outputs": [],
   "source": [
    "selection = 'landing'\n",
    "frames = videos[selection]"
   ]
  },
  {
   "cell_type": "code",
   "execution_count": 23,
   "metadata": {},
   "outputs": [
    {
     "name": "stdout",
     "output_type": "stream",
     "text": [
      "Selected Region (x,y,w,h):  [426, 78, 135, 59]\n"
     ]
    }
   ],
   "source": [
    "ROI = get_rectangle(frames[...,0])\n",
    "# ROI = [426, 78, 135, 59]\n",
    "print('Selected Region (x,y,w,h): ', ROI)"
   ]
  },
  {
   "cell_type": "code",
   "execution_count": 24,
   "metadata": {},
   "outputs": [
    {
     "name": "stderr",
     "output_type": "stream",
     "text": [
      "100%|██████████| 49/49 [00:03<00:00, 12.69it/s]\n"
     ]
    }
   ],
   "source": [
    "tracker_landing = trackObject(frames, ROI)"
   ]
  },
  {
   "cell_type": "code",
   "execution_count": 25,
   "metadata": {},
   "outputs": [
    {
     "name": "stdout",
     "output_type": "stream",
     "text": [
      "Playing video ....\n",
      "Press q to exit\n"
     ]
    }
   ],
   "source": [
    "play_video(tracker_landing, type='list')"
   ]
  }
 ],
 "metadata": {
  "kernelspec": {
   "display_name": "Python 3",
   "language": "python",
   "name": "python3"
  },
  "language_info": {
   "codemirror_mode": {
    "name": "ipython",
    "version": 3
   },
   "file_extension": ".py",
   "mimetype": "text/x-python",
   "name": "python",
   "nbconvert_exporter": "python",
   "pygments_lexer": "ipython3",
   "version": "3.9.10 (tags/v3.9.10:f2f3f53, Jan 17 2022, 15:14:21) [MSC v.1929 64 bit (AMD64)]"
  },
  "orig_nbformat": 4,
  "vscode": {
   "interpreter": {
    "hash": "38cbbce93a7ce53e7c9e200675631f3085865155cd3736ae1ff8ae79ae812e11"
   }
  }
 },
 "nbformat": 4,
 "nbformat_minor": 2
}
